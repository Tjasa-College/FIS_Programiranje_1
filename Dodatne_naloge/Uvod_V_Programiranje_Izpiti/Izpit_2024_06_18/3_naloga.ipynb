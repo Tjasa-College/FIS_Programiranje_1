{
 "cells": [
  {
   "cell_type": "markdown",
   "id": "b6238afa",
   "metadata": {},
   "source": [
    " **NALOGA 3:**</br></br>\n",
    " V podjetju ima vsak zaposleni nekaj različnih prenosnih naprav. \n",
    " Da bi imel IT oddelek nadzor nad inventarjem, pripravlja aplikacijo, \n",
    " za katero pa potrebuje vašo pomoč.</br></br>\n",
    " \n",
    " Napišite razred MobilnaNaprava, ki ima lastnosti LetoIzdelave, \n",
    " Cena, Ima5GModul in TipProcesorja. </br>\n",
    " V razredu pripravite še natanko en konstruktor,  \n",
    " ki kot parameter dobi leto izdelave. \n",
    " Povozite tudi metodo ToString.</br></br>                                      \n",
    " \n",
    " Za razred MobilnaNaprava pripravite tri podrazrede: \n",
    " Telefon, Tablica in Prenosnik.</br> \n",
    " Za vsako od naprav si zamislite po dve ustrezni specifični lastnosti \n",
    " in ju implementirajte. \n",
    " V vsakem od podrazredov ustrezno popravite še metodo ToString.</br></br>          \n",
    "     \n",
    " Napišite še razred Zaposleni, \n",
    " ki naj ima lastnosti Naprave (seznam naprav, ki jih ima zaposleni) \n",
    " in SkupnaVrednost (vsota cen vseh naprav zaposlenega). </br>\n",
    " Dodajte še metodo, ki vrne najdražjo napravo zaposlenega, \n",
    " in metodo, ki vrne najstarejšo napravo zaposlenega. </br></br>                    \n",
    " \n",
    " Ustvarite eno instanco razreda Zaposleni \n",
    " in na njegov seznam dodajte tri naprave različnih tipov. \n",
    " Na zaslon s pomočjo klica ustrezne metode izpišite \n",
    " ceno najdražje naprave tega zaposlenega. "
   ]
  }
 ],
 "metadata": {
  "language_info": {
   "name": "python"
  }
 },
 "nbformat": 4,
 "nbformat_minor": 5
}
