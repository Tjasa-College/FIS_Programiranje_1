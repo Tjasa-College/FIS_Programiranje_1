{
 "cells": [
  {
   "cell_type": "markdown",
   "id": "c3f1853f",
   "metadata": {},
   "source": [
    "  /// NALOGA 2:\n",
    "        /// \n",
    "        /// V Nemčiji ravno poteka evropsko\tnogometno prvenstvo, \n",
    "        /// mi pa želimo pripraviti razredni model za beleženje \n",
    "        /// statistik tekem na klubskem svetovnem prvenstvu. \n",
    "        /// V ta namen pripravite razrede Ekipa, Statistika in Tekma.\n",
    "        /// \n",
    "        /// Razred Ekipa naj vsebuje: \n",
    "        /// - Lastnosti Ime, Klub in Igralci.\n",
    "        /// - Natanko en konstruktor, ki nastavi lastnosti Ime in Klub.\n",
    "        /// - Metodo ToString, ki izpiše vse lastnosti ekipe.               [4 točk]\n",
    "        /// \n",
    "        /// Razred Statistika naj vsebuje: \n",
    "        /// - Lastnosti Goli, PosestZoge, Prekrski, RumeniKartoni in RdečiKartoni.\n",
    "        /// - Metodo ToString, ki naj izpiše vse statistične enote.         [4 točk]\n",
    "        /// \n",
    "        /// Razred Tekma naj vsebuje: \n",
    "        /// - Lastnosti Domači, Gosti, Datum, StatistikaDomači in StatistikaGosti. \n",
    "        ///   Vse lastnosti naj imajo ustrezen tip.\n",
    "        /// - En konstruktor, ki omogoča zgolj določitev lastnosti Domači in Gosti.\n",
    "        /// - Metodo ToString, ki naj izpiše vse podrobnosti o tekmi.\n",
    "        /// - Metodo, ki vrne skupno število rumenih kartonov na tekmi.\n",
    "        /// - Metodo, ki vrne rezultat tekme.                               [12 točk]\n",
    "        /// \n",
    "        /// V metodi ResitevNaloge kreirajte dve instanci razreda Ekipa, \n",
    "        /// instanco razreda Tekma, instanci za statistiko obeh ekip na tekmi \n",
    "        /// in na koncu na zaslon izpišite rezultat ter podatke o tekmi. "
   ]
  }
 ],
 "metadata": {
  "language_info": {
   "name": "python"
  }
 },
 "nbformat": 4,
 "nbformat_minor": 5
}
