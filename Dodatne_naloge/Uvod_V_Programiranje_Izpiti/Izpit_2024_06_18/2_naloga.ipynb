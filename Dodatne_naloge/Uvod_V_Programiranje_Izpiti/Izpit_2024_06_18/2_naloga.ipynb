{
 "cells": [
  {
   "cell_type": "markdown",
   "id": "c3f1853f",
   "metadata": {},
   "source": [
    " **NALOGA 2:**</br></br>\n",
    " \n",
    " V Nemčiji ravno poteka evropsko\tnogometno prvenstvo, \n",
    " mi pa želimo pripraviti razredni model za beleženje \n",
    " statistik tekem na klubskem svetovnem prvenstvu. \n",
    " V ta namen pripravite razrede Ekipa, Statistika in Tekma.</br></br>\n",
    " \n",
    " Razred Ekipa naj vsebuje: </br>\n",
    " - Lastnosti Ime, Klub in Igralci.</br>\n",
    " - Natanko en konstruktor, ki nastavi lastnosti Ime in Klub.</br>\n",
    " - Metodo ToString, ki izpiše vse lastnosti ekipe.</br></br>               \n",
    " \n",
    " Razred Statistika naj vsebuje: </br>\n",
    " - Lastnosti Goli, PosestZoge, Prekrski, RumeniKartoni in RdečiKartoni.</br>\n",
    " - Metodo ToString, ki naj izpiše vse statistične enote.</br></br>         \n",
    " \n",
    " Razred Tekma naj vsebuje: </br>\n",
    " - Lastnosti Domači, Gosti, Datum, StatistikaDomači in StatistikaGosti. \n",
    "   Vse lastnosti naj imajo ustrezen tip.</br>\n",
    " - En konstruktor, ki omogoča zgolj določitev lastnosti Domači in Gosti.</br>\n",
    " - Metodo ToString, ki naj izpiše vse podrobnosti o tekmi.</br>\n",
    " - Metodo, ki vrne skupno število rumenih kartonov na tekmi.</br>\n",
    " - Metodo, ki vrne rezultat tekme.</br></br>                               \n",
    " \n",
    " Kreirajte dve instanci razreda Ekipa, \n",
    " instanco razreda Tekma, instanci za statistiko obeh ekip na tekmi \n",
    " in na koncu na zaslon izpišite rezultat ter podatke o tekmi. "
   ]
  }
 ],
 "metadata": {
  "language_info": {
   "name": "python"
  }
 },
 "nbformat": 4,
 "nbformat_minor": 5
}
