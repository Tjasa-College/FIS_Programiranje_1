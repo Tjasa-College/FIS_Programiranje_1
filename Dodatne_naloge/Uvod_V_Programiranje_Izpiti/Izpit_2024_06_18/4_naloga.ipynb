{
 "cells": [
  {
   "cell_type": "markdown",
   "id": "ec477fcb",
   "metadata": {},
   "source": [
    "/// NALOGA 4:\n",
    "        /// \n",
    "        /// V mapi Viri imate pripravljeni dve datoteki s tabelama števil. \n",
    "        /// Števila so v posamezni vrstici ločena s tabulatorjem.\n",
    "        /// \n",
    "        /// Pripravite metodo VsotaSodih, v kateri za dano pot do datoteke s tabelo števil \n",
    "        /// vsa števila po vrsti združite v en niz (brez presledkov ali tabulatorjev), \n",
    "        /// nato v eno spremenljivko seštejte vse števke na sodih mestih v tem nizu \n",
    "        /// in v drugo spremenljivko seštejte vse števke na lihih mestih \n",
    "        /// (pri tem je prva števka na sodem mestu, saj je na indeksu 0). \n",
    "        /// Metoda naj vrne razliko obeh dobljenih vsot.                                [20 točk]\n",
    "        /// \n",
    "        /// V metodi ResitevNaloge že imate pripravljeni dve spremenljivki \n",
    "        /// s potema do datotek s primeroma tabel.\n",
    "        /// V tej metodi pokličite pripravljeno metodo za obe datoteki \n",
    "        /// in izpišite rezultata v ukazno vrstico.  "
   ]
  }
 ],
 "metadata": {
  "language_info": {
   "name": "python"
  }
 },
 "nbformat": 4,
 "nbformat_minor": 5
}
