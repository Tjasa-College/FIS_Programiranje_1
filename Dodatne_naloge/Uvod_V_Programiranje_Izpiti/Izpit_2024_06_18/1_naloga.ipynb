{
 "cells": [
  {
   "cell_type": "markdown",
   "id": "a07011d5",
   "metadata": {},
   "source": [
    "**NALOGA 1:**</br></br>\n",
    "\n",
    "Napišite metodo VsoteStevk, ki kot parameter prejme seznam celih števil. \n",
    "Za vsako število iz seznama naj izračuna vsoto njegovih števk \n",
    "(npr.vsota števk števila 23 je 5) in na zaslon izpiše tista\n",
    "(originalna) števila, katerih vsota je manjša od 10.     </br></br>               \n",
    "\n",
    "Metoda naj vsote števk vseh števil iz danega seznama sešteje \n",
    "in ta seštevek vrne.   </br></br>                                                 \n",
    "\n",
    "Pripravite seznam z vsaj petimi celimi števili, \n",
    "pokličite metodo VsoteStevk in izpišite skupno vsoto vseh števk, \n",
    "ki jo metoda vrne, v ukazno vrstico. "
   ]
  }
 ],
 "metadata": {
  "language_info": {
   "name": "python"
  }
 },
 "nbformat": 4,
 "nbformat_minor": 5
}
