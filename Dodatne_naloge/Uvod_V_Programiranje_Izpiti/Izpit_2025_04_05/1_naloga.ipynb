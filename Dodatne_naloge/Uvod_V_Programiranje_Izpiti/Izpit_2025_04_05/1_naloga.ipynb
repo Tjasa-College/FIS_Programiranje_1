{
 "cells": [
  {
   "cell_type": "markdown",
   "id": "8ce741fa",
   "metadata": {},
   "source": [
    " /// NALOGA 1:\n",
    "    /// \n",
    "    /// Napišite funkcijo Zamenjava, ki kot parameter prejme seznam nizov (stringov). \n",
    "    /// Vsak niz v seznamu naj predstavlja ime in priimek (v tem vrstnem redu) ločena s presledkom.\n",
    "    /// Funkcija v vsakem nizu ime in priimek obrne, da bo rezultat priimek in ime, \n",
    "    /// za priimkom pa naj doda še vejico.\n",
    "    /// Npr. niz \"Borut Lužar\" naj se preoblikuje v \"Lužar, Borut\".\n",
    "    /// Tako preoblikovane nize naj funkcija doda v nov seznam in ga vrne.          [15 točk]\n",
    "    /// \n",
    "    /// V funkciji ResitevNaloge pripravite seznam z vsaj osmimi nizi z imenom in priimkom. \n",
    "    /// Pokličite funkcijo Zamenjava s tem seznamom kot parametrom \n",
    "    /// in iz rezultata na zaslon izpišite vse priimke, ki so daljši od 5 znakov. "
   ]
  }
 ],
 "metadata": {
  "language_info": {
   "name": "python"
  }
 },
 "nbformat": 4,
 "nbformat_minor": 5
}
