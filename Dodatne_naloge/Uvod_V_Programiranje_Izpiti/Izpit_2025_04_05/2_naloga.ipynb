{
 "cells": [
  {
   "cell_type": "markdown",
   "id": "b9447ae0",
   "metadata": {},
   "source": [
    " /// NALOGA 2:\n",
    "    /// \n",
    "    /// Odločili smo se, da bomo začeli z izdajanjem časopisa.\n",
    "    /// Sestavljen bo iz nekaj rubrik, ki bodo lahko redne ali izredne.\n",
    "    /// Za začetek bomo pripravili programsko rešitev za evidenco izdaj,\n",
    "    /// zato pa potrebujemo razreda, ki bosta predstavljala rubriko in časopis.\n",
    "    /// \n",
    "    /// Razred Rubrika naj vsebuje: \n",
    "    /// - Lastnosti Naslov, Besedilo, Avtor, SteviloStrani in JeRedna.\n",
    "    /// - En konstruktor, ki nastavi lastnosti Avtor in SteviloStrani.\n",
    "    /// - Funkcijo ToString, ki izpiše vse lastnosti rubrike.                           [5 točk]\n",
    "    /// \n",
    "    /// Razred Casopis naj vsebuje: \n",
    "    /// - Lastnosti Naslov, DatumIzdaje, SeznamRubrik in Urednik.\n",
    "    /// - Konstruktor, ki kot parameter dobi datum izdaje in urednika.\n",
    "    /// - Funkcijo ToString, ki naj izpiše seznam rubrik v časopisu.\n",
    "    /// - Funkcijo, ki izpiše vse rubrike avtorja, katerega funkciji podamo kot parameter.\n",
    "    /// - Funkcijo, ki vrne skupno število strani rednih rubrik.                    [15 točk]\n",
    "    /// \n",
    "    /// V funkciji ResitevNaloge kreirajte štiri instance razreda Rubrika,\n",
    "    /// pri čemer naj vsaj ena ne bo redna, in eno instanco razreda Casopis \n",
    "    /// ter rubrike dodajte na seznam rubrik časopisa. \n",
    "    /// Nato v ukazno vrstico izpišite število strani rednih rubrik v časopisu. "
   ]
  }
 ],
 "metadata": {
  "language_info": {
   "name": "python"
  }
 },
 "nbformat": 4,
 "nbformat_minor": 5
}
