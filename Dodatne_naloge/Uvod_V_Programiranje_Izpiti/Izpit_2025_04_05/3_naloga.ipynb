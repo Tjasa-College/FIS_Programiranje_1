{
 "cells": [
  {
   "cell_type": "markdown",
   "id": "ad2115b3",
   "metadata": {},
   "source": [
    "/// NALOGA 3:\n",
    "    /// Za znano založbo pripravljamo aplikacijo za spremljanje njihovih izdaj.\n",
    "    /// \n",
    "    /// Napišite razred Publikacija, ki ima lastnosti Avtor, Naslov in LetoIzdaje. \n",
    "    /// V razredu pripravite še natanko en konstruktor, \n",
    "    /// ki kot parameter dobi LetoIzdaje. \n",
    "    /// Povozite tudi funkcijo ToString.                                    [5 točk]\n",
    "    /// \n",
    "    /// Za razred Publikacija pripravite tri podrazrede: Knjiga, Revija in Brosura. \n",
    "    /// Za vsakega od podrazredov si zamislite po eno ustrezno \n",
    "    /// specifično lastnost in jo implementirajte. \n",
    "    /// V vsakem od podrazredov ustrezno popravite še funkcijo ToString.    [8 točk]\n",
    "    ///     \n",
    "    /// Napišite še razred Zalozba, ki naj ima lastnosti Lokacija, Direktor \n",
    "    /// in Publikacije (seznam izdanih publikacij).\n",
    "    /// Dodajte še funkcijo, ki vrne število publikacij izdanih po danem letu. \n",
    "    /// Povozite funkcijo ToString, ki poleg osnovnih lastnosti založbe \n",
    "    /// vrne tudi seznam vseh izdanih publikacij.                              [7 točk]\n",
    "    /// \n",
    "    /// V funkciji ResitevNaloge ustvarite eno instanco razreda Zalozba \n",
    "    /// in na njegov seznam publikacij dodajte štiri publikacije različnih tipov. \n",
    "    /// V ukazno vrstico s pomočjo klica ustrezne funkcije \n",
    "    /// izpišite število vseh publikacij izdanih po letu 2020. "
   ]
  }
 ],
 "metadata": {
  "language_info": {
   "name": "python"
  }
 },
 "nbformat": 4,
 "nbformat_minor": 5
}
