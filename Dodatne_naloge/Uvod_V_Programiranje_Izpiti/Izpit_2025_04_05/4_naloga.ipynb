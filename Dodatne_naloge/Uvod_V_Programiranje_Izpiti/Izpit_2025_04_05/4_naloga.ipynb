{
 "cells": [
  {
   "cell_type": "markdown",
   "id": "85d225d8",
   "metadata": {},
   "source": [
    "**NALOGA 4:**</br></br>\n",
    "\n",
    "V mapi Viri imate pripravljeni dve datoteki z nizi (ki vsebujejo črke ali številke). \n",
    "Nizi so v posamezni vrstici ločeni s tabulatorjem.</br></br>\n",
    "\n",
    "Pripravite funkcijo SteviloStevil, ki kot parameter dobi pot do datoteke. \n",
    "V datoteki naj poišče vse nize, ki vsebujejo le številke (od 0 do 9) \n",
    "in vsakega posebej izpiše na zaslon.\n",
    "Funkcija naj sešteje dolžine teh nizov in vsoto vrne.</br></br>           \n",
    "\n",
    "V funkciji ResitevNaloge že imate pripravljeni dve spremenljivki \n",
    "s potema do obeh datotek.\n",
    "V tej funkciji pokličite pripravljeno funkcijo za vsako datoteko posebej\n",
    "in zanju izpišite rezultat.</br></br>                                     \n",
    "\n",
    "**Namig:** za datoteko besede.txt je rezultat enak 8."
   ]
  }
 ],
 "metadata": {
  "language_info": {
   "name": "python"
  }
 },
 "nbformat": 4,
 "nbformat_minor": 5
}
