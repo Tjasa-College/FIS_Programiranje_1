{
 "cells": [
  {
   "cell_type": "markdown",
   "id": "06b88bd5",
   "metadata": {},
   "source": [
    "/// NALOGA 4:\n",
    "        /// \n",
    "        /// V mapi Viri imate pripravljeni dve datoteki s tabelama števil. \n",
    "        /// Števila so v posamezni vrstici ločena s tabulatorjem.\n",
    "        /// \n",
    "        /// Pripravite metodo AnalizaZadnjih, ki kot parameter dobi \n",
    "        /// pot do datoteke s tabelo števil. \n",
    "        /// Prebere naj zadnje število v vsaki vrstici, \n",
    "        /// poišče najmanjše med vsemi in ga prišteje prvemu številu vsake vrstice. \n",
    "        /// Tako popravljeno tabelo zapišite v novo datoteko, \n",
    "        /// katere ime prav tako prejmete kot parameter metode.                         [20 točk]\n",
    "        /// \n",
    "        /// V metodi ResitevNaloge že imate pripravljeni dve spremenljivki \n",
    "        /// s potema do datotek s primeroma tabel.\n",
    "        /// V tej metodi pokličite pripravljeno metodo za obe datoteki. \n",
    "        /// Rezultat bosta dve novi datoteki.    "
   ]
  }
 ],
 "metadata": {
  "language_info": {
   "name": "python"
  }
 },
 "nbformat": 4,
 "nbformat_minor": 5
}
