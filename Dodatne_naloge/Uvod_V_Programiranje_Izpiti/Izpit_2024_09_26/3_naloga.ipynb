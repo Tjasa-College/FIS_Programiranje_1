{
 "cells": [
  {
   "cell_type": "markdown",
   "id": "a66df972",
   "metadata": {},
   "source": [
    "  /// NALOGA 3:\n",
    "        /// Za potrebe društva tabornikov pripravljamo aplikacijo za evidentiranje dreves v gozdovih.\n",
    "        /// \n",
    "        /// Napišite razred Drevo, ki ima lastnosti Vrsta, Višina, Volumen in Starost. \n",
    "        /// V razredu pripravite še natanko en konstruktor, \n",
    "        /// ki kot parameter dobi vrsto drevesa. \n",
    "        /// Povozite tudi metodo ToString.                                          [6 točk]\n",
    "\n",
    "        /// Za razred Drevo pripravite dva podrazreda: Listavec in Iglavec. \n",
    "        /// Za vsakega od podrazredov si zamislite po eno ustrezno \n",
    "        /// specifično lastnost in jo implementirajte. \n",
    "        /// V vsakem od podrazredov ustrezno popravite še metodo ToString.          [7 točk]\n",
    "\n",
    "        /// Napišite še razred Gozd, ki naj ima lastnosti Lokacija in Drevesa.\n",
    "        /// Dodajte še metodo, ki vrne skupen volumen iglavcev v gozdu, \n",
    "        /// in metodo, ki vrne povprečno starost dreves, \n",
    "        /// katera imajo višino višjo od danega parametra.                          [7 točk]\n",
    "\n",
    "        /// V metodi ResitevNaloge ustvarite eno instanco razreda Gozd \n",
    "        /// in na njegov seznam dreves dodajte štiri drevesa različnih tipov. \n",
    "        /// V ukazno vrstico s pomočjo klica ustrezne metode \n",
    "        /// izpišite skupen volumen vseh iglavcev v gozdu. "
   ]
  }
 ],
 "metadata": {
  "language_info": {
   "name": "python"
  }
 },
 "nbformat": 4,
 "nbformat_minor": 5
}
