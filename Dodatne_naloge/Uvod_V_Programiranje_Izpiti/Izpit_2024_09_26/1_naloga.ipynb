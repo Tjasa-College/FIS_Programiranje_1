{
 "cells": [
  {
   "cell_type": "markdown",
   "id": "306b0997",
   "metadata": {},
   "source": [
    " /// NALOGA 1:\n",
    "        /// \n",
    "        /// Napišite metodo PovprecjeVeljavnih, ki kot parameter prejme tabelo nizov (spremenljivk tipa string). \n",
    "        /// Za vsak element tabele naj preveri, če predstavlja celo število ali ne.\n",
    "        /// V ukazno vrstico naj metoda izpiše število elementov, ki predstavljajo cela števila,\n",
    "        /// vrne pa naj povprečje njihovih vrednosti.                               [20 točk]\n",
    "        /// \n",
    "        /// V metodi ResitevNaloge pripravite tabelo z vsaj desetimi nizi, \n",
    "        /// od katerih naj jih vsaj pet predstavlja celo število. \n",
    "        /// Pokličite metodo PovprecjeVeljavnih in izpišite vrednost, \n",
    "        /// ki jo metoda vrne, v ukazno vrstico. "
   ]
  }
 ],
 "metadata": {
  "language_info": {
   "name": "python"
  }
 },
 "nbformat": 4,
 "nbformat_minor": 5
}
