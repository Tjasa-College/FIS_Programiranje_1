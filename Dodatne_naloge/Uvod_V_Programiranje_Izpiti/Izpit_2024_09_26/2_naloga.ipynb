{
 "cells": [
  {
   "cell_type": "markdown",
   "id": "49808055",
   "metadata": {},
   "source": [
    " **NALOGA 2:**</br></br>\n",
    " \n",
    " Večina večjih podjetij ima tudi svoj vozni park, za katerega je treba ustrezno skrbeti. \n",
    " Vsako vozilo mora imeti redno servisiranje, registracijo ipd. \n",
    " Pripravite razreda Podjetje in Vozilo. \n",
    " Vsako podjetje ima seznam vozil, ki predstavljajo vozni park podjetja.</br></br>\n",
    "\n",
    " Razred Vozilo naj vsebuje: </br>\n",
    " - Lastnosti RegistrskaStevilka, Znamka, Letnik, Tip (kombi, avto, kamion) in DatumRegistracije.</br>\n",
    " - Natanko en konstruktor, ki nastavi lastnost RegistrskaStevilka.</br>\n",
    " - Metodo ToString, ki izpiše vse lastnosti vozila.  </br></br>                           \n",
    "\n",
    " Razred Podjetje naj vsebuje: </br>\n",
    " - Lastnosti Naziv, Naslov, Dejavnost in VozniPark.\n",
    "   Vse lastnosti naj imajo ustrezen tip.</br>\n",
    " - En prazen konstruktor.</br>\n",
    " - Metodo ToString, ki naj izpiše vse podrobnosti o podjetju.</br>\n",
    " - Metodo, ki vrne skupno število vozil letnika manjšega od danega parametra.</br>\n",
    " - Metodo, ki vrne vozilo, katero ima najbližji datum registracije.</br></br>              \n",
    "\n",
    " Kreirajte tri instance razreda Vozilo in \n",
    " eno instanco razreda Podjetje. \n",
    " Nato v ukazno vrstico izpišite podatke o podjetju \n",
    " ter katero vozilo iz voznega parka podjetja ima najbližji datum registracije. "
   ]
  }
 ],
 "metadata": {
  "language_info": {
   "name": "python"
  }
 },
 "nbformat": 4,
 "nbformat_minor": 5
}
