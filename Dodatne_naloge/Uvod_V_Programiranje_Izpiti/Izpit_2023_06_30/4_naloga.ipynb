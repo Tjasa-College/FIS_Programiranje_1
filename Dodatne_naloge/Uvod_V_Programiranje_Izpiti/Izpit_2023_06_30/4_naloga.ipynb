{
 "cells": [
  {
   "cell_type": "markdown",
   "id": "4f2aaeda",
   "metadata": {},
   "source": [
    " **NALOGA 4:**</br></br>\n",
    " Napišite metodo Šahovnica, ki za dan parameter n \n",
    " izriše šahovnico dimenzije  n x n, \n",
    " za vrednosti n med 1 in 10. \n",
    " Črna polja naj bodo predstavljena z X, bela pa z O.\n",
    " Nad in pod šahovnico naj bodo oznake stolpcev z velikimi tiskanimi črkami \n",
    " angleške abecede, ob obeh straneh pa številke vrstic z arabskimi številkami.\n",
    " Levo spodnje polje naj bo vedno črno</br></br>\n",
    " \n",
    " Za vrednost n=5 bi bil izris kot na spodnjem primeru: </br></br>                  \n",
    " \n",
    " <pre>\n",
    "    A  B  C  D  E\n",
    " 5  X  O  X  O  X  5 \n",
    " 4  O  X  O  X  O  4\n",
    " 3  X  O  X  O  X  3\n",
    " 2  O  X  O  X  O  2\n",
    " 1  X  O  X  O  X  1\n",
    "    A  B  C  D  E\n",
    "    </pre>\n",
    " \n",
    " V metodi ResitevNaloge pripravite klic metode, ki za parameter\n",
    " dobi število n, ki naj ga poda uporabnik. "
   ]
  }
 ],
 "metadata": {
  "language_info": {
   "name": "python"
  }
 },
 "nbformat": 4,
 "nbformat_minor": 5
}
