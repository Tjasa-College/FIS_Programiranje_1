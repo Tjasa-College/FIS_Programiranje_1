{
 "cells": [
  {
   "cell_type": "markdown",
   "id": "b70ca9ae",
   "metadata": {},
   "source": [
    " **NALOGA 1:**</br></br>\n",
    " Napišite metodo, ki uporabniku ponudi možnost \n",
    " vnosa artikla na nakupovalni seznam skupaj \n",
    " s številom kosov teh artiklov (npr. jogurt, 2).\n",
    " Glede poziva uporabniku se lahko odločite sami\n",
    " (npr. najprej ga pozovete, naj vnese naziv artikla, \n",
    " in nato še, naj vnese število kosov oziroma količino).</br></br>\n",
    " \n",
    " Uporabnik naj artikle vnaša, dokler se ne odloči, \n",
    " da je vnesel vse, in zaključi (tudi za to naj ima na voljo ukaz).</br></br> \n",
    " \n",
    " Da boste lahko artikle kar najbolj enostavno shranjevali, \n",
    " si pripravite razred Artikel z ustreznimi lastnostmi.</br></br> \n",
    " \n",
    " Na koncu izpišite vse artikle na seznamu uporabnika in skupno število kosov. "
   ]
  }
 ],
 "metadata": {
  "language_info": {
   "name": "python"
  }
 },
 "nbformat": 4,
 "nbformat_minor": 5
}
