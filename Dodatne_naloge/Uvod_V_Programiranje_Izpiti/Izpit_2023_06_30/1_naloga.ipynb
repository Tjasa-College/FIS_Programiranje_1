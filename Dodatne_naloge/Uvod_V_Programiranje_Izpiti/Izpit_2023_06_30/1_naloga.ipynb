{
 "cells": [
  {
   "cell_type": "markdown",
   "id": "b70ca9ae",
   "metadata": {},
   "source": [
    " /// NALOGA 1:\n",
    "        /// Napišite metodo, ki uporabniku ponudi možnost \n",
    "        /// vnosa artikla na nakupovalni seznam skupaj \n",
    "        /// s številom kosov teh artiklov (npr. jogurt, 2).\n",
    "        /// Glede poziva uporabniku se lahko odločite sami\n",
    "        /// (npr. najprej ga pozovete, naj vnese naziv artikla, \n",
    "        /// in nato še, naj vnese število kosov oziroma količino).\n",
    "        /// \n",
    "        /// Uporabnik naj artikle vnaša, dokler se ne odloči, \n",
    "        /// da je vnesel vse, in zaključi (tudi za to naj ima na voljo ukaz). [15 točk]\n",
    "        /// \n",
    "        /// Da boste lahko artikle kar najbolj enostavno shranjevali, \n",
    "        /// si pripravite razred Artikel z ustreznimi lastnostmi. [5 točk]\n",
    "        /// \n",
    "        /// Na koncu izpišite vse artikle na seznamu uporabnika in skupno število kosov. [5 točk]"
   ]
  }
 ],
 "metadata": {
  "language_info": {
   "name": "python"
  }
 },
 "nbformat": 4,
 "nbformat_minor": 5
}
