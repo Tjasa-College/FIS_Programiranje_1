{
 "cells": [
  {
   "cell_type": "markdown",
   "id": "d56376dd",
   "metadata": {},
   "source": [
    " **NALOGA 3:**</br></br>\n",
    " Pripravite razreda Dijak in Razred.</br></br>\n",
    " \n",
    " Razred Dijak naj vsebuje:</br> \n",
    " -   Lastnosti Ime, PredmetiNaMaturi, ŠteviloTočkNaMaturi, KončniUspeh (zadosten, dober, prav dober, odličen).</br>\n",
    " -   En konstruktor, ki omogoča določitev natanko dveh lastnosti, \n",
    "     in en konstruktor, ki omogoča določitev vseh štirih lastnosti.</br>\n",
    " -   Povozite metodo ToString, ki naj izpiše vse podatke o dijaku.      </br></br>         \n",
    " \n",
    " Razred Razred naj vsebuje:</br>\n",
    " -   Lastnosti SeznamDijakov in Razrednik.</br>\n",
    " -   Konstruktor, ki inicializira seznam dijakov in kot parameter dobi razrednika.</br>\n",
    " -   Metodo, ki izpiše povprečno število točk dijakov razreda na maturi. </br></br>        \n",
    " \n",
    " V metodi ResitevNaloge kreirajte instanco razreda Razred, ki naj vsebuje vsaj pet dijakov\n",
    " in izpišite podatke o vseh dijakih, ki so na maturi dosegli vsaj 24 točk."
   ]
  }
 ],
 "metadata": {
  "language_info": {
   "name": "python"
  }
 },
 "nbformat": 4,
 "nbformat_minor": 5
}
