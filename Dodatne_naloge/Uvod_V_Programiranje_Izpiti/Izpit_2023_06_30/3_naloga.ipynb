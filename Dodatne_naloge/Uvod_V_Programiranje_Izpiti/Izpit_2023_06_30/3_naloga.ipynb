{
 "cells": [
  {
   "cell_type": "markdown",
   "id": "d56376dd",
   "metadata": {},
   "source": [
    "/// NALOGA 3:\n",
    "        /// Pripravite razreda Dijak in Razred.\n",
    "        /// \n",
    "        /// Razred Dijak naj vsebuje: \n",
    "        /// -   Lastnosti Ime, PredmetiNaMaturi, ŠteviloTočkNaMaturi, KončniUspeh (zadosten, dober, prav dober, odličen).\n",
    "        /// -   En konstruktor, ki omogoča določitev natanko dveh lastnosti, \n",
    "        ///     in en konstruktor, ki omogoča določitev vseh štirih lastnosti.\n",
    "        /// -   Povozite metodo ToString, ki naj izpiše vse podatke o dijaku.               [10 točk]\n",
    "        /// \n",
    "        /// Razred Razred naj vsebuje:\n",
    "        /// -   Lastnosti SeznamDijakov in Razrednik.\n",
    "        /// -   Konstruktor, ki inicializira seznam dijakov in kot parameter dobi razrednika.\n",
    "        /// -   Metodo, ki izpiše povprečno število točk dijakov razreda na maturi.         [10 točk]\n",
    "        /// \n",
    "        /// V metodi ResitevNaloge kreirajte instanco razreda Razred, ki naj vsebuje vsaj pet dijakov\n",
    "        /// in izpišite podatke o vseh dijakih, ki so na maturi dosegli vsaj 24 točk."
   ]
  }
 ],
 "metadata": {
  "language_info": {
   "name": "python"
  }
 },
 "nbformat": 4,
 "nbformat_minor": 5
}
