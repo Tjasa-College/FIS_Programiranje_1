{
 "cells": [
  {
   "cell_type": "markdown",
   "id": "aa952cc2",
   "metadata": {},
   "source": [
    "/// NALOGA 2:\n",
    "        /// V tej datoteki sta definirana razreda Kuhinja in KuhinjskiElement.\n",
    "        /// Kuhinja predstavlja kuhinjo v stanovanju,\n",
    "        /// ki ima kot lastnost elemente (omarice, hladilnik, pečico...)\n",
    "        /// in površino, ki jo ima na voljo.\n",
    "        /// \n",
    "        /// Za razred KuhinjskiElement naredite podrazred Hladilnik, \n",
    "        /// ki bo imel dodatno lastnost EnergijskiRazred,\n",
    "        /// in še en podrazred po lastni izbiri.        da                             [3 točke]\n",
    "        /// \n",
    "        /// V razredih KuhinjskiElement in Hladilnik povozite metodo ToString, \n",
    "        /// da bo ustrezno vračala vse lastnosti instanc.      da                     [5 točk]\n",
    "        /// \n",
    "        /// Metodo ToString povozite tudi v razredu Kuhinja,\n",
    "        /// vrne naj niz s površino in opisom vseh elementov kuhinje. da               [5 točk]\n",
    "        /// \n",
    "        /// V razredu Kuhinja napišite še metodo, ki bo izpisala skupno površino elementov.\n",
    "        /// Metoda vrača površino, ki je v kuhinji še na voljo za nove elemente. da   [7 točk]\n",
    "        ///                                                         \n",
    "        /// Pripravite instanco razreda Kuhinja,\n",
    "        /// ki bo imela na seznamu vsaj štiri elemente \n",
    "        /// od tega natanko element tipa Hladilnik in eno instanco razreda, \n",
    "        /// ki ste ga definirali sami.\n",
    "        /// Na koncu instanco kuhinje tudi izpišite.  "
   ]
  }
 ],
 "metadata": {
  "language_info": {
   "name": "python"
  }
 },
 "nbformat": 4,
 "nbformat_minor": 5
}
