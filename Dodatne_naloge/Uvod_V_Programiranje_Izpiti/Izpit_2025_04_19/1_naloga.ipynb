{
 "cells": [
  {
   "cell_type": "markdown",
   "id": "7ab87af5",
   "metadata": {},
   "source": [
    "**NALOGA 1:**</br></br>\n",
    "\n",
    "Napišite funkcijo ProduktStevk, ki kot parameter prejme seznam celih števil. \n",
    "Za vsako število iz seznama naj izračuna produkt njegovih števk \n",
    "(npr. produkt števk števila 23 je 6) in na zaslon izpiše tista\n",
    "(originalna) števila, katerih produkt je manjši od 50. </br></br>                     \n",
    "\n",
    "Funkcija naj produkte števk vseh števil iz danega seznama sešteje \n",
    "in ta seštevek vrne.</br></br>                                                        \n",
    "\n",
    "V funkciji ResitevNaloge pripravite seznam z vsaj petimi celimi števili, \n",
    "pokličite funkcijo ProduktStevk in izpišite skupno vsoto vseh števk, \n",
    "ki jo metoda vrne, v ukazno vrstico. "
   ]
  }
 ],
 "metadata": {
  "language_info": {
   "name": "python"
  }
 },
 "nbformat": 4,
 "nbformat_minor": 5
}
