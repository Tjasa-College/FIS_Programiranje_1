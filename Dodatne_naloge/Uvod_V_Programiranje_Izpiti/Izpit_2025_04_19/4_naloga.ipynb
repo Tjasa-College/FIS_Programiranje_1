{
 "cells": [
  {
   "cell_type": "markdown",
   "id": "3c5e084d",
   "metadata": {},
   "source": [
    "**NALOGA 4:**</br></br>\n",
    "\n",
    "V mapi Viri imate pripravljeni dve datoteki z nizi (ki vsebujejo črke ali številke). \n",
    "Nizi so v posamezni vrstici ločeni s tabulatorjem.</br></br>\n",
    "\n",
    "Pripravite funkcijo, ki kot parameter dobi pot do datoteke. \n",
    "V podani datoteki naj prešteje vse nize, ki se končajo s črko 'a',\n",
    "in dobljeno število vrne.           \n",
    "Ob pregledu nizov naj na zaslon izpiše vsak niz, ki vsebuje števko 1.</br></br>     \n",
    "\n",
    "V funkciji ResitevNaloge že imate pripravljeni dve spremenljivki \n",
    "s potema do obeh datotek.\n",
    "V tej funkciji pokličite pripravljeno funkcijo za vsako datoteko posebej\n",
    "in zanju izpišite rezultat. "
   ]
  }
 ],
 "metadata": {
  "language_info": {
   "name": "python"
  }
 },
 "nbformat": 4,
 "nbformat_minor": 5
}
