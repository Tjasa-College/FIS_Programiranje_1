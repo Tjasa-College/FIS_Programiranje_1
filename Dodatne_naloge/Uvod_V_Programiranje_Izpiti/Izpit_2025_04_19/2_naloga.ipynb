{
 "cells": [
  {
   "cell_type": "markdown",
   "id": "8154984e",
   "metadata": {},
   "source": [
    "/// NALOGA 2:\n",
    "    /// \n",
    "    /// V podjetju ima vsak zaposleni nekaj različnih prenosnih naprav. \n",
    "    /// Da bi imel IT oddelek nadzor nad inventarjem, pripravlja aplikacijo, \n",
    "    /// za katero pa potrebuje vašo pomoč.\n",
    "    /// \n",
    "    /// Napišite razred MobilnaNaprava, ki ima lastnosti LetoIzdelave, \n",
    "    /// Cena, Ima5GModul in TipProcesorja. \n",
    "    /// V razredu pripravite še natanko en konstruktor,  \n",
    "    /// ki kot parameter dobi leto izdelave. \n",
    "    /// Povozite tudi metodo ToString.                                          [5 točk]\n",
    "    /// \n",
    "    /// Za razred MobilnaNaprava pripravite tri podrazrede: \n",
    "    /// Telefon, Tablica in Prenosnik. \n",
    "    /// Za vsako od naprav si zamislite po dve ustrezni specifični lastnosti \n",
    "    /// in ju implementirajte. \n",
    "    /// V vsakem od podrazredov ustrezno popravite še funkcijo ToString.          [6 točk]\n",
    "    ///     \n",
    "    /// Napišite razred Zaposleni, \n",
    "    /// ki naj ima lastnosti Naprave (seznam naprav, ki jih ima zaposleni) \n",
    "    /// in SkupnaVrednost (vsota cen vseh naprav zaposlenega). \n",
    "    /// Dodajte še funkcijo, ki vrne najdražjo napravo zaposlenega, \n",
    "    /// in funkcijo, ki vrne najstarejšo napravo zaposlenega.                   [9 točk]\n",
    "    /// \n",
    "    /// V funkciji ResitevNaloge ustvarite eno instanco razreda Zaposleni \n",
    "    /// in na njegov seznam dodajte tri naprave različnih tipov. \n",
    "    /// Na zaslon s pomočjo klica ustrezne funkcije izpišite \n",
    "    /// ceno najdražje naprave tega zaposlenega.  "
   ]
  }
 ],
 "metadata": {
  "language_info": {
   "name": "python"
  }
 },
 "nbformat": 4,
 "nbformat_minor": 5
}
