{
 "cells": [
  {
   "cell_type": "markdown",
   "id": "f663afd9",
   "metadata": {},
   "source": [
    "**NALOGA 3:**</br></br>\n",
    "Pripravite razreda Izpit in IzpitnaNaloga.</br></br>\n",
    "\n",
    "Razred IzpitnaNaloga naj vsebuje:</br>\n",
    "-   Lastnosti ZaporednaStevilka, Tezavnost (od 1 do 5), SteviloTock, Besedilo.</br>\n",
    "-   Natanko en konstruktor, ki nastavi vsaj dve lastnosti. </br>                     \n",
    "-   Funkcijo ToString, ki naj izpiše vse podatke o nalogi.</br></br>         \n",
    "\n",
    "Razred Izpit naj vsebuje: </br>\n",
    "-   Lastnosti ImePredmeta, ZaporednaStevilka (prvi, drugi, ...), Datum, \n",
    "    CasPisanja (tej lastnosti lahko vrednost nastavimo samo v konstruktorju!),\n",
    "    Naloge (seznam nalog).</br>\n",
    "-   En konstruktor, ki omogoča določitev natanko dveh lastnosti, \n",
    "    in en prazen konstruktor, ki naj vseeno določi čas pisanja.\n",
    "    V obeh konstruktorjih inicializirajte seznam nalog.</br>\n",
    "-   Funkcijo ToString, ki naj izpiše vse podatke o izpitu.   </br>            \n",
    "-   Funkcijo, ki izpiše vse izpitne naloge, \n",
    "    katerih besedilo vsebuje vsaj 300 znakov.</br></br>                               \n",
    "\n",
    "V funkciji ResitevNaloge kreirajte instanco razreda Izpit, \n",
    "ki naj vsebuje vsaj pet izpitnih nalog\n",
    "in izpišite podatke o vseh nalogah, pri katerih lahko dosežemo vsaj 10 točk \n",
    "in katerih težavnost je nižja od 4.     "
   ]
  }
 ],
 "metadata": {
  "language_info": {
   "name": "python"
  }
 },
 "nbformat": 4,
 "nbformat_minor": 5
}
