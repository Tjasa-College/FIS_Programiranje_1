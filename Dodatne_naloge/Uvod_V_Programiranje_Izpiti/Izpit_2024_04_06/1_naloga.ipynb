{
 "cells": [
  {
   "cell_type": "markdown",
   "id": "ce7063ff",
   "metadata": {},
   "source": [
    " **NALOGA 1:**</br></br>\n",
    " \n",
    " Napišite metodo Frekvenca, ki kot parameter prejme seznam besed in znak. \n",
    " Naloga metode je prešteti število besed na seznamu, \n",
    " ki vsebujejo vsaj eno črko enako danemu znaku \n",
    " (med velikimi in malimi črkami ne razlikujemo). \n",
    " Število takih besed naj metoda vrne. </br></br>                               \n",
    " \n",
    " Dodatno naj ob pregledu besed iz seznama metoda v ukazno vrstico izpiše \n",
    " vsako besedo, ki dani znak vsebuje vsaj dvakrat. </br></br>                   \n",
    " \n",
    " V metodi ResitevNaloge pripravite seznam z vsaj petimi besedami,\n",
    " pokličite metodo Frekvenca in izpišite število besed s seznama, \n",
    " ki vsebujejo znak 'a'. "
   ]
  }
 ],
 "metadata": {
  "language_info": {
   "name": "python"
  }
 },
 "nbformat": 4,
 "nbformat_minor": 5
}
