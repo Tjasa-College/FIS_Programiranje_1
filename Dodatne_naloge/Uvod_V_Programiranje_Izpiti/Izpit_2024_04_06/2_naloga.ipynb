{
 "cells": [
  {
   "cell_type": "markdown",
   "id": "14fbdfbc",
   "metadata": {},
   "source": [
    " **NALOGA 2:**</br></br>\n",
    " \n",
    " Pripravite razreda PostnaPoslovalnica in Posiljka.\n",
    " Posiljka predstavlja posamezno pošiljko, ki jo poštna poslovalnica \n",
    " prejme v obravnavo. Vsaka pošiljka naj ima lastnosti datum pošiljanja,\n",
    " naslov prejemnika in ali naj se obravnava prednostno ali ne.\n",
    " Razred Posiljka naj vsebuje še konstruktor, \n",
    " ki kot parameter prejme naslov prejemnika.\n",
    " Razred PostnaPoslovalnica naj ima lastnosti, \n",
    " ki določajo naslov poslovalnice, \n",
    " seznam pošiljk in ime direktorja poslovalnice.    </br></br>              \n",
    " \n",
    " Za razred Posiljka definirajte še tri ustrezne podrazrede,\n",
    " ki bodo predstavljali bolj specifične tipe poštnih pošiljk \n",
    " (en takšen tip je npr. razglednica) in za vsakega od razredov \n",
    " določite po eno ustrezno (specifično) lastnost.   </br></br>              \n",
    " \n",
    " V razredu Posiljka povozite metodo ToString, da bo vračala \n",
    " opis pošiljke.\n",
    " Metodo ToString dopolnite tudi v vseh podrazredih, \n",
    " da bo ustrezno izpisovala tudi njihove posebne lastnosti.</br></br>       \n",
    " \n",
    " V metodi ResitevNaloge ustvarite eno instanco razreda PostnaPoslovalnica \n",
    " in na njen seznam dodajte tri pošiljke različnih tipov.  "
   ]
  }
 ],
 "metadata": {
  "language_info": {
   "name": "python"
  }
 },
 "nbformat": 4,
 "nbformat_minor": 5
}
