{
 "cells": [
  {
   "cell_type": "markdown",
   "id": "526a750b",
   "metadata": {},
   "source": [
    " **NALOGA 4:**</br></br>\n",
    " \n",
    " V mapi Viri imate pripravljeni dve datoteki s tabelama števil. \n",
    " Števila so v posamezni vrstici ločena s tabulatorjem.</br></br>\n",
    " \n",
    " Napišite metodo, ki kot parameter prejme pot do datoteke s tabelo števil.   \n",
    " Metoda naj v vsaki vrstici poišče največje in najmanjše število \n",
    " ter ju shrani v ustrezno podatkovno strukturo.                              \n",
    " Na koncu naj izračuna vsoto vseh največjih števil po vrsticah in \n",
    " vsoto vseh najmanjših števil po vrsticah ter ti vsoti odšteje.              \n",
    " Rezultat odštevanja naj metoda vrne.                                        \n",
    " "
   ]
  },
  {
   "cell_type": "code",
   "execution_count": null,
   "id": "fbb48ea4",
   "metadata": {},
   "outputs": [],
   "source": []
  }
 ],
 "metadata": {
  "language_info": {
   "name": "python"
  }
 },
 "nbformat": 4,
 "nbformat_minor": 5
}
