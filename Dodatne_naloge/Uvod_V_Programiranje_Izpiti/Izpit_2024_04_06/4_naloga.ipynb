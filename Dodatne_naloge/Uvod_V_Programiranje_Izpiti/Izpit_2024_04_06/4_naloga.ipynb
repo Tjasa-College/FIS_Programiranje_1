{
 "cells": [
  {
   "cell_type": "markdown",
   "id": "526a750b",
   "metadata": {},
   "source": [
    "/// NALOGA 4:\n",
    "        /// \n",
    "        /// V mapi Viri imate pripravljeni dve datoteki s tabelama števil. \n",
    "        /// Števila so v posamezni vrstici ločena s tabulatorjem.\n",
    "        /// \n",
    "        /// Napišite metodo, ki kot parameter prejme pot do datoteke s tabelo števil.   [2 točki]\n",
    "        /// Metoda naj v vsaki vrstici poišče največje in najmanjše število \n",
    "        /// ter ju shrani v ustrezno podatkovno strukturo.                              [10 točk]\n",
    "        /// Na koncu naj izračuna vsoto vseh največjih števil po vrsticah in \n",
    "        /// vsoto vseh najmanjših števil po vrsticah ter ti vsoti odšteje.              [8 točk]\n",
    "        /// Rezultat odštevanja naj metoda vrne.                                        [2 točki]\n",
    "        /// \n",
    "        /// V metodi ResitevNaloge že imate pripravljeni dve spremenljivki \n",
    "        /// s potema do datotek s primeroma tabel.\n",
    "        /// V tej metodi pokličite pripravljeno metodo za obe datoteki \n",
    "        /// in izpišite rezultat v ukazno vrstico.  "
   ]
  },
  {
   "cell_type": "code",
   "execution_count": null,
   "id": "fbb48ea4",
   "metadata": {},
   "outputs": [],
   "source": []
  }
 ],
 "metadata": {
  "language_info": {
   "name": "python"
  }
 },
 "nbformat": 4,
 "nbformat_minor": 5
}
