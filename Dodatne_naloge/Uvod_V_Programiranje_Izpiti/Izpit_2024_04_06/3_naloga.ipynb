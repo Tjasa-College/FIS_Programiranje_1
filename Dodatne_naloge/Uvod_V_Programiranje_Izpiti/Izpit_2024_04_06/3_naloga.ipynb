{
 "cells": [
  {
   "cell_type": "markdown",
   "id": "b703b7fa",
   "metadata": {},
   "source": [
    " **NALOGA 3:**</br></br>\n",
    " Pripravite razrede Kviz, Vprasanje in Odgovor.</br></br>\n",
    " \n",
    " Razred Odgovor naj vsebuje:</br>\n",
    " -   Lastnosti Besedilo in Oznaka (oznaka je črka, ki označuje odgovor, \n",
    "     ko imamo na vprašanja na voljo nekaj odgovorov).</br>\n",
    " -   Konstruktor, ki omogoča določitev obeh lastnosti.   </br></br>                \n",
    " \n",
    " Razred Vprasanje naj vsebuje:</br>\n",
    " -   Lastnosti Besedilo (tu bo besedilo vprašanja), \n",
    "     MozniOdgovori (to bo seznam možnih odgovorov) in SteviloTock.</br>\n",
    " -   Natanko en konstruktor, ki nastavi vsaj dve lastnosti. </br>                     \n",
    " -   Povozite metodo ToString, ki izpiše vprašanje skupaj z možnimi odgovori \n",
    "     in številom točk za pravilen odgovor.  </br>             \n",
    " -   Napišite objektno metodo PodajVprasanje, ki izpiše vprašanje \n",
    "     in od uporabnika pričakuje odgovor - črko oznake odgovora - \n",
    "     ter to črko vrne. </br></br>                                                  \n",
    " \n",
    " Razred Kviz naj vsebuje: </br>\n",
    " -   Lastnosti Naziv, Datum, \n",
    "     CasResevanja (tej lastnosti lahko vrednost nastavimo samo v konstruktorju!),\n",
    "     Vprasanja (seznam vprasanj).</br>\n",
    " -   En konstruktor, ki omogoča določitev natanko ene lastnosti, \n",
    "     in en prazen konstruktor, v katerem določimo čas reševanja.</br>\n",
    " -   Povozite metodo ToString, ki naj izpiše kviz z vsemi vprašanji. </br></br>    \n",
    " \n",
    " Kreirajte instanco razreda Kviz, \n",
    " ki naj vsebuje vsaj pet vprašanj, vsako vprašanje pa naj ima \n",
    " vsaj dva možna odgovora. \n",
    " Za vsa vprašanja na kvizu pokličite metodo PodajVprasanje. "
   ]
  }
 ],
 "metadata": {
  "language_info": {
   "name": "python"
  }
 },
 "nbformat": 4,
 "nbformat_minor": 5
}
