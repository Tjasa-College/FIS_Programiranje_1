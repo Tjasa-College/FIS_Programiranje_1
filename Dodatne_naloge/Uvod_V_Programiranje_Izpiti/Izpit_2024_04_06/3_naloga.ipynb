{
 "cells": [
  {
   "cell_type": "markdown",
   "id": "b703b7fa",
   "metadata": {},
   "source": [
    "/// NALOGA 3:\n",
    "        /// Pripravite razrede Kviz, Vprasanje in Odgovor.\n",
    "        /// \n",
    "        /// Razred Odgovor naj vsebuje:\n",
    "        /// -   Lastnosti Besedilo in Oznaka (oznaka je črka, ki označuje odgovor, \n",
    "        ///     ko imamo na vprašanja na voljo nekaj odgovorov).\n",
    "        /// -   Konstruktor, ki omogoča določitev obeh lastnosti.                   [3 točke]\n",
    "        /// \n",
    "        /// Razred Vprasanje naj vsebuje:\n",
    "        /// -   Lastnosti Besedilo (tu bo besedilo vprašanja), \n",
    "        ///     MozniOdgovori (to bo seznam možnih odgovorov) in SteviloTock.\n",
    "        /// -   Natanko en konstruktor, ki nastavi vsaj dve lastnosti.                      \n",
    "        /// -   Povozite metodo ToString, ki izpiše vprašanje skupaj z možnimi odgovori \n",
    "        ///     in številom točk za pravilen odgovor.               \n",
    "        /// -   Napišite objektno metodo PodajVprasanje, ki izpiše vprašanje \n",
    "        ///     in od uporabnika pričakuje odgovor - črko oznake odgovora - \n",
    "        ///     ter to črko vrne.                                                   [12 točk]\n",
    "        /// \n",
    "        /// Razred Kviz naj vsebuje: \n",
    "        /// -   Lastnosti Naziv, Datum, \n",
    "        ///     CasResevanja (tej lastnosti lahko vrednost nastavimo samo v konstruktorju!),\n",
    "        ///     Vprasanja (seznam vprasanj).\n",
    "        /// -   En konstruktor, ki omogoča določitev natanko ene lastnosti, \n",
    "        ///     in en prazen konstruktor, v katerem določimo čas reševanja.\n",
    "        /// -   Povozite metodo ToString, ki naj izpiše kviz z vsemi vprašanji.     [5 točk]\n",
    "        /// \n",
    "        /// V metodi ResitevNaloge kreirajte instanco razreda Kviz, \n",
    "        /// ki naj vsebuje vsaj pet vprašanj, vsako vprašanje pa naj ima \n",
    "        /// vsaj dva možna odgovora. \n",
    "        /// Za vsa vprašanja na kvizu pokličite metodo PodajVprasanje. "
   ]
  }
 ],
 "metadata": {
  "language_info": {
   "name": "python"
  }
 },
 "nbformat": 4,
 "nbformat_minor": 5
}
