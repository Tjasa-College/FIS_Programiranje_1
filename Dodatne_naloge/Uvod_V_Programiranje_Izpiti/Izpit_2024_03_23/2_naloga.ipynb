{
 "cells": [
  {
   "cell_type": "markdown",
   "id": "226776c1",
   "metadata": {},
   "source": [
    "/// NALOGA 2:\n",
    "        /// \n",
    "        /// Pripravite razreda Prostor in Zgradba.\n",
    "        /// Prostor naj ima kot lastnosti površino in ime prostora, Zgradba pa\n",
    "        /// naj ima za lastnost seznam prostorov.                   [3 točke]\n",
    "        /// \n",
    "        /// Pripravite razreda StanovanjskiBlok in Hisa,\n",
    "        /// ki naj dedujeta iz razreda Zgradba.\n",
    "        /// Vsakemu od teh dveh razredov določite še po eno specifično lastnost.\n",
    "        ///                                                         [5 točk]\n",
    "        /// \n",
    "        /// V razredu Zgradba povozite metodo ToString, da bo vračala zapis\n",
    "        /// vseh prostorov v zgradbi skupaj z njihovo površino.\n",
    "        /// Metodo ToString dopolnite v obeh podrazredih, da bo ustrezno \n",
    "        /// izpisovala tudi njuni posebni lastnosti.                [5 točk]\n",
    "        /// \n",
    "        /// V razredu Zgradba napišite metodo ŠteviloProstorov, \n",
    "        /// ki bo vrnila število vseh prostorov,\n",
    "        /// katerih površina je večja od danega parametra.          [7 točk]\n",
    "        ///                                                         \n",
    "        /// V metodi ResitevNaloge ustvarite tri instance razreda Hisa \n",
    "        /// in dve instanci razreda StanovanjskiBlok. \n",
    "        /// Vsaki od instanc dodajte na seznam prostorov vsaj dva prostora.\n",
    "        /// Na koncu za dve od instanc izpišite število prostorov \n",
    "        /// večjih od 10 kvadratnih metrov."
   ]
  }
 ],
 "metadata": {
  "language_info": {
   "name": "python"
  }
 },
 "nbformat": 4,
 "nbformat_minor": 5
}
