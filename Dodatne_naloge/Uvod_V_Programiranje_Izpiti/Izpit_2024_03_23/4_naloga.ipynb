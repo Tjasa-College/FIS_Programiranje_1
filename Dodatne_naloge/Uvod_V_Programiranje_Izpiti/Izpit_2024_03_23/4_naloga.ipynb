{
 "cells": [
  {
   "cell_type": "markdown",
   "id": "87a8f6b8",
   "metadata": {},
   "source": [
    " **NALOGA 4:**</br></br>\n",
    " \n",
    " Med viri imate datoteko words_alpha.txt s seznamom angleških besed\n",
    " (ena beseda v vsaki vrstici). \n",
    " V metodi imate že pripravljeno instanco razreda StreamReader,\n",
    " ki odpre omenjeno datoteko.</br></br>\n",
    " \n",
    " Poiščite vse besede v datoteki, ki vsebujejo črko 'x' \n",
    " (veliko ali malo) in jih dodajte v seznam.     </br></br>                         \n",
    " \n",
    " Med najdenimi besedami poiščite vse palindrome \n",
    " (to so besede, ki se berejo enako naprej in nazaj, npr. kisik)\n",
    " in jih izpišite.     </br></br>                                                   \n",
    " \n",
    " Na koncu izpišite število vseh besed, ki vsebujejo 'x' in \n",
    " ne vsebujejo 'i' ali 'a'. "
   ]
  }
 ],
 "metadata": {
  "language_info": {
   "name": "python"
  }
 },
 "nbformat": 4,
 "nbformat_minor": 5
}
