{
 "cells": [
  {
   "cell_type": "markdown",
   "id": "87a8f6b8",
   "metadata": {},
   "source": [
    " /// NALOGA 4:\n",
    "        /// \n",
    "        /// Med viri imate datoteko words_alpha.txt s seznamom angleških besed\n",
    "        /// (ena beseda v vsaki vrstici). \n",
    "        /// V metodi imate že pripravljeno instanco razreda StreamReader,\n",
    "        /// ki odpre omenjeno datoteko.\n",
    "        /// \n",
    "        /// Poiščite vse besede v datoteki, ki vsebujejo črko 'x' \n",
    "        /// (veliko ali malo) in jih dodajte v seznam.                              [5 točk]\n",
    "        /// \n",
    "        /// Med najdenimi besedami poiščite vse palindrome \n",
    "        /// (to so besede, ki se berejo enako naprej in nazaj, npr. kisik)\n",
    "        /// in jih izpišite.                                                        [12 točk]\n",
    "        /// \n",
    "        /// Na koncu izpišite število vseh besed, ki vsebujejo 'x' in \n",
    "        /// ne vsebujejo 'i' ali 'a'. "
   ]
  }
 ],
 "metadata": {
  "language_info": {
   "name": "python"
  }
 },
 "nbformat": 4,
 "nbformat_minor": 5
}
