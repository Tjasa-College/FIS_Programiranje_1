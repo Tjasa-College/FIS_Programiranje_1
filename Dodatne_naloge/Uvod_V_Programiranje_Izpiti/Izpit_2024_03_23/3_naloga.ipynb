{
 "cells": [
  {
   "cell_type": "markdown",
   "id": "5c9955e2",
   "metadata": {},
   "source": [
    " **NALOGA 3:**</br></br>\n",
    " Pripravite razreda Izpit in IzpitnaNaloga.</br></br>\n",
    " \n",
    " Razred IzpitnaNaloga naj vsebuje:</br>\n",
    " -   Lastnosti ZaporednaStevilka, Tezavnost (od 1 do 5), SteviloTock, Besedilo.</br>\n",
    " -   Natanko en konstruktor, ki nastavi vsaj dve lastnosti.    </br>                  \n",
    " -   Povozite metodo ToString, ki naj izpiše vse podatke o nalogi.</br></br>               \n",
    " \n",
    " Razred Izpit naj vsebuje: </br>\n",
    " -   Lastnosti ImePredmeta, ZaporednaStevilka (prvi, drugi, ...), Datum, \n",
    "     CasPisanja (tej lastnosti lahko vrednost nastavimo samo v konstruktorju!),\n",
    "     Naloge (seznam nalog).</br>\n",
    " -   En konstruktor, ki omogoča določitev natanko dveh lastnosti, \n",
    "     in en prazen konstruktor, ki naj vseeno določi čas pisanja.\n",
    "     V obeh konstruktorjih inicializirajte seznam nalog.</br>\n",
    " -   Povozite metodo ToString, ki naj izpiše vse podatke o izpitu. </br>              \n",
    " -   Napišite metodo, ki izpiše vse izpitne naloge, \n",
    "     katerih besedilo vsebuje vsaj 300 znakov. </br></br>                                  \n",
    " \n",
    " V metodi ResitevNaloge kreirajte instanco razreda Izpit, ki naj vsebuje vsaj pet izpitnih nalog\n",
    " in izpišite podatke o vseh nalogah, pri katerih lahko dosežemo vsaj 10 točk \n",
    " in katerih težavnost je nižja od 4. "
   ]
  }
 ],
 "metadata": {
  "language_info": {
   "name": "python"
  }
 },
 "nbformat": 4,
 "nbformat_minor": 5
}
