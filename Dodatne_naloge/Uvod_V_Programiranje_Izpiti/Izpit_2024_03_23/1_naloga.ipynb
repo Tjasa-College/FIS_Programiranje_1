{
 "cells": [
  {
   "cell_type": "markdown",
   "id": "3dbdbfda",
   "metadata": {},
   "source": [
    " **NALOGA 1:**</br></br>\n",
    " Napišite metodo RezultatiIzpita, ki ne prejme nobenega parametra,\n",
    " vrača pa decimalno število. \n",
    " V njej od uporabnika zahtevajte vnos podatkov (preko ukazne vrstice) \n",
    " o študentih, ki so pisali izpit. Za vsakega študenta naj \n",
    " vpiše vpisno številko in število doseženih točk.\n",
    " Podatke naj vnaša, dokler ne vnese vrednosti \"X\", \n",
    " ki naj pomeni izhod iz vnosa podatkov.         </br></br>                 \n",
    " \n",
    " Pridobljeni podatki za vsakega študenta naj se zapišejo\n",
    " kot lastnost v instanco razreda StudentData \n",
    " (ta razred bo torej imel dve lastnosti).\n",
    " Vse instance shranite v seznam.  </br></br>                               \n",
    " \n",
    " V metodi v ukazno vrstico izpišite največje število doseženih točk\n",
    " ter najmanjše število doseženih točk.  </br></br>                         \n",
    " \n",
    " Na koncu naj metoda RezultatiIzpita vrne povprečno število doseženih točk.\n",
    " Metodo še pokličite v metodi ResitevNaloge in izpišite dobljeni rezultat \n",
    " v ukazno vrstico. "
   ]
  }
 ],
 "metadata": {
  "language_info": {
   "name": "python"
  }
 },
 "nbformat": 4,
 "nbformat_minor": 5
}
