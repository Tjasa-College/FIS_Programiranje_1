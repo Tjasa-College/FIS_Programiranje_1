{
 "cells": [
  {
   "cell_type": "markdown",
   "id": "3ff9575b",
   "metadata": {},
   "source": [
    " **NALOGA 3:**</br></br>\n",
    " Za potrebe društva tabornikov pripravljamo aplikacijo za evidentiranje dreves v gozdovih.</br></br>\n",
    "\n",
    " Napišite razred Drevo, ki ima lastnosti Vrsta, Višina, Volumen in Starost. </br>\n",
    " V razredu pripravite še natanko en konstruktor, \n",
    " ki kot parameter dobi vrsto drevesa. \n",
    " Povozite tudi funkcijo ToString.    </br></br>                                        \n",
    "\n",
    " Za razred Drevo pripravite dva podrazreda: Listavec in Iglavec.</br> \n",
    " Za vsakega od podrazredov si zamislite po eno ustrezno \n",
    " specifično lastnost in jo implementirajte. \n",
    " V vsakem od podrazredov ustrezno popravite še funkcijo ToString.   </br></br>         \n",
    "\n",
    " Napišite še razred Gozd, ki naj ima lastnosti Lokacija in Drevesa.</br>\n",
    " Dodajte še funkcijo, ki vrne skupen volumen iglavcev v gozdu, \n",
    " in funkcijo, ki vrne povprečno starost dreves, \n",
    " katera imajo višino višjo od danega parametra.  </br></br>                            \n",
    " \n",
    " V funkciji ResitevNaloge ustvarite eno instanco razreda Gozd \n",
    " in na njegov seznam dreves dodajte štiri drevesa različnih tipov.</br> \n",
    " V ukazno vrstico s pomočjo klica ustrezne funkcije \n",
    " izpišite skupen volumen vseh iglavcev v gozdu. "
   ]
  }
 ],
 "metadata": {
  "language_info": {
   "name": "python"
  }
 },
 "nbformat": 4,
 "nbformat_minor": 5
}
