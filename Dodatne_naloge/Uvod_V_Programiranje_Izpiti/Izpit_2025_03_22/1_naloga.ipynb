{
 "cells": [
  {
   "cell_type": "markdown",
   "id": "dc856652",
   "metadata": {},
   "source": [
    " **NALOGA 1:**</br></br>\n",
    " \n",
    " Napišite funkcijo Zaokrozevanje, ki kot parameter prejme seznam decimalnih števil. \n",
    " Funkcija naj vsak število iz seznama zaokroži navzgor, \n",
    " če je njegov decimalni del večji od 0.4, sicer pa naj ga zaokroži navzdol. \n",
    " V ukazno vrstico naj nato funkcija izpiše število tistih števil, ki jih je zaokrožila navzgor, \n",
    " vrne pa naj povprečje zaokroženih vrednosti.   </br></br>                        \n",
    " \n",
    " V pripravite seznam z vsaj desetimi števili. \n",
    " Pokličite funkcijo Zaokrozevanje in izpišite vrednost, ki jo funkcija vrne, \n",
    " v ukazno vrstico. "
   ]
  }
 ],
 "metadata": {
  "language_info": {
   "name": "python"
  }
 },
 "nbformat": 4,
 "nbformat_minor": 5
}
