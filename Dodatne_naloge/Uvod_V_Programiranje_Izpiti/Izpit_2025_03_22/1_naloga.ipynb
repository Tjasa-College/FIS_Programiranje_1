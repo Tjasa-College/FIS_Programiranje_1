{
 "cells": [
  {
   "cell_type": "markdown",
   "id": "dc856652",
   "metadata": {},
   "source": [
    "/// NALOGA 1:\n",
    "/// \n",
    "/// Napišite funkcijo Zaokrozevanje, ki kot parameter prejme seznam decimalnih števil. \n",
    "/// Funkcija naj vsak število iz seznama zaokroži navzgor, \n",
    "/// če je njegov decimalni del večji od 0.4, sicer pa naj ga zaokroži navzdol. \n",
    "/// V ukazno vrstico naj nato funkcija izpiše število tistih števil, ki jih je zaokrožila navzgor, \n",
    "/// vrne pa naj povprečje zaokroženih vrednosti.                            [20 točk]\n",
    "/// \n",
    "/// V funkciji ResitevNaloge pripravite seznam z vsaj desetimi števili. \n",
    "/// Pokličite funkcijo Zaokrozevanje in izpišite vrednost, ki jo funkcija vrne, \n",
    "/// v ukazno vrstico. V funkciji ResitevNaloge pripravite seznam z vsaj desetimi števili. \n",
    "/// Pokličite funkcijo Zaokrozevanje in izpišite vrednost, \n",
    "/// ki jo funkcija vrne, v ukazno vrstico. "
   ]
  }
 ],
 "metadata": {
  "language_info": {
   "name": "python"
  }
 },
 "nbformat": 4,
 "nbformat_minor": 5
}
