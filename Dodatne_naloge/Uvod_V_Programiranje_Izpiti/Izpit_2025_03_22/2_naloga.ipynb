{
 "cells": [
  {
   "cell_type": "markdown",
   "id": "69667682",
   "metadata": {},
   "source": [
    " **NALOGA 2:**</br></br>\n",
    " \n",
    " Pripravljamo aplikacijo za samodejno generiranje izpitov. \n",
    " Zanjo bomo pripravili dva razreda: razred Naloga, ki bo predstavljal izpitno nalogo, \n",
    " in razred Izpit, ki bo predstavljal izpit iz programiranja.</br></br> \n",
    " \n",
    " Razred Naloga naj vsebuje: </br>\n",
    " - Lastnosti Besedilo, MozneTocke, DosezeneTocke, Avtor in Tezavnost.</br>\n",
    " - Natanko en konstruktor, ki nastavi lastnost Sestavljalec.</br>\n",
    " - Funkcijo, ki vrne odstotek doseženih točk.</br>\n",
    " - Metodo ToString, ki izpiše vse lastnosti naloge.</br></br>                              \n",
    " \n",
    " Razred Izpit naj vsebuje: </br>\n",
    " - Lastnosti Predmet, DatumPisanja, Naloge in CasPisanja.</br>\n",
    " - Konstruktor, ki kot parameter dobi datum pisanja.</br>\n",
    " - Funkcijo ToString, ki naj izpiše vse podrobnosti izpita.</br>\n",
    " - Funkcijo, ki izračuna skupno število doseženih točk na izpitu. </br></br>               \n",
    " \n",
    " V  kreirajte tri instance razreda Naloga \n",
    " in eno instanco razreda Izpit ter naloge dodajte k nalogam izpita. \n",
    " Vsem instancam za vse lastnosti določite neke vrednosti. \n",
    " Nato v ukazno vrstico izpišite število doseženih točk na izpitu.   "
   ]
  }
 ],
 "metadata": {
  "language_info": {
   "name": "python"
  }
 },
 "nbformat": 4,
 "nbformat_minor": 5
}
