{
 "cells": [
  {
   "cell_type": "markdown",
   "id": "69667682",
   "metadata": {},
   "source": [
    "/// NALOGA 2:\n",
    "/// \n",
    "/// Pripravljamo aplikacijo za samodejno generiranje izpitov. \n",
    "/// Zanjo bomo pripravili dva razreda: razred Naloga, ki bo predstavljal izpitno nalogo, \n",
    "/// in razred Izpit, ki bo predstavljal izpit iz programiranja. \n",
    "/// \n",
    "/// Razred Naloga naj vsebuje: \n",
    "/// - Lastnosti Besedilo, MozneTocke, DosezeneTocke, Avtor in Tezavnost.\n",
    "/// - Natanko en konstruktor, ki nastavi lastnost Sestavljalec.\n",
    "/// - Funkcijo, ki vrne odstotek doseženih točk.\n",
    "/// - Metodo ToString, ki izpiše vse lastnosti naloge.                              [10 točk]\n",
    "/// \n",
    "/// Razred Izpit naj vsebuje: \n",
    "/// - Lastnosti Predmet, DatumPisanja, Naloge in CasPisanja.\n",
    "/// - Konstruktor, ki kot parameter dobi datum pisanja.\n",
    "/// - Funkcijo ToString, ki naj izpiše vse podrobnosti izpita.\n",
    "/// - Funkcijo, ki izračuna skupno število doseženih točk na izpitu.                [10 točk]\n",
    "/// \n",
    "/// V funkciji ResitevNaloge kreirajte tri instance razreda Naloga \n",
    "/// in eno instanco razreda Izpit ter naloge dodajte k nalogam izpita. \n",
    "/// Vsem instancam za vse lastnosti določite neke vrednosti. \n",
    "/// Nato v ukazno vrstico izpišite število doseženih točk na izpitu.   "
   ]
  }
 ],
 "metadata": {
  "language_info": {
   "name": "python"
  }
 },
 "nbformat": 4,
 "nbformat_minor": 5
}
