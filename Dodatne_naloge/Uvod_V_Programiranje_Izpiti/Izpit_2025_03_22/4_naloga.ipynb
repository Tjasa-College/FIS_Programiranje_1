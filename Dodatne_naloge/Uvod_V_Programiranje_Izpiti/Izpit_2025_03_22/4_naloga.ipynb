{
 "cells": [
  {
   "cell_type": "markdown",
   "id": "2cf9acad",
   "metadata": {},
   "source": [
    " **NALOGA 4:**</br></br>\n",
    " \n",
    " V mapi Viri imate pripravljeni dve datoteki s tabelama števil. \n",
    " Števila so v posamezni vrstici ločena s tabulatorjem.</br></br>\n",
    " \n",
    " Pripravite metodo AnalizaZadnjih, ki kot parameter dobi \n",
    " pot do datoteke s tabelo števil. \n",
    " Prebere naj zadnje število v vsaki vrstici, \n",
    " poišče najmanjše med vsemi in ga prišteje prvemu številu vsake vrstice. \n",
    " Tako popravljeno tabelo zapišite v novo datoteko, \n",
    " katere ime prav tako prejmete kot parameter metode. </br></br>      "
   ]
  }
 ],
 "metadata": {
  "language_info": {
   "name": "python"
  }
 },
 "nbformat": 4,
 "nbformat_minor": 5
}
