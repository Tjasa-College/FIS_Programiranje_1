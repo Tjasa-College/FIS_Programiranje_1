{
 "cells": [
  {
   "cell_type": "markdown",
   "id": "26569be9",
   "metadata": {},
   "source": [
    "**NALOGA 1:**</br></br>\n",
    " Napišite metodo za igro ugibanja besed.\n",
    " Metoda naj od prvega uporabnika (skrbnika) zahteva vnos neke besede s petimi črkami.\n",
    " Če je vnešena beseda z drugim številom črk, metoda zahteva ponoven vnos,\n",
    " dokler ni vnešena beseda s petimi črkami.</br></br>                     \n",
    " \n",
    " Igro nato nadaljuje drug uporabnik (igralec).\n",
    " Igralcu se izpiše prva črka izbrane besede,\n",
    " igralec pa poskuša uganiti besedo.\n",
    " Za vsako vnešeno besedo mu metoda izpiše, \n",
    " katere črke so v izbrani besedi in katere so na pravih mestih.</br></br>  \n",
    " \n",
    " Ko igralec ugane besedo, se mu izpiše čestitka in število\n",
    " poskusov, ki jih je porabil.  "
   ]
  },
  {
   "cell_type": "code",
   "execution_count": null,
   "id": "0a0237d6",
   "metadata": {},
   "outputs": [],
   "source": []
  }
 ],
 "metadata": {
  "language_info": {
   "name": "python"
  }
 },
 "nbformat": 4,
 "nbformat_minor": 5
}
