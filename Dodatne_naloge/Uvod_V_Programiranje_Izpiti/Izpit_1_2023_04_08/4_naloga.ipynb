{
 "cells": [
  {
   "cell_type": "markdown",
   "id": "a96a39df",
   "metadata": {},
   "source": [
    "**NALOGA 4:**</br></br>\n",
    "Napišite metodo Poštevanka, ki za dan parameter n  izpiše poštevanko od 1 do števila n tako, da so v vsaki vrstici izpisani večkratniki enega števila.\n",
    "Pri tem števila, ki so na pozicijah,  katerih vsota stolpca in vrstice je liha (če jih štejemo od 0 dalje),  nadomestimo z zvezdicami (razen v primeru začetnih in končnih stolpcev in vrstic!).</br></br>\n",
    "\n",
    "Za vrednost n=5 bi bil izris kot na spodnjem primeru:    </br></br>               \n",
    "\n",
    "*1   2   3   4   5*</br>\n",
    "*2   *   6   *  10*</br>\n",
    "*3   6   *  12  15*</br>\n",
    "*4   *  12   *  20*</br>\n",
    "*5  10  15  20  25*</br></br>\n",
    "\n",
    "V metodi ResitevNaloge pripravite klic metode, ki za parameter\n",
    "dobi število n, ki naj ga poda uporabnik.   "
   ]
  },
  {
   "cell_type": "code",
   "execution_count": null,
   "id": "f05387bd",
   "metadata": {},
   "outputs": [],
   "source": []
  }
 ],
 "metadata": {
  "language_info": {
   "name": "python"
  }
 },
 "nbformat": 4,
 "nbformat_minor": 5
}
