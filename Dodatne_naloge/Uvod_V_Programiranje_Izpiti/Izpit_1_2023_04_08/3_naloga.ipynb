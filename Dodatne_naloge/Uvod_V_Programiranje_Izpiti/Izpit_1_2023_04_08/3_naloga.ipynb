{
 "cells": [
  {
   "cell_type": "markdown",
   "id": "d0bfb0af",
   "metadata": {},
   "source": [
    "**NALOGA 3:** </br></br>\n",
    "Pripravite razreda Igralec in NogometniKlub.</br></br>\n",
    " \n",
    " Razred Igralec naj vsebuje:</br> \n",
    " -   Lastnosti Ime, CenaIgralca, Položaj (napadalec, vezni, vratar,...), Starost (tej lastnosti lahko vrednost nastavimo samo v konstruktorju!).</br>\n",
    " -   En konstruktor, ki omogoča določitev natanko dveh lastnosti, \n",
    "     in en konstruktor, ki omogoča določitev vsaj treh lastnosti.</br>\n",
    " -   Povozite metodo ToString, ki naj izpiše vse podatke o igralcu.</br></br>              \n",
    " \n",
    " Razred NogometniKlub naj vsebuje:</br>\n",
    " -   Lastnosti SeznamIgralcev in VišinaProračuna.</br>\n",
    " -   Konstruktor, ki inicializira seznam igralcev in nastavi višino proračuna.</br>\n",
    " -   Metodo, ki izpiše vse igralce, ki imajo ceno višjo od danega maksimuma.</br></br>     \n",
    " \n",
    " V metodi ResitevNaloge kreirajte instanco razreda NogometniKlub, ki naj vsebuje vsaj pet igralcev in izpišite podatke o vseh igralcih, ki imajo ceno vsaj 100_000 evrov  in so mlajši od 30 let.          "
   ]
  },
  {
   "cell_type": "code",
   "execution_count": null,
   "id": "09f69ee4",
   "metadata": {},
   "outputs": [],
   "source": []
  }
 ],
 "metadata": {
  "kernelspec": {
   "display_name": "Python 3",
   "language": "python",
   "name": "python3"
  },
  "language_info": {
   "codemirror_mode": {
    "name": "ipython",
    "version": 3
   },
   "file_extension": ".py",
   "mimetype": "text/x-python",
   "name": "python",
   "nbconvert_exporter": "python",
   "pygments_lexer": "ipython3",
   "version": "3.12.4"
  }
 },
 "nbformat": 4,
 "nbformat_minor": 5
}
