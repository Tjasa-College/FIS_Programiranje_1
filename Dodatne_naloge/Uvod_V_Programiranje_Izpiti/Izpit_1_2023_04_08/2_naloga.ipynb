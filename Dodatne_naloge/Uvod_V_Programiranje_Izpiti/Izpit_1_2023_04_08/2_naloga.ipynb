{
 "cells": [
  {
   "cell_type": "markdown",
   "id": "f0827129",
   "metadata": {},
   "source": [
    " **NALOGA 2:**</br></br>\n",
    "V tej datoteki sta definirana razreda Menu in Jed.\n",
    "Menu predstavlja dnevni menu v restavraciji (glede na dan),\n",
    "ki ima kot lastnost tudi seznam jedi.\n",
    "Posamezna jed ima lastnosti naziv in cena.</br></br>\n",
    "        \n",
    "Za razred Jed naredite podrazred Sladica, \n",
    "ki bo imel dodatno lastnost Kalorije.</br></br>                \n",
    "         \n",
    "V razredih Jed in Sladica povozite metodo ToString, \n",
    "da bo ustrezno vračala vse lastnosti instanc.    </br></br>       \n",
    "         \n",
    "Metodo ToString povozite tudi v razredu Menu,\n",
    "vrne naj niz z dnevom in vsemi jedmi, ki so na menuju, \n",
    "med seboj pa naj bodo ločene s prazno vrstico. </br></br>         \n",
    "          \n",
    "V razredu Menu napišite še metodo, ki bo izpisala skupno ceno menuja.\n",
    "Metoda naj ima vhodni parameter tipa bool, ki bo določal, \n",
    "ali želite ob ceni plačati še 10% napitnine ali ne.\n",
    "Če je vrednost parametra true, naj se skupna cena primerno izračuna.</br></br> \n",
    "                                                                 \n",
    "Za vsaj dva dni v tednu pripravite instanci razreda Menu,\n",
    "ki bosta imeli na seznamu jedi vsaj po tri jedi, \n",
    "od tega vsak natanko eno jed tipa Sladica. \n",
    "Na koncu oba menuja tudi izpišite </br></br>                      \n",
    "       \n",
    "        \n",
    "Za vsaj dva dni v tednu pripravite instanci razreda Menu,\n",
    "ki bosta imeli na seznamu jedi vsaj po tri jedi, \n",
    "od tega vsak natanko eno jed tipa Sladica. \n",
    "Na koncu oba menuja tudi izpišite "
   ]
  },
  {
   "cell_type": "code",
   "execution_count": null,
   "id": "2a1c5ba8",
   "metadata": {},
   "outputs": [],
   "source": []
  }
 ],
 "metadata": {
  "language_info": {
   "name": "python"
  }
 },
 "nbformat": 4,
 "nbformat_minor": 5
}
