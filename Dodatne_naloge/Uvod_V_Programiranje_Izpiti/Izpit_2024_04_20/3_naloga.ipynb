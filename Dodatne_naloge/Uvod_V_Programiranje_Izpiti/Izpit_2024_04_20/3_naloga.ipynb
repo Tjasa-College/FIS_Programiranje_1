{
 "cells": [
  {
   "cell_type": "markdown",
   "id": "d1bdd70b",
   "metadata": {},
   "source": [
    " **NALOGA 3:**</br></br>\n",
    " Pripravite razreda Predstava in Gledalisce.</br></br>\n",
    " \n",
    " Razred Predstava naj vsebuje:</br>\n",
    " -   Lastnosti Naslov, Avtor, Datum, UraPricetka (kot celo število), \n",
    "     CasTrajanja (v urah, ki so lahko decimalno število).</br>\n",
    " -   Natanko en konstruktor, ki nastavi samo lastnost UraPricetka.</br>                      \n",
    " -   Metodo ToString, ki izpiše vse podrobnosti o predstavi.    </br></br>       \n",
    " \n",
    " Razred Gledalisce naj vsebuje: </br>\n",
    " -   Lastnosti Naziv, Naslov, Direktor, SeznamPredstav.</br>\n",
    " -   En konstruktor, ki omogoča določitev natanko dveh lastnosti, \n",
    "     in en prazen konstruktor, v katerem inicializirate seznam predstav.</br>\n",
    " -   Metodo ToString, ki naj izpiše vse podrobnosti o gledališču,\n",
    "     vključno z vsemi predstavami. </br></br>                                      \n",
    "     \n",
    " V razredu Gledalisce napišite še metodo IzpišiPredstave, \n",
    " ki v ukazno vrstico izpiše vse predstave, ki se končajo \n",
    " (pozor - končajo, ne začnejo!) do dane ure.\n",
    " Število takih predstav pa metoda vrne.</br></br>                                  \n",
    " \n",
    " Kreirajte instanco razreda Gledalisce, \n",
    " ki naj vsebuje vsaj tri predstave. \n",
    " Pokličite še metodo IzpišiPredstave. "
   ]
  }
 ],
 "metadata": {
  "language_info": {
   "name": "python"
  }
 },
 "nbformat": 4,
 "nbformat_minor": 5
}
