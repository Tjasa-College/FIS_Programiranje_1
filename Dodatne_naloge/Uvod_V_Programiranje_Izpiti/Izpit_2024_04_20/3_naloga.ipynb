{
 "cells": [
  {
   "cell_type": "markdown",
   "id": "d1bdd70b",
   "metadata": {},
   "source": [
    "/// NALOGA 3:\n",
    "        /// Pripravite razreda Predstava in Gledalisce.\n",
    "        /// \n",
    "        /// Razred Predstava naj vsebuje:\n",
    "        /// -   Lastnosti Naslov, Avtor, Datum, UraPricetka (kot celo število), \n",
    "        ///     CasTrajanja (v urah, ki so lahko decimalno število).\n",
    "        /// -   Natanko en konstruktor, ki nastavi samo lastnost UraPricetka.                      \n",
    "        /// -   Metodo ToString, ki izpiše vse podrobnosti o predstavi.           [6 točk]\n",
    "        /// \n",
    "        /// Razred Gledalisce naj vsebuje: \n",
    "        /// -   Lastnosti Naziv, Naslov, Direktor, SeznamPredstav.\n",
    "        /// -   En konstruktor, ki omogoča določitev natanko dveh lastnosti, \n",
    "        ///     in en prazen konstruktor, v katerem inicializirate seznam predstav.\n",
    "        /// -   Metodo ToString, ki naj izpiše vse podrobnosti o gledališču,\n",
    "        ///     vključno z vsemi predstavami.                                       [8 točk]\n",
    "        ///     \n",
    "        /// V razredu Gledalisce napišite še metodo IzpišiPredstave, \n",
    "        /// ki v ukazno vrstico izpiše vse predstave, ki se končajo \n",
    "        /// (pozor - končajo, ne začnejo!) do dane ure.\n",
    "        /// Število takih predstav pa metoda vrne.                                  [6 točk]\n",
    "        /// \n",
    "        /// V metodi ResitevNaloge kreirajte instanco razreda Gledalisce, \n",
    "        /// ki naj vsebuje vsaj tri predstave. \n",
    "        /// Pokličite še metodo IzpišiPredstave. "
   ]
  }
 ],
 "metadata": {
  "language_info": {
   "name": "python"
  }
 },
 "nbformat": 4,
 "nbformat_minor": 5
}
