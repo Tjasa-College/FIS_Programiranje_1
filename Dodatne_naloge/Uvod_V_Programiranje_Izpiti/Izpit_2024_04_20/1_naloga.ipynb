{
 "cells": [
  {
   "cell_type": "markdown",
   "id": "df8a8695",
   "metadata": {},
   "source": [
    " /// NALOGA 1:\n",
    "        /// \n",
    "        /// Napišite metodo VelikeMale, ki kot parameter prejme besedilo. \n",
    "        /// Naloga metode je zapisati prvo črko vsake besede v besedilu z veliko začetnico\n",
    "        /// (pri tem upoštevajte, da so besede med seboj ločene s presledki ali tabulatorji). \n",
    "        /// Z veliko začetnico naj zapiše tudi vse samoglasnike (to so a, e, i, o in u) .\n",
    "        /// Ostale črke naj bodo zapisane z malimi črkami.                          \n",
    "        /// Popravljeno besedilo naj metoda vrne.                                   [20 točk]\n",
    "        /// \n",
    "        /// V metodi ResitevNaloge pripravite neko besedilo z vsaj petimi besedami,\n",
    "        /// pokličite metodo VelikeMale in izpišite popravljeno besedilo, \n",
    "        /// ki ga metoda vrne, v ukazno vrstico. "
   ]
  }
 ],
 "metadata": {
  "language_info": {
   "name": "python"
  }
 },
 "nbformat": 4,
 "nbformat_minor": 5
}
