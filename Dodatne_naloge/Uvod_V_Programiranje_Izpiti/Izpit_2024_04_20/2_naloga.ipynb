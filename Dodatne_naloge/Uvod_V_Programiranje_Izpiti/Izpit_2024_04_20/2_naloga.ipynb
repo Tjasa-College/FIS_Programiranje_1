{
 "cells": [
  {
   "cell_type": "markdown",
   "id": "8eca1f5a",
   "metadata": {},
   "source": [
    " /// NALOGA 2:\n",
    "        /// \n",
    "        /// Člani atletskega kluba se z avtobusom odpravljajo na tekmovanje.\n",
    "        /// S seboj imajo kup atletske prtljage.\n",
    "        /// Da svoje opreme ne bi izgubili, si želijo pripraviti evidenco.\n",
    "        /// Pomagajte jim tako, da pripravite naslednje razrede.\n",
    "        /// \n",
    "        /// Razred AtletskoOrodje, ki ima lastnosti Proizvajalec in LetnicaProizvodnje.\n",
    "        /// V razredu pripravite še natanko en konstruktor, \n",
    "        /// ki kot parameter dobi proizvajalca orodja. \n",
    "        /// Povozite tudi metodo ToString.                                  [6 točk]\n",
    "        /// \n",
    "        /// Za razred AtletskoOrodje pripravite tri podrazrede, \n",
    "        /// ki vsak predstavlja eno od atletskih orodij \n",
    "        /// (npr. kroglo, kopje, disk, kladivo).\n",
    "        /// V vsakem razredu določite eno primerno specifično lastnost,\n",
    "        /// konstruktor in povozite metodo ToString.                        [10 točk]\n",
    "        /// \n",
    "        /// Pripravite še razred AtletskiKlub, ki ima lastnosti\n",
    "        /// Naziv, Naslov in SeznamOrodij.\n",
    "        /// V njem povozite metodo ToString, ki naj vrača opis kluba.       [4 točk]\n",
    "        /// \n",
    "        /// V metodi ResitevNaloge ustvarite eno instanco razreda AtletskiKlub \n",
    "        /// in na njegov seznam dodajte tri atletska orodja različnih tipov."
   ]
  }
 ],
 "metadata": {
  "language_info": {
   "name": "python"
  }
 },
 "nbformat": 4,
 "nbformat_minor": 5
}
