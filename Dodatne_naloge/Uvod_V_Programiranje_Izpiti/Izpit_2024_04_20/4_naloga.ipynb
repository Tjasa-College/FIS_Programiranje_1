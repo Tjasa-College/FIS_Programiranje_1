{
 "cells": [
  {
   "cell_type": "markdown",
   "id": "121311e2",
   "metadata": {},
   "source": [
    " /// NALOGA 4:\n",
    "        /// \n",
    "        /// V mapi Viri imate pripravljeni dve datoteki s tabelama števil. \n",
    "        /// Števila so v posamezni vrstici ločena s tabulatorjem.\n",
    "        /// \n",
    "        /// Napišite metodo, ki kot parameter prejme pot do datoteke s tabelo števil.   \n",
    "        /// Metoda naj v vsaki vrstici preveri, če je v njej več sodih ali lihih števil.\n",
    "        /// Število vrstic, v katerih je (strogo) več lihih števil, naj metoda vrne.     [20 točk]\n",
    "        /// \n",
    "        /// V metodi ResitevNaloge že imate pripravljeni dve spremenljivki \n",
    "        /// s potema do datotek s primeroma tabel.\n",
    "        /// V tej metodi pokličite pripravljeno metodo za obe datoteki \n",
    "        /// in izpišite rezultat v ukazno vrstico.  "
   ]
  }
 ],
 "metadata": {
  "language_info": {
   "name": "python"
  }
 },
 "nbformat": 4,
 "nbformat_minor": 5
}
