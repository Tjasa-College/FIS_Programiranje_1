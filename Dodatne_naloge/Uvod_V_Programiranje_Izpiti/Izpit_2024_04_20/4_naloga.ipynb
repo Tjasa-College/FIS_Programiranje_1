{
 "cells": [
  {
   "cell_type": "markdown",
   "id": "121311e2",
   "metadata": {},
   "source": [
    " **NALOGA 4:**</br></br>\n",
    " \n",
    " V mapi Viri imate pripravljeni dve datoteki s tabelama števil. \n",
    " Števila so v posamezni vrstici ločena s tabulatorjem.</br></br>\n",
    " \n",
    " Napišite metodo, ki kot parameter prejme pot do datoteke s tabelo števil.   \n",
    " Metoda naj v vsaki vrstici preveri, če je v njej več sodih ali lihih števil.\n",
    " Število vrstic, v katerih je (strogo) več lihih števil, naj metoda vrne.       "
   ]
  }
 ],
 "metadata": {
  "language_info": {
   "name": "python"
  }
 },
 "nbformat": 4,
 "nbformat_minor": 5
}
