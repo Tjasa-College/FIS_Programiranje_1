{
 "cells": [
  {
   "cell_type": "markdown",
   "id": "66b37edd",
   "metadata": {},
   "source": [
    "/* Naloga 5.1.2.1. Ustvarite tabelo znakov s 25 polji in vanjo zapisite vse (velike) znake slovenske abecede. */"
   ]
  },
  {
   "cell_type": "markdown",
   "id": "82fd8938",
   "metadata": {},
   "source": [
    " /* Naloga 5.1.2.2. Ustvarite tabelo celih stevil s 40 polji in vanjo zapisite zacetnih 40 vrednosti Fibonaccijevega zaporedja. Pokusite storiti enako v vecji tabeli za prvih 100 vrednosti zaporedja. Izpisite jih in preverite, ce je z njimi vse v redu. Kaj je tezava? */\n",
    "            "
   ]
  },
  {
   "cell_type": "markdown",
   "id": "1215bf78",
   "metadata": {},
   "source": [
    "* Naloga 5.1.2.3. Ustvarite dvodimenzionalno tabelo, ki bo predstavljala figure na sahovski plosci. Figuro in njeno barvo predstavite z dvema crkama, npr. beli kralj dobi oznako “bK”. Prazna polja oznacite z dvema presledkoma, ce so bela, oziroma z dvema posevnicama, ce so crna. Elemente tabele tudi izpisite in pazite na razmike med polji (dodajte ustrezno stevilo presledkov). Za lepsi izpis lahko dodate se stevilke vrstic in oznake stolpcev (od A do H). */\n",
    "        "
   ]
  },
  {
   "cell_type": "markdown",
   "id": "640a0cdf",
   "metadata": {},
   "source": [
    "/* Naloga 5.2.1.1. Zapisite kodo, ki bo v dani seznam zapisala vsa prastevila od 1 do izbranega stevila n.*/"
   ]
  },
  {
   "cell_type": "markdown",
   "id": "2c6acfed",
   "metadata": {},
   "source": [
    " /* Naloga 5.2.1.2. Seznam lahko kot tip vrednosti prejme katerikoli tip. Tudi drug seznam. Kako bi to dejstvo uporabili pri kreiranju nakupovalnega seznama, ki poleg produktov, ki jih zelite kupiti, navedete se njihovo kolicino? Na primer, 3kg makaronov, 5 zemelj in 12 jajc. */\n",
    "           "
   ]
  },
  {
   "cell_type": "markdown",
   "id": "0fefa791",
   "metadata": {},
   "source": [
    " /* Naloga 4.0.0.1. Deklarirajte tabelo poljubnega tipa in izpisite prvi in zadnji element. */"
   ]
  },
  {
   "cell_type": "markdown",
   "id": "0baa87e6",
   "metadata": {},
   "source": [
    "/* Naloga 4.0.0.2. Deklarirajte tabelo poljubnega tipa in izpisite vse njene elemente. */"
   ]
  },
  {
   "cell_type": "markdown",
   "id": "a57dec6c",
   "metadata": {},
   "source": [
    "/* Naloga 4.0.0.3. Tabelo iz prejsnje naloge izpisite se v obratnem vrstnem redu. */"
   ]
  },
  {
   "cell_type": "markdown",
   "id": "158a92a5",
   "metadata": {},
   "source": [
    "/* Naloga 4.0.0.4. Deklarirajte tabelo poljubnega tipa in ji zamenjajte vrstni red elementov.*/"
   ]
  },
  {
   "cell_type": "markdown",
   "id": "a83a451a",
   "metadata": {},
   "source": [
    "/* Naloga 4.0.0.5. Za dano tabelo celih stevil izpisite indeks elementa, ki ga vnese uporabnik, ce le ta obstaja. Sicer izpisite, da element ne obstaja. */"
   ]
  },
  {
   "cell_type": "markdown",
   "id": "7e02163e",
   "metadata": {},
   "source": [
    "/* Naloga 4.0.0.6. Deklarirajte poljubno celostevilsko tabelo in izpisite vsoto vseh lihih elementov v tabeli. */"
   ]
  },
  {
   "cell_type": "markdown",
   "id": "d5b7ca30",
   "metadata": {},
   "source": [
    " /* Naloga 4.0.0.7. Deklarirajte poljubno celostevilsko tabelo. Nato vsem sodim elementom zamenjajte vrednost na 0. */"
   ]
  },
  {
   "cell_type": "markdown",
   "id": "10f8b260",
   "metadata": {},
   "source": [
    "/* Naloga 4.0.0.8. Deklarirajte poljubno celoˇstevilsko tabelo in iz nje izpisite vse elemente, ki so vecji od stevila, ki ga vnese uporabnik. */"
   ]
  },
  {
   "cell_type": "markdown",
   "id": "2052a6b9",
   "metadata": {},
   "source": [
    " /* Naloga 4.0.0.9. Deklarirajte poljubno celostevilsko tabelo in v njej poiscite najvecji in najmanjsi element, ter indeks njune pozicije v tabeli. */"
   ]
  },
  {
   "cell_type": "markdown",
   "id": "aa88104c",
   "metadata": {},
   "source": [
    "/* Naloga 4.0.0.10. Deklarirajte poljubno celostevilsko tabelo in iz nje izpisite n-to zaporedno sodo stevilo, kjer stevilo n vnese uporabnik. Ce je n vecji od stevila sodih elementov v tabeli, naj program izpise, da tako stevilo ne obstaja. */\n"
   ]
  },
  {
   "cell_type": "markdown",
   "id": "8d366770",
   "metadata": {},
   "source": [
    " /* Naloga 4.0.0.11. Deklarirajte poljubno celostevilsko tabelo. Nato naj uporabnik vnese poljubno stevilo in na zaslon izpisite indekse poljubnih dveh elementov tabele, ki se sestejeta v stevilo, ki ga je vnesel uporabnik. Ce taki stevili ne obstajata, naj program izpise, da taksne vsote ne moremo dobiti. */\n"
   ]
  },
  {
   "cell_type": "markdown",
   "id": "9efc6d63",
   "metadata": {},
   "source": [
    "   /* Naloga 4.0.0.12. Deklarirajte poljubno tabelo znakov. Nato izpisite vse razlicne znake, ki se pojavijo v tabeli. */"
   ]
  },
  {
   "cell_type": "markdown",
   "id": "16680609",
   "metadata": {},
   "source": [
    " /* Naloga 4.0.0.13. Deklarirajte poljubno tabelo znakov. Nato izpisite vse znake, ki se v tabeli pojavijo natanko enkrat. */"
   ]
  },
  {
   "cell_type": "markdown",
   "id": "330e9a69",
   "metadata": {},
   "source": [
    "/* Naloga 4.0.0.14. Deklarirajte poljubno tabelo osnovnega tipa in iz nje izpisite vse razlicne elemente, ki se v tabeli pojavijo vsaj dvakrat. */"
   ]
  },
  {
   "cell_type": "markdown",
   "id": "e62d0c4c",
   "metadata": {},
   "source": [
    "/* Naloga 4.0.0.15. Napisite program, ki elemente celostevilske tabele razvrsti po velikosti od najmanjsega do najvecjega. Na koncu tabelo izpisite na zaslon. */"
   ]
  },
  {
   "cell_type": "markdown",
   "id": "071cb2d1",
   "metadata": {},
   "source": [
    " /* Naloga 4.0.0.16. Za dano po velikosti urejeno celostevilsko tabelo poiscite indeks elementa, ki je enak poljubni dani vrednosti, ce ta obstaja, sicer poiscite indeks na katerega bi element postavili, da bi tabela ostala urejena. */\n",
    "           "
   ]
  },
  {
   "cell_type": "markdown",
   "id": "ba88fbe7",
   "metadata": {},
   "source": [
    "/* Naloga 4.0.0.16. Za dano po velikosti urejeno celostevilsko tabelo poiscite indeks elementa, ki je enak poljubni dani vrednosti, ce ta obstaja, sicer poiscite indeks na katerega bi element postavili, da bi tabela ostala urejena. */\n"
   ]
  },
  {
   "cell_type": "markdown",
   "id": "8e07738f",
   "metadata": {},
   "source": [
    "  /* Naloga 4.0.0.17. Deklarirajte dve po velikosti urejeni tabeli celih stevil in ju zdruzite v eno tabelo tako, da bodo njeni elementi prav tako urejeni po velikost. */\n",
    "           "
   ]
  },
  {
   "cell_type": "markdown",
   "id": "a561d947",
   "metadata": {},
   "source": [
    " /* Naloga 4.0.0.18. Deklarirajte poljubno tabelo in njene elemente premaknite za n mest v desno, kjer je n pozitivno celo stevilo, ki ga vnese uporabnik. Na koncu izpisite elemente nove tabele. */\n"
   ]
  },
  {
   "cell_type": "markdown",
   "id": "a09e72bf",
   "metadata": {},
   "source": [
    "/* Naloga 4.0.0.19. Napisite program, ki bo od uporabnika zahteval vnos dolzine celostevilske tabele, nato pa se vnos njenih elementov, ter ustvaril tabelo s podanimi elementi. Dodatno omogocite uporabniku vnos vrednosti 0 ali 1, kjer 0 pomeni, da zeli izpisati vse sode elemente tabele in 1 pomeni, da zeli izpisati vse lihe elemente tabele. */\n"
   ]
  },
  {
   "cell_type": "markdown",
   "id": "f60407f8",
   "metadata": {},
   "source": [
    "/* Naloga 4.0.0.20. Za dano celo stevilo n vecje ali enako 1 na zaslon izpisite prvih n vrstic Pascalovega trikotnika. Pascalov trikotnik nam pove koeficiente pri razsiritvi vsote dvoclenika na n-to potenco, to je (a + b)n. Kot namig, ker izracun vrednosti v posamezni vrstici sloni na predhodni vrstici, si lahko predhodno vrstico vsakic shranimo kot tabelo. */\n"
   ]
  },
  {
   "cell_type": "markdown",
   "id": "421c0f2a",
   "metadata": {},
   "source": [
    "/* Naloga 4.1.0.1. Deklarirajte poljubno dvodimenzionalno tabelo (tabelo tabel) in jo izpisite na zaslon. */\n"
   ]
  },
  {
   "cell_type": "markdown",
   "id": "4101213e",
   "metadata": {},
   "source": [
    " /* Naloga 4.1.0.2. Deklarirajte poljubno dvodimenzionalno tabelo in jo obrnite tako, da bodo vrstice postali stolpci in stolpci vrstice. Izpisite jo na zaslon. */\n"
   ]
  },
  {
   "cell_type": "markdown",
   "id": "960fccfc",
   "metadata": {},
   "source": [
    "/* Naloga 4.1.0.3. Deklarirajte poljubno celostevilsko dvodimenzionalno tabelo in na zaslon izpisite vsote njenih elementov po stolpcih. */"
   ]
  },
  {
   "cell_type": "markdown",
   "id": "ac67032c",
   "metadata": {},
   "source": [
    "/* Naloga 4.1.0.4. Ustvarite dvodimenzionalno tabelo, ki predstavlja postevanko do stevila 10 in jo izpisite na zaslon. */"
   ]
  },
  {
   "cell_type": "markdown",
   "id": "7b715c9a",
   "metadata": {},
   "source": [
    "/* Naloga 4.1.0.5. Napisite program, ki za dano dvodimenzionalno tabelo celih stevil preveri ali je simetricna preko glavne diagonale. Glavna diagonala se zacne levo zgoraj in konca desno spodaj. */\n"
   ]
  },
  {
   "cell_type": "markdown",
   "id": "1c787caa",
   "metadata": {},
   "source": [
    " /* Naloga 4.1.0.6. Deklarirajte poljubno celostevilsko dvodimenzionalno tabelo z imenom tabela in ustvarite novo tabelo katere elementi naj bodo najmanjsi elementi posamezne vrstice tabele tabela. Na koncu tabelo izpisite na zaslon. */\n",
    "           "
   ]
  },
  {
   "cell_type": "markdown",
   "id": "fce0521f",
   "metadata": {},
   "source": [
    "/* Naloga 5.0.0.1. Ustvarite seznam prvih 10-ih naravnih stevil in ga izpisite. */"
   ]
  },
  {
   "cell_type": "markdown",
   "id": "7d87a061",
   "metadata": {},
   "source": [
    "  /* Naloga 5.0.0.2. V seznam iz prejsnje naloge vrinite stevilo 11 med stevili 5 in 6. */"
   ]
  },
  {
   "cell_type": "markdown",
   "id": "f3180bcd",
   "metadata": {},
   "source": [
    "  /* Naloga 5.0.0.2. V seznam iz prejsnje naloge vrinite stevilo 11 med stevili 5 in 6. */"
   ]
  },
  {
   "cell_type": "markdown",
   "id": "48a5ccbc",
   "metadata": {},
   "source": [
    " /* Naloga 5.0.0.4. Deklarirajte poljuben celostevilski seznam. Tega nato razdelite na seznam sodih in seznam lihih elementov. */\n"
   ]
  },
  {
   "cell_type": "markdown",
   "id": "1e5adc20",
   "metadata": {},
   "source": [
    " /* Naloga 5.0.0.5. Deklarirajte poljuben celo stevilski seznam in v njem poiscite najmanjsi element in ga izpisite. Izpisite tudi pozicijo tega elementa. */\n"
   ]
  },
  {
   "cell_type": "markdown",
   "id": "74691fc4",
   "metadata": {},
   "source": [
    "/* Naloga 5.0.0.6. Napisite program, ki bo od uporabnika zahteval vnos nizov dokler uporabnik ne vnese niza ”X”. Nizi naj se shranjujejo v seznam, ki se na koncu izpise. */"
   ]
  },
  {
   "cell_type": "markdown",
   "id": "03c80a31",
   "metadata": {},
   "source": [
    " /* Naloga 5.0.0.7. Deklarirajte poljuben seznam in napisite program, ki bo za dano pozitivno celo stevilo n ustvaril nov seznam, ki je sestavljen iz n kopij originalnega seznama. Kaj pa, ce zelimo originalni seznam le podaljsati in ne kreiramo novega seznama? */\n",
    "            "
   ]
  },
  {
   "cell_type": "markdown",
   "id": "84fd4913",
   "metadata": {},
   "source": [
    "/* Naloga 5.0.0.8. Deklarirajte poljuben seznam in zamenjajte prvi in zadnji element. */\n"
   ]
  },
  {
   "cell_type": "markdown",
   "id": "9188a287",
   "metadata": {},
   "source": [
    "/* Naloga 5.0.0.9. Deklarirajte poljuben seznam in mu zamenjajte vrstni red elementov. Seznam nato izpisite na zaslon. */\n"
   ]
  },
  {
   "cell_type": "markdown",
   "id": "ed8e71dc",
   "metadata": {},
   "source": [
    "/* Naloga 5.0.0.9. Deklarirajte poljuben seznam in mu zamenjajte vrstni red elementov. Seznam nato izpisite na zaslon. */\n"
   ]
  },
  {
   "cell_type": "markdown",
   "id": "2015b445",
   "metadata": {},
   "source": [
    "  /* Naloga 5.0.0.11. Deklarirajte poljuben celostevilski seznam in v njem vse sode elemente pomnozite z 2. */\n",
    "           "
   ]
  },
  {
   "cell_type": "markdown",
   "id": "dd136785",
   "metadata": {},
   "source": [
    "/* Naloga 5.0.0.12. Deklarirajte poljuben seznam znakov in ga napolnite z vsaj 10 znaki. Nato iz njega izbrisite vse samoglasnike. */"
   ]
  },
  {
   "cell_type": "markdown",
   "id": "5e66738a",
   "metadata": {},
   "source": [
    "  /* Naloga 5.0.0.13. Napisite program, ki bo iz danega seznama celih stevil izbrisal vse podvojene elemente. */\n"
   ]
  },
  {
   "cell_type": "markdown",
   "id": "5258dd7c",
   "metadata": {},
   "source": [
    " /* Naloga 5.0.0.14. Deklarirajte dva poljubna seznama enakega tipa in na zaslon izpisite vse elemente, ki pripadajo natanko enemu izmed obeh seznamov. */\n"
   ]
  },
  {
   "cell_type": "markdown",
   "id": "653d9646",
   "metadata": {},
   "source": [
    "/* Naloga 5.1.0.1. Napisite program, ki bo uporabniku omogocal sprotno dodajanje in brisanje elementov seznama podatkov tipa int dokler se uporabnik ne odloci zakljuciti z delom.*/\n"
   ]
  },
  {
   "cell_type": "markdown",
   "id": "bc1b4971",
   "metadata": {},
   "source": [
    "/* Naloga 5.1.0.2. Napisite program, ki nam bo pomagal shranjevati podatke o kolicini sadja v shrambi. Podatki se shranjujejo v en seznam, za vsako sadje pa moramo shraniti dva podatka, in sicer, ime sadeza in koliko kosov ga imamo. Nato naj program od uporabnika zahteva vnos imena sadeza in kolicine, kolikor ga zeli dodati v shrambo. Pri tem moramo paziti, da v kolikor sadez ze obstaja v shrambi, mu kolicino le pristejemo. */\n"
   ]
  },
  {
   "cell_type": "markdown",
   "id": "49b81ca6",
   "metadata": {},
   "source": [
    " /* Naloga 5.1.0.3. Denimo, da imamo tri sezname v katerih imamo shranjene podatke o delavcih v podjetju. V prvem seznamu so shranjena imena in priimki delavcev, v drugem seznamu so shranjene starosti delavcev, v tretjem seznamu pa so shranjene place delavcev. V vseh treh seznamih je so podatki o dolocenem delavcu na istem mestu v seznamu. Napisite program, ki bo omogocal izpisovanje podatkov o delavcih glede na dolocene pogoje.\n",
    "                   (a) Izpis povprecne starosti in place vseh zaposlenih.\n",
    "                   (b) Izpis podatkov vseh delavcev s starostjo nad ali pod starostjo, ki jo poda uporabnik.\n",
    "                   (c) Izpis podatkov vseh delavcev s placo visjo ali nizjo od povprecne place in skupnim stevilom teh delavcev. */"
   ]
  }
 ],
 "metadata": {
  "language_info": {
   "name": "python"
  }
 },
 "nbformat": 4,
 "nbformat_minor": 5
}
