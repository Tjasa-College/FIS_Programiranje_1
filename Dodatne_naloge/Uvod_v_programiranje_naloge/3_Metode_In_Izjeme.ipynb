{
 "cells": [
  {
   "cell_type": "markdown",
   "id": "8f0a4a39",
   "metadata": {},
   "source": [
    "/* Naloga 6.1.1.1. Zapisite metodo, ki kot parameter dobi celo stevilo n, kot rezultat pa vrne seznam vseh prastevil manjsih od n. */"
   ]
  },
  {
   "cell_type": "markdown",
   "id": "ced30128",
   "metadata": {},
   "source": [
    "/* Naloga 6.1.1.2. Zapisite metodo, ki kot parameter dobi stevilo v desetiskem zapisu in ga pretvori v dvojiski zapis. Zapisite se metodo, ki zgornjo metodo izvede na vseh stevilih od 1 do n in rezultate zapise v seznam.*/\n"
   ]
  },
  {
   "cell_type": "markdown",
   "id": "735f9e9d",
   "metadata": {},
   "source": [
    "/* Naloga 6.1.1.3. Zapisite metodo, ki kot rezultat izrise sahovnico dimenzije n × m, kjer sta n in m parametra metode. */\n"
   ]
  },
  {
   "cell_type": "markdown",
   "id": "45c70d1e",
   "metadata": {},
   "source": [
    " /* Naloga 6.2.1.1. Zapisite metodo, ki uporabnika sprasuje po kvadratu danega, slucajno izbranega stevila (uporabite razred Random). Predvidite razlicne moznosti napacnih vnosov in jih ustrezno ujemite. */\n",
    "           "
   ]
  },
  {
   "cell_type": "markdown",
   "id": "af445e7d",
   "metadata": {},
   "source": [
    "/* Naloga 6.0.0.1. Napisite metodo, ki za dani naravni stevili a in b izracuna vrednost a^b brez uporabe knjiznice Math z eno od zank. */"
   ]
  },
  {
   "cell_type": "markdown",
   "id": "049f8575",
   "metadata": {},
   "source": [
    "  /* Naloga 6.0.0.2. Napisite metodo, ki prejme celo stevilo in zanj na zaslon izpise vse njegove delitelje in vrne koliko deliteljev ima. */\n"
   ]
  },
  {
   "cell_type": "markdown",
   "id": "7d4593e4",
   "metadata": {},
   "source": [
    " /* Naloga 6.0.0.3. Napisite metodo, ki prejme tabelo znakov in nek znak, ter vrne ali je podan znak v tabeli ali ne. */\n",
    "           "
   ]
  },
  {
   "cell_type": "markdown",
   "id": "93a116d1",
   "metadata": {},
   "source": [
    " /* Naloga 6.0.0.4. Napisite metodo, ki za podani naravni stevili n in m vrne tabelo vseh stevil med njima. Tabelo nato izpisite na zaslon. */\n",
    "            "
   ]
  },
  {
   "cell_type": "markdown",
   "id": "475e90c7",
   "metadata": {},
   "source": [
    " /* Naloga 6.0.0.6. Napisite metodo, ki prejme niz in ga pretvori v tabelo znakov, ki jo nato vrne. Tabelo nato izpisite na zaslon. */\n",
    "           "
   ]
  },
  {
   "cell_type": "markdown",
   "id": "bb570e34",
   "metadata": {},
   "source": [
    " /* Naloga 6.0.0.7. Napisite metodo, ki za podan seznam besed in podano crko vrne seznam vseh besed, ki se zacnejo z dano crko. */\n",
    "            "
   ]
  },
  {
   "cell_type": "markdown",
   "id": "9a804960",
   "metadata": {},
   "source": [
    " /* Naloga 6.0.0.8. Napisite metodo, ki vrne stevilo besed v podanem nizu. Predpostavite lahko, da so besede v nizu locene le s presledki in ne vsebujejo nobenih drugih znakov. */\n"
   ]
  },
  {
   "cell_type": "markdown",
   "id": "95f22873",
   "metadata": {},
   "source": [
    "/* Naloga 6.0.0.9. Napisite metodo, ki prejme seznam besed in vrne par, kjer je na prvem mestu najdaljsa beseda, na drugem pa njen indeks v seznamu. */\n",
    "            "
   ]
  },
  {
   "cell_type": "markdown",
   "id": "9f8e3c26",
   "metadata": {},
   "source": [
    " /* Naloga 6.0.0.10. Napisite metodo, ki vrne tabelo malih crk angleske abecede, metodo, ki vrne tabelo velikih crk angleske abecede in metodo, ki vrne tabelo stevk. */\n",
    "            "
   ]
  },
  {
   "cell_type": "markdown",
   "id": "c14c5300",
   "metadata": {},
   "source": [
    " /* Naloga 6.0.0.11. Napisite metodo, ki prejme niz in vrne trojico vrednosti, kjer je na prvem mestu stevilo crk, na drugem mestu stevilo stevk, na tretjem mestu pa stevilo preostalih znakov v nizu. */\n"
   ]
  },
  {
   "cell_type": "markdown",
   "id": "2e6c2907",
   "metadata": {},
   "source": [
    "/* Naloga 6.0.0.12. Napisite metodo, ki bo izracunala vsoto stevil v celostevilskem seznamu v primeru, da ta ni prazen. Nato v Main metodi to vsoto izpisite v kolikor je bila izracunana. */\n"
   ]
  },
  {
   "cell_type": "markdown",
   "id": "e95089ea",
   "metadata": {},
   "source": [
    "/* Naloga 6.0.0.13. Napisite program, ki bo od uporabnika zahteval nastavitev gesla. Geslo je ustrezno, ce ima vsaj 8 znakov, vsebuje vsaj dve crki in vsaj dve stevki, ob tem pa ima vsaj eno veliko in vsaj eno majhno crko. */\n"
   ]
  },
  {
   "cell_type": "markdown",
   "id": "6f5926c6",
   "metadata": {},
   "source": [
    "  /* Naloga 6.0.0.14. Napisite program, ki bo uporabniku 10-krat na zaslon izpisal nakljucno stevilo, ki ga more uporabnik vnesti. Na koncu naj se izpise stevilo pravilnih vnosov, napacnih vnosov in napak pri vnosu. */\n"
   ]
  },
  {
   "cell_type": "markdown",
   "id": "a7ac6164",
   "metadata": {},
   "source": [
    "/* Naloga 6.0.0.15. Napisite program, ki bo uporabniku omogocal vnasanje enostavnih matematicnih izrazov z dvema vrednostima v obliki enega niza, kjer je med stevilkami in operacijo le en presledek. Program naj nato vrne rezultat izraza. Uporabite metode in pa try-catch stavek za moznost deljenja z 0. */\n"
   ]
  }
 ],
 "metadata": {
  "language_info": {
   "name": "python"
  }
 },
 "nbformat": 4,
 "nbformat_minor": 5
}
