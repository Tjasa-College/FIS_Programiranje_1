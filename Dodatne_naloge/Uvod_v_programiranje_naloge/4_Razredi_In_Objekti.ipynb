{
 "cells": [
  {
   "cell_type": "markdown",
   "id": "c4e7177b",
   "metadata": {},
   "source": [
    "  /* Naloga 8.1.1.1. Razmislite, katere lastnosti bi pripisali rozi in katere bi ji pripisali v konstruktorjih. Definirajte razred Flower, dodajte mu vsaj tri spremenljivke, ki bodo hranile neke podatke o vsaki instanci, in definirajte vsaj dva konstruktorja.*/\n",
    "            "
   ]
  },
  {
   "cell_type": "markdown",
   "id": "37347af3",
   "metadata": {},
   "source": [
    "/* Naloga 8.2.1.1. Razredu Dress iz razdelka dolocite se dve lastnosti: cena z DDV in cena brez DDV, kjer v konstruktorju kot parameter dobite samo ceno brez DDV. Ceno z DDV izracunate z upostevanjem, da je DDV na obleke 22%.*/\n"
   ]
  },
  {
   "cell_type": "markdown",
   "id": "01110bb5",
   "metadata": {},
   "source": [
    " /* Naloga 8.2.1.2. Napisite razred Drink, ki opisuje napitek, ki ga lahko narocite v lokalni  kavarni. Dolocite mu vsaj dva konstruktorja in vsaj stiri lastnosti, pri cemer sta lahko najvec dve samodejno implementirani.*/\n"
   ]
  },
  {
   "cell_type": "markdown",
   "id": "533971e4",
   "metadata": {},
   "source": [
    " /* Naloga 8.3.1.1. Napisite razred Figura, ki predstavlja sahovsko figuro. Razmislite, katere lastnosti bi figura morala imeti, in jih implementirajte. Podobno implementirajte tudi vsaj eno metodo zanjo.*/\n",
    "            "
   ]
  },
  {
   "cell_type": "markdown",
   "id": "b7eef59f",
   "metadata": {},
   "source": [
    "  /* Naloga 8.3.1.2. Definirajte razred Glagol, ki bo kot vrednost prejel nek glagol, njegove dodatne lastnosti pa bodo Oseba, Stevilo, Cas. Napisite tudi objektno metodo, ki bo vrnila seznam vseh oblik glagola za vse osebe v ednini (vsaj za nekatere korene glagolov).*/\n"
   ]
  },
  {
   "cell_type": "markdown",
   "id": "83729426",
   "metadata": {},
   "source": [
    "     /* Naloga 8.3.1.3. Napisite razred NakupovalnaKosarica, ki predstavlja nakupovalno kosarico. Pripravite se razred Artikel, ki predstavlja artikel, ki ga dodamo v nakupovalno kosarico, zanj pa naredite se nekaj podrazredov. Razredu Artikel dodajte lastnost Koda in Cena, ki ju dolocite v konstruktorju, vsakemu od podrazredov pa nekaj primernih dodatnih lastnosti. Za razred NakupovalnaKosarica povozite se metodo ToString, ki izpise vse artikle v kosarici.*/\n",
    "       "
   ]
  },
  {
   "cell_type": "markdown",
   "id": "86875062",
   "metadata": {},
   "source": [
    "     /* Naloga 8.3.1.4. Se enkrat razmislite, kaksna je razlika med staticnimi in objektnimi metodami. Definirajte razred, ki bo definiral vsaj tri lastnosti za vsako instanco razreda, vsaj dve objektni metodi in eno staticno.*/\n",
    "       "
   ]
  },
  {
   "cell_type": "markdown",
   "id": "17f46ad0",
   "metadata": {},
   "source": [
    "  /* Naloga 8.3.1.5. Pripravite razreda Igralec in NogometniKlub. Razred Igralec naj vsebuje: Lastnosti Ime, CenaIgralca, Polozaj (napadalec, vezni, vratar,...), Starost (tej lastnosti lahko vrednost nastavimo samo v konstruktorju!). En konstruktor, ki omogoca dolocitev natanko dveh lastnosti, in en konstruktor, ki omogoca dolocitev vsaj treh lastnosti. Povozite metodo ToString, ki naj izpise vse podatke o igralcu. Razred NogometniKlub naj vsebuje: Lastnosti SeznamIgralcev in VisinaProracuna. Konstruktor, ki inicializira seznam igralcev in nastavi visino proracuna. Metodo, ki izpise vse igralce, ki imajo ceno visjo od danega maksimuma. V metodi Main kreirajte instanco razreda NogometniKlub, ki naj vsebuje vsaj pet igralcev in izpisite podatke o vseh igralcih, ki imajo ceno vsaj 100 000 evrov in so mlajsi od 30 let.*/\n"
   ]
  },
  {
   "cell_type": "markdown",
   "id": "9fa14905",
   "metadata": {},
   "source": [
    " /* Naloga 8.3.1.6. Napisite razreda Dijak in Razred. Razred Dijak naj vsebuje: Lastnosti Ime, PredmetiNaMaturi, SteviloTockNaMaturi, KoncniUspeh (zadosten, dober, prav dober, odliˇcen). En konstruktor, ki omogoca dolocitev natanko dveh lastnosti, in en konstruktor, ki omogoca doloˇcitev vseh stirih lastnosti. Povozite metodo ToString, ki naj izpise vse podatke o dijaku. Razred Razred naj vsebuje: Lastnosti SeznamDijakov in Razrednik. Konstruktor, ki inicializira seznam dijakov in kot parameter dobi razrednika. Metodo, ki izpise povprecno stevilo tock dijakov razreda na maturi. V metodi Main kreirajte instanco razreda Razred, ki naj vsebuje vsaj pet dijakov in izpisite podatke o vseh dijakih, ki so na maturi dosegli vsaj 24 tock. */\n"
   ]
  },
  {
   "cell_type": "markdown",
   "id": "175ccbb4",
   "metadata": {},
   "source": [
    " /* Naloga 8.1.1.1. Razmislite, katere lastnosti bi pripisali rozi in katere bi ji pripisali v konstruktorjih. Definirajte razred Flower, dodajte mu vsaj tri spremenljivke, ki bodo hranile neke podatke o vsaki instanci, in definirajte vsaj dva konstruktorja.*/\n",
    "   "
   ]
  },
  {
   "cell_type": "markdown",
   "id": "64989cc5",
   "metadata": {},
   "source": [
    " /* Naloga 8.2.1.2. Napisite razred Drink, ki opisuje napitek, ki ga lahko narocite v lokalni  kavarni. Dolocite mu vsaj dva konstruktorja in vsaj stiri lastnosti, pri cemer sta lahko najvec dve samodejno implementirani.*/\n",
    "   "
   ]
  },
  {
   "cell_type": "markdown",
   "id": "23711d2e",
   "metadata": {},
   "source": [
    "/* Naloga 8.3.1.6. Napisite razreda Dijak in Razred. Razred Dijak naj vsebuje: Lastnosti Ime, PredmetiNaMaturi, SteviloTockNaMaturi, KoncniUspeh (zadosten, dober, prav dober, odlicen). En konstruktor, ki omogoca dolocitev natanko dveh lastnosti, in en konstruktor, ki omogoca doloˇcitev vseh stirih lastnosti. Povozite metodo ToString, ki naj izpise vse podatke o dijaku. Razred Razred naj vsebuje: Lastnosti SeznamDijakov in Razrednik. Konstruktor, ki inicializira seznam dijakov in kot parameter dobi razrednika. Metodo, ki izpise povprecno stevilo tock dijakov razreda na maturi. V metodi Main kreirajte instanco razreda Razred, ki naj vsebuje vsaj pet dijakov in izpisite podatke o vseh dijakih, ki so na maturi dosegli vsaj 24 tock. */\n"
   ]
  },
  {
   "cell_type": "markdown",
   "id": "0965f1e9",
   "metadata": {},
   "source": [
    " /* Razred Razred naj vsebuje: Lastnosti SeznamDijakov in Razrednik. Konstruktor, ki inicializira seznam dijakov in kot parameter dobi razrednika. Metodo, ki izpise povprecno stevilo tock dijakov razreda na maturi. V metodi Main kreirajte instanco razreda Razred, ki naj vsebuje vsaj pet dijakov in izpisite podatke o vseh dijakih, ki so na maturi dosegli vsaj 24 tock. */\n",
    "   "
   ]
  },
  {
   "cell_type": "markdown",
   "id": "ec2c6d2e",
   "metadata": {},
   "source": [
    "/* Naloga 8.3.1.5. Pripravite razreda Igralec in NogometniKlub. Razred Igralec naj vsebuje: Lastnosti Ime, CenaIgralca, Polozaj (napadalec, vezni, vratar,...), Starost (tej lastnosti lahko vrednost nastavimo samo v konstruktorju!). En konstruktor, ki omogoca dolocitev natanko dveh lastnosti, in en konstruktor, ki omogoca dolocitev vsaj treh lastnosti. Povozite metodo ToString, ki naj izpise vse podatke o igralcu. Razred NogometniKlub naj vsebuje: Lastnosti SeznamIgralcev in VisinaProracuna. Konstruktor, ki inicializira seznam igralcev in nastavi visino proracuna. Metodo, ki izpise vse igralce, ki imajo ceno visjo od danega maksimuma. V metodi Main kreirajte instanco razreda NogometniKlub, ki naj vsebuje vsaj pet igralcev in izpisite podatke o vseh igralcih, ki imajo ceno vsaj 100 000 evrov in so mlajsi od 30 let.*/\n"
   ]
  },
  {
   "cell_type": "markdown",
   "id": "3a01b9e3",
   "metadata": {},
   "source": [
    " /*  Razred NogometniKlub naj vsebuje: Lastnosti SeznamIgralcev in VisinaProracuna. Konstruktor, ki inicializira seznam igralcev in nastavi visino proracuna. Metodo, ki izpise vse igralce, ki imajo ceno visjo od danega maksimuma. V metodi Main kreirajte instanco razreda NogometniKlub, ki naj vsebuje vsaj pet igralcev in izpisite podatke o vseh igralcih, ki imajo ceno vsaj 100 000 evrov in so mlajsi od 30 let.*/\n",
    "    "
   ]
  },
  {
   "cell_type": "markdown",
   "id": "8c6e27e0",
   "metadata": {},
   "source": [
    " /* Naloga 8.3.1.1. Napisite razred Figura, ki predstavlja sahovsko figuro. Razmislite, katere lastnosti bi figura morala imeti, in jih implementirajte. Podobno implementirajte tudi vsaj eno metodo zanjo.*/\n",
    "    //ime, barva, material\n"
   ]
  },
  {
   "cell_type": "markdown",
   "id": "b4722aed",
   "metadata": {},
   "source": [
    " /* Naloga 8.3.1.2. Definirajte razred Glagol, ki bo kot vrednost prejel nek glagol, njegove dodatne lastnosti pa bodo Oseba, Stevilo, Cas. Napisite tudi objektno metodo, ki bo vrnila seznam vseh oblik glagola za vse osebe v ednini (vsaj za nekatere korene glagolov).*/\n"
   ]
  }
 ],
 "metadata": {
  "language_info": {
   "name": "python"
  }
 },
 "nbformat": 4,
 "nbformat_minor": 5
}
