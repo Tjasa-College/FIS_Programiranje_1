{
 "cells": [
  {
   "cell_type": "markdown",
   "id": "8777404a",
   "metadata": {},
   "source": [
    "/* Naloga 4.1.3.1. Definirajte spremenljivko ocena in ji kot vrednost podajte stevilsko oceno, ki jo pricakujete pri tem predmetu. Nato s pomocjo stavka if - else if izpisite opisno ime vase pricakovane ocene (6 - zadostno, 7 - dobro, 8 in 9 - prav dobro, 10 - odlicno).*/\n"
   ]
  },
  {
   "cell_type": "markdown",
   "id": "d90acfca",
   "metadata": {},
   "source": [
    "/* Naloga 4.1.3.2. Definirajte spremenljivko, ki kot vrednost prejme stevilko meseca (1 za\n",
    "               januar, 2 za februar itd.). Pripravite izpis, ki bo povedal, ce ima mesec 31 dni ali ne. */\n"
   ]
  },
  {
   "cell_type": "markdown",
   "id": "b4fd6e7c",
   "metadata": {},
   "source": [
    "  /* Naloga 4.1.3.3. V programiranju se izogibamo pisanju enake kode veckrat, kot je nujno\n",
    "                potrebno. Nalogo 4.1.3.2 resite s stavkom switch, ki bo imel le dve jedri, pa vseeno 12\n",
    "                stavkov case. */\n",
    "            /* Naloga 4.1.3.4. Se enkrat resite Nalogo 4.1.3.2 s stavkom switch, ki bo imel le dve jedri,\n",
    "            vendar tokrat z uporabo primerjalnih vzorcev v dveh stavkih case. */"
   ]
  },
  {
   "cell_type": "markdown",
   "id": "3fe671b1",
   "metadata": {},
   "source": [
    "/* Naloga 4.2.1.1. Za dano stevilo n izracunajte in izpisite vsoto vseh stevil od 1 do n. */"
   ]
  },
  {
   "cell_type": "markdown",
   "id": "0517e039",
   "metadata": {},
   "source": [
    " /* Naloga 4.2.1.2. Za dano stevilo n izracunajte in izpisite vsoto vseh stevil od 1 do n, ki so deljiva s 7. */"
   ]
  },
  {
   "cell_type": "markdown",
   "id": "bb7b0974",
   "metadata": {},
   "source": [
    " /*  Naloga 4.2.1.3. Za dano stevilo n zapisite njegovo vrednost v petiskem sistemu.  */"
   ]
  },
  {
   "cell_type": "markdown",
   "id": "c05dfd85",
   "metadata": {},
   "source": [
    "/* Naloga 4.2.1.4. Fibonaccijevo zaporedje je definirano z rekurzivno zvezo an = an−1+an−2, kjer sta a1 = 1 in a2 = 1. Izpisite prvih 20 clenov zaporedja. Poskusite nalogo resiti se z uporabo zgolj dveh spremenljivk (poleg iteratorja zanke). */\n"
   ]
  },
  {
   "cell_type": "markdown",
   "id": "7a3cc01a",
   "metadata": {},
   "source": [
    "/* Naloga 4.2.1.5. Uporabite dve gnezdeni zanki in ustrezne stavke if za izris diamanta, ki ima eno stranico dolzine n, s pomocjo zvezdic. Rezultat za n = 4 mora biti kot spodaj.\n",
    "\n",
    "                   *\n",
    "                  * *\n",
    "                 *   *\n",
    "                *     *\n",
    "                 *   *\n",
    "                  * *\n",
    "                   *\n",
    "\n",
    "                   */"
   ]
  },
  {
   "cell_type": "markdown",
   "id": "8e6d05a5",
   "metadata": {},
   "source": [
    "/* Naloga 4.3.1.1. Razmislite, kako bi primer z odgovarjanjem, dokler ne podate pravilnega odgovora, resili brez stavka break. */\n",
    "\n",
    "            // lahko rešimo z zanko while in kot pogoj damo dokler odgovor ni pravi"
   ]
  },
  {
   "cell_type": "markdown",
   "id": "85bbf711",
   "metadata": {},
   "source": [
    "/* Naloga 4.3.1.2. Z uporabo stavka break izpisite zaporedje stevil od 1 do n, tako da bo v prvi vrstici samo stevilo 1, v drugi 1 in 2 in tako dalje do zadnje vrstice, kjer bodo izpisana vsa stevila. */\n"
   ]
  },
  {
   "cell_type": "markdown",
   "id": "1924bd5d",
   "metadata": {},
   "source": [
    "/* Naloga 2.1.0.1. Napisite program, ki za dano celo stevilo preveri ali je sodo ali liho. */"
   ]
  },
  {
   "cell_type": "markdown",
   "id": "c08ea715",
   "metadata": {},
   "source": [
    "/* Naloga 2.1.0.2. Napisite program, ki za dve dani realni stevili izpise vecjega izmed njiju. */"
   ]
  },
  {
   "cell_type": "markdown",
   "id": "1942b5b4",
   "metadata": {},
   "source": [
    "/* Naloga 2.1.0.3. Napisite program, ki izpise najvecje stevilo izmed treh danih celih stevil. */"
   ]
  },
  {
   "cell_type": "markdown",
   "id": "45df4f09",
   "metadata": {},
   "source": [
    " /* Naloga 2.1.0.4. Napisite program, ki izpise absolutno vrednost danega stevila (brez uporabe knjiznice Math). */"
   ]
  },
  {
   "cell_type": "markdown",
   "id": "a892c16c",
   "metadata": {},
   "source": [
    "  /* Naloga 2.1.0.5. Napisite program, ki za dano stevilo preveri ali je pozitivno, negativno, ali enako 0. */"
   ]
  },
  {
   "cell_type": "markdown",
   "id": "735085e3",
   "metadata": {},
   "source": [
    " /* Naloga 2.1.0.6. Napisite program, ki preveri ali je dano celo stevilo deljivo s 3, s 5, obema ali pa ni deljivo z nobenim od teh dveh stevil. Odgovor naj se izpise na zaslonu. */\n"
   ]
  },
  {
   "cell_type": "markdown",
   "id": "47352367",
   "metadata": {},
   "source": [
    " /* Naloga 2.1.0.7. Napisite program, ki za dana tri stevila izpise ali obstaja trikotnik s temi dolzinami stranic. Tak trikotnik obstaja, ce dolzine stranic ustrezajo tako imenovani trikotniski neenakosti, ki pravi, da je vsota dolzin poljubnih dveh stranic vedno vecja od dolzine tretje stranice. */\n"
   ]
  },
  {
   "cell_type": "markdown",
   "id": "f7666410",
   "metadata": {},
   "source": [
    "/* Naloga 2.1.0.8. Napisite program, ki za dano crko crko na zaslon izpise ali je crka soglasnik ali samoglasnik. Pri tem upostevajte tako male, kot velike crke. */\n"
   ]
  },
  {
   "cell_type": "markdown",
   "id": "b370d38c",
   "metadata": {},
   "source": [
    " /* Naloga 2.1.0.9. Napisite program, ki za dano celo stevilo n med 1 in 7 izpise ime n-tega dneva v tednu. */"
   ]
  },
  {
   "cell_type": "markdown",
   "id": "b907a1af",
   "metadata": {},
   "source": [
    "/* Naloga 2.1.0.10. Napisite program, ki za dano pozitivno celo stevilo leto izpise ali je leto prestopno ali ne. Leto je prestopno, ce je deljivo s 4, razen v primeru, ko je deljivo s 100 in ni deljivo s 400. */\n"
   ]
  },
  {
   "cell_type": "markdown",
   "id": "5ad837f9",
   "metadata": {},
   "source": [
    "/* Naloga 2.1.0.11. Napisite program, ki za dan datum sestavljen iz treh danih celostevilskih vrednosti (dan, mesec, leto) preveri ali je datum veljaven (to je, stevilka meseca in stevilo dni v mesecu je ustrezno) in, ce je, izpisete datum na zaslon in ali je leto prestopno. */\n"
   ]
  },
  {
   "cell_type": "markdown",
   "id": "b99b9d08",
   "metadata": {},
   "source": [
    " /* Naloga 2.2.0.1. Deklarirajte poljubno celostevilsko spremenljivko. Nato uporabite ternarni operator (pogojni izraz), da v spremenljivko za nize shranite vrednost “sodo”, ce je stevilo sodo in “liho”, sicer. Rezultat izpiˇsite na zaslon. */\n"
   ]
  },
  {
   "cell_type": "markdown",
   "id": "d1c6620b",
   "metadata": {},
   "source": [
    " /* Naloga 2.2.0.2. Deklarirajte dve celostevilski spremenljivki in uporabite ternarni operator, da v novi spremenljivki z imenom min in max shranite manjse, oziroma vecje izmed njiju. Oba rezultata izpisite na zaslon. */\n"
   ]
  },
  {
   "cell_type": "markdown",
   "id": "e07590c8",
   "metadata": {},
   "source": [
    "/* Naloga 2.2.0.3. S pomocjo ternarnega operatorja na zaslon izpisite absolutno vrednost danega stevila. */\n"
   ]
  },
  {
   "cell_type": "markdown",
   "id": "e15a5d40",
   "metadata": {},
   "source": [
    "  /* Naloga 2.2.0.4. Deklarirajte poljuben znak in z uporabo ternarnega operatorja shranite v novo spremenljivko za nize vrednost “crka”, ce je znak crka angleske abecede in prazen niz, sicer. */\n"
   ]
  },
  {
   "cell_type": "markdown",
   "id": "9a0de407",
   "metadata": {},
   "source": [
    " /* Naloga 2.3.0.1. Z uporabo stavka switch za dano starost osebe preverite ali se lahko udelezi volitev ali ne. */\n"
   ]
  },
  {
   "cell_type": "markdown",
   "id": "c23015a2",
   "metadata": {},
   "source": [
    "/* Naloga 2.3.0.2. Z uporabo stavka switch na zaslon izpisite ali je dano stevilo sodo ali liho. */\n"
   ]
  },
  {
   "cell_type": "markdown",
   "id": "38c410a8",
   "metadata": {},
   "source": [
    "  /* Naloga 2.3.0.3. Z uporabo stavka switch preverite ali je dana crka samoglasnik ali soglasnik. Nalogo resite tako, da uporabite le dva jedrna dela. */"
   ]
  },
  {
   "cell_type": "markdown",
   "id": "fefe9773",
   "metadata": {},
   "source": [
    "/* Naloga 2.3.0.4. Z uporabo stavka switch za dano celo stevilo n med 1 in 7 izpisite ime n-tega dneva v tednu. */"
   ]
  },
  {
   "cell_type": "markdown",
   "id": "be0a46bc",
   "metadata": {},
   "source": [
    " /* Naloga 2.3.0.5. Uporabite stavek switch, da ustvarite preprost kalkulator, to je, da sestejete, odˇstejete, pomnozite, delite ali pa izracunate ostanek pri deljenju za dve poljubno izbrani celi stevili glede na moˇzne znake (+, −, ∗, /, %). */\n"
   ]
  },
  {
   "cell_type": "markdown",
   "id": "86ca94a1",
   "metadata": {},
   "source": [
    " /* Naloga 2.3.0.6. Deklarirajte spremenljivko ocena in ji kot vrednost podajte celostevilsko oceno, ki jo pricakujete pri tem predmetu. Nato s pomocjo stavka switch izpisite opisno ime vase pricakovane ocene (≤ 5 - nezadostno, 6 - zadostno, 7 - dobro, 8 in 9 - prav dobro in 10 - odlicno). V programu uporabite primerjalni vzorec. */\n"
   ]
  },
  {
   "cell_type": "markdown",
   "id": "d9c8237a",
   "metadata": {},
   "source": [
    " /* Naloga 3.0.0.1. Izracunajte vsoto prvih desetih naravnih stevil z uporabo vseh treh zank. */\n"
   ]
  },
  {
   "cell_type": "markdown",
   "id": "9275fafe",
   "metadata": {},
   "source": [
    "/* Naloga 3.0.0.2. Izpisite vsa soda stevila manjsa od 100 z uporabo zanke for. */"
   ]
  },
  {
   "cell_type": "markdown",
   "id": "7cf45d66",
   "metadata": {},
   "source": [
    " /* Naloga 3.0.0.3. Za dano pozitivno celo stevilo izracunajte vsoto njegovih stevk z uporabo\n",
    "            zanke while. */"
   ]
  },
  {
   "cell_type": "markdown",
   "id": "b058e8a6",
   "metadata": {},
   "source": [
    "/* Naloga 3.0.0.4. Generator nakljucnih stevil deklariramo z ukazom\n",
    "                Random <imeSpremenljivke> = new Random();.\n",
    "                Nakljucno vrednost lahko zgeneriramo z ukazom\n",
    "                <imeSpremenljivke>.Next(<min>,<max>),\n",
    "                ki vzame nakljucno vrednost med vkljucno z min in izkljucno z max. Z uporabo zanke\n",
    "                do-while napisite kodo, ki bo nakljucno generirala stevila od 0 do 100 in jih izpisovala na\n",
    "                zaslon. Izpisovanje naj se zakljuci, ko je zgenerirana vrednost vecja od 90. Na koncu naj\n",
    "                se izpise stevilo vseh zgeneriranih nakljucnih vrednosti. */"
   ]
  },
  {
   "cell_type": "markdown",
   "id": "c98ea57b",
   "metadata": {},
   "source": [
    "/* Naloga 3.0.0.5. Izpisite vsa pozitivna cela stevila manjsa od 200, ki so deljiva z 2 in niso deljiva s 5. */"
   ]
  },
  {
   "cell_type": "markdown",
   "id": "588ec9a1",
   "metadata": {},
   "source": [
    " /* Naloga 3.0.0.6. Deklarirajte celostevilsko spremenljivko n in izracunajte vsoto vseh stevil manjsih ali enakih n, ki so deljiva s 3 ali s 5. */\n"
   ]
  },
  {
   "cell_type": "markdown",
   "id": "e6f1a80c",
   "metadata": {},
   "source": [
    " /* Naloga 3.0.0.7. Napisite program, ki stevke danega celega stevila zapise v obratnem vrstnem redu. */"
   ]
  },
  {
   "cell_type": "markdown",
   "id": "a5d4f6df",
   "metadata": {},
   "source": [
    "/* Naloga 3.0.0.8. Napisite program, ki za dano celo stevilo preveri ali je palindrom. Palindrom je zaporedje znakov, ki je enako, ce ga beremo iz leve proti desni ali iz desne proti levi. */\n"
   ]
  },
  {
   "cell_type": "markdown",
   "id": "af7c1fa1",
   "metadata": {},
   "source": [
    "/* Naloga 3.0.0.9. Izpisite vsa razlicna 4-mestna naravna stevila sestavljena iz stevk 1, 2, 3, 4\n",
    "            in 5. Izpisite tudi stevilo takih stevil. */"
   ]
  },
  {
   "cell_type": "markdown",
   "id": "a8e682a5",
   "metadata": {},
   "source": [
    "/* Naloga 3.0.0.10. Za dano pozitivno celo stevilo n izpisite vsa Fibonaccijeva stevila, ki so manjsa od n. */"
   ]
  },
  {
   "cell_type": "markdown",
   "id": "af612018",
   "metadata": {},
   "source": [
    "/* Naloga 3.0.0.11. Izracunajte vsoto vseh trimestnih stevil, ki vsebujejo stevko 1. Nato izracunajte vsoto vseh trimestnih stevil, ki vsebujejo natanko eno stevko 1. */\n"
   ]
  },
  {
   "cell_type": "markdown",
   "id": "92e2add5",
   "metadata": {},
   "source": [
    "       /* Naloga 3.0.0.12. Za pozitivno celo stevilo, ki ga vnese uporabnik, izpisite vse lihe stevke in vsoto sodih stevk, do prve pojavitve stevke 0. Pri tem lahko uporabite samo if stavke in nobenega else ali else if stavka. */"
   ]
  },
  {
   "cell_type": "markdown",
   "id": "a5ce954b",
   "metadata": {},
   "source": [
    " /* Naloga 3.0.0.13. Za dano pozitivno celo stevilo n, ki ga vnese uporabnik, na zaslon izpisite vsa soda stevila manjsa ali enaka n, ter stevilo vseh lihih stevil od 1 do vkljucno z n. Pri tem lahko uporabite le if stavek in nobenega else ali else if stavka. */\n"
   ]
  },
  {
   "cell_type": "markdown",
   "id": "36aa9e42",
   "metadata": {},
   "source": [
    "  /* Naloga 3.0.0.14. V vsaki od vrstic 1 do 9 izpisite vse stevke z izjemo i-te stevke, kjer je i zaporedna stevilka vrstice. V 3. vrstici bi se tako izpisalo 012456789. Uporabite lahko le if stavek in nobenega else ali else if stavka. */\n"
   ]
  },
  {
   "cell_type": "markdown",
   "id": "6a250350",
   "metadata": {},
   "source": [
    " /*Naloga 3.0.0.15. Izpisite vsa stevila manjsa od 1000, za katera so vsi delitelji razlicni od 1 sodi. Uporabite lahko le if stavek in nobenega else ali else if stavka. */"
   ]
  },
  {
   "cell_type": "markdown",
   "id": "287327b0",
   "metadata": {},
   "source": [
    "/* Naloga 3.1.0.1. Na zaslon z zvezdicami izrisite kvadrat visine n, kjer stevilo n vnese\n",
    "            uporabnik.\n",
    "            Primer za n = 5:\n",
    "            *****\n",
    "            *****\n",
    "            *****\n",
    "            *****\n",
    "            *****\n",
    "            */\n"
   ]
  },
  {
   "cell_type": "markdown",
   "id": "0da11cea",
   "metadata": {},
   "source": [
    "/* Naloga 3.1.0.2. Na zaslon z zvezdicami izrisite okvir kvadrata visine n, kjer stevilo n\n",
    "                vnese uporabnik.\n",
    "                Primer za n = 5:\n",
    "                *****\n",
    "                *   *\n",
    "                *   *\n",
    "                *   *\n",
    "                *****\n",
    "                */"
   ]
  },
  {
   "cell_type": "markdown",
   "id": "0256c1ec",
   "metadata": {},
   "source": [
    "/* Naloga 3.1.0.3. Na zaslon z zvezdicami izrisite velik X visine n, kjer stevilo n vnese\n",
    "                uporabnik. Program naj deluje vsaj za lihe vrednosti n.\n",
    "                Primer za n = 5:\n",
    "\n",
    "                *   *\n",
    "                 * *\n",
    "                  *\n",
    "                 * *\n",
    "                *   *\n",
    "\n",
    "                 */"
   ]
  },
  {
   "cell_type": "markdown",
   "id": "cc8b729e",
   "metadata": {},
   "source": [
    "/* Naloga 3.1.0.4. Na zaslon z zvezdicami izriˇsite zgornji levi trikotnik visine n, kjer stevilo\n",
    "            n vnese uporabnik.\n",
    "            Primer za n = 5:\n",
    "            *****\n",
    "            ****\n",
    "            ***\n",
    "            **\n",
    "            *\n",
    "            */"
   ]
  },
  {
   "cell_type": "markdown",
   "id": "d5104297",
   "metadata": {},
   "source": [
    "/* Naloga 3.1.0.4. Na zaslon z zvezdicami izriˇsite zgornji levi trikotnik visine n, kjer stevilo\n",
    "            n vnese uporabnik.\n",
    "            Primer za n = 5:\n",
    "            *****\n",
    "            ****\n",
    "            ***\n",
    "            **\n",
    "            *\n",
    "            */"
   ]
  },
  {
   "cell_type": "markdown",
   "id": "27de41af",
   "metadata": {},
   "source": [
    "/* Naloga 3.1.0.6. Na zaslon z zvezdicami izrisite zgornji desni trikotnik visine n, kjer stevilo n vnese uporabnik.\n",
    "               Primer za n = 5:\n",
    "               *****\n",
    "                ****\n",
    "                 ***\n",
    "                  **\n",
    "                   *\n",
    "               */"
   ]
  },
  {
   "cell_type": "markdown",
   "id": "1dde17e6",
   "metadata": {},
   "source": [
    "/* Naloga 3.1.0.7. Na zaslon z zvezdicami izrisite spodnji desni trikotnik visine n, kjer stevilo n vnese uporabnik.\n",
    "                Primer za n = 5:\n",
    "\n",
    "                    *\n",
    "                   **\n",
    "                  ***\n",
    "                 ****\n",
    "                *****\n",
    "                */"
   ]
  },
  {
   "cell_type": "markdown",
   "id": "60d85402",
   "metadata": {},
   "source": [
    "/* Naloga 3.1.0.8. Na zaslon z zvezdicami izrisite piramido visine n, kjer stevilo n vnese uporabnik. Program naj deluje vsaj za lihe vrednosti n.\n",
    "            Primer za n = 5:\n",
    "                *\n",
    "               ***\n",
    "              *****\n",
    "             *******\n",
    "            *********\n",
    "            */"
   ]
  },
  {
   "cell_type": "markdown",
   "id": "ec4b3999",
   "metadata": {},
   "source": [
    "/* Naloga 3.1.0.9. Na zaslon z zvezdicami izrisite obrnjeno piramido visine n, kjer stevilo n vnese uporabnik. Program naj deluje vsaj za lihe vrednosti n.\n",
    "                Primer za n = 5:\n",
    "                *********\n",
    "                 *******\n",
    "                  *****\n",
    "                   ***\n",
    "                    *\n",
    "                    *\n",
    "                */"
   ]
  },
  {
   "cell_type": "markdown",
   "id": "094fbb6f",
   "metadata": {},
   "source": [
    "/* Naloga 3.1.0.10. Na zaslon z zvezdicami izrisite diamant visine n, kjer stevilo n vnese uporabnik. Program naj deluje vsaj za lihe vrednosti n.\n",
    "                Primer za n = 7:\n",
    "                *\n",
    "                ***\n",
    "                *****\n",
    "                *******\n",
    "                *****\n",
    "                ***\n",
    "                *\n",
    "                */"
   ]
  },
  {
   "cell_type": "markdown",
   "id": "03179101",
   "metadata": {},
   "source": [
    " /* Naloga 3.1.0.11. Na zaslon z zvezdicami izrisite pesceno uro visine n, kjer stevilo n vnese\n",
    "                        uporabnik. Program naj deluje vsaj za lihe vrednosti n.\n",
    "                        Primer za n = 7:\n",
    "                        10\n",
    "                        *******\n",
    "                         *****\n",
    "                          ***\n",
    "                           *\n",
    "                          ***\n",
    "                         *****\n",
    "                        *******\n",
    "                        */"
   ]
  },
  {
   "cell_type": "markdown",
   "id": "095be05c",
   "metadata": {},
   "source": [
    "/* Naloga 3.1.0.12. Na zaslon z zvezdicami izriˇsite rob diamanta visine n, kjer stevilo n vnese uporabnik. Program naj deluje vsaj za lihe vrednosti n.\n",
    "                Primer za n = 7:\n",
    "                   *\n",
    "                  * *\n",
    "                 *   *\n",
    "                *     *\n",
    "                 *   *\n",
    "                  * *\n",
    "                   *\n",
    "                */"
   ]
  },
  {
   "cell_type": "markdown",
   "id": "3bb3fa5d",
   "metadata": {},
   "source": [
    "/* Naloga 3.1.0.13. Na zaslon z zvezdicami izrisite metuljcka visine n, kjer stevilo n vnese uporabnik. Program naj deluje vsaj za lihe vrednosti n.\n",
    "               Primer za n = 7:\n",
    "\n",
    "               *     *\n",
    "               **   **\n",
    "               *** ***\n",
    "               *******\n",
    "               *** ***\n",
    "               **   **\n",
    "               *     *\n",
    "\n",
    "                */"
   ]
  },
  {
   "cell_type": "markdown",
   "id": "157cc0e6",
   "metadata": {},
   "source": [
    " /* Naloga 3.1.0.14. Na zaslon izrisite vzorec sahovnice sestavljen iz 2 × 2 praznih crnih kvadratkov in 2 × 2 belih kvadratkov sestavljenih iz zvezdic.Velikost sahovnice naj vnese uporabnik.\n",
    "            Primer za ˇsahovnico velikosti 4 × 4:\n",
    "            **  **\n",
    "            **  **\n",
    "              **  **\n",
    "              **  **\n",
    "            **  **\n",
    "            **  **\n",
    "              **  **\n",
    "              **  **\n",
    "            */"
   ]
  },
  {
   "cell_type": "markdown",
   "id": "7c9ba884",
   "metadata": {},
   "source": [
    "/* Naloga 3.2.0.1. Napisite program za igranje igre ugibanja stevila. Stevilo naj se zgenerira samodejno z uporabo generatorja Random (glej nalogo 3.0.0.4), kjer uporabnik sam odloci najvecje mozno stevilo. Nato naj uporabnik vnasa stevila dokler ne ugane iskanega stevila. Ob vsakem ugibanju mora program uporabniku povedati ali je iskano stevilo vecje ali manjse od vnesenega stevila, ce pa je uporabnik uganil iskano stevilo, mu program izpise koliko poskusov je potreboval, da je stevilo uganil. \n",
    "            */"
   ]
  }
 ],
 "metadata": {
  "language_info": {
   "name": "python"
  }
 },
 "nbformat": 4,
 "nbformat_minor": 5
}
