{
 "cells": [
  {
   "cell_type": "markdown",
   "id": "b43840da",
   "metadata": {},
   "source": [
    "**39. Indeks telesne teže** </br></br>\n",
    "Imejmo seznam trojk ime osebe, teža, višina, na primer:</br></br>\n",
    "*podatki = [*                \n",
    "*[\"Ana\", 55, 165],*</br>\n",
    "*[\"Berta\", 60, 153],*</br>\n",
    "*]*</br></br>\n",
    "Napiši program, ki izpiše imena oseb in njihove indekse telesne teže. Dobimo jo tako, da težo\n",
    "delimo s kvadratom višine v metrih."
   ]
  },
  {
   "cell_type": "code",
   "execution_count": 7,
   "id": "e15b3ac4",
   "metadata": {},
   "outputs": [
    {
     "name": "stdout",
     "output_type": "stream",
     "text": [
      "Ana ima BMI 20.2\n",
      "Berta ima BMI 25.63\n",
      "Cilka ima BMI 16.61\n",
      "Doroteja ima BMI 22.22\n"
     ]
    }
   ],
   "source": [
    "podatki = [[\"Ana\", 55, 165],[\"Berta\", 60, 153], [\"Cilka\", 48, 170],[\"Doroteja\", 72, 180]]\n",
    "\n",
    "def izracun_BMI(list):\n",
    "    for i in range(0, len(list)):\n",
    "        teza = int(list[i][1])\n",
    "        visina_v_metrih = int(list[i][2])/100\n",
    "        bmi = teza / (visina_v_metrih*visina_v_metrih)\n",
    "        print(f\"{list[i][0]} ima BMI {round(bmi,2)}\")\n",
    "\n",
    "izracun_BMI(podatki)"
   ]
  },
  {
   "cell_type": "markdown",
   "id": "0c7b46d9",
   "metadata": {},
   "source": [
    "**40. Seštete trojke**</br></br>\n",
    "Napiši funkcijo, ki prejme seznam trojk in vrne ```True```, če za vse trojke velja, da je tretji element vsota prvih dveh; v nasprotnem primeru vrne ```False```. </br></br>\n",
    "Tako bo, na primer, za seznam *[(3, 5, 8), (2, 6, 9), (1, 1, 2), (10, 5, 15)]* vrnila\n",
    "```False```, ker je v njem nepravilna trojka: 2 + 6 ni enako 9. </br></br>\n",
    "Kako pa bi rešil nalogo, če vrstni red elementov v trojki ne bi bil določen in bi bila pravilna tudi, recimo, trojka (3, 8, 5), saj lahko enega od elementov dobimo kot vsoto ostalih dveh?</br>Napiši funkcijo ```neurejene_trojke```, ki zna tudi to."
   ]
  },
  {
   "cell_type": "code",
   "execution_count": null,
   "id": "b641e667",
   "metadata": {},
   "outputs": [
    {
     "data": {
      "text/plain": [
       "False"
      ]
     },
     "execution_count": 21,
     "metadata": {},
     "output_type": "execute_result"
    }
   ],
   "source": [
    "trojke = [(3, 5, 8), (2, 6, 9), (1, 1, 2), (10, 5, 15)] #False\n",
    "#trojke = [(3, 5, 8), (3, 6, 9), (1, 1, 2), (10, 5, 15)] #True\n",
    "trojke_mesane = [(3, 8, 5), (2, 9, 6), (1, 2, 1), ( 5, 15, 10)] #false\n",
    "#trojke_mesane = [(3, 8, 5), (3, 9, 6), (1, 2, 1), (5, 15, 10)] #True\n",
    "\n",
    "def urejene_trojke(list):\n",
    "    for i in range(0, len(list)):\n",
    "        if list[i][0]+list[i][1] != list[i][2]:\n",
    "            return False\n",
    "    return True\n",
    "\n",
    "def neurejene_trojke(list):\n",
    "    for i in range(0, len(list)):\n",
    "        max=int(list[i][0])\n",
    "        for n in range(0, len(list[i])):\n",
    "            if max<int(list[i][n]):\n",
    "                max = int(list[i][n])\n",
    "        sum = int(list[i][0]) + int(list[i][1]) + int(list[i][2])\n",
    "        if sum/max != 2:\n",
    "            return False\n",
    "        \n",
    "    return True\n",
    "\n",
    "urejene_trojke(trojke)\n",
    "#neurejene_trojke(trojke_mesane)"
   ]
  },
  {
   "cell_type": "markdown",
   "id": "79c1cfa0",
   "metadata": {},
   "source": [
    "**41. Skalarni produkt**</br></br>\n",
    "Napiši funkcijo ```skalarni(v, w)```, ki vrne skalarni produkt dveh vektorjev. Vektorje lahko\n",
    "predstavimo s seznami ali terkami. Skalarni produkt vektorjev *(1, 2, 3)* in *(5, 4, 6)* je 1*5 +\n",
    "```2*4 + 3*6 = 31```. Klic ```skalarni((1, 2, 3), (5, 4, 6))``` mora torej vrniti *31*. Vektorji so lahko\n",
    "poljubno dimenzionalni."
   ]
  },
  {
   "cell_type": "code",
   "execution_count": 24,
   "id": "5950c6c5",
   "metadata": {},
   "outputs": [
    {
     "name": "stdout",
     "output_type": "stream",
     "text": [
      "31\n",
      "14\n",
      "31\n",
      "65\n"
     ]
    }
   ],
   "source": [
    "vektor_1 = (1, 2, 3)\n",
    "vektor_2 =(5, 4, 6)\n",
    "vektor_3 = (1, 2, 3, 4, 5)\n",
    "vektor_4 =(0, 2, 5, 4, 6)\n",
    "def skalarni(v,w):\n",
    "    sum = 0\n",
    "    if len(v)>=len(w):\n",
    "        dolzina = len(w)\n",
    "    else:\n",
    "        dolzina = len(v)\n",
    "    for i in range(0, dolzina):\n",
    "        sum += v[i]*w[i]\n",
    "    return sum\n",
    "\n",
    "print(skalarni(vektor_1, vektor_2))\n",
    "print(skalarni(vektor_1, vektor_3))\n",
    "print(skalarni(vektor_2, vektor_3))\n",
    "print(skalarni(vektor_3, vektor_4))\n",
    "\n"
   ]
  },
  {
   "cell_type": "markdown",
   "id": "db16cb67",
   "metadata": {},
   "source": [
    "**42. Ujemanja črk**</br></br>\n",
    "Napiši funkcijo ```st_ujemanj(b1, b2)```, ki prejme dve besedi in vrne število istoležnih črk, v\n",
    "katerih se ujemata. TRAVNIK in PRAVNIK se v šestih, MLEKO in MREŽA v dveh, OČALA in\n",
    "MARKO pa v nobeni (obe imata sicer O in A, vendar ne na istih mestih). Besedi nista nujno\n",
    "enako dolgi; PAV in KRVAVICA se ujemata v eni črki, TRAVNIK in RAVNIK pa v nobeni."
   ]
  },
  {
   "cell_type": "code",
   "execution_count": null,
   "id": "2cbf477a",
   "metadata": {},
   "outputs": [],
   "source": []
  },
  {
   "cell_type": "markdown",
   "id": "df415110",
   "metadata": {},
   "source": [
    "**43. Vzorec besede**</br></br>\n",
    "Recimo, da rešujemo križanko. Imamo besedo s petimi črkami, pri čemer vemo, da je prva M,\n",
    "druga L in peta O. Takšen vzorec bomo predstavili z nizom *\"ML..O\"*. Iskana beseda bi lahko bila,\n",
    "recimo, MLEKO.</br></br>\n",
    "Napiši funkcijo ```se_ujema(beseda, vzorec)```, ki vrne ```True```, če se podana beseda ujema z\n",
    "vzorcem."
   ]
  },
  {
   "cell_type": "code",
   "execution_count": null,
   "id": "20be979b",
   "metadata": {},
   "outputs": [],
   "source": []
  },
  {
   "cell_type": "markdown",
   "id": "8f986c32",
   "metadata": {},
   "source": [
    "**44. Prva beseda**</br></br>\n",
    "Napiši funkcijo ```prva_beseda(besede, vzorec)```, ki dobi seznam besed in vzorec, kakršne smo\n",
    "videli v prejšnji nalogi. Vrniti mora prvo besedo iz seznama, ki se ujema z vzorcem. Če se ne\n",
    "ujema nobena, vrne ```None```."
   ]
  },
  {
   "cell_type": "code",
   "execution_count": null,
   "id": "31037918",
   "metadata": {},
   "outputs": [],
   "source": []
  },
  {
   "cell_type": "markdown",
   "id": "f9990dac",
   "metadata": {},
   "source": [
    "**45. Paralelni skoki**</br></br>\n",
    "V Planici so zgradili novo, dvojno skakalnico, s katero lahko izvajajo meddržavna tekmovanja v\n",
    "paralelnih skokih. Stvar je preprosta: skakalci se paroma odganjajo z dveh skakalnic, eni z ene,\n",
    "drugi z druge. Država, katere skakalec je skočil dlje, dobi točko; če sta skoka enako dolga, dobi\n",
    "vsaka država polovico točke. Zmaga država, ki dobi več točk.</br>\n",
    "Napiši funkcijo, ki dobi seznama z dolžinami skokov. Če je zmagala prva država, naj funkcija\n",
    "vrne 1, sicer 2. Če sta državi izenačeni, naj funkcija ne vrne ničesar (```None```).</br></br>\n",
    "*>>> paralelni_skoki([153, 141, 152, 160, 135], [148, 148, 148, 148, 148])*</br>\n",
    "*1*</br></br>\n",
    "Finci so zmagali, ker so bili boljši v treh skokih, (fascinantno usklajeni) Danci pa le v dveh."
   ]
  },
  {
   "cell_type": "code",
   "execution_count": null,
   "id": "dd710c55",
   "metadata": {},
   "outputs": [],
   "source": []
  },
  {
   "cell_type": "markdown",
   "id": "9ab29d59",
   "metadata": {},
   "source": [
    "**46. Mesto največjega elementa**</br></br>\n",
    "Napiši funkcijo ```arg_max(s)```, ki vrne, kje v seznamu se nahaja njegov največji element. Če\n",
    "imamo seznam *[5, 1, 4, 8, 2, 3]*, naj vrne *3*, saj je največji element, *8*, na tretjem mestu\n",
    "(če začnemo, kot se spodobi, šteti z *0*). Če je v seznamu več enakih največjih števil, naj se izpiše mesto, na katerem se nahaja prvo. Tudi za seznam *[5, 1, 4, 8, 2, 3, 8, 8, 8]* mora\n",
    "program izpisati *3*. Če je seznam prazen, naj funkcija vrne ```None```.</br></br>\n",
    "(Ime, ```arg_max``` je običajno ime za tovrstne funkcije.)"
   ]
  },
  {
   "cell_type": "code",
   "execution_count": null,
   "id": "94000afb",
   "metadata": {},
   "outputs": [],
   "source": []
  },
  {
   "cell_type": "markdown",
   "id": "a47423c0",
   "metadata": {},
   "source": [
    "**47. Olimpijske medalje**</br></br>\n",
    "Tabela kaže razvrstitev desetih držav glede na število\n",
    "medalj na olimpijskih igrah v letih 2016 in 2012. Vidimo,\n",
    "da so tri države na tej lestvici napredovale, tri pa\n",
    "nazadovale.</br></br>\n",
    "Napiši funkcijo ```napredek(s)```, ki kot argument prejme\n",
    "seznam števil v drugem stolpcu (npr. *[1, 3, 2, 4, 6,\n",
    "10, 7, 5, 9, 8]*), kot rezultat pa vrne par (terko) s\n",
    "števili, ki povesta, koliko držav je na lestvici\n",
    "napredovalo in koliko nazadovalo.</br></br>\n",
    "Funkcija mora delovati za poljubno dolge sezname, ne\n",
    "le za deset držav."
   ]
  },
  {
   "cell_type": "code",
   "execution_count": null,
   "id": "60df2c54",
   "metadata": {},
   "outputs": [],
   "source": []
  },
  {
   "cell_type": "markdown",
   "id": "bf7ea24b",
   "metadata": {},
   "source": [
    "**48. Vstavi teže**</br></br>\n",
    "Imamo seznam imen; ženska imena se vedno končajo s črko ```\"a\"```, moška pa nikoli. Vsi moški so\n",
    "nam zaupali svoje teže. Napišite funkcijo ```vstavi_teze(osebe, teze)```, ki prejme tadva seznama\n",
    "in imena moških zamenja z njihovimi težami (po vrsti), imena žensk pa pusti pri miru. Funkcija\n",
    "naj ne vrača ničesar – spreminjati mora podani seznam.</br></br>\n",
    "*>>> imena = [\"Adam\", \"Eva\", \"Kajn\", \"Abel\"]*</br>\n",
    "*>>> teze = [87, 86, 75]*</br>\n",
    "*>>> vstavi_teze(imena, teze)*</br>\n",
    "*[87, \"Eva\", 87, 75]*"
   ]
  },
  {
   "cell_type": "code",
   "execution_count": null,
   "id": "81db6735",
   "metadata": {},
   "outputs": [],
   "source": []
  },
  {
   "cell_type": "markdown",
   "id": "208d4a50",
   "metadata": {},
   "source": [
    "**49. Primerjanje seznamov**</br></br>\n",
    "Napiši funkcijo primerjaj(s, t), ki primerja dva (neprazna) seznama, takole:</br></br>\n",
    "• če sta seznama enaka, naj vrne 0;</br>\n",
    "• če sta enako dolga in so vsi elementi s manjši ali enaki od istoležnih elementov t, naj\n",
    "vrne -1;</br>\n",
    "• če sta enako dolga in so vsi elementi s večji ali enaki od istoležnih elementov t, naj\n",
    "vrne 1;</br>\n",
    "• sicer vrne 0.</br></br>\n",
    "*>>> primerjaj([1, 2, 3, 4], [2, 3, 4, 5])*</br>\n",
    "*-1*</br>\n",
    "*>>> primerjaj([2, 3, 4, 5], [1, 2, 0, 0])*</br>\n",
    "*1*</br>\n",
    "*>>> primerjaj([1, 2, 3], [4, 5, 6, 7])*</br>\n",
    "*0*</br>\n",
    "*>>> primerjaj([1, 0], [0, 1])*</br>\n",
    "*0*"
   ]
  },
  {
   "cell_type": "code",
   "execution_count": null,
   "id": "c7e5bf80",
   "metadata": {},
   "outputs": [],
   "source": []
  }
 ],
 "metadata": {
  "kernelspec": {
   "display_name": "Python 3",
   "language": "python",
   "name": "python3"
  },
  "language_info": {
   "codemirror_mode": {
    "name": "ipython",
    "version": 3
   },
   "file_extension": ".py",
   "mimetype": "text/x-python",
   "name": "python",
   "nbconvert_exporter": "python",
   "pygments_lexer": "ipython3",
   "version": "3.12.4"
  }
 },
 "nbformat": 4,
 "nbformat_minor": 5
}
