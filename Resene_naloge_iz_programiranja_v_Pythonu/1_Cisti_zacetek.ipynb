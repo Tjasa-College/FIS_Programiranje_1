{
 "cells": [
  {
   "cell_type": "markdown",
   "id": "84b7a85d",
   "metadata": {},
   "source": [
    "**1. Pretvarjanje iz Fahrenheitov v Celzije** </br></br>\n",
    "Napiši program, ki mu uporabnik vpiše temperaturo v Fahrenheitovih stopinjah, program pa\n",
    "jo izpiše v Celzijevih. Med temperaturama pretvarjamo po formuli C = 5/9 (F – 32). Za potrebe\n",
    "Američanov napiši še program, ki računa v nasprotno smer. </br></br>\n",
    "Če se k tej nalogi vračaš, da jo uporabiš za vajo iz pisanja funkcij, pa napiši funkciji celsius(f) in fahrenheit(c). Prva prejme temperaturo v Fahrenheitih in vrne temperaturo v Celzijevih\n",
    "stopinjah, druga pa ravno obratno."
   ]
  },
  {
   "cell_type": "code",
   "execution_count": 4,
   "id": "76e505e6",
   "metadata": {},
   "outputs": [
    {
     "name": "stdout",
     "output_type": "stream",
     "text": [
      "Iz 0 Fahrenheitov dobimo -17.78 Celzija\n",
      "Iz 0 Celzijev dobimo 32.0 Fahrenheitov\n"
     ]
    }
   ],
   "source": [
    "#iz fahrenheita v celzije\n",
    "temp_v_fahrenheitih = int(input('Vpiši temperaturo v Fahrenheitih'))\n",
    "temp_iz_fahrenheitov = (5/9) * (temp_v_fahrenheitih - 32)\n",
    "print(f\"Iz {temp_v_fahrenheitih} Fahrenheitov dobimo {round(temp_iz_fahrenheitov, 2)} Celzija\")\n",
    "#iz celzijev v fahrenheite\n",
    "temp_v_celzijih = int(input('Vpiši temperaturo v celzijih'))\n",
    "temp_iz_celzija = (9 * temp_v_celzijih /5) + 32\n",
    "print(f\"Iz {temp_v_celzijih} Celzijev dobimo {round(temp_iz_celzija,2)} Fahrenheitov\")"
   ]
  },
  {
   "cell_type": "code",
   "execution_count": 7,
   "id": "2db6fdf7",
   "metadata": {},
   "outputs": [
    {
     "name": "stdout",
     "output_type": "stream",
     "text": [
      "Prosim napišite F ali C v izbiro\n"
     ]
    }
   ],
   "source": [
    "#funkcija\n",
    "choice = input('Imate temperaturo v Fahrenheitih (F) ali Celzijih (C): ')\n",
    "temp = int(input('Vpišite temperaturo'))\n",
    "\n",
    "def celsius(f):\n",
    "    return (9 * f /5) + 32\n",
    "\n",
    "def fahrenheit(c):\n",
    "    return (5/9) * (c - 32)\n",
    "\n",
    "if choice.upper() == 'F':\n",
    "    print(f'Iz {temp}F dobimo {fahrenheit(temp)}C')\n",
    "elif choice.upper() == 'C':\n",
    "    print(f'Iz {temp}C dobimo {celsius(temp)}F')\n",
    "else:\n",
    "    print(\"Prosim napišite F ali C v izbiro\")\n",
    "\n"
   ]
  },
  {
   "cell_type": "markdown",
   "id": "2070e059",
   "metadata": {},
   "source": [
    "**2. Pitagorov izrek**\n",
    "</br></br>\n",
    "Napiši program, ki uporabnika vpraša po dolžinah katet pravokotnega trikotnika in izpiše\n",
    "dolžino hipotenuze. (Da ponagajamo pokojnemu prof. Križaniču, ki je sovražil dlakocepce,\n",
    "dodajmo \"dolžino hipotenuze taistega trikotnika\".)</br></br>\n",
    "Če nalogo uporabljaš za vajo iz pisanja funkcij, napiši funkcijo pitagora(a, b), ki prejme\n",
    "dolžini katet in vrne dolžino hipotenuze."
   ]
  },
  {
   "cell_type": "code",
   "execution_count": 9,
   "id": "0101f39a",
   "metadata": {},
   "outputs": [
    {
     "name": "stdout",
     "output_type": "stream",
     "text": [
      "Trikotnik s katetama 4 in 3 ima hipotenuzo 5.0\n"
     ]
    }
   ],
   "source": [
    "prva_kateta = int(input('Vpiši dolžino prve katete: '))\n",
    "druga_kateta = int(input('Vpiši dolžino druge katete: '))\n",
    "\n",
    "hipotenuza = (prva_kateta**2 + druga_kateta**2)**(1/2)\n",
    "\n",
    "print(f'Trikotnik s katetama {prva_kateta} in {druga_kateta} ima hipotenuzo {round(hipotenuza, 2)}')"
   ]
  },
  {
   "cell_type": "code",
   "execution_count": 10,
   "id": "b472b28b",
   "metadata": {},
   "outputs": [
    {
     "name": "stdout",
     "output_type": "stream",
     "text": [
      "Trikotnik s katetama 4 in 3 ima hipotenuzo 5.0\n"
     ]
    }
   ],
   "source": [
    "#funkcija\n",
    "def pitagora(a,b):\n",
    "    return (a**2+b**2)**(1/2)\n",
    "\n",
    "prva_kateta = int(input('Vpiši dolžino prve katete: '))\n",
    "druga_kateta = int(input('Vpiši dolžino druge katete: '))\n",
    "\n",
    "print(f'Trikotnik s katetama {prva_kateta} in {druga_kateta} ima hipotenuzo {round(pitagora(prva_kateta, druga_kateta), 2)}')"
   ]
  },
  {
   "cell_type": "markdown",
   "id": "579f233d",
   "metadata": {},
   "source": [
    "**3. Topologija**</br></br>\n",
    "Napiši program za izračun dolžine strela s topom (ki brez trenja izstreljuje točkaste krogle v\n",
    "brezzračnem prostoru, a pustimo trivio). Program od uporabnika ali uporabnice zahteva, da\n",
    "vnese hitrost izstrelka (to je, omenjene točkaste krogle) in kot, pod katerim je izstreljen.\n",
    "Program naj izračuna in izpiše, kako daleč bo letela krogla.</br></br>\n",
    "Pomoč za fizično nebogljene: s = v^2 * sin(2fi)/g, kjer je s razdalja, v hitrost izstrelka, fi je kot, g pa osma črka slovenske abecede. </br></br>\n",
    "Preveri tole: krogla leti najdalj, če jo izstrelimo pod kotom 45 stopinj. Poskusi, kako daleč gre\n",
    "pod kotom 45 in kako daleč pod 46 stopinj -- po 45 mora leteti dlje. Preveri tudi kot 50 stopinj:\n",
    "če pod tem kotom leti nazaj (razdalja je negativna), si ga gotovo nekje polomil.\n",
    "Če boš napisal rešitev v obliki funkcije, naj bo to funkcija top(v, fi)."
   ]
  },
  {
   "cell_type": "code",
   "execution_count": null,
   "id": "56979c10",
   "metadata": {},
   "outputs": [
    {
     "name": "stdout",
     "output_type": "stream",
     "text": [
      "Krogla bo letela 8.8 metrov daleč\n"
     ]
    }
   ],
   "source": [
    "#hitrost in kot\n",
    "import math\n",
    "kot=int(input('Prosim vnesite kot pod katerim leti krogla: '))\n",
    "hitrost = int(input('Prosim vnesite hitrost s katero leti krogla'))\n",
    "\n",
    "#pretvorila iz stopinj v radiane, zato 0.0175\n",
    "rezultat = hitrost**2 * math.sin(2*kot*0.0175)/9.81\n",
    "\n",
    "print(f\"Krogla bo letela {round(rezultat, 2)} metrov daleč\")\n"
   ]
  },
  {
   "cell_type": "code",
   "execution_count": 23,
   "id": "6d11fd84",
   "metadata": {},
   "outputs": [
    {
     "name": "stdout",
     "output_type": "stream",
     "text": [
      "Krogla bo letela 10.03 metrov daleč\n"
     ]
    }
   ],
   "source": [
    "#funkcija\n",
    "import math\n",
    "def top(v, fi):\n",
    "    return v**2 * math.sin(2*fi*0.0175)/9.81\n",
    "\n",
    "kot=int(input('Prosim vnesite kot pod katerim leti krogla: '))\n",
    "hitrost = int(input('Prosim vnesite hitrost s katero leti krogla'))\n",
    "\n",
    "print(f\"Krogla bo letela {round(top(hitrost, kot), 2)} metrov daleč\")"
   ]
  },
  {
   "cell_type": "markdown",
   "id": "d320d68b",
   "metadata": {},
   "source": [
    "**4. Ploščina trikotnika**</br></br>\n",
    "Ploščino trikotnika s stranicami a, b in c lahko izračunamo po Heronovem obrazcu:\n",
    "p = sqr(s(s − a)(s −b)(s −c)), kjer je s velikost polobsega, s = (a + b + c)/ 2. Napiši program,ki uporabnika vpraša po dolžinah stranic in izpiše (njegovo) ploščino.</br></br>\n",
    "Program naj popazi na nepravilne podatke. Če uporabnik zatrdi, da ima trikotnik stranice 1, 2\n",
    "in 5 (takšnega trikotnika – razmisli – pač ni), naj ga program pozove k resnosti.</br></br>\n",
    "Če nalogo rešuješ s funkcijo, naj se imenuje ploscina_trikotnika, prejme naj dolžine stranic\n",
    "in ne pazi na nič. Če so podatki čudni, naj se pač sesuje."
   ]
  },
  {
   "cell_type": "code",
   "execution_count": 25,
   "id": "449cc89a",
   "metadata": {},
   "outputs": [
    {
     "name": "stdout",
     "output_type": "stream",
     "text": [
      "Ploščina trikotnika je 6.0\n"
     ]
    }
   ],
   "source": [
    "import math\n",
    "a=int(input('Vnesite prvo stranico: '))\n",
    "b=int(input('Vnesite drugo stranico: '))\n",
    "c=int(input('Vnesite tretjo stranico: '))\n",
    "s=(a+b+c)/2\n",
    "\n",
    "if s-a<=0 or s-b<=0 or s-c<=0:\n",
    "    print('Ploščine ne moremo izračunati, saj tak trikotnik en obstaja')\n",
    "else:\n",
    "    ploscina = math.sqrt(s*(s-a)*(s-b)*(s-c))\n",
    "    print(f'Ploščina trikotnika je {round(ploscina, 2)}')"
   ]
  },
  {
   "cell_type": "code",
   "execution_count": 27,
   "id": "42b78845",
   "metadata": {},
   "outputs": [
    {
     "name": "stdout",
     "output_type": "stream",
     "text": [
      "Ploščina trikotnika je 6.0\n"
     ]
    }
   ],
   "source": [
    "#funkcija\n",
    "import math\n",
    "\n",
    "def ploscina_trikotnika(a,b,c):\n",
    "    s=(a+b+c)/2\n",
    "    return math.sqrt(s*(s-a)*(s-b)*(s-c))\n",
    "\n",
    "a=int(input('Vnesite prvo stranico: '))\n",
    "b=int(input('Vnesite drugo stranico: '))\n",
    "c=int(input('Vnesite tretjo stranico: '))\n",
    "\n",
    "print(f'Ploščina trikotnika je {round(ploscina_trikotnika(a,b,c), 2)}')"
   ]
  }
 ],
 "metadata": {
  "kernelspec": {
   "display_name": "Python 3",
   "language": "python",
   "name": "python3"
  },
  "language_info": {
   "codemirror_mode": {
    "name": "ipython",
    "version": 3
   },
   "file_extension": ".py",
   "mimetype": "text/x-python",
   "name": "python",
   "nbconvert_exporter": "python",
   "pygments_lexer": "ipython3",
   "version": "3.12.4"
  }
 },
 "nbformat": 4,
 "nbformat_minor": 5
}
