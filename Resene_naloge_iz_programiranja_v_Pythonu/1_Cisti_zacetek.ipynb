{
 "cells": [
  {
   "cell_type": "markdown",
   "id": "84b7a85d",
   "metadata": {},
   "source": [
    "**1. Pretvarjanje iz Fahrenheitov v Celzije** </br></br>\n",
    "Napiši program, ki mu uporabnik vpiše temperaturo v Fahrenheitovih stopinjah, program pa\n",
    "jo izpiše v Celzijevih. Med temperaturama pretvarjamo po formuli C = 5/9 (F – 32). Za potrebe\n",
    "Američanov napiši še program, ki računa v nasprotno smer. </br></br>\n",
    "Če se k tej nalogi vračaš, da jo uporabiš za vajo iz pisanja funkcij, pa napiši funkciji celsius(f) in fahrenheit(c). Prva prejme temperaturo v Fahrenheitih in vrne temperaturo v Celzijevih\n",
    "stopinjah, druga pa ravno obratno."
   ]
  },
  {
   "cell_type": "code",
   "execution_count": null,
   "id": "76e505e6",
   "metadata": {},
   "outputs": [],
   "source": []
  },
  {
   "cell_type": "code",
   "execution_count": null,
   "id": "2db6fdf7",
   "metadata": {},
   "outputs": [],
   "source": [
    "#funkcija"
   ]
  },
  {
   "cell_type": "markdown",
   "id": "2070e059",
   "metadata": {},
   "source": [
    "**2. Pitagorov izrek**\n",
    "</br></br>\n",
    "Napiši program, ki uporabnika vpraša po dolžinah katet pravokotnega trikotnika in izpiše\n",
    "dolžino hipotenuze. (Da ponagajamo pokojnemu prof. Križaniču, ki je sovražil dlakocepce,\n",
    "dodajmo \"dolžino hipotenuze taistega trikotnika\".)</br></br>\n",
    "Če nalogo uporabljaš za vajo iz pisanja funkcij, napiši funkcijo pitagora(a, b), ki prejme\n",
    "dolžini katet in vrne dolžino hipotenuze."
   ]
  },
  {
   "cell_type": "code",
   "execution_count": null,
   "id": "0101f39a",
   "metadata": {},
   "outputs": [],
   "source": []
  },
  {
   "cell_type": "code",
   "execution_count": null,
   "id": "b472b28b",
   "metadata": {},
   "outputs": [],
   "source": [
    "#funkcija"
   ]
  },
  {
   "cell_type": "markdown",
   "id": "579f233d",
   "metadata": {},
   "source": [
    "**3. Topologija**</br></br>\n",
    "Napiši program za izračun dolžine strela s topom (ki brez trenja izstreljuje točkaste krogle v\n",
    "brezzračnem prostoru, a pustimo trivio). Program od uporabnika ali uporabnice zahteva, da\n",
    "vnese hitrost izstrelka (to je, omenjene točkaste krogle) in kot, pod katerim je izstreljen.\n",
    "Program naj izračuna in izpiše, kako daleč bo letela krogla.</br></br>\n",
    "Pomoč za fizično nebogljene: s = v^2 * sin(2fi)/g, kjer je s razdalja, v hitrost izstrelka, fi je kot, g pa osma črka slovenske abecede. </br></br>\n",
    "Preveri tole: krogla leti najdalj, če jo izstrelimo pod kotom 45 stopinj. Poskusi, kako daleč gre\n",
    "pod kotom 45 in kako daleč pod 46 stopinj -- po 45 mora leteti dlje. Preveri tudi kot 50 stopinj:\n",
    "če pod tem kotom leti nazaj (razdalja je negativna), si ga gotovo nekje polomil.\n",
    "Če boš napisal rešitev v obliki funkcije, naj bo to funkcija top(v, fi)."
   ]
  },
  {
   "cell_type": "code",
   "execution_count": null,
   "id": "56979c10",
   "metadata": {},
   "outputs": [],
   "source": []
  },
  {
   "cell_type": "code",
   "execution_count": null,
   "id": "6d11fd84",
   "metadata": {},
   "outputs": [],
   "source": [
    "#funkcija"
   ]
  },
  {
   "cell_type": "markdown",
   "id": "d320d68b",
   "metadata": {},
   "source": [
    "**4. Ploščina trikotnika**</br></br>\n",
    "Ploščino trikotnika s stranicami a, b in c lahko izračunamo po Heronovem obrazcu:\n",
    "p = sqr(s(s − a)(s −b)(s −c)), kjer je s velikost polobsega, s = (a + b + c)/ 2. Napiši program,ki uporabnika vpraša po dolžinah stranic in izpiše (njegovo) ploščino.</br></br>\n",
    "Program naj popazi na nepravilne podatke. Če uporabnik zatrdi, da ima trikotnik stranice 1, 2\n",
    "in 5 (takšnega trikotnika – razmisli – pač ni), naj ga program pozove k resnosti.</br></br>\n",
    "Če nalogo rešuješ s funkcijo, naj se imenuje ploscina_trikotnika, prejme naj dolžine stranic\n",
    "in ne pazi na nič. Če so podatki čudni, naj se pač sesuje."
   ]
  },
  {
   "cell_type": "code",
   "execution_count": null,
   "id": "449cc89a",
   "metadata": {},
   "outputs": [],
   "source": []
  },
  {
   "cell_type": "code",
   "execution_count": null,
   "id": "42b78845",
   "metadata": {},
   "outputs": [],
   "source": [
    "#funkcija"
   ]
  }
 ],
 "metadata": {
  "language_info": {
   "name": "python"
  }
 },
 "nbformat": 4,
 "nbformat_minor": 5
}
