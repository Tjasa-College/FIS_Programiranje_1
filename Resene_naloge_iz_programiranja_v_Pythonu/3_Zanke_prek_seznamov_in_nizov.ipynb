{
 "cells": [
  {
   "cell_type": "markdown",
   "id": "5c9cb977",
   "metadata": {},
   "source": [
    "**16. Vsota elementov seznama** </br></br>\n",
    "Napiši program, ki izpiše vsoto elementov seznama. Seznam je lahko podan kar na začetku\n",
    "programa. Prva vrstica programa je torej lahko, na primer, </br></br>\n",
    "*s = [5, 8, 3, 6, 0, 1]* </br></br>\n",
    "Če boš nalogo sprogramiral v obliki funkcije, naj se le-ta imenuje vsota(s)."
   ]
  },
  {
   "cell_type": "code",
   "execution_count": null,
   "id": "5ac7bd14",
   "metadata": {},
   "outputs": [],
   "source": []
  },
  {
   "cell_type": "markdown",
   "id": "25a06bac",
   "metadata": {},
   "source": [
    "**17. Ajavost nizov** </br></br>\n",
    "Napiši program, ki mu uporabnik vpiše niz in računalnik mu pove, koliko črk \"a\" je v njem. </br></br>\n",
    "Če nalogo rešuješ v obliki funkcije, naj se ta imenuje ```stevilo_ajev(beseda)```. Sprogramiraj tudi\n",
    "```stevilo_znakov(beseda, znak)```, ki ne vrne števila a-jev temveč število podanih znakov.\n",
    "Končno, pobriši funkcijo ```stevilo_ajev``` in jo napiši na novo, tako da bo le poklicala\n",
    "stevilo_znakov."
   ]
  },
  {
   "cell_type": "code",
   "execution_count": null,
   "id": "12dcb29a",
   "metadata": {},
   "outputs": [],
   "source": []
  },
  {
   "cell_type": "markdown",
   "id": "3fcb7049",
   "metadata": {},
   "source": [
    "**18. Največji element** </br></br>\n",
    "Napiši program, ki izpiše največji element seznama. Seznam je spet lahko podan kar v\n",
    "programu; ni potrebno, da ga vnaša uporabnik. </br></br>\n",
    "Namig: podobno, kot si si prej zapomnil vsoto dosedanjih elementov, si moraš zdaj zapomniti\n",
    "največji element doslej. Pri računanju vsote si za začetno vrednost vsote seveda izbral 0. Tu 0\n",
    "ni nujno dobra izbira, saj je največji element morda negativen. Kot začetno vrednost lahko\n",
    "uporabiš None ali pa vzameš prvi element seznama; dobiš ga z *s[0]*. </br>\n",
    "Če nalogo rešuješ v obliki funkcije, naj bo to funkcija ```najvecji(s)```."
   ]
  },
  {
   "cell_type": "code",
   "execution_count": null,
   "id": "047efd1a",
   "metadata": {},
   "outputs": [],
   "source": []
  },
  {
   "cell_type": "markdown",
   "id": "b7cb699e",
   "metadata": {},
   "source": [
    "**19. Največji absolutist** </br></br>\n",
    "Napiši program, ki vrne največje število po absolutni vrednosti (-8 je po absolutni vrednosti\n",
    "večje od -2 in od 5). Če programiraš funkcijo, naj se ```imenuje najvecji_abs(s)```."
   ]
  },
  {
   "cell_type": "code",
   "execution_count": null,
   "id": "b9b3faf0",
   "metadata": {},
   "outputs": [],
   "source": []
  },
  {
   "cell_type": "markdown",
   "id": "9f6ebc70",
   "metadata": {},
   "source": [
    "**20. Najmanjši pozitivist** </br></br>\n",
    "Napiši program, ki vrne najmanjše pozitivno število v seznamu. Negativna števila in 0 naj\n",
    "prezira. Če v seznamu ni pozitivnih števil, naj vrne ```None```.</br></br>\n",
    "Če pišeš funkcijo, naj se imenuje ```najmanjsi_poz(s)```.</br></br>\n",
    "Podobnih nalog, kot so te, si lahko izmisliš še kolikor hočeš.</br></br>"
   ]
  },
  {
   "cell_type": "code",
   "execution_count": null,
   "id": "92e63213",
   "metadata": {},
   "outputs": [],
   "source": []
  },
  {
   "cell_type": "markdown",
   "id": "c40d13c7",
   "metadata": {},
   "source": [
    "**21. Najdaljša beseda** </br></br>\n",
    "Napiši funkcijo, ki prejme niz in vrne najdaljšo besedo v njem. Za niz \"an ban pet podgan\" naj\n",
    "vrne besedo \"podgan\". Niz s razbiješ na seznam besed tako, da pokličeš ```besede = s.split()```. </br></br>\n",
    "Če reč napišeš kot funkcijo, naj se imenuje ```najdaljsa_beseda(s)```."
   ]
  },
  {
   "cell_type": "code",
   "execution_count": null,
   "id": "27809949",
   "metadata": {},
   "outputs": [],
   "source": []
  },
  {
   "cell_type": "markdown",
   "id": "396e56ea",
   "metadata": {},
   "source": [
    "**22. Poprečje** </br></br>\n",
    "Napiši program (ali pa funkcijo ```poprecje(s)```), ki kot prejme seznam tež skupine državljanov in izračuna poprečno težo. Če je seznam prazen, je poprečna teža *0*."
   ]
  },
  {
   "cell_type": "code",
   "execution_count": null,
   "id": "b50308cf",
   "metadata": {},
   "outputs": [],
   "source": []
  },
  {
   "cell_type": "markdown",
   "id": "449f5d42",
   "metadata": {},
   "source": [
    "**23. Poprečje brez skrajnežev** </br></br>\n",
    "Napiši funkcijo ```poprecje_brez(s)```, ki prejme podoben seznam kot v prejšnji nalogi, vendar\n",
    "računa poprečje brez najtežjega in najlažjega. Če si mesto najtežjega ali najlažjega deli več\n",
    "ljudi, naj odstrani le po enega."
   ]
  },
  {
   "cell_type": "code",
   "execution_count": null,
   "id": "71232383",
   "metadata": {},
   "outputs": [],
   "source": []
  },
  {
   "cell_type": "markdown",
   "id": "80229af8",
   "metadata": {},
   "source": [
    "**24. Bomboni** </br></br>\n",
    "Imamo gručo otrok in v seznamu je zapisano, koliko bombonov ima kateri od njih. Ker ne\n",
    "želimo prepirov, joka in izsiljevanja, bi radi poskrbeli, da bodo imeli vsi otroci enako bombonov. Ker bombonov seveda ne moremo jemati (prepir, jok, izsiljevanje in te reči), je naša naloga\n",
    "napisati funkcijo ```bomboni(s)```, ki kot argument dobi seznam s številom bombonov, ki jih imajo\n",
    "otroci, kot rezultat pa vrne, koliko bombonov bo potrebno še razdeliti, da jih bodo imeli vsi\n",
    "otroci toliko, kolikor jih ima ta, ki jih ima največ. </br></br>\n",
    "*>>> bomboni([5, 8, 6, 4])* </br>\n",
    "*9* </br></br>\n",
    "Največ bombonov ima drugi otrok, 8. Torej bomo dali prvemu 3, tretjemu 2 in četrtemu 4, da\n",
    "jih bodo imeli vsi po 8, tako kot drugi otrok. Skupaj bomo torej razdelili 3+2+4=9 bombonov,\n",
    "zato funkcija vrne 9."
   ]
  },
  {
   "cell_type": "code",
   "execution_count": null,
   "id": "0c281104",
   "metadata": {},
   "outputs": [],
   "source": []
  },
  {
   "cell_type": "markdown",
   "id": "57d0ac83",
   "metadata": {},
   "source": [
    "25. Vsaj eno liho\n",
    "Napiši funkcijo vsaj_eno_liho(s), ki prejme seznam števil in vrne True, če je med njimi vsaj\n",
    "eno liho, in False, če ni."
   ]
  },
  {
   "cell_type": "code",
   "execution_count": null,
   "id": "7b811c49",
   "metadata": {},
   "outputs": [],
   "source": []
  },
  {
   "cell_type": "markdown",
   "id": "56427a86",
   "metadata": {},
   "source": [
    "**26. Sama liha** </br></br>\n",
    "Napiši funkcijo ```sama_liha(s)```, ki prejme seznam števil ter vrne ```True```, če so vsa liha, in ```False```, če\n",
    "niso. Če je seznam prazen, naj funkcija vrne True, saj v njem ni ne-lihih števil."
   ]
  },
  {
   "cell_type": "code",
   "execution_count": null,
   "id": "ae0c3072",
   "metadata": {},
   "outputs": [],
   "source": []
  },
  {
   "cell_type": "markdown",
   "id": "fc96669f",
   "metadata": {},
   "source": [
    "**27. Blagajna** </br></br>\n",
    "Zaporedje dogodkov na blagajni v trgovini lahko predstavimo z zaporedjem plusov in minusov:\n",
    "plus naj pomeni, da se je v vrsto postavila nova stranka in minus, da je stranka plačala in šla.\n",
    "Tako bi zaporedje *\"++-++---\"* pomenilo, da je najprej prišla ena stranka, nato še ena, nato je\n",
    "bila ena postrežena, nato sta dve prišli in potem so bile tri postrežene. </br></br>\n",
    "Napiši funkcijo blagajna(s), ki kot argument prejme niz, kakršen je gornji, kot rezultat pa\n",
    "vrne najdaljšo dolžino vrste. Predpostaviti smeš, da niz vsebuje le pluse in minuse. </br></br>\n",
    "*>>> blagajna(\"++-++---\")*</br>\n",
    "*3*</br>\n",
    "*>>> blagajna(\"+++++-----\")*</br>\n",
    "*5*</br>\n",
    "*>>> blagajna(\"+-+-+-+-+-+-\")*</br>\n",
    "*1*"
   ]
  },
  {
   "cell_type": "code",
   "execution_count": null,
   "id": "f3fa5080",
   "metadata": {},
   "outputs": [],
   "source": []
  },
  {
   "cell_type": "markdown",
   "id": "d5add09d",
   "metadata": {},
   "source": [
    "**28. Preobremenjeni čolni** </br></br>\n",
    "Recimo, da na prvi čoln naložimo tri tovore, težke 4, 2 in 4 enote, na drugega en tovor, težak\n",
    "10 enot in na tretjega tri tovore težke eno enoto. Tako obremenitev bi lahko opisali s\n",
    "seznamom seznamov (uh, uh!) *[[4, 2, 4], [10], [1, 1, 1]*. </br></br>\n",
    "Napiši funkcijo ```ni_preobremenjenih(tovori, nosilnost)```, ki prejme seznam v takšni obliki in\n",
    "nosilnost čolnov (ta je za vse enaka). Funkcija naj vrne ```True```, če ni nobeden od čolnov\n",
    "preobremenjen. </br></br>\n",
    "*>>> ni_preobremenjenih([[4, 2, 4], [10], [1, 1, 1]], 11)*\n",
    "*True*\n",
    "*>>> ni_preobremenjenih([[4, 5, 4], [10], [1, 1, 1]], 11)*\n",
    "*False* </br></br>\n",
    "V drugem primeru je preobremenjen prvi čoln, saj nameravamo nanj naložiti za 4 + 5 + 4 = 13\n",
    "eno tovora, kar je več kot dovoljena nosilnost 11."
   ]
  },
  {
   "cell_type": "code",
   "execution_count": null,
   "id": "d2ce23a9",
   "metadata": {},
   "outputs": [],
   "source": []
  }
 ],
 "metadata": {
  "language_info": {
   "name": "python"
  }
 },
 "nbformat": 4,
 "nbformat_minor": 5
}
