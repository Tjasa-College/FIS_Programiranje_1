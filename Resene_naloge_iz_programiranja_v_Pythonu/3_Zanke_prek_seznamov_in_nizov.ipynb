{
 "cells": [
  {
   "cell_type": "markdown",
   "id": "5c9cb977",
   "metadata": {},
   "source": [
    "**16. Vsota elementov seznama** </br></br>\n",
    "Napiši program, ki izpiše vsoto elementov seznama. Seznam je lahko podan kar na začetku\n",
    "programa. Prva vrstica programa je torej lahko, na primer, </br></br>\n",
    "*s = [5, 8, 3, 6, 0, 1]* </br></br>\n",
    "Če boš nalogo sprogramiral v obliki funkcije, naj se le-ta imenuje vsota(s)."
   ]
  },
  {
   "cell_type": "code",
   "execution_count": 1,
   "id": "5ac7bd14",
   "metadata": {},
   "outputs": [
    {
     "name": "stdout",
     "output_type": "stream",
     "text": [
      "23\n"
     ]
    }
   ],
   "source": [
    "s = [5, 8, 3, 6, 0, 1]\n",
    "sum = 0\n",
    "\n",
    "for item in s:\n",
    "    sum += item\n",
    "\n",
    "print(sum)"
   ]
  },
  {
   "cell_type": "markdown",
   "id": "25a06bac",
   "metadata": {},
   "source": [
    "**17. Ajavost nizov** </br></br>\n",
    "Napiši program, ki mu uporabnik vpiše niz in računalnik mu pove, koliko črk \"a\" je v njem. </br></br>\n",
    "Če nalogo rešuješ v obliki funkcije, naj se ta imenuje ```stevilo_ajev(beseda)```. Sprogramiraj tudi\n",
    "```stevilo_znakov(beseda, znak)```, ki ne vrne števila a-jev temveč število podanih znakov.\n",
    "Končno, pobriši funkcijo ```stevilo_ajev``` in jo napiši na novo, tako da bo le poklicala\n",
    "stevilo_znakov."
   ]
  },
  {
   "cell_type": "code",
   "execution_count": 5,
   "id": "12dcb29a",
   "metadata": {},
   "outputs": [
    {
     "name": "stdout",
     "output_type": "stream",
     "text": [
      " Beseda barbara ima 3 a-jev\n"
     ]
    }
   ],
   "source": [
    "user_word = input(\"Prosim vpišite besedo: \")\n",
    "counter = 0;\n",
    "for letter in user_word:\n",
    "    if letter.lower() in 'a':\n",
    "        counter += 1\n",
    "\n",
    "print(f\" Beseda {user_word} ima {counter} a-jev\")"
   ]
  },
  {
   "cell_type": "code",
   "execution_count": 11,
   "id": "d2ed996b",
   "metadata": {},
   "outputs": [
    {
     "name": "stdout",
     "output_type": "stream",
     "text": [
      " Beseda barbara ima 3 a-jev -> rešeno s prvim primerom\n",
      " Beseda barbara ima 2 r-jev -> rešeno z drugim primerom\n"
     ]
    }
   ],
   "source": [
    "# funkcije\n",
    "user_word = input(\"Prosim vpišite besedo: \")\n",
    "\n",
    "\n",
    "def stevilo_ajev(beseda):\n",
    "    counter = 0;\n",
    "    for letter in beseda:\n",
    "        if letter.lower() in 'a':\n",
    "            counter += 1\n",
    "    return counter;\n",
    "\n",
    "print(f\" Beseda {user_word} ima {stevilo_ajev(user_word)} a-jev -> rešeno s prvim primerom\")\n",
    "\n",
    "user_char = input(\"Vnesi znak: \")\n",
    "\n",
    "def stevilo_znakov(beseda,znak):\n",
    "    counter = 0;\n",
    "    for letter in beseda:\n",
    "        if letter.lower() == znak.lower():\n",
    "            counter += 1\n",
    "    return counter;\n",
    "\n",
    "print(f\" Beseda {user_word} ima {stevilo_znakov(user_word, user_char)} {user_char}-jev -> rešeno z drugim primerom\")\n",
    "\n",
    "#tretji primer samo uporabiš funkcijo stevilo_znakov v funkciji stevilo_ajev in kličeš z znakom a"
   ]
  },
  {
   "cell_type": "markdown",
   "id": "3fcb7049",
   "metadata": {},
   "source": [
    "**18. Največji element** </br></br>\n",
    "Napiši program, ki izpiše največji element seznama. Seznam je spet lahko podan kar v\n",
    "programu; ni potrebno, da ga vnaša uporabnik. </br></br>\n",
    "Namig: podobno, kot si si prej zapomnil vsoto dosedanjih elementov, si moraš zdaj zapomniti\n",
    "največji element doslej. Pri računanju vsote si za začetno vrednost vsote seveda izbral 0. Tu 0\n",
    "ni nujno dobra izbira, saj je največji element morda negativen. Kot začetno vrednost lahko\n",
    "uporabiš None ali pa vzameš prvi element seznama; dobiš ga z *s[0]*. </br>\n",
    "Če nalogo rešuješ v obliki funkcije, naj bo to funkcija ```najvecji(s)```."
   ]
  },
  {
   "cell_type": "code",
   "execution_count": 12,
   "id": "047efd1a",
   "metadata": {},
   "outputs": [
    {
     "name": "stdout",
     "output_type": "stream",
     "text": [
      "Maximum je 8\n"
     ]
    }
   ],
   "source": [
    "s = [5, 8, 3, 6, 0, 1]\n",
    "max = s[0]\n",
    "for item in s:\n",
    "    if item > max:\n",
    "        max = item\n",
    "\n",
    "print(f\"Maximum je {max}\")"
   ]
  },
  {
   "cell_type": "markdown",
   "id": "b7cb699e",
   "metadata": {},
   "source": [
    "**19. Največji absolutist** </br></br>\n",
    "Napiši program, ki vrne največje število po absolutni vrednosti (-8 je po absolutni vrednosti\n",
    "večje od -2 in od 5). Če programiraš funkcijo, naj se ```imenuje najvecji_abs(s)```."
   ]
  },
  {
   "cell_type": "code",
   "execution_count": 15,
   "id": "b9b3faf0",
   "metadata": {},
   "outputs": [
    {
     "name": "stdout",
     "output_type": "stream",
     "text": [
      "Največja absolutna vrednost je -8\n"
     ]
    }
   ],
   "source": [
    "from math import *\n",
    "\n",
    "s = [5, -8, 3, 6, 0, 1]\n",
    "abs_max = abs(s[0])\n",
    "for item in s:\n",
    "    if abs(abs_max) < abs(item):\n",
    "        abs_max = item\n",
    "print(f\"Največja absolutna vrednost je {abs_max}\")"
   ]
  },
  {
   "cell_type": "code",
   "execution_count": 16,
   "id": "6349be3a",
   "metadata": {},
   "outputs": [
    {
     "name": "stdout",
     "output_type": "stream",
     "text": [
      "Največja absolutna vrednost je 13\n"
     ]
    }
   ],
   "source": [
    "#funkcija\n",
    "s = [5, -8, 3, 6, 0, 1, -10, 13, 2, -5]\n",
    "\n",
    "def najvecji_abs(s):\n",
    "    abs_max = abs(s[0])\n",
    "    for item in s:\n",
    "        if abs(abs_max) < abs(item):\n",
    "            abs_max = item\n",
    "    return abs_max\n",
    "\n",
    "print(f\"Največja absolutna vrednost je {najvecji_abs(s)}\")"
   ]
  },
  {
   "cell_type": "markdown",
   "id": "9f6ebc70",
   "metadata": {},
   "source": [
    "**20. Najmanjši pozitivist** </br></br>\n",
    "Napiši program, ki vrne najmanjše pozitivno število v seznamu. Negativna števila in 0 naj\n",
    "prezira. Če v seznamu ni pozitivnih števil, naj vrne ```None```.</br></br>\n",
    "Če pišeš funkcijo, naj se imenuje ```najmanjsi_poz(s)```.</br></br>\n",
    "Podobnih nalog, kot so te, si lahko izmisliš še kolikor hočeš.</br></br>"
   ]
  },
  {
   "cell_type": "code",
   "execution_count": null,
   "id": "92e63213",
   "metadata": {},
   "outputs": [
    {
     "name": "stdout",
     "output_type": "stream",
     "text": [
      "Najmanjše pozitivno število je 1\n"
     ]
    }
   ],
   "source": [
    "s = [5, -8, 3, 6,  1, -10, 13, 2, -5]\n",
    "#s=[-1,-2,-3,-4,-5]\n",
    "#s=[1,-2,-3,-4,-5]\n",
    "\n",
    "min_poz=s[0]\n",
    "\n",
    "for item in s:\n",
    "    if item >= 0 and item < min_poz:\n",
    "        min_poz= item\n",
    "    \n",
    "\n",
    "#Malo nerodna preverba, ampak prvo kar mi pade na pamet \n",
    "# -> preveri ali je min še vedno enak prvemu v listi in preveri če je manjši od 0, to pomeni, da so sami negativni v listi\n",
    "# preveri se lahko s tremi različnimi s\n",
    "if min_poz == s[0] and min_poz <0:\n",
    "   print(\"None\") \n",
    "else:\n",
    "    print(f\"Najmanjše pozitivno število je {min_poz}\")"
   ]
  },
  {
   "cell_type": "code",
   "execution_count": 24,
   "id": "f61beece",
   "metadata": {},
   "outputs": [
    {
     "name": "stdout",
     "output_type": "stream",
     "text": [
      "Najmanjše pozitivno število je None\n"
     ]
    }
   ],
   "source": [
    "#funkcija\n",
    "\n",
    "#s = [5, -8, 3, 6,  1, -10, 13, 2, -5]\n",
    "s=[-1,-2,-3,-4,-5]\n",
    "#s=[1,-2,-3,-4,-5]\n",
    "\n",
    "def najmanjsi_poz(s):\n",
    "    min_poz=s[0]\n",
    "    for item in s:\n",
    "        if item >= 0 and item < min_poz:\n",
    "            min_poz= item\n",
    "    #Malo nerodna preverba, ampak prvo kar mi pade na pamet \n",
    "    # -> preveri ali je min še vedno enak prvemu v listi in preveri če je manjši od 0, to pomeni, da so sami negativni v listi\n",
    "    # preveri se lahko s tremi različnimi s\n",
    "    if min_poz == s[0] and min_poz <0:\n",
    "        return None\n",
    "    else:\n",
    "        return min_poz\n",
    "    \n",
    "print(f\"Najmanjše pozitivno število je {najmanjsi_poz(s)}\")"
   ]
  },
  {
   "cell_type": "markdown",
   "id": "c40d13c7",
   "metadata": {},
   "source": [
    "**21. Najdaljša beseda** </br></br>\n",
    "Napiši funkcijo, ki prejme niz in vrne najdaljšo besedo v njem. Za niz \"an ban pet podgan\" naj\n",
    "vrne besedo \"podgan\". Niz s razbiješ na seznam besed tako, da pokličeš ```besede = s.split()```. </br></br>\n",
    "Če reč napišeš kot funkcijo, naj se imenuje ```najdaljsa_beseda(s)```."
   ]
  },
  {
   "cell_type": "code",
   "execution_count": 27,
   "id": "27809949",
   "metadata": {},
   "outputs": [
    {
     "name": "stdout",
     "output_type": "stream",
     "text": [
      "Najdaljša beseda v tvojem zapisu je podgan\n"
     ]
    }
   ],
   "source": [
    "user_string = input(\"Napišite niz: \")\n",
    "\n",
    "s=user_string.split()\n",
    "max = s[0]\n",
    "#print(len(max))\n",
    "for word in s:\n",
    "    if len(max) < len(word):\n",
    "        max = word\n",
    "\n",
    "print(f\"Najdaljša beseda v tvojem zapisu je {max}\")"
   ]
  },
  {
   "cell_type": "code",
   "execution_count": 28,
   "id": "9385cd95",
   "metadata": {},
   "outputs": [
    {
     "name": "stdout",
     "output_type": "stream",
     "text": [
      "Najdaljša beseda v tvojem zapisu je podgan\n"
     ]
    }
   ],
   "source": [
    "# funkcija\n",
    "\n",
    "user_string = input(\"Napišite niz: \")\n",
    "s=user_string.split()\n",
    "\n",
    "def najdaljsa_beseda(s):   \n",
    "    max = s[0]\n",
    "    for word in s:\n",
    "        if len(max) < len(word):\n",
    "            max = word\n",
    "    return max\n",
    "\n",
    "print(f\"Najdaljša beseda v tvojem zapisu je {najdaljsa_beseda(s)}\")"
   ]
  },
  {
   "cell_type": "markdown",
   "id": "396e56ea",
   "metadata": {},
   "source": [
    "**22. Poprečje** </br></br>\n",
    "Napiši program (ali pa funkcijo ```poprecje(s)```), ki kot prejme seznam tež skupine državljanov in izračuna poprečno težo. Če je seznam prazen, je poprečna teža *0*."
   ]
  },
  {
   "cell_type": "code",
   "execution_count": null,
   "id": "b50308cf",
   "metadata": {},
   "outputs": [
    {
     "name": "stdout",
     "output_type": "stream",
     "text": [
      "Povprečna teža državljanov je 73.5\n"
     ]
    }
   ],
   "source": [
    "teze = [50, 60, 70, 80, 90, 55, 66, 77, 88, 99]\n",
    "#teze=[]\n",
    "sum = 0\n",
    "\n",
    "if len(teze) > 0:\n",
    "    for teza in teze:\n",
    "        sum += teza\n",
    "\n",
    "povprecna = sum/len(teze)\n",
    "\n",
    "print(f\"Povprečna teža državljanov je {povprecna}\")\n"
   ]
  },
  {
   "cell_type": "code",
   "execution_count": 32,
   "id": "44459192",
   "metadata": {},
   "outputs": [
    {
     "name": "stdout",
     "output_type": "stream",
     "text": [
      "Povprečna teža državljanov je 0\n"
     ]
    }
   ],
   "source": [
    "#teze = [50, 60, 70, 80, 90, 55, 66, 77, 88, 99]\n",
    "teze=[]\n",
    "def povprecje(s):\n",
    "    sum = 0\n",
    "    if len(s) > 0:\n",
    "        for teza in s:\n",
    "            sum += teza\n",
    "        povprecna = sum/len(s)\n",
    "        return povprecna\n",
    "    else:\n",
    "        return 0\n",
    "\n",
    "    \n",
    "\n",
    "print(f\"Povprečna teža državljanov je {povprecje(teze)}\")"
   ]
  },
  {
   "cell_type": "markdown",
   "id": "449f5d42",
   "metadata": {},
   "source": [
    "**23. Poprečje brez skrajnežev** </br></br>\n",
    "Napiši funkcijo ```poprecje_brez(s)```, ki prejme podoben seznam kot v prejšnji nalogi, vendar\n",
    "računa poprečje brez najtežjega in najlažjega. Če si mesto najtežjega ali najlažjega deli več\n",
    "ljudi, naj odstrani le po enega."
   ]
  },
  {
   "cell_type": "code",
   "execution_count": null,
   "id": "71232383",
   "metadata": {},
   "outputs": [
    {
     "name": "stdout",
     "output_type": "stream",
     "text": [
      "Povprečna teža državljanov brez največjega in najmanjšega je 0\n"
     ]
    }
   ],
   "source": [
    "teze = [50, 60, 70, 80, 90, 55, 66, 77, 88, 99]\n",
    "#teze=[1,2]\n",
    "\n",
    "def povprecje_brez(s):\n",
    "    max = s[0]\n",
    "    min = s[0]\n",
    "    sum = 0\n",
    "    if len(s) > 2:\n",
    "        for teza in s:\n",
    "            if teza > max:\n",
    "                max = teza\n",
    "            elif teza < min:\n",
    "                min = teza\n",
    "            sum += teza\n",
    "\n",
    "        brez_sum = sum - max - min\n",
    "        brez_dolzina = len(s) - 2\n",
    "        povprecje = brez_sum/brez_dolzina\n",
    "        return povprecje\n",
    "    else:\n",
    "        return 0\n",
    "\n",
    "print(f\"Povprečna teža državljanov brez največjega in najmanjšega je {povprecje_brez(teze)}\")"
   ]
  },
  {
   "cell_type": "markdown",
   "id": "80229af8",
   "metadata": {},
   "source": [
    "**24. Bomboni** </br></br>\n",
    "Imamo gručo otrok in v seznamu je zapisano, koliko bombonov ima kateri od njih. Ker ne\n",
    "želimo prepirov, joka in izsiljevanja, bi radi poskrbeli, da bodo imeli vsi otroci enako bombonov. Ker bombonov seveda ne moremo jemati (prepir, jok, izsiljevanje in te reči), je naša naloga\n",
    "napisati funkcijo ```bomboni(s)```, ki kot argument dobi seznam s številom bombonov, ki jih imajo\n",
    "otroci, kot rezultat pa vrne, koliko bombonov bo potrebno še razdeliti, da jih bodo imeli vsi\n",
    "otroci toliko, kolikor jih ima ta, ki jih ima največ. </br></br>\n",
    "*>>> bomboni([5, 8, 6, 4])* </br>\n",
    "*9* </br></br>\n",
    "Največ bombonov ima drugi otrok, 8. Torej bomo dali prvemu 3, tretjemu 2 in četrtemu 4, da\n",
    "jih bodo imeli vsi po 8, tako kot drugi otrok. Skupaj bomo torej razdelili 3+2+4=9 bombonov,\n",
    "zato funkcija vrne 9."
   ]
  },
  {
   "cell_type": "code",
   "execution_count": 38,
   "id": "0c281104",
   "metadata": {},
   "outputs": [
    {
     "name": "stdout",
     "output_type": "stream",
     "text": [
      "Potrebno je razdeliti še 9 bombonov\n"
     ]
    }
   ],
   "source": [
    "bomb = [5, 8, 6, 4]\n",
    "\n",
    "def bomboni(s):\n",
    "    max = s[0]\n",
    "    sum = 0\n",
    "    #najprej določimo kdo jih ima največ\n",
    "    for item in s:\n",
    "        if item > max:\n",
    "            max = item\n",
    "    #določimo razlike med vsakim posebej in tistim, ki jih ima največ\n",
    "    for item in s:\n",
    "        sum += abs(max-item)\n",
    "\n",
    "    return sum\n",
    "\n",
    "print(f\"Potrebno je razdeliti še {bomboni(bomb)} bombonov\")"
   ]
  },
  {
   "cell_type": "markdown",
   "id": "57d0ac83",
   "metadata": {},
   "source": [
    "**25. Vsaj eno liho**</br></br>\n",
    "Napiši funkcijo `vsaj_eno_liho(s)`, ki prejme seznam števil in vrne True, če je med njimi vsaj\n",
    "eno liho, in False, če ni."
   ]
  },
  {
   "cell_type": "code",
   "execution_count": null,
   "id": "7b811c49",
   "metadata": {},
   "outputs": [
    {
     "data": {
      "text/plain": [
       "False"
      ]
     },
     "execution_count": 42,
     "metadata": {},
     "output_type": "execute_result"
    }
   ],
   "source": [
    "lista_stevil= [20, 8, 6, 4]\n",
    "#lista_stevil= [15, 8, 6, 4]\n",
    "\n",
    "def vsaj_eno_liho(s):\n",
    "    #ni treba da gre čez cel seznam. takoj ko najde liho lahko zaključi.\n",
    "    for item in s:\n",
    "        if item % 2 == 1:\n",
    "            return True\n",
    "    return False\n",
    "        \n",
    "vsaj_eno_liho(lista_stevil)"
   ]
  },
  {
   "cell_type": "markdown",
   "id": "56427a86",
   "metadata": {},
   "source": [
    "**26. Sama liha** </br></br>\n",
    "Napiši funkcijo ```sama_liha(s)```, ki prejme seznam števil ter vrne ```True```, če so vsa liha, in ```False```, če\n",
    "niso. Če je seznam prazen, naj funkcija vrne True, saj v njem ni ne-lihih števil."
   ]
  },
  {
   "cell_type": "code",
   "execution_count": 44,
   "id": "ae0c3072",
   "metadata": {},
   "outputs": [
    {
     "data": {
      "text/plain": [
       "True"
      ]
     },
     "execution_count": 44,
     "metadata": {},
     "output_type": "execute_result"
    }
   ],
   "source": [
    "#lista_stevil= [15, 8, 3, 4]\n",
    "lista_stevil= [15, 5, 25, 3]\n",
    "\n",
    "def sama_liha(s):\n",
    "    #ni treba da gre čez cel seznam. takoj ko najde sodo lahko zaključi -> ker niso vsa liha\n",
    "    for item in s:\n",
    "        if item % 2 == 0:\n",
    "            return False\n",
    "    return True\n",
    "        \n",
    "sama_liha(lista_stevil)"
   ]
  },
  {
   "cell_type": "markdown",
   "id": "fc96669f",
   "metadata": {},
   "source": [
    "**27. Blagajna** </br></br>\n",
    "Zaporedje dogodkov na blagajni v trgovini lahko predstavimo z zaporedjem plusov in minusov:\n",
    "plus naj pomeni, da se je v vrsto postavila nova stranka in minus, da je stranka plačala in šla.\n",
    "Tako bi zaporedje *\"++-++---\"* pomenilo, da je najprej prišla ena stranka, nato še ena, nato je\n",
    "bila ena postrežena, nato sta dve prišli in potem so bile tri postrežene. </br></br>\n",
    "Napiši funkcijo blagajna(s), ki kot argument prejme niz, kakršen je gornji, kot rezultat pa\n",
    "vrne najdaljšo dolžino vrste. Predpostaviti smeš, da niz vsebuje le pluse in minuse. </br></br>\n",
    "*>>> blagajna(\"++-++---\")*</br>\n",
    "*3*</br>\n",
    "*>>> blagajna(\"+++++-----\")*</br>\n",
    "*5*</br>\n",
    "*>>> blagajna(\"+-+-+-+-+-+-\")*</br>\n",
    "*1*"
   ]
  },
  {
   "cell_type": "code",
   "execution_count": null,
   "id": "f3fa5080",
   "metadata": {},
   "outputs": [
    {
     "name": "stdout",
     "output_type": "stream",
     "text": [
      "1\n"
     ]
    }
   ],
   "source": [
    "vrsta = \"++-++---\"\n",
    "#vrsta = \"+++++-----\"\n",
    "#vrsta = \"+-+-+-+-+-+-\"\n",
    "def blagajna(s):\n",
    "    dolzina = 0\n",
    "    max = 0\n",
    "\n",
    "    for item in s:\n",
    "        if item == '+':\n",
    "            dolzina += 1\n",
    "            if dolzina > max:\n",
    "                max = dolzina\n",
    "        if item == '-':\n",
    "            dolzina -= 1\n",
    "\n",
    "    return print(max)\n",
    "\n",
    "blagajna(vrsta)"
   ]
  },
  {
   "cell_type": "markdown",
   "id": "d5add09d",
   "metadata": {},
   "source": [
    "**28. Preobremenjeni čolni** </br></br>\n",
    "Recimo, da na prvi čoln naložimo tri tovore, težke 4, 2 in 4 enote, na drugega en tovor, težak\n",
    "10 enot in na tretjega tri tovore težke eno enoto. Tako obremenitev bi lahko opisali s\n",
    "seznamom seznamov (uh, uh!) *[[4, 2, 4], [10], [1, 1, 1]*. </br></br>\n",
    "Napiši funkcijo ```ni_preobremenjenih(tovori, nosilnost)```, ki prejme seznam v takšni obliki in\n",
    "nosilnost čolnov (ta je za vse enaka). Funkcija naj vrne ```True```, če ni nobeden od čolnov\n",
    "preobremenjen. </br></br>\n",
    "*>>> ni_preobremenjenih([[4, 2, 4], [10], [1, 1, 1]], 11)*\n",
    "*True*\n",
    "*>>> ni_preobremenjenih([[4, 5, 4], [10], [1, 1, 1]], 11)*\n",
    "*False* </br></br>\n",
    "V drugem primeru je preobremenjen prvi čoln, saj nameravamo nanj naložiti za 4 + 5 + 4 = 13\n",
    "eno tovora, kar je več kot dovoljena nosilnost 11."
   ]
  },
  {
   "cell_type": "code",
   "execution_count": 50,
   "id": "d2ce23a9",
   "metadata": {},
   "outputs": [
    {
     "data": {
      "text/plain": [
       "False"
      ]
     },
     "execution_count": 50,
     "metadata": {},
     "output_type": "execute_result"
    }
   ],
   "source": [
    "#vsi_tovori = [[4, 2, 4], [10], [1, 1, 1]]\n",
    "vsi_tovori = [[4, 5, 4], [10], [1, 1, 1]]\n",
    "max_teza = 11\n",
    "def ni_preobremenjenih(tovori, nosilnost):\n",
    "    #gremo v vsak array iin pogledamo če je skupna suma večja od nosilnosti\n",
    "    for tovornjak in tovori:\n",
    "        sum = 0\n",
    "        for tovor in tovornjak:\n",
    "            sum += tovor\n",
    "        if sum > nosilnost:\n",
    "            return False\n",
    "    \n",
    "    return True\n",
    "\n",
    "\n",
    "ni_preobremenjenih(vsi_tovori, max_teza)"
   ]
  }
 ],
 "metadata": {
  "kernelspec": {
   "display_name": "Python 3",
   "language": "python",
   "name": "python3"
  },
  "language_info": {
   "codemirror_mode": {
    "name": "ipython",
    "version": 3
   },
   "file_extension": ".py",
   "mimetype": "text/x-python",
   "name": "python",
   "nbconvert_exporter": "python",
   "pygments_lexer": "ipython3",
   "version": "3.12.4"
  }
 },
 "nbformat": 4,
 "nbformat_minor": 5
}
