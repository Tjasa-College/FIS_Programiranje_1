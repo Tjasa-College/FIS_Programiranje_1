{
 "cells": [
  {
   "cell_type": "markdown",
   "id": "f5c3076b",
   "metadata": {},
   "source": [
    "**29. Delitelji** </br></br>\n",
    "Napiši program, ki izpiše vse delitelje podanega števila. </br></br>\n",
    "*Vpiši število:* **12345** </br>\n",
    "*1* </br> \n",
    "*3*                    \n",
    "*5* </br>\n",
    "*15* </br>\n",
    "*823* </br>\n",
    "*2469* </br>\n",
    "*4115* </br>\n",
    "*12345* </br>"
   ]
  },
  {
   "cell_type": "code",
   "execution_count": null,
   "id": "1f2cf690",
   "metadata": {},
   "outputs": [],
   "source": []
  },
  {
   "cell_type": "markdown",
   "id": "ccb08a08",
   "metadata": {},
   "source": [
    "**30. Praštevilo**</br></br>\n",
    "Napiši funkcijo ```prastevilo(n)```, ki vrne ```True```, če je podano število praštevilo in ```False```, če ni."
   ]
  },
  {
   "cell_type": "code",
   "execution_count": null,
   "id": "54784cd8",
   "metadata": {},
   "outputs": [],
   "source": []
  },
  {
   "cell_type": "markdown",
   "id": "e8b014fd",
   "metadata": {},
   "source": [
    "**31. Vsota deliteljev** </br></br>\n",
    "Napiši funkcijo ```vsota_deliteljev(n)```, ki vrne vsoto deliteljev podanega števila. Med delitelji\n",
    "naj bo tudi 1, ne pa število samo. Vsota deliteljev 12 je tako 1 + 2 + 3 + 4 + 6 = 16."
   ]
  },
  {
   "cell_type": "code",
   "execution_count": null,
   "id": "e42601d7",
   "metadata": {},
   "outputs": [],
   "source": []
  },
  {
   "cell_type": "markdown",
   "id": "edfc8feb",
   "metadata": {},
   "source": [
    "**32. Popolno število** </br></br>\n",
    "Število je popolno, če je enako vsoti svojih deliteljev (razen samega sebe). Primer popolnega\n",
    "števila je 28, ki ga delijo 1, 2, 4, 7, in 14: če jih seštejemo, spet dobimo 28. </br></br>\n",
    "Napiši funkcijo ```popolno(n)```, ki vrne ```True```, če je podano število popolno in ```False```, če ni. </br></br>\n",
    "Pomagaš si lahko s funkcijo iz prejšnje naloge."
   ]
  },
  {
   "cell_type": "code",
   "execution_count": null,
   "id": "0e96fa44",
   "metadata": {},
   "outputs": [],
   "source": []
  },
  {
   "cell_type": "markdown",
   "id": "30b3f078",
   "metadata": {},
   "source": [
    "**33. Vsa popolna števila** </br></br>\n",
    "Napiši program, ki izpiše vsa popolna števila manjša od 1000. </br>\n",
    "Pomagaš si lahko s funkcijo iz prejšnje naloge."
   ]
  },
  {
   "cell_type": "code",
   "execution_count": null,
   "id": "54ef9f96",
   "metadata": {},
   "outputs": [],
   "source": []
  },
  {
   "cell_type": "markdown",
   "id": "8efb60ca",
   "metadata": {},
   "source": [
    "**34. Prijateljska števila** </br></br>\n",
    "220 in 284 sta prijateljski števili. Delitelji 220 so 1, 2, 4, 5, 10, 11, 20, 22, 44, 55 in 110. Če jih seštejemo, dobimo 284. Delitelji 284 pa so 1, 2, 4, 71 in 142. Vsota teh števil pa je spet 220. Napiši funkcijo ```prijatelj(n)```, ki vrne prijatelja podanega števila ```n```. Če število nima prijatelja\n",
    "(ker vsota \"prijateljevih\" deliteljev ni spet enaka številu ```n```), naj vrne ```None```. </br></br>\n",
    "Primer: ```prijatelj(220)``` naj vrne *284*, ```prijatelj(284)``` naj vrne *220*, ```prijatelj(222)``` naj vrne\n",
    "None. Popolna števila so prijatelji sami sebi; ```prijatelj(6)``` naj vrne *6*."
   ]
  },
  {
   "cell_type": "code",
   "execution_count": null,
   "id": "d4130f43",
   "metadata": {},
   "outputs": [],
   "source": []
  },
  {
   "cell_type": "markdown",
   "id": "d8d1abbd",
   "metadata": {},
   "source": [
    "**35. Vsebuje 7** </br></br>\n",
    "Napiši funkcijo ```vsebuje_7(n)```, ki vrne ```True```, če število vsebuje števko 7."
   ]
  },
  {
   "cell_type": "code",
   "execution_count": null,
   "id": "9d5b0ab6",
   "metadata": {},
   "outputs": [],
   "source": []
  },
  {
   "cell_type": "markdown",
   "id": "f068fc94",
   "metadata": {},
   "source": [
    "**36. Poštevanka števila 7** </br></br>\n",
    "Poštevanko števila 7 se igra tako, da igralci, ki sedijo v krogu, kvadratu ali kakem drugem\n",
    "primernem (po potrebi nepravilnem, a po možnosti konveksnem) poligonu po vrsti govorijo\n",
    "števila od ena do neskončno, pri čemer morajo namesto vseh števil, ki so deljiva s 7 ali pa\n",
    "vsebujejo števko 7, reči BUM. Igralec, ki se zmoti, izpade in štetje se začne od začetka. Igra\n",
    "torej teče tako: </br></br>\n",
    "*1 2 3 4 5 6 BUM 8 9 10 11 12 13 BUM 15 16 BUM 18 19 20 BUM 22 23 24 25 26 BUM BUM\n",
    "29 ...* </br></br>\n",
    "Napiši funkcijo ```postevanka_7(n)```, ki izpiše tole zaporedje od 1 do ```n```. Ne da bi se zmotila.\n",
    "Izpisuje lahko v eni vrstici, tako kot zgoraj, če znaš. Sicer pa naj piše številke eno pod drugo.\n",
    "Nalogo pokusi rešiti tako, da si pomagaš s funkcijo iz prejšnje naloge, potem pa še tako, da te\n",
    "funkcije ne uporabiš."
   ]
  },
  {
   "cell_type": "code",
   "execution_count": null,
   "id": "8ac6fdd2",
   "metadata": {},
   "outputs": [],
   "source": []
  },
  {
   "cell_type": "markdown",
   "id": "bf4eb5f1",
   "metadata": {},
   "source": [
    "**37. Fibonaccijevo zaporedje** </br></br>\n",
    "Fibonaccijevo zaporedje se začne s številoma 1, 1, vsak naslednji člen pa dobimo tako, da\n",
    "seštejemo prejšnja dva. 1 in 1 je 2, 1 in 2 je 3, 2 in 3 je 5, 3 in 5 je 8 in tako naprej. Zaporedje se tako začne z 1 1 2 3 5 8 13 21 34 55. </br></br>\n",
    "Napiši program, ki izpiše prvih 20 členov zaporedja."
   ]
  },
  {
   "cell_type": "code",
   "execution_count": null,
   "id": "8d6c0d20",
   "metadata": {},
   "outputs": [],
   "source": []
  },
  {
   "cell_type": "markdown",
   "id": "780a5c9a",
   "metadata": {},
   "source": [
    "**38. Evklidov algoritem** </br></br>\n",
    "Napiši funkcijo ```gcd(a, b)```, ki z Evklidovim algoritmom poišče največji skupni delitelj podanih števil ```a``` in ```b```. Opis algoritma – če si ga pozabil – poišči na spletu. (Vendar ne prepiši skupaj z algoritmom še programa, razen če želiš vaditi tipkanje ali kopipejstanje, ne programiranja!) </br></br>\n",
    "Namig: Evklidov algoritem v vsakem koraku zamenja večje in manjše število z manjšim\n",
    "številom in ostankom večjega po deljenju z manjšim. Program je podoben prejšnjemu, vendar\n",
    "ravno prav drugačen, da ju je zanimivo opazovati skupaj. </br></br>\n",
    "Kratica gcd pomeni *greatest common divisor*, največji skupni delitelj."
   ]
  },
  {
   "cell_type": "code",
   "execution_count": null,
   "id": "e20b54aa",
   "metadata": {},
   "outputs": [],
   "source": []
  }
 ],
 "metadata": {
  "language_info": {
   "name": "python"
  }
 },
 "nbformat": 4,
 "nbformat_minor": 5
}
