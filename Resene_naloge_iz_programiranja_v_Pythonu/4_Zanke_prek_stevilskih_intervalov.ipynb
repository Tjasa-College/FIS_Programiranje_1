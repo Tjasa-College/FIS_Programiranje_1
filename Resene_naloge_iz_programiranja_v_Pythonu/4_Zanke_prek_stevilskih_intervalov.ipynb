{
 "cells": [
  {
   "cell_type": "markdown",
   "id": "f5c3076b",
   "metadata": {},
   "source": [
    "**29. Delitelji** </br></br>\n",
    "Napiši program, ki izpiše vse delitelje podanega števila. </br></br>\n",
    "*Vpiši število:* **12345** </br>\n",
    "*1* </br> \n",
    "*3*                    \n",
    "*5* </br>\n",
    "*15* </br>\n",
    "*823* </br>\n",
    "*2469* </br>\n",
    "*4115* </br>\n",
    "*12345* </br>"
   ]
  },
  {
   "cell_type": "code",
   "execution_count": 1,
   "id": "1f2cf690",
   "metadata": {},
   "outputs": [
    {
     "name": "stdout",
     "output_type": "stream",
     "text": [
      "1\n",
      "3\n",
      "5\n",
      "15\n",
      "823\n",
      "2469\n",
      "4115\n",
      "12345\n"
     ]
    }
   ],
   "source": [
    "stevilo = int(input(\"Vpiši število: \"))\n",
    "\n",
    "def deljitelji(n):\n",
    "    for i in range(1, n+1):\n",
    "        if n%i==0:\n",
    "            print(i)\n",
    "\n",
    "deljitelji(stevilo)\n"
   ]
  },
  {
   "cell_type": "markdown",
   "id": "ccb08a08",
   "metadata": {},
   "source": [
    "**30. Praštevilo**</br></br>\n",
    "Napiši funkcijo ```prastevilo(n)```, ki vrne ```True```, če je podano število praštevilo in ```False```, če ni."
   ]
  },
  {
   "cell_type": "code",
   "execution_count": 11,
   "id": "54784cd8",
   "metadata": {},
   "outputs": [
    {
     "data": {
      "text/plain": [
       "True"
      ]
     },
     "execution_count": 11,
     "metadata": {},
     "output_type": "execute_result"
    }
   ],
   "source": [
    "stevilo = int(input(\"Vpiši število: \"))\n",
    "\n",
    "def prastevilo(n):\n",
    "    if n==1 or n==2:\n",
    "        return True\n",
    "    for i in range(2, n):\n",
    "        if n%i ==0:\n",
    "            return False\n",
    "    return True\n",
    "\n",
    "prastevilo(stevilo)"
   ]
  },
  {
   "cell_type": "markdown",
   "id": "e8b014fd",
   "metadata": {},
   "source": [
    "**31. Vsota deliteljev** </br></br>\n",
    "Napiši funkcijo ```vsota_deliteljev(n)```, ki vrne vsoto deliteljev podanega števila. Med delitelji\n",
    "naj bo tudi 1, ne pa število samo. Vsota deliteljev 12 je tako 1 + 2 + 3 + 4 + 6 = 16."
   ]
  },
  {
   "cell_type": "code",
   "execution_count": 14,
   "id": "e42601d7",
   "metadata": {},
   "outputs": [
    {
     "name": "stdout",
     "output_type": "stream",
     "text": [
      "Vsota deljiteljev števila 12345 je 7431\n"
     ]
    }
   ],
   "source": [
    "stevilo=int(input(\"Vpiši število: \"))\n",
    "\n",
    "def vsota_deljiteljev(n):\n",
    "    sum=0\n",
    "    for i in range(1, n):\n",
    "        if n%i == 0:\n",
    "            sum +=i\n",
    "    return sum\n",
    "\n",
    "\n",
    "print(f\"Vsota deljiteljev števila {stevilo} je {vsota_deljiteljev(stevilo)}\")"
   ]
  },
  {
   "cell_type": "markdown",
   "id": "edfc8feb",
   "metadata": {},
   "source": [
    "**32. Popolno število** </br></br>\n",
    "Število je popolno, če je enako vsoti svojih deliteljev (razen samega sebe). Primer popolnega\n",
    "števila je 28, ki ga delijo 1, 2, 4, 7, in 14: če jih seštejemo, spet dobimo 28. </br></br>\n",
    "Napiši funkcijo ```popolno(n)```, ki vrne ```True```, če je podano število popolno in ```False```, če ni. </br></br>\n",
    "Pomagaš si lahko s funkcijo iz prejšnje naloge."
   ]
  },
  {
   "cell_type": "code",
   "execution_count": 16,
   "id": "0e96fa44",
   "metadata": {},
   "outputs": [
    {
     "data": {
      "text/plain": [
       "False"
      ]
     },
     "execution_count": 16,
     "metadata": {},
     "output_type": "execute_result"
    }
   ],
   "source": [
    "stevilo = int(input(\"Vpišite število: \"))\n",
    "\n",
    "def popolno(n):\n",
    "    sum = 0\n",
    "    for i in range(1,n):\n",
    "        if n%i==0:\n",
    "            sum += i\n",
    "\n",
    "    return True if sum == stevilo else False\n",
    "\n",
    "popolno(stevilo)"
   ]
  },
  {
   "cell_type": "markdown",
   "id": "30b3f078",
   "metadata": {},
   "source": [
    "**33. Vsa popolna števila** </br></br>\n",
    "Napiši program, ki izpiše vsa popolna števila manjša od 1000. </br>\n",
    "Pomagaš si lahko s funkcijo iz prejšnje naloge."
   ]
  },
  {
   "cell_type": "code",
   "execution_count": null,
   "id": "54ef9f96",
   "metadata": {},
   "outputs": [
    {
     "name": "stdout",
     "output_type": "stream",
     "text": [
      "6\n",
      "28\n",
      "496\n"
     ]
    }
   ],
   "source": [
    "def popolno_do_1000():   \n",
    "    for n in range(1,1000):\n",
    "        sum = 0\n",
    "        for i in range(1,n):\n",
    "            if n%i==0:\n",
    "                sum += i\n",
    "        if sum == n:\n",
    "            print(n)\n",
    "\n",
    "popolno_do_1000()"
   ]
  },
  {
   "cell_type": "markdown",
   "id": "8efb60ca",
   "metadata": {},
   "source": [
    "**34. Prijateljska števila** </br></br>\n",
    "220 in 284 sta prijateljski števili. Delitelji 220 so 1, 2, 4, 5, 10, 11, 20, 22, 44, 55 in 110. Če jih seštejemo, dobimo 284. Delitelji 284 pa so 1, 2, 4, 71 in 142. Vsota teh števil pa je spet 220. Napiši funkcijo ```prijatelj(n)```, ki vrne prijatelja podanega števila ```n```. Če število nima prijatelja\n",
    "(ker vsota \"prijateljevih\" deliteljev ni spet enaka številu ```n```), naj vrne ```None```. </br></br>\n",
    "Primer: ```prijatelj(220)``` naj vrne *284*, ```prijatelj(284)``` naj vrne *220*, ```prijatelj(222)``` naj vrne\n",
    "None. Popolna števila so prijatelji sami sebi; ```prijatelj(6)``` naj vrne *6*."
   ]
  },
  {
   "cell_type": "code",
   "execution_count": 26,
   "id": "d4130f43",
   "metadata": {},
   "outputs": [
    {
     "name": "stdout",
     "output_type": "stream",
     "text": [
      "6\n"
     ]
    }
   ],
   "source": [
    "stevilo = int(input(\"Vpiši število: \"))\n",
    "\n",
    "##uporabim tudi funkcijo od prej ker se mi ne da več tipkat :D\n",
    "\n",
    "def vsota_deljiteljev(n):\n",
    "    sum=0\n",
    "    for i in range(1, n):\n",
    "        if n%i == 0:\n",
    "            sum +=i\n",
    "    return sum\n",
    "\n",
    "def prijatelj(stevilo):\n",
    "    sum_prijatelj1 = vsota_deljiteljev(stevilo)\n",
    "    sum_prijatelj2 = vsota_deljiteljev(sum_prijatelj1)\n",
    "\n",
    "    if sum_prijatelj2 == stevilo:\n",
    "        return sum_prijatelj1\n",
    "    else:\n",
    "        return None\n",
    "\n",
    "\n",
    "print(prijatelj(stevilo))"
   ]
  },
  {
   "cell_type": "markdown",
   "id": "d8d1abbd",
   "metadata": {},
   "source": [
    "**35. Vsebuje 7** </br></br>\n",
    "Napiši funkcijo ```vsebuje_7(n)```, ki vrne ```True```, če število vsebuje števko 7."
   ]
  },
  {
   "cell_type": "code",
   "execution_count": null,
   "id": "9d5b0ab6",
   "metadata": {},
   "outputs": [
    {
     "name": "stdout",
     "output_type": "stream",
     "text": [
      "1\n",
      "0\n"
     ]
    },
    {
     "data": {
      "text/plain": [
       "False"
      ]
     },
     "execution_count": 28,
     "metadata": {},
     "output_type": "execute_result"
    }
   ],
   "source": [
    "stevilo = int(input(\"Vpiši število: \"))\n",
    "\n",
    "def vsebuje_7(n):\n",
    "    while n > 0:\n",
    "        if n % 10 == 7:\n",
    "            return True\n",
    "        else:\n",
    "            n = n//10\n",
    "    return False\n",
    "\n",
    "vsebuje_7(stevilo)"
   ]
  },
  {
   "cell_type": "markdown",
   "id": "f068fc94",
   "metadata": {},
   "source": [
    "**36. Poštevanka števila 7** </br></br>\n",
    "Poštevanko števila 7 se igra tako, da igralci, ki sedijo v krogu, kvadratu ali kakem drugem\n",
    "primernem (po potrebi nepravilnem, a po možnosti konveksnem) poligonu po vrsti govorijo\n",
    "števila od ena do neskončno, pri čemer morajo namesto vseh števil, ki so deljiva s 7 ali pa\n",
    "vsebujejo števko 7, reči BUM. Igralec, ki se zmoti, izpade in štetje se začne od začetka. Igra\n",
    "torej teče tako: </br></br>\n",
    "*1 2 3 4 5 6 BUM 8 9 10 11 12 13 BUM 15 16 BUM 18 19 20 BUM 22 23 24 25 26 BUM BUM\n",
    "29 ...* </br></br>\n",
    "Napiši funkcijo ```postevanka_7(n)```, ki izpiše tole zaporedje od 1 do ```n```. Ne da bi se zmotila.\n",
    "Izpisuje lahko v eni vrstici, tako kot zgoraj, če znaš. Sicer pa naj piše številke eno pod drugo.\n",
    "Nalogo pokusi rešiti tako, da si pomagaš s funkcijo iz prejšnje naloge, potem pa še tako, da te\n",
    "funkcije ne uporabiš."
   ]
  },
  {
   "cell_type": "code",
   "execution_count": 33,
   "id": "8ac6fdd2",
   "metadata": {},
   "outputs": [
    {
     "data": {
      "text/plain": [
       "'1 2 3 4 5 6 BUM 8 9 10 11 12 13 BUM 15 16 BUM 18 19 20 BUM 22 23 24 25 26 BUM BUM 29'"
      ]
     },
     "execution_count": 33,
     "metadata": {},
     "output_type": "execute_result"
    }
   ],
   "source": [
    "stevilo = int(input(\"Vpiši število: \"))\n",
    "\n",
    "\n",
    "#preveri če je 7 notri\n",
    "def vsebuje_7(n):\n",
    "    while n > 0:\n",
    "        if n % 10 == 7:\n",
    "            return True\n",
    "        else:\n",
    "            n = n//10\n",
    "    return False\n",
    "\n",
    "def postevanka_7(n):\n",
    "    lista_stevil = []\n",
    "    for i in range(1,n+1):\n",
    "        if vsebuje_7(i) or i%7==0:\n",
    "            lista_stevil.append(\"BUM\")\n",
    "        else:\n",
    "            lista_stevil.append(str(i))\n",
    "    return ' '.join(lista_stevil)\n",
    "\n",
    "postevanka_7(stevilo)"
   ]
  },
  {
   "cell_type": "markdown",
   "id": "bf4eb5f1",
   "metadata": {},
   "source": [
    "**37. Fibonaccijevo zaporedje** </br></br>\n",
    "Fibonaccijevo zaporedje se začne s številoma 1, 1, vsak naslednji člen pa dobimo tako, da\n",
    "seštejemo prejšnja dva. 1 in 1 je 2, 1 in 2 je 3, 2 in 3 je 5, 3 in 5 je 8 in tako naprej. Zaporedje se tako začne z 1 1 2 3 5 8 13 21 34 55. </br></br>\n",
    "Napiši program, ki izpiše prvih 20 členov zaporedja."
   ]
  },
  {
   "cell_type": "code",
   "execution_count": null,
   "id": "8d6c0d20",
   "metadata": {},
   "outputs": [
    {
     "data": {
      "text/plain": [
       "'1 1 2 3 5 8 13 21 34 55 89 144 233 377 610 987 1597 2584 4181 6765'"
      ]
     },
     "execution_count": 37,
     "metadata": {},
     "output_type": "execute_result"
    }
   ],
   "source": [
    "def fibonacci_20():\n",
    "    fibonacci_lista=['1', '1']\n",
    "\n",
    "    for i in range(2, 20):\n",
    "        num_1 = int(fibonacci_lista[i-2])\n",
    "        num_2 = int(fibonacci_lista[i-1])      \n",
    "        next_num = num_1 + num_2\n",
    "        fibonacci_lista.append(str(next_num))\n",
    "        #print(fibonacci_lista)\n",
    "    return ' '.join(fibonacci_lista)\n",
    "\n",
    "fibonacci_20()"
   ]
  },
  {
   "cell_type": "markdown",
   "id": "780a5c9a",
   "metadata": {},
   "source": [
    "**38. Evklidov algoritem** </br></br>\n",
    "Napiši funkcijo ```gcd(a, b)```, ki z Evklidovim algoritmom poišče največji skupni delitelj podanih števil ```a``` in ```b```. Opis algoritma – če si ga pozabil – poišči na spletu. (Vendar ne prepiši skupaj z algoritmom še programa, razen če želiš vaditi tipkanje ali kopipejstanje, ne programiranja!) </br></br>\n",
    "Namig: Evklidov algoritem v vsakem koraku zamenja večje in manjše število z manjšim\n",
    "številom in ostankom večjega po deljenju z manjšim. Program je podoben prejšnjemu, vendar\n",
    "ravno prav drugačen, da ju je zanimivo opazovati skupaj. </br></br>\n",
    "Kratica gcd pomeni *greatest common divisor*, največji skupni delitelj."
   ]
  },
  {
   "cell_type": "code",
   "execution_count": null,
   "id": "e20b54aa",
   "metadata": {},
   "outputs": [
    {
     "name": "stdout",
     "output_type": "stream",
     "text": [
      "96 78 1 18\n",
      "78 18 4 6\n",
      "18 6 3 0\n"
     ]
    },
    {
     "data": {
      "text/plain": [
       "6"
      ]
     },
     "execution_count": 43,
     "metadata": {},
     "output_type": "execute_result"
    }
   ],
   "source": [
    "stevilo_1 = int(input(\"Vpiši prvo število: \"))\n",
    "stevilo_2 = int(input(\"Vpiši drugo število: \"))\n",
    "\n",
    "def gcd(a,b):\n",
    "    if a<b:\n",
    "        return\n",
    "    #biba = True\n",
    "#deli a z b\n",
    "    odstevek = b\n",
    "    while odstevek >=0:\n",
    "        mnozek = a // b\n",
    "        odstevek = a - (b*mnozek)\n",
    "        #print(a, b, mnozek, odstevek)\n",
    "        if odstevek != 0:\n",
    "            a=b\n",
    "            b=odstevek\n",
    "        else:\n",
    "            return b\n",
    "\n",
    "#Vse skupej mal na hojladri ampak dela\n",
    "gcd(stevilo_1, stevilo_2)"
   ]
  }
 ],
 "metadata": {
  "kernelspec": {
   "display_name": "Python 3",
   "language": "python",
   "name": "python3"
  },
  "language_info": {
   "codemirror_mode": {
    "name": "ipython",
    "version": 3
   },
   "file_extension": ".py",
   "mimetype": "text/x-python",
   "name": "python",
   "nbconvert_exporter": "python",
   "pygments_lexer": "ipython3",
   "version": "3.12.4"
  }
 },
 "nbformat": 4,
 "nbformat_minor": 5
}
