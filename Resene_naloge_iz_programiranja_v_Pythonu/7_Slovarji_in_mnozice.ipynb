{
 "cells": [
  {
   "cell_type": "markdown",
   "id": "25d212ca",
   "metadata": {},
   "source": [
    "78. Pokaži črke\n",
    "Napiši funkcijo pokazi_crke(beseda, crke), ki kot argument sprejme besedo in množico (set)\n",
    "črk. Funkcija mora vrniti besedo, v kateri so vse črke, ki ne nastopajo v množici crke,\n",
    "spremenjene v pike.\n",
    ">>> pokazi_crke(\"PONUDNIK\", set([\"O\", \"N\"]))\n",
    "'.ON..N..'\n",
    ">>> pokazi_crke(\"PONUDNIK\", set([\"O\", \"I\", \"K\"]))\n",
    "'.O....IK'\n",
    ">>> pokazi_crke(\"PONUDNIK\", set())\n",
    "'........'\n",
    ">>> pokazi_crke(\"PONUDNIK\", set([\"P\", \"O\", \"N\", \"I\", \"K\", \"U\"]))\n",
    "'PONU.NIK'"
   ]
  },
  {
   "cell_type": "code",
   "execution_count": null,
   "id": "b184aca1",
   "metadata": {},
   "outputs": [],
   "source": []
  },
  {
   "cell_type": "markdown",
   "id": "fa7460da",
   "metadata": {},
   "source": [
    "79. Podobna beseda\n",
    "Globalna spremenljivka besede vsebuje seznam besed. Naj bo takšen:\n",
    "besede = [\"ana\", \"berta\", \"cilka\", \"dani\", \"ema\", \"fanci\", \"greta\", \"hilda\"]\n",
    "Predpostaviti smeš, da so vse besede zapisane s samimi malimi črkami.\n",
    "Sestavi funkcijo podobna(beseda), ki kot argument sprejme besedo in kot rezultat vrne tisto\n",
    "besedo iz gornjega seznama, v kateri se pojavi čim več črk, ki se pojavijo tudi v dani besedi.\n",
    "Vsako ujemajočo se črko štejemo le enkrat, tudi če se v obeh besedah pojavi večkrat.\n",
    "Funkcija naj deluje tako, da ne razlikuje med malimi in velikimi črkami.\n",
    ">>> podobna(\"merjasec\")\n",
    "'berta'\n",
    ">>> podobna(\"zmaj\")\n",
    "'ema'\n",
    ">>> podobna(\"Krava\")\n",
    "'berta'\n",
    "Ana in krava se ujemata v eni črki, namreč črki a in ne v dveh, pa čeprav imata po dva a-ja.\n",
    "(Opomba: vsaka podobnost med Berto in merjascem je zgolj naključna.)"
   ]
  },
  {
   "cell_type": "code",
   "execution_count": null,
   "id": "7b98450c",
   "metadata": {},
   "outputs": [],
   "source": []
  },
  {
   "cell_type": "markdown",
   "id": "af448384",
   "metadata": {},
   "source": [
    "80. Število znakov\n",
    "Napiši funkcijo najraznolika(bes), ki kot argument prejme seznam nizov in kot rezultat vrne\n",
    "niz, ki ima največ različnih znakov. Male in velike črke upoštevaj kot iste znake - beseda\n",
    "\"MamA\" ima samo dva različna znaka. Če obstaja več besed z enakim številom različnih znakov,\n",
    "naj vrne prvo med njimi.\n",
    ">>> besede = [\"RABarbara\", \"izpit\", \"zmagA\"]\n",
    ">>> najraznolika(besede)\n",
    "'izpit'"
   ]
  },
  {
   "cell_type": "code",
   "execution_count": null,
   "id": "8b4d6f89",
   "metadata": {},
   "outputs": [],
   "source": []
  },
  {
   "cell_type": "markdown",
   "id": "4216a7f1",
   "metadata": {},
   "source": [
    "81. Najpogostejša beseda in črka\n",
    "Napišite funkciji najpogostejsa_beseda(s) in najpogostejsi_znak(s), ki vrneta najpogostejšo\n",
    "besedo in najpogostejši znak v podanem nizu s. V nizu 'in to in ono in to smo mi' se\n",
    "največkrat pojavita beseda 'in' in znak ' ' (presledek)."
   ]
  },
  {
   "cell_type": "code",
   "execution_count": null,
   "id": "f14b71ae",
   "metadata": {},
   "outputs": [],
   "source": []
  },
  {
   "cell_type": "markdown",
   "id": "902ab06e",
   "metadata": {},
   "source": [
    "82. Samo enkrat\n",
    "Napiši funkcijo samo_enkrat(s), ki pove, ali se v podanem nizu s noben znak ne pojavi več kot\n",
    "enkrat."
   ]
  },
  {
   "cell_type": "code",
   "execution_count": null,
   "id": "1c6f4b10",
   "metadata": {},
   "outputs": [],
   "source": []
  },
  {
   "cell_type": "markdown",
   "id": "557104b8",
   "metadata": {},
   "source": [
    "83. Popularni rojstni dnevi\n",
    "Napiši funkcijo histogram_dni(imedat), ki kot argument dobi ime datoteke, v kateri je seznam\n",
    "številk EMŠO, v vsaki vrstici po ena. Nato izračuna, koliko ljudi je rojenih na posamezni dan v\n",
    "letu in to izpiše (po dnevih). Izpis mora biti v obliki, ki jo kaže primer (vključno s presledki pred\n",
    "in med številkami). Dneve, na katere ni rojen nihče, naj izpusti. Vrstni red dni ni pomemben.\n",
    "Rojstni datum razodene prvih sedem števk EMŠO. EMŠO osebe, rojene 10. 5. 1983, bi se\n",
    "začela z 1005983. Prvih sedem števk EMŠO osebe, rojene 2. 3. 2001, pa bi bile 0203001. Ali je\n",
    "oseba rojena leta 1xxx ali 2xxx, sklepamo po stotici.\n",
    "Recimo, da so v datoteki emso.txt zapisane naslednje številke.\n",
    "1302935505313\n",
    "1002968501123\n",
    "1302003500231\n",
    "2110987505130\n",
    "1302999350538\n",
    "2110912501130\n",
    "Funkcija mora tedaj delovati takole.\n",
    ">>> histogram_dni(\"emso.txt\")\n",
    "10. 2. 1\n",
    "13. 2. 3\n",
    "21.10. 2"
   ]
  },
  {
   "cell_type": "code",
   "execution_count": null,
   "id": "a4ebfc7c",
   "metadata": {},
   "outputs": [],
   "source": []
  },
  {
   "cell_type": "markdown",
   "id": "b1a11992",
   "metadata": {},
   "source": [
    "84. Osrednja obveščevalna služba\n",
    "Osrednja obveščevalna služba se je odločila spremljati elektronsko pošto določenih osebkov,\n",
    "pri čemer jo zanimajo predvsem imena, ki se pojavljajo v njej. Kot možno ime štejemo besede,\n",
    "ki se začnejo z veliko začetnico in nadaljujejo z malimi. Radi bi imeli program, ki bi za dano\n",
    "elektronsko sporočilo naštel vsa imena, ki se pojavijo v njem in število njihovih pojavitev.\n",
    "Nekdo jim je že napisal program, ki vzame sporočilo in ga predela v sporočilo brez ločil.\n",
    "Začnemo torej s takšnim nizom:\n",
    "\n",
    "msg = \"\"\"Dragi Ahmed kako si kaj Upam da so otroci že zdravi Mustafa Osama in jaz\n",
    "smo se šli danes malo razgledat in kaže kar dobro Abdulah pa ni mogel zraven je\n",
    "šel v Pešavar prodat še tri kamele Osama sicer pravi da se mu to pred zimo ne\n",
    "splača ampak saj veš kakšen je Abdulah tak je kot Harun nič jima ne dopoveš še\n",
    "Osama ne Jibril me kliče moram iti oglasi se kaj na Skype tvoj Husein\"\"\"\n",
    "Program naj izpiše nekaj takšnega:\n",
    "Dragi 1\n",
    "Ahmed 1\n",
    "Upam 1\n",
    "Mustafa 1\n",
    "Osama 3\n",
    "Abdulah 2\n",
    "Pesavar 1\n",
    "Harun 1\n",
    "Jibril 1\n",
    "Skype 1\n",
    "Husein 1"
   ]
  },
  {
   "cell_type": "code",
   "execution_count": null,
   "id": "62f43341",
   "metadata": {},
   "outputs": [],
   "source": []
  },
  {
   "cell_type": "markdown",
   "id": "4c471aa0",
   "metadata": {},
   "source": [
    "85. Menjave\n",
    "Napiši funkcijo zamenjano(s, menjave), ki prejme seznam s in slovar menjave. Vrne naj nov\n",
    "seznam, v katerem so vsi elementi seznama, ki nastopajo kot ključi v slovarju, zamenjani s\n",
    "pripadajočimi vrednostmi. Elemente, ki se ne pojavijo v slovarju, pusti pri miru.\n",
    "Klic zamenjano([\"Ana\", \"Ana\", \"Berta\", \"Ana\", \"Cilka\"], {\"Ana\": \"Peter\", \"Berta\":\n",
    "\"Ana\"}) vrne [\"Peter\", \"Peter\", \"Ana\", \"Peter\", \"Cilka\"].\n",
    "Funkcija zamenjano ne sme spremeniti podanega seznama s.\n",
    "Poleg tega napiši podobno funkcijo zamenjaj(s, menjave), ki pa ne vrne ničesar temveč\n",
    "ustrezno spremeni podani seznam s."
   ]
  },
  {
   "cell_type": "code",
   "execution_count": null,
   "id": "4d658844",
   "metadata": {},
   "outputs": [],
   "source": []
  },
  {
   "cell_type": "markdown",
   "id": "2f349903",
   "metadata": {},
   "source": [
    "86. Anagrami\n",
    "Napiši funkcijo, ki kot argument prejme dve besedi in pove (tako da vrne True ali False), ali sta\n",
    "anagrama. Besedi sta anagrama, če lahko dobimo eno besedo iz druge tako, da jima\n",
    "premešamo črke.\n",
    ">>> anagram(\"pirat\", \"ripat\")\n",
    "True\n",
    ">>> anagram(\"tipka\", \"pirat\")\n",
    "False\n",
    ">>> anagram(\"tipka\", \"piikat\")\n",
    "False"
   ]
  },
  {
   "cell_type": "code",
   "execution_count": null,
   "id": "a4779c55",
   "metadata": {},
   "outputs": [],
   "source": []
  },
  {
   "cell_type": "markdown",
   "id": "8cd09b59",
   "metadata": {},
   "source": [
    "87. Bomboniera\n",
    "(Za inspiracijo za nalogo hvala kolegom s FMF!) Benjamin je našel bomboniero, v kateri je\n",
    "sirina stolpcev in visina vrstic bombonov. Že pred njim jo je našla in nekoliko izropala\n",
    "njegova sestra Ana. Benjamin se ne bo dotaknil vrstic in stolpcev, iz katerih je Ana že vzela kak\n",
    "\n",
    "bombon. Pojedel pa bo vse ostale. Napiši funkcijo bomboniera(sirina, visina, pojedeno), ki\n",
    "pove, koliko bombonov bo pojedel. Seznam pojedeno vsebuje pare z vodoravnimi in\n",
    "navpičnimi koordinatami.\n",
    "Če pokličemo bomboniera(8, 5, [(2, 1), (2, 4)]) bo Benjamin pojedel vse bombone razen\n",
    "tistih v drugem stolpcu ter tistih v prvi in četrti vrstici, saj je tam stikala že Ana."
   ]
  },
  {
   "cell_type": "code",
   "execution_count": null,
   "id": "cf53e48c",
   "metadata": {},
   "outputs": [],
   "source": []
  },
  {
   "cell_type": "markdown",
   "id": "ce271335",
   "metadata": {},
   "source": [
    "88. Prafaktorji in delitelji\n",
    "Napiši funkcijo prafaktorji(n), ki razcepi podano število n na prafaktorje in vrne razcep v\n",
    "obliki slovarja. Če pokličemo prafaktorji(1400), vrne slovar {2: 3, 5: 2, 7: 1}, saj je 1400\n",
    "= 235\n",
    "27\n",
    "1\n",
    ".\n",
    "Nato napišite funkcijo gcd(a, b), ki prejme dva slovarja, kakršna vrača prejšnja naloga, in vrne\n",
    "največji skupni delitelj števil, ki ju predstavljata tadva slovarja. Če pokličemo gcd({2: 3, 5: 2,\n",
    "7: 1}, {2: 2, 7: 2, 11:1}), vrne 28. Prvi slovar namreč predstavlja število 1400 in drugi\n",
    "število 2156, njun največji skupni delitelj pa je 28. Nalogo reši, ne da bi izračunal števili (npr.\n",
    "1400 in 2156). Delaj s slovarjema, ki si ju dobil.\n",
    "Namig: 1400 = 235\n",
    "27\n",
    "1\n",
    "in 2156 = 227\n",
    "2111\n",
    ", zato je njun največji skupni delitelj enak 227\n",
    "1"
   ]
  },
  {
   "cell_type": "code",
   "execution_count": null,
   "id": "4a115cbd",
   "metadata": {},
   "outputs": [],
   "source": []
  },
  {
   "cell_type": "markdown",
   "id": "1c43c60d",
   "metadata": {},
   "source": [
    "89. Hamilkon\n",
    "Šahovski konj se premika v obliki črke L, vedno za dve polji v eni smeri in eno v drugi, npr. a1-\n",
    "c2 ali e5-d3. Na ta način lahko prehodi celo šahovnico tako, da začne na poljubnem polju,\n",
    "preskače vsa polja (na vsako polje skoči le enkrat!) in konča tam, kje je začel. Napiši funkcijo\n",
    "hamilkon(s), ki prejme seznam polj (npr. [\"g3\", \"h1\", \"f2\", \"d1\"]) in vrne True, če podani\n",
    "seznam vsebuje pravilni obhod in False, če ne.\n",
    "Predpostavimo lahko, da seznam vsebuje sama pravilno opisana polja (nize v obliki e5, a8...),\n",
    "tako da je potrebno preveriti le, da seznam vsebuje vsa polja, da vsebuje vsako le enkrat\n",
    "(razen prvega, ki mora biti enako zadnjemu), in da so vse poteze pravilne, torej, da je konj\n",
    "vedno skočil tako, kot mora."
   ]
  },
  {
   "cell_type": "code",
   "execution_count": null,
   "id": "5c488551",
   "metadata": {},
   "outputs": [],
   "source": []
  },
  {
   "cell_type": "markdown",
   "id": "ff0c30c1",
   "metadata": {},
   "source": [
    "90. Družinsko drevo\n",
    "V datoteki je shranjeno družinsko drevo: v vsaki vrstici sta po dve imeni, prvo ime je oče ali\n",
    "mati, drugo je ime otroka. Če je datoteka takšna,\n",
    "bob mary\n",
    "bob tom\n",
    "bob judy\n",
    "alice mary\n",
    "alice tom\n",
    "alice judy\n",
    "renee rob\n",
    "renee bob\n",
    "sid rob\n",
    "sid bob\n",
    "\n",
    "tom ken\n",
    "ken suzan\n",
    "rob jim\n",
    "prva vrstica pove, da ima Bob hči z imenom Mary, druga, da ima Bob tudi sina z imenom Tom...\n",
    "in zadnja pravi, da se je Robu rodil Jim. (Čestitamo!)\n",
    "Napiši funkcijo, ki prebere datoteko v slovar, ki je za gornje podatke videti takole: {'renee':\n",
    "['rob', 'bob'], 'ken': ['suzan'], 'rob': ['jim'], 'sid': ['rob', 'bob'], ... ,\n",
    "'bob': ['mary', 'tom', 'judy']}. Funkcija naj kot argument prejme ime datoteke, kot\n",
    "rezultat pa vrne slovar.\n",
    "Nato napiši še funkciji, ki za podano osebo izpiše vse njene otroke in vse njene vnuke.\n",
    "Bi znal napisati tudi funkcijo, ki za dano osebo izpiše njegove starše in prastarše?"
   ]
  },
  {
   "cell_type": "code",
   "execution_count": null,
   "id": "d01cba81",
   "metadata": {},
   "outputs": [],
   "source": []
  },
  {
   "cell_type": "markdown",
   "id": "d1bb37c2",
   "metadata": {},
   "source": [
    "91. Naključno generirano besedilo\n",
    "Napisati želimo program, ki bo naključno generiral besedilo. Seveda ni dobro, da si samo\n",
    "naključno izbiramo besede in jih lepimo skupaj, saj bi tako dobili nekaj povsem neberljivega.\n",
    "Naloge se bomo lotili malo pametneje.\n",
    "Recimo, da ima program na voljo nek tekst, iz katerega se lahko uči. Naš naključni tekst bomo\n",
    "začeli s poljubno besedo. Nadaljujemo tako, da se vprašamo, katere besede se v učnem tekstu\n",
    "pojavijo za to besedo; naključno izberemo eno od njih. Tretja beseda bo ena od besed, ki\n",
    "sledijo drugi... in tako naprej.\n",
    "Naloge se bomo lotili po korakih.\n",
    "Napiši funkcijo nasledniki(s), ki vrne slovar, katerega ključi so besede, vrednosti pa seznami\n",
    "besed, ki sledijo tej besedi.\n",
    ">>> nasledniki('in to in ono in to smo mi')\n",
    "{'smo': ['mi'], 'to': ['in', 'smo'], 'ono': ['in'], 'in': ['to', 'ono', 'to']}\n",
    "Za besedo smo se pojavi samo beseda mi, medtem ko se recimo za besedo to pojavita tako\n",
    "beseda smo kot tudi beseda in.\n",
    "Nato napišite funkcijo filozofiraj(besede, dolzina), ki prejme slovar, kakršen je gornji, in\n",
    "vrne naključno generirano besedilo podane dolžine."
   ]
  },
  {
   "cell_type": "code",
   "execution_count": null,
   "id": "f43aedc1",
   "metadata": {},
   "outputs": [],
   "source": []
  },
  {
   "cell_type": "markdown",
   "id": "935dcd04",
   "metadata": {},
   "source": [
    "92. Grde besede\n",
    "Napiši program, ki v nizu nadomesti vse grde besede z naključno izbrano lepo sopomenko. Pri\n",
    "tem naj uporablja slovar, ki se začne, recimo, takole:\n",
    "grde_besede = {\n",
    "'kreten': ['kljukec'],\n",
    "'idiot': ['mentalno zaostala oseba', 'omejen clovek']\n",
    "}\n",
    "\n",
    "Tako se niz \"Joj ta Python spet se počutim kot idiot\" pretvori v, recimo, \"Joj ta Python spet se\n",
    "počutim kot mentalno zaostala oseba\". Če ne obvladaš regularnih izrazov, predpostavi, da so v\n",
    "besedilu le besede, ločene s presledki, drugih ločil pa ni. Vse grde besede so pisane z malimi\n",
    "tiskanimi črkami."
   ]
  },
  {
   "cell_type": "code",
   "execution_count": null,
   "id": "948ed2d9",
   "metadata": {},
   "outputs": [],
   "source": []
  },
  {
   "cell_type": "markdown",
   "id": "07128614",
   "metadata": {},
   "source": [
    "93. Kronogrami\n",
    "Veliko latinskih napisov, ki obeležujejo kak pomemben dogodek, je napisanih v obliki\n",
    "kronograma: če seštejemo vrednosti črk, ki predstavljajo tudi rimske številke (I=1, V=5, X=10,\n",
    "L=50, C=100, D=500, M=1000), dajo letnico dogodka. Tako, recimo, napis na cerkvi sv. Jakoba v\n",
    "Opatiji, CVIVS IN HOC RENOVATA LOCO PIA FVLGET IMAGO SIS CVSTOS POPVLI SANCTE\n",
    "IACOBE TVI, da vsoto 1793, ko je bila cerkev prenovljena (o čemer govori napis).\n",
    "Pri tem obravnavamo vsak znak posebej: v besedil EXCELSIS bi prebrali X+C+L+I =\n",
    "10+100+50+1 = 161 in ne XC + L + I = 90 + 50 + 1 = 141.\n",
    "Napiši funkcijo, ki za podani napis vrne letnico, ki se skriva v njem."
   ]
  },
  {
   "cell_type": "code",
   "execution_count": null,
   "id": "8d115370",
   "metadata": {},
   "outputs": [],
   "source": []
  },
  {
   "cell_type": "markdown",
   "id": "9daa9685",
   "metadata": {},
   "source": [
    "94. Posebnež\n",
    "Koliko bombonov ima kateri otrok, shranjujemo v slovarju, katerega ključ je ime otroka,\n",
    "pripadajoča vrednost pa število bombonov.\n",
    "Recimo, da imajo vsi otroci enako bombonov, le eden jih ima več ali manj kot ostali. Napišite\n",
    "funkcijo posebnez(bomboni), ki prejme takšen slovar (z vsaj tremi elementi) in vrne ime tega\n",
    "otroka."
   ]
  },
  {
   "cell_type": "code",
   "execution_count": null,
   "id": "15bd3547",
   "metadata": {},
   "outputs": [],
   "source": []
  },
  {
   "cell_type": "markdown",
   "id": "f2361569",
   "metadata": {},
   "source": [
    "95. Sumljive besede\n",
    "Beseda je sumljiva, če ne poseduje črke, katero posedujejo vse druge besede te povedi.\n",
    "Prejšnji stavek ima eno besedo, katera ustreza temu. Tale stavek pa ima drugo takšno.\n",
    "Torej: vse besede prvega stavka imajo črko e, le beseda \"sumljiva\" ga nima. Prav tako imajo v\n",
    "drugem stavku vse besede črko e, razen besede \"ima\"; v njem je torej sumljiv \"ima\". V tretjem\n",
    "stavku je sumljiva beseda \"drugo\", ki nima črke \"a\", ki jo imajo vse druge besede tega stavka.\n",
    "Napiši funkcijo sumljiva(s), ki kot argument prejme stavek in vrne sumljivo besedo. Pri\n",
    "reševanju\n",
    "a) lahko predpostaviš, da funkcija dobi niz, v katerem so le besede, ločene s presledki, brez\n",
    "ločil;\n",
    "b) tega ne predpostaviš.\n",
    "Namig: moral boš odkriti, katera črka določa sumljivost. Če ima stavek n besed, je to črka, ki se\n",
    "pojavi v n-1 besedah. Ko odkriješ, za katero črko gre, pa bo preprosto."
   ]
  },
  {
   "cell_type": "code",
   "execution_count": null,
   "id": "a02aa474",
   "metadata": {},
   "outputs": [],
   "source": []
  },
  {
   "cell_type": "markdown",
   "id": "9a30b983",
   "metadata": {},
   "source": [
    "96. Transakcije\n",
    "V začetku je imela Ana štiri zlatnike, Berta 8 in CIlka 10, torej [('Ana', 4), ('Berta', 8),\n",
    "('Cilka', 10)]. Nato je dala Cilka Ani 3 zlatnike; potem je dala Cilka Ani še 2; na koncu je\n",
    "dala Ana Berti 2, kar zapišemo [('Cilka', 'Ana', 3), ('Cilka', 'Ana', 2), ('Ana',\n",
    "'Berta', 2)]. Kdo ima na koncu največ?\n",
    "Napiši funkcijo transakcije(zacetek, dajatve), ki dobi gornja seznama in vrne ime\n",
    "najbogatejše osebe po koncu transakcij. Če je na koncu več enako bogatih najbogatejših oseb,\n",
    "naj vrne poljubno izmed njih.\n",
    "Namig: delo si boš poenostavil, če bo funkcija takoj pretvorila sezmam v primernejšo\n",
    "podatkovno strukturo.\n",
    ">>> transakcije([('Ana', 4), ('Berta', 8), ('Cilka', 10)],\n",
    "[('Cilka', 'Ana', 3), ('Cilka', 'Ana', 2),\n",
    "('Ana', 'Berta', 2)])\n",
    "Berta"
   ]
  },
  {
   "cell_type": "code",
   "execution_count": null,
   "id": "aadca812",
   "metadata": {},
   "outputs": [],
   "source": []
  },
  {
   "cell_type": "markdown",
   "id": "8e6f2080",
   "metadata": {},
   "source": [
    "97. Natakar\n",
    "Ko je prišel natakar, so naročile:\n",
    "• Ana je naročila torto,\n",
    "• Berta je naročila krof,\n",
    "• Cilka je naročila kavo,\n",
    "• Ana je naročila še kavo,\n",
    "• Berta je rekla, da ne bo krofa,\n",
    "• Cilka je rekla, da ne bo torte (no, saj je niti ni naročila; to natakar mirno ignorira),\n",
    "• Berta je naročila torto.\n",
    "Vse skupaj zapišemo takole: [(\"Ana\", \"torta\"), (\"Berta\", \"krof\"), (\"Cilka\", \"kava\"),\n",
    "(\"Ana\", \"kava\"), (\"Berta\", \"-krof\"), (\"Cilka\", \"-torta\"), (\"Berta\", \"torta\")].\n",
    "Seznam torej vsebuje pare nizov (oseba, jed), pri čemer se jed včasih začne z \"-\", kar pomeni,\n",
    "da stranka prekliče naročilo te jedi oz. pijače.\n",
    "Napiši funkcijo narocila(s), ki prejme takšen seznam in vrne slovar, katerega ključi so imena\n",
    "strank, vrednost pri vsakem ključu pa je seznam vsega, kar mora stranka na koncu dobiti.\n",
    "Namig: če uporabljaš defaultdict, dobiš iz njega seznam tako, da pokličeš funkcijo dict. Če je,\n",
    "na primer, po_strankah objekt tipa defaultdict, bo dict(po_strankah) običajen slovar.\n",
    ">>> narocila([('Ana', 'torta'), ('Berta', 'krof'), ('Cilka', 'kava'),\n",
    "('Ana', 'kava'), ('Berta', '-krof'), ('Cilka', '-torta'),\n",
    "('Berta', 'torta')])\n",
    "{'Cilka': ['kava'], 'Berta': ['torta'], 'Ana': ['torta', 'kava']}\n",
    ">>>\n",
    ">>> narocila([('Ana', 'torta'), ('Ana', '-torta')])\n",
    "{'Ana': []}\n",
    ">>>\n",
    ">>> narocila([('Ana', '-torta')])\n",
    "{'Ana': []} # Tu sme funkcija vrniti tudi prazen slovar, {}"
   ]
  },
  {
   "cell_type": "code",
   "execution_count": null,
   "id": "50cddb41",
   "metadata": {},
   "outputs": [],
   "source": []
  },
  {
   "cell_type": "markdown",
   "id": "c04501d2",
   "metadata": {},
   "source": [
    "98. Tečaji\n",
    "Univerza v Ljubljani je začela ponujati spletne tečaje. Kdo je že opravil kateri tečaj, zapisujejo v\n",
    "slovar, katerega ključi so imena oseb, pripadajoče vrednosti pa množice tečajev, ki jih je\n",
    "dotična oseba opravila. Če je takšnemu slovarju ime, recimo, tecaji in je tecaji['Ana']\n",
    "enako {'Zgodovina gozdarstva', 'Sodobno roparstvo', 'Feminizem na Kočevskem'}, to\n",
    "pomeni, da je Ana opravila naštete tečaje. Napisati boste morali več funkcij.\n",
    "• opravil(ime, tecaj, tecaji) naj v slovar tecaji pribeleži, da je oseba opravila tecaj.\n",
    "(Če je v preteklosti že opravila ta tečaj, naj funkcija ne spremeni ničesar.)\n",
    "• najbolj_ucen(tecaji) naj vrne ime osebe, ki je doslej opravila največ tečajev. Če je\n",
    "takšnih oseb več, naj vrne poljubno med njimi.\n",
    "• vsi_tecaji(tecaji) naj vrne množico imen vseh tečajev, ki se pojavijo v slovarju.\n",
    "• neopravljeni(ime, tecaji) naj vrne imena tečajev, ki jih je že kdo opravil, oseba ime\n",
    "pa še ne.\n",
    "Predpostaviti smete, da je tecaji tipa defaultdict(set) in ne navaden dict."
   ]
  },
  {
   "cell_type": "code",
   "execution_count": null,
   "id": "c717d0b7",
   "metadata": {},
   "outputs": [],
   "source": []
  },
  {
   "cell_type": "markdown",
   "id": "4d0d827d",
   "metadata": {},
   "source": [
    "99. Lego\n",
    "Vsebino škatle Legovih kock opišemo s slovarjem: ključi predstavljajo tip kocke, vrednosti pa\n",
    "so število kock takšne oblike. Zapis {\"A\": 2, \"B\": 1, \"C\": 3} naj pomeni, da škatla vsebuje\n",
    "dve kocki vrste A, eno kocko vrste B in tri kocke vrste C.\n",
    "Na podoben način lahko opišemo kocke, ki jih potrebujemo za izdelavo neke reči. {\"A\": 4,\n",
    "\"C\": 3} pomeni, da potrebujemo štiri kocke A in tri kocke C.\n",
    "Opazimo lahko, da s kockami iz gornje škatle ne moremo narediti spodnje reči, ker imamo\n",
    "premalo kock vrste A (imamo dve, potrebovali bi štiri). Prav tako ne moremo narediti {\"A\": 2,\n",
    "\"D\": 3}, ker nimamo kock vrste D. Lahko pa bi naredili, recimo {\"A\": 1, \"C\": 2}.\n",
    "Napiši funkcijo vsi_deli(skatla, potrebno, ki vrne True, če vsebina škatle, opisana s\n",
    "slovarjem skatla, zadošča, da naredimo reč, za katere potrebujemo vse, kar piše v slovarju\n",
    "potrebno.\n",
    "Podobna funkcija kaj_manjka(skatla, potrebno) naj vrne slovar delov, ki manjkajo, da bi\n",
    "lahko iz škatle, katere vsebina je opisana v skatla, naredili reč, katere sestavni deli so opisani\n",
    "v potrebno.\n",
    "Funkciji ne smeta spremeniti nobenega od slovarjev, ki jih dobita kot argument!\n",
    ">>> vsi_deli ({\"A\": 2, \"B\": 1, \"C\": 3}, {\"A\": 3, \"C\": 2, \"D\": 2})\n",
    "False\n",
    ">>> kaj_manjka({\"A\": 2, \"B\": 1, \"C\": 3}, {\"A\": 3, \"C\": 2, \"D\": 2})\n",
    "{\"A\": 1, \"D\": 2}\n",
    ">>> vsi_deli({\"A\": 2, \"B\": 1, \"C\": 3}, {\"A\": 2, \"C\": 2})\n",
    "True\n",
    ">>> kaj_manjka({\"A\": 2, \"B\": 1, \"C\": 3}, {\"A\": 2, \"C\": 2})\n",
    "{}"
   ]
  },
  {
   "cell_type": "code",
   "execution_count": null,
   "id": "f723d8ca",
   "metadata": {},
   "outputs": [],
   "source": []
  },
  {
   "cell_type": "markdown",
   "id": "748266dc",
   "metadata": {},
   "source": [
    "100. Slepa polja\n",
    "V neki igri je mogoče z vsakega polja priti na določena druga polja. Možne poteze opišemo s\n",
    "slovarjem, ki kot ključe vsebuje imena polj, kot vrednosti pa množice polj, na katere je mogoče\n",
    "priti s posameznega polja. Tako\n",
    "poti = {\"a\": {\"b\", \"c\"}, \"b\": {\"a\", \"c\", \"e\", \"f\"}, \"c\": {\"d\", \"e\"}, \"e\": {\"a\"}}\n",
    "pomeni, da s polja a pridemo na b in c; s polja b na a, c, e in f; s polja c na d in e; s polja e na a.\n",
    "Nekatera polja so \"slepa\": v gornjem primeru sta to polji d in f, s katerih ni mogoče priti na\n",
    "nobeno drugo polje. Slepa polja lahko prepoznamo po tem, da se ne pojavljajo kot ključi (v\n",
    "slovarju ne bomo imeli nikoli praznih množic).\n",
    "Napiši funkcijo slepa_polja(s), ki dobi slovar poti in vrne množico slepih polj.\n",
    ">>> slepa_polja(poti)\n",
    "{\"d\", \"f\"}\n",
    ">>> slepa_polja({\"a\": {\"b\", \"c\"}, \"c\": {\"b\"}})\n",
    "{\"b\"}\n",
    ">>> slepa_polja({\"a\": {\"b\", \"c\"}, \"c\": {\"b\"}, \"b\": {\"c\"}})\n",
    "set()"
   ]
  },
  {
   "cell_type": "code",
   "execution_count": null,
   "id": "e04d9170",
   "metadata": {},
   "outputs": [],
   "source": []
  },
  {
   "cell_type": "markdown",
   "id": "77c8c2e3",
   "metadata": {},
   "source": [
    "101. Inventar\n",
    "Neka trgovina shranjuje svojo zalogo v takšnem slovarju.\n",
    "{'sir': 8, 'kruh': 15, 'makovka': 10, 'pasja radost': 2, 'pašteta': 10,\n",
    "'mortadela': 4, 'klobasa': 7}\n",
    "Funkcija zaloga(inventar, izdelek) naj pove, koliko izdelka izdelek imamo na zalogi. Če je\n",
    "gornji slovar z inventarjem shranjen v slovarju inv, mora klic zaloga(inv, \"makovka\") vrniti 10.\n",
    "Funkcija prodaj(inventar, izdelek, kolicina), naj zmanjša količino izdelka izdelek v\n",
    "inventarju inventar za kolicina. Klic prodaj(inv, \"makovka\", 3) (prodali smo tri makovke)\n",
    "mora spremeniti slovar inv tako, da zmanjša vrednost pri ključu \"makovka\" za 3. Novi slovar je\n",
    "tedaj takšen:\n",
    "{'sir': 8, 'kruh': 15, 'makovka': 7, 'pasja radost': 2, 'pašteta': 10,\n",
    "'mortadela': 4, 'klobasa': 7}\n",
    "Končno, napiši funkcijo primanjkljaj(inventar, narocilo), ki prejme dva slovarja: prvi\n",
    "predstavlja trenutni inventar, drugi pa, kaj neka stranka naroča. Funkcija mora vrniti nov\n",
    "slovar, v katerem bo zapisano, koliko česa moramo še kupiti, da bomo lahko stranki dobavili\n",
    "vse, kar si želi. Če bi, recimo, stranka želela tri paštete, devet klobas in eno pivo, mora funkcija\n",
    "vrniti slovar {\"klobasa\": 2, \"pivo\": 1}. Dve klobasi zato, ker jih imamo sedem, stranka pa\n",
    "jih želi devet. Paštet ne bo potrebno naročati, saj jih imamo dovolj. Pivo pa potrebujemo, saj\n",
    "nimamo nobenega."
   ]
  },
  {
   "cell_type": "code",
   "execution_count": null,
   "id": "db404718",
   "metadata": {},
   "outputs": [],
   "source": []
  },
  {
   "cell_type": "markdown",
   "id": "dd98c4a0",
   "metadata": {},
   "source": [
    "102. Nedostopna polja\n",
    "V neki igri je mogoče z vsakega polja priti na določena druga polja. Možne poteze opišemo s\n",
    "slovarjem, ki kot ključe vsebuje imena polj, kot vrednosti pa množice polj, na katere je mogoče\n",
    "priti s posameznega polja. Tako\n",
    "poti = {\"a\": {\"c\"},\n",
    "\"b\": {\"a\", \"c\", \"f\"},\n",
    "\"c\": {\"d\", \"e\"},\n",
    "\"g\": {\"a\"}}\n",
    "pomeni, da s polja a pridemo na c; s polja b na a, c in f; s polja c na d in e; s polja g na a.\n",
    "Poljem, na katera ne moremo priti z nobenega polja, bomo rekli nedostopna. V gornji igri sta\n",
    "to polji b in g.\n",
    "Napiši funkcijo nedostopna(s), ki prejme slovar možnih potez in vrne množico nedostopnih\n",
    "polj.\n",
    "Namig: naloga sprašuje po poljih, ki se pojavijo med ključi, med vrednostmi pa ne."
   ]
  },
  {
   "cell_type": "code",
   "execution_count": null,
   "id": "1d013e68",
   "metadata": {},
   "outputs": [],
   "source": []
  },
  {
   "cell_type": "markdown",
   "id": "cf77d9f4",
   "metadata": {},
   "source": [
    "103. Opravljivke\n",
    "V tej in nekaj naslednjih nalogah se bomo ukvarjali\n",
    "z nekakšnimi mrežami. Za začetek si lahko\n",
    "predstavljamo, da gre za opravljivke, ki vsako\n",
    "novico sporočijo natančno eni osebi; Ana, na\n",
    "primer, vse izčveka Cilki, Berta prav tako\n",
    "pripoveduje Cilki, Dani Emi, Ema Fanči in Greta\n",
    "Fanči. Cilka in Fanči začuda vse obdržita zase.\n",
    "Takšno mrežo bomo predstavili s slovarjem\n",
    "čveke = {\"Ana\": \"Cilka\", \"Berta\": \"Cilka\", \"Dani\": \"Ema\", \"Ema\": \"Fanci\",\n",
    "\"Greta\": \"Fanci\"}\n",
    "Naredimo lahko tudi bolj zapletene\n",
    "mreže, na primer spodnji sistem cevi. V\n",
    "eno od cevi vržemo kroglico, zanima pa\n",
    "nas, kje prileti ven. Kroglico lahko\n",
    "vstavimo tudi na kateremkoli križišču\n",
    "ali celo na koncu (vstavimo jo na \"o\" in\n",
    "prileti iz \"o\").\n",
    "\n",
    "Slovar zanj je takšen:\n",
    "\n",
    "cevi = {\"a\": \"b\", \"b\": \"o\", \"c\": \"o\", \"d\": \"x\", \"e\": \"q\", \"g\": \"k\", \"h\": \"o\",\n",
    "\"i\": \"q\", \"j\": \"F\", \"l\": \"w\", \"m\": \"B\", \"n\": \"z\", \"p\": \"f\", \"q\": \"b\", \"r\":\n",
    "\"t\", \"s\": \"f\", \"t\": \"k\", \"u\": \"s\", \"v\": \"t\", \"x\": \"g\", \"y\": \"g\", \"z\": \"m\", \"A\":\n",
    "\"r\", \"C\": \"y\", \"D\": \"p\", \"E\": \"l\", \"F\": \"m\", \"w\": \"B\"}\n",
    "Napiši naslednje funkcije.\n",
    "• kam(cevi, cev): prvi argument je slovar s sistemom, kot sta, recimo, gornja, drugi pa\n",
    "začetna cev. Če pokličemo, denimo, kam(čveke, \"Dani\") mora vrniti \"Fanči\" in če\n",
    "pokličemo kam(cevi, \"r\") mora vrniti \"k\".\n",
    "• koliko_kam(cevi, zacetne): dobi slovar s sistemom in seznam začetnih pozicij ter\n",
    "vrne slovar, ki pove, kolikokrat smo končali na določenem mestu. Če pokličemo,\n",
    "recimo koliko_kam(čveke, [\"Ana\", \"Ana\", \"Greta\", \"Berta\", \"Cilka\"]), mora\n",
    "vrniti {\"Cilka\": 4, \"Fanci\": 1}.\n",
    "• najpogostejsa(cevi, zacetne): podobno kot prejšnja, le da vrne najpogostejši izhod.\n",
    "Če pokličemo najpogostejsa(čveke, [\"Ana\", \"Ana\", \"Greta\", \"Berta\", \"Cilka\"]),\n",
    "mora vrniti \"Fanci\"."
   ]
  },
  {
   "cell_type": "code",
   "execution_count": null,
   "id": "d0df6730",
   "metadata": {},
   "outputs": [],
   "source": []
  },
  {
   "cell_type": "markdown",
   "id": "50065ea4",
   "metadata": {},
   "source": [
    "104. Vir in ponor\n",
    "Nadaljujmo s podatki iz prejšnje naloge. Napiši funkciji zacetne(cevi) in koncne(cevi).\n",
    "Prva naj vrne množico vseh cevi, ki nimajo vhodov, druga vse, ki so na koncu. Tako mora\n",
    "zacetne(čveke) vrniti {\"Ana\", \"Berta\", \"Dani\", \"Greta\"}, koncne(čveke) pa {\"Cilka\",\n",
    "\"Fanči\"}."
   ]
  },
  {
   "cell_type": "code",
   "execution_count": null,
   "id": "9b650823",
   "metadata": {},
   "outputs": [],
   "source": []
  },
  {
   "cell_type": "markdown",
   "id": "fa202953",
   "metadata": {},
   "source": [
    "105. Viri\n",
    "Napišite funkcijo viri(cevi), ki vrne slovar, katerega ključi so končne cevi, vrednosti pa\n",
    "množice vseh točk, ki vodijo v to cev. V primeru opravljivk nas bosta ključa tisti dve, ki držita\n",
    "jezik za zobmi, pripadajoči vrednosti pa množici tistih, ki jih zalagata (posredno ali\n",
    "neposredno) z informacijami. Torej, viri(čveke) mora vrniti {\"Cilka\": {\"Ana\", \"Berta\",\n",
    "\"Cilka\"}, \"Fanci\": {\"Dani\", \"Ema\", \"Fanci\", \"Greta\"}}."
   ]
  },
  {
   "cell_type": "code",
   "execution_count": null,
   "id": "ed9d494a",
   "metadata": {},
   "outputs": [],
   "source": []
  },
  {
   "cell_type": "markdown",
   "id": "6a327845",
   "metadata": {},
   "source": [
    "106. Sociogram\n",
    "Skupino otrok smo prosili, da je vsak zapisal, kdo so njegovi prijatelji.\n",
    "Rezultat shranimo v slovar, recimo takšen: sociogram = {\"Ana\":\n",
    "{\"Berta\"}, \"Berta\": {\"Ana\", \"Cilka\", \"Ema\"}, \"Cilka\": set(),\n",
    "\"Dani\": {\"Berta\"}, \"Ema\": {\"Ana\", \"Berta\"}, \"Fanči\": {\"Cilka\",\n",
    "\"Dani\"}}.\n",
    "Napiši funkciji\n",
    "• prijatelji(kdo, sociogram), ki za podano osebo in sociogram vrne množico tistih oseb,\n",
    "ki so podano osebo napisali za prijatelja, in\n",
    "• najbolj_priljubljen(sociogram), ki vrne tisto osebo v sociogramu, ki jo je največ\n",
    "drugih oseb navedlo za prijatelja."
   ]
  },
  {
   "cell_type": "code",
   "execution_count": null,
   "id": "bdee51fc",
   "metadata": {},
   "outputs": [],
   "source": []
  },
  {
   "cell_type": "markdown",
   "id": "45ea8e00",
   "metadata": {},
   "source": [
    "107. Izplačilo\n",
    "Napiši funkcijo izplacilo(bankovci, znesek), ki dobi slovar, ki pove, koliko katerih\n",
    "bankovcev je v blagajni in znesek, ki ga je potrebno izplačati. Če je slovar enak {100: 8, 20: 7,\n",
    "10: 4}, je v blagajni 8 stotakov, 7 dvajsetakov in 4 desetaki. Znesek je število (int), recimo 130.\n",
    "Znesek vedno izplačujemo tako, da začnemo z večjimi bankovci in nadaljujemo proti manjšim.\n",
    "Če je potrebno izplačati 130 evrov, bomo izdali en bankovec za 100, enega za 20 in enega za\n",
    "10 in ne, recimo, šestih bankovcev za 20 in enega za 10 ali pa enega za 100 in treh za 10 –\n",
    "razen, kadar ne gre drugače, ker, recimo, nimamo bankovca za 100.\n",
    "Funkcija ne sme vračati ničesar, temveč naj spremeni slovar bankovci, ki ga je dobila kot\n",
    "argument, tako, da bo odražal število bankovcev, ki ostanejo v blagajni po izplačilu. Če katere\n",
    "vrste bankovcev ni več, jih vrzite tudi iz slovarja: če je potrebno izplačati 800 evrov, mora biti\n",
    "vsebina slovarja po tem {10: 4, 20: 7} in ne {100: 0, 20: 7, 10: 4}. Če je potrebno\n",
    "izplačati 950 evrov, bo vsebina slovarja {10: 3}. Predpostavi smeš, da ima blagajna vedno\n",
    "dovolj bankovcev, da lahko opravi izplačilo."
   ]
  },
  {
   "cell_type": "code",
   "execution_count": null,
   "id": "dc81d668",
   "metadata": {},
   "outputs": [],
   "source": []
  },
  {
   "cell_type": "markdown",
   "id": "2f45ec58",
   "metadata": {},
   "source": [
    "108. Dopisovalci\n",
    "V tej nalogi bomo delali s slovarji, katerih ključi bodo imena ljudi, pripadajoče vrednosti pa\n",
    "množice imen vseh, ki jim je dotični pisal. Če je takšen slovar, recimo, relacije in je\n",
    "relacije['Ana'] enako {'Berta', 'Cilka', 'Dani'}, to pomeni, da je Ana doslej pošiljala\n",
    "sporočila Berti, Cilki in Dani. Napiši funkcije\n",
    "• dopis(kdo, komu, relacije) naj v slovar relacije pribeleži, da je kdo pisal komu. (Če\n",
    "je kdo v preteklosti že pisal komu, dopis ne bo spremenil ničesar.)\n",
    "• najzgovornejsi(relacije) naj vrne ime osebe, ki je doslej pisala največ različnim\n",
    "osebam. Če je takšnih več, naj vrne poljubno med njimi.\n",
    "• vse_osebe(relacije) naj vrne množico vseh oseb v slovarju – tako teh, ki so komu\n",
    "pisale, kot tistih, ki jim je kdaj kdo pisal.\n",
    "• neznanci(ime, relacije) naj vrne množico imen vseh tistih oseb, ki so v slovarju,\n",
    "vendar jim oseba ime ni nikoli pisala.\n",
    "Predpostaviti smeš, da je relacije tipa defaultdict(set) in ne navaden dict."
   ]
  },
  {
   "cell_type": "code",
   "execution_count": null,
   "id": "51abba8f",
   "metadata": {},
   "outputs": [],
   "source": []
  },
  {
   "cell_type": "markdown",
   "id": "e1159746",
   "metadata": {},
   "source": [
    "109. Zaporniki\n",
    "Petnajst zapornikov se je znašlo v petnajstih celicah\n",
    "mednarodnega zapora. Dva zapornika se lahko pogovarjata, če\n",
    "sta v sosednjih celicah in govorita vsaj en skupni jezik (ali, učeno\n",
    "povedano, če je presek jezikov, ki jih govorita, neprazen ;).\n",
    "Zapornik v prvi celici govori jezike A, B in C, zato se lahko\n",
    "pogovarja s svojim desnim sosedom (ki govori jezik B) in spodnjim sosedom (ki govori jezik C).\n",
    "Spodnji sosed se lahko pogovarja s še spodnejšim, ki govori B in C. Nesrečnik, ki čepi v zgornji\n",
    "desni celici govori jezik A in se ne more pogovarjati ne z levim sosedom (ta govori E) ne s\n",
    "spodnjim (ki govori DC). Pare, ki se lahko pogovarjajo, smo v gornjem primeru označili tako, da\n",
    "smo \"stanjšali\" zid med celicama.\n",
    "\n",
    "ABC B BC E A\n",
    "C D AE DB DC\n",
    "BC AE E BC AED\n",
    "\n",
    "Napiši funkcijo sogovorniki(zapor), ki prejme razpored zapornikov v obliki [[\"ABC\", \"B\",\n",
    "\"BC\", \"E\", \"A\"], [\"C\", \"D\", \"AE\", \"DB\", \"DC\"], [\"BC\", \"AE\", \"E\", \"BC\", \"AED\"]] in\n",
    "vrne število parov zapornikov, ki se bodo lahko pogovarjali. V gornjem primeru funkcija vrne 9.\n",
    "Funkcija naj bo seveda splošna: sprejema naj tudi drugačne konfiguracije zaporov in več\n",
    "jezikov. Seveda pa bo en jezik vedno opisan z eno črko niza."
   ]
  },
  {
   "cell_type": "code",
   "execution_count": null,
   "id": "372c4879",
   "metadata": {},
   "outputs": [],
   "source": []
  },
  {
   "cell_type": "markdown",
   "id": "b1e06d06",
   "metadata": {},
   "source": [
    "110. Ograje\n",
    "Imamo naselje vrtičkarjev, ki je pravokotne oblike in je razdeljeno\n",
    "na nxm kvadratnih polj s stranico 1. Med dvema poljema je ograja,\n",
    "če imata različna lastnika. Primer je narisan na desni. Kdo je lastnik\n",
    "katerega vrtička, je zapisano v seznamu nizov; za primer na desni bi\n",
    "bil seznam takšen: [\"AAABC\", \"ABCDC\", \"ACCDA\"].\n",
    "Napišite funkcijo ograje(s), ki dobi seznam v tej obliki in vrne skupno dolžino vsej ograj – tako\n",
    "teh med vrtički kot vseh okrog njih.\n",
    "Namig: morda bo lažje reševati tako, da najprej izračunamo, koliko ograje bi potrebovali, če bi\n",
    "bili vsi lastniki različni. Nato od tega odštejemo, koliko je meja, med katerimi je ograja odveč."
   ]
  },
  {
   "cell_type": "code",
   "execution_count": null,
   "id": "d9e0f5fc",
   "metadata": {},
   "outputs": [],
   "source": []
  },
  {
   "cell_type": "markdown",
   "id": "a8cf8b56",
   "metadata": {},
   "source": [
    "111. Trgovanje\n",
    "Nekdo je za desko ali steklenico pripravljen dati pašteto. Nekdo drug je pripravljen za knjigo ali\n",
    "vilice dati svečo, desko ali papir. Nekdo tretji je za ribo ali pašteto pripravljen dati tipkovnico\n",
    "ali zaslon. To zapišemo kot\n",
    "ponudbe = [({\"deska\", \"steklenica\"}, {\"pašteta\"}),\n",
    "({\"knjiga\", \"vilice\"}, {\"sveča\", \"deska\", \"papir\"}),\n",
    "({\"riba\", \"pašteta\"}, {\"tipkovnica\", \"zaslon\"})]\n",
    "Če je tako, lahko zamenjamo vilice za desko, desko za pašteto in pašteto za zaslon ([\"vilice\",\n",
    "\"deska\", \"pašteta\", \"zaslon\"]). Zamenjamo lahko tudi, recimo, desko za ribo. Ne moremo\n",
    "pa zamenjati vilic za papir, papirja za pašteto in paštete za tipkovnico ([\"vilice\", \"papir\",\n",
    "\"pašteta\", \"tipkovnica\"]), ker na vsem božjem svetu ni nikogar, ki bi menjal papir za\n",
    "pašteto.\n",
    "• Napiši funkcijo obstaja(dam, dobim, ponudbe), ki pove (True ali False), ali v\n",
    "seznamu ponudbe obstaja kdo, ki bi za stvar dam dal stvar dobim. Klic\n",
    "obstaja(\"pašteta\", \"zaslon\", ponudbe), vrne True.\n",
    "• Nato napiši funkcijo menjave(zaporedje_stvari, ponudbe), ki pove, ali je možno\n",
    "podano zaporedje menjav. Klic menjave([\"deska\", \"pašteta\", \"zaslon\"], ponudbe)\n",
    "vrne True, menjave([\"vilice\", \"papir\", \"pašteta\", \"tipkovnica\"], ponudbe) pa\n",
    "False."
   ]
  },
  {
   "cell_type": "code",
   "execution_count": null,
   "id": "c49c6517",
   "metadata": {},
   "outputs": [],
   "source": []
  },
  {
   "cell_type": "markdown",
   "id": "ec257660",
   "metadata": {},
   "source": [
    "112. Ne na lihih\n",
    "Napiši funkcijo ne_na_lihih(s), ki prejme seznam, in vrne množico vseh elementov seznama,\n",
    "ki se nikoli ne pojavijo na lihih mestih (indeksih). Klic ne_na_lihih([12, 17, 17, 5, 3]) vrne\n",
    "A A A B C\n",
    "A B C D C\n",
    "A C C D A\n",
    "\n",
    "{12, 3}. 5 je izpuščena, ker se pojavi samo na lihem mestu, 17 pa se sicer na sodem, vendar\n",
    "tudi na lihem.\n",
    "Malo razmisli, preden se zaprogramiraš. Naloga je v resnici trivialna."
   ]
  },
  {
   "cell_type": "code",
   "execution_count": null,
   "id": "ae65c6c4",
   "metadata": {},
   "outputs": [],
   "source": []
  },
  {
   "cell_type": "markdown",
   "id": "7cee9bfd",
   "metadata": {},
   "source": [
    "113. Sopomenke\n",
    "Sopomenke lahko predstavimo z množico besed, kot, recimo {\"fant\", \"deček\", \"pob\"}.\n",
    "Takšne množice lahko zberemo v seznam, recimo [{\"fant\", \"deček\", \"pob\"}, {\"cesta\",\n",
    "\"pot\", \"kolovoz\", \"makadam\"}, {\"kis\", \"jesih\"}].\n",
    "Napišite funkcijo predelaj(stavek, sopomenke), ki dobi stavek in sopomenke, ter vrne stavek,\n",
    "v katerem so vse besede, ki imajo sopomenke, zamenjane z naključno izbrano sopomenko.\n",
    "Tako lahko predelaj(\"fant in dekle sta vzela pot pod noge\", [{\"fant\", \"deček\",\n",
    "\"pob\"}, {\"cesta\", \"pot\", \"kolovoz\", \"makadam\"}, {\"kis\", \"jesih\"}, {\"noge\", \"tace\"},\n",
    "{\"dekle\", \"punca\", \"frajla\"}]) vrne, recimo \"pob in punca sta vzela kolovoz pod\n",
    "tace\"."
   ]
  },
  {
   "cell_type": "code",
   "execution_count": null,
   "id": "2fc73a21",
   "metadata": {},
   "outputs": [],
   "source": []
  },
  {
   "cell_type": "markdown",
   "id": "450b2cc4",
   "metadata": {},
   "source": [
    "114. Stavka z istim pomenom\n",
    "Sopomenke lahko predstavimo z množico besed, kot, recimo {\"fant\", \"deček\", \"pob\"}.\n",
    "Takšne množice lahko zberemo v seznam, recimo [{\"fant\", \"deček\", \"pob\"}, {\"cesta\",\n",
    "\"pot\", \"kolovoz\", \"makadam\"}, {\"kis\", \"jesih\"}].\n",
    "Napišite funkcijo sopomena(stavek1, stavek2, sopomenke), ki pove, ali stavek1 in stavek2\n",
    "pomenita isto. Tako mora, recimo sopomena(\"fant in dekle sta vzela pot pod noge\",\n",
    "\"pob in punca sta vzela kolovoz pod tace\", [{\"fant\", \"deček\", \"pob\"}, {\"cesta\",\n",
    "\"pot\", \"kolovoz\", \"makadam\"},{\"kis\", \"jesih\"}, {\"dekle\", \"punca\"}, {\"noge\",\n",
    "\"tace\"}]) vrniti True. Predpostavite lahko, da v stavku ni ločil. Ne vznemirjajte se zaradi\n",
    "sklonov."
   ]
  },
  {
   "cell_type": "code",
   "execution_count": null,
   "id": "d0b7ecda",
   "metadata": {},
   "outputs": [],
   "source": []
  },
  {
   "cell_type": "markdown",
   "id": "90b2dbb2",
   "metadata": {},
   "source": [
    "115. Združi - razmeči\n",
    "Napiši funkcijo zdruzi(s), ki prejme seznam s ter vrne slovar, katerega ključi so elementi s-a,\n",
    "pripadajoče vrednosti pa množice indeksov, kjer se ta element pojavlja. Klic zdruzi([3, 1, 12,\n",
    "3, 7, 12]) mora vrniti {1: {1}, 3: {0, 3}, 7: {4}, 12: {2, 5}}.\n",
    "Napiši še funkcijo razmeci(s), ki dela ravno obratno – prejme takšen slovar in vrne seznam."
   ]
  },
  {
   "cell_type": "code",
   "execution_count": null,
   "id": "116e2541",
   "metadata": {},
   "outputs": [],
   "source": []
  },
  {
   "cell_type": "markdown",
   "id": "ae96806a",
   "metadata": {},
   "source": [
    "116. Podajanje daril\n",
    "Nekateri ljudje podarijo čokolade naprej, drugi jih pojejo. Če imamo seznam [(8, 2), (1, 8),\n",
    "(5, 1), (4, 42)], to pomeni, da oseba 8 daje čokolade osebi 2, oseba 1 osebi 8 in tako\n",
    "naprej.\n",
    "Napiši funkcijo dolzina_poti(s, o), ki prejme tak seznam in številko osebe, ki ji damo\n",
    "čokolado, ter vrne število podaj, preden bo čokolada pojedena.\n",
    "\n",
    "Klic dolzina_poti([(8, 2), (1, 8), (5, 1), (4, 42)], 5) vrne 3. Če namreč damo\n",
    "čokolado osebi 5, jo bo ta dala osebi 1, oseba 1 osebi 8 in oseba 8 osebi 2, ki jo poje. Torej tri\n",
    "podaje.\n",
    "Seznam lahko tudi zelo dolg; morda se ga splača znotraj funkcije pretvoriti v kaj prikladnejšega\n",
    "za to nalogo."
   ]
  },
  {
   "cell_type": "code",
   "execution_count": null,
   "id": "e016697f",
   "metadata": {},
   "outputs": [],
   "source": []
  },
  {
   "cell_type": "markdown",
   "id": "efa5d607",
   "metadata": {},
   "source": [
    "117. Požrešneži\n",
    "Nekateri ljudje podarijo čokolade naprej, drugi jih pojejo. Če imamo seznam [(3, 1), (8, 2),\n",
    "(1, 8), (4, 5)], to pomeni, da oseba 3 daje čokolade osebi 1, oseba 8 osebi 2 in tako naprej.\n",
    "Napiši funkcijo ne_daje_naprej(s), ki prejme takšen seznam in vrne množico številk oseb, ki\n",
    "čokolad ne dajejo naprej. V gornjem primeru je to {2, 5}.\n",
    "Upoštevaj, da je seznam lahko tudi zelo dolg; morda se ti splača znotraj funkcije uporabiti kaj\n",
    "prikladnejšega za to nalogo."
   ]
  },
  {
   "cell_type": "code",
   "execution_count": null,
   "id": "7d06b9a1",
   "metadata": {},
   "outputs": [],
   "source": []
  },
  {
   "cell_type": "markdown",
   "id": "cf04f72b",
   "metadata": {},
   "source": [
    "118. Ne maram\n",
    "Imamo seznam parov oseb, ki nočejo biti skupaj, na primer [(\"Ana\", \"Cilka\"), (\"Berta\",\n",
    "\"Ana\"), (\"Berta\", \"Dani\")]. Imamo vrstni red oseb, na primer, [\"Ana\", \"Berta\", \"Cilka\",\n",
    "\"Dani\", \"Ema\"]. Potrebujemo samo še funkcijo, preveri_vrsto(vrsta, prepovedani), ki vrne\n",
    "True, če bodo uvrščenke zadovoljne z vrsto in False, če ne. Za gornji primer vrne False, ker\n",
    "Ana in Berta nočeta biti ena zraven druge.\n",
    "Funkcija naj bo napisana tako, da deluje hitro tudi, če je oseb zelo veliko."
   ]
  },
  {
   "cell_type": "code",
   "execution_count": null,
   "id": "65c0df3b",
   "metadata": {},
   "outputs": [],
   "source": []
  },
  {
   "cell_type": "markdown",
   "id": "f4b098cb",
   "metadata": {},
   "source": [
    "119. Najmanjši unikat\n",
    "Napiši funkcijo najmanjsi_unikat(s), ki prejme seznam nekih stvari (lahko so števila, nizi, ...\n",
    "karkoli, kar je možno primerjati) in vrne najmanjši element, ki se v seznamu pojavi le enkrat.\n",
    "Če takega ni, ker je seznam prazen ali pa se vsi pojavijo večkrat, ne vrne ničesar (torej None)."
   ]
  },
  {
   "cell_type": "code",
   "execution_count": null,
   "id": "3b69a79b",
   "metadata": {},
   "outputs": [],
   "source": []
  },
  {
   "cell_type": "markdown",
   "id": "5bf26753",
   "metadata": {},
   "source": [
    "120. Bingo\n",
    "Igra Bingo poteka tako, da ima vsak igralec listek z nekaj številkami. Voditelj žreba številke. Če\n",
    "se izžrebana številka nahaja na igralčevem listku, jo ta prečrta. Zmaga igralec, ki prvi prečrta\n",
    "vse številke.\n",
    "Vedeževalka nam je napovedala vrstni red, v katerem bodo žrebane številke. Imamo seznam\n",
    "listkov za Bingo; izbrali bi radi tistega, na katerem bodo prej prečrtane se številke.\n",
    "Napiši funkcijo bingo(listki, vrstni_red), ki prejme listke (seznam seznamov številk) in\n",
    "vrne listek, na katerem bodo najprej prečrtane vse številke. Klic\n",
    "bingo([[4, 1, 2, 3, 5], [6, 1, 2, 3, 4], [7, 6, 4, 3, 2]],\n",
    "[4, 2, 8, 3, 1, 6, 5, 7])\n",
    "\n",
    "vrne [6, 1, 2, 3, 4] (saj bo ta očitno prehitel prvega in zadnjega, zaradi 5 in 7).\n",
    "Funkcija naj ne spreminja podanega seznama!"
   ]
  },
  {
   "cell_type": "code",
   "execution_count": null,
   "id": "c9660d53",
   "metadata": {},
   "outputs": [],
   "source": []
  },
  {
   "cell_type": "markdown",
   "id": "53b26865",
   "metadata": {},
   "source": [
    "121. Trki besed\n",
    "Podana je funkcija skrij(beseda), ki na določen način predeluje besede: kot argument dobi\n",
    "besedo (npr. \"HANA\") in kot rezultat vrne predelano besedo (\"A6N3H1\"). Kako funkcija deluje, ni\n",
    "pomembno. Še več, testi lahko uporabljajo različne funkcije za predelavo besed.\n",
    "Napiši funkcijo trk(besede), ki dobi seznam besed in vrne par besed, ki ju funkcija skrij\n",
    "predela v isto besedo. Če je takšnih parov več, lahko vrne poljubnega med njimi. Če se noben\n",
    "par ne spremeni v isto besedo, naj vrne None."
   ]
  },
  {
   "cell_type": "code",
   "execution_count": null,
   "id": "b2d54cfe",
   "metadata": {},
   "outputs": [],
   "source": []
  }
 ],
 "metadata": {
  "language_info": {
   "name": "python"
  }
 },
 "nbformat": 4,
 "nbformat_minor": 5
}
