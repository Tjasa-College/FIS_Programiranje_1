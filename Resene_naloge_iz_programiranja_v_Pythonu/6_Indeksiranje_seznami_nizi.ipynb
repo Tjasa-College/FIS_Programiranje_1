{
 "cells": [
  {
   "cell_type": "markdown",
   "id": "7a0106f3",
   "metadata": {},
   "source": [
    "**50. Spol iz EMŠO**</br></br>\n",
    "Številka EMŠO je sestavljena iz trinajst števk v obliki DDMMLLL50NNNX, pri čemer je\n",
    "DDMMLLL rojstni datum, 50 je koda registra (EMŠO je nastala v času Jugoslavije in 50 je bila\n",
    "koda za Slovenijo), NNN je zaporedna številka in X kontrolna številka. Trimestna številka, NNN,\n",
    "je med 000 in 499 za moške ter med 500 in 999 za ženske.</br></br>\n",
    "Napiši funkcijo ```je_zenska(emso)```, ki za številko EMŠO, ki jo podamo kot niz, vrne ```True```, če\n",
    "pripada ženski in ```False```, če moškemu."
   ]
  },
  {
   "cell_type": "code",
   "execution_count": null,
   "id": "c6e1c991",
   "metadata": {},
   "outputs": [],
   "source": []
  },
  {
   "cell_type": "markdown",
   "id": "d60cd7d1",
   "metadata": {},
   "source": [
    "**51. Pravilnost EMŠO**</br></br>\n",
    "Zadnja števka v EMŠO je kontrolna. Izračuna se takole: prvo števko EMŠO pomnožimo s 7,\n",
    "drugo s šest, tretjo s pet in tako naprej, do šeste, ki jo pomnožimo z 2. Sedmo spet\n",
    "pomnožimo s 7, osmo s 6, deveto s 5 in tako do dvanajste, ki jo pomnožimo z 2. Za zadnjo,\n",
    "trinajsto števko, velja tole: če jo prištejemo h gornji vsoti, dobimo število, ki je deljivo z 11.</br></br>\n",
    "Napiši funkcijo ```preveri_emso(emso)```, ki preveri pravilnost podane številke EMŠO."
   ]
  },
  {
   "cell_type": "code",
   "execution_count": null,
   "id": "777f666e",
   "metadata": {},
   "outputs": [],
   "source": []
  },
  {
   "cell_type": "markdown",
   "id": "0eedbb7c",
   "metadata": {},
   "source": [
    "**52. Starost iz EMŠO**</br></br>\n",
    "Napiši funkcijo starost(emso), ki kot argument prejme EMŠO osebe in kot rezultat vrne njeno\n",
    "dopolnjeno starost v letih. Predpostavite, da smo 26. januarja 2010, torej je nekdo, ki je bil\n",
    "rojen 20. januarja 2000 (ali celo 26. januarja 2000) star 10 let, nekdo, ki je rojen 10. februarja 2000 pa samo 9 let, ker letos še ni praznoval rojstnega dne.</br></br>\n",
    "Rojstni datum osebe pove prvih sedem števk EMŠO. EMŠO osebe, rojene 10. 5. 1983, bi se\n",
    "začel z 1005983, prvih sedem števk EMŠO osebe, rojene 2. 3. 2001, pa bi bilo 0203001. Ali je\n",
    "oseba rojena leta 1xxx ali 2xxx, sklepamo po stotici.</br></br>\n",
    "*>>> starost(\"2601971500123\")*</br>\n",
    "*39*</br>\n",
    "*>>> starost(\"2001971500123\")*</br>\n",
    "*39*</br>\n",
    "*>>> starost(\"2002971500125\")*</br>\n",
    "*38*"
   ]
  },
  {
   "cell_type": "code",
   "execution_count": null,
   "id": "595af1f8",
   "metadata": {},
   "outputs": [],
   "source": []
  },
  {
   "cell_type": "markdown",
   "id": "b2338323",
   "metadata": {},
   "source": [
    "**53. Domine**</br></br>\n",
    "Vrsta domin je podana s seznamom parov (terk), na primer *[(3, 6), (6, 6), (6, 1), (1,\n",
    "0)]* ali *[(3, 6), (6, 6), (2, 3)]*. Napišite funkcijo ```domine(s)```, ki prejme takšen seznam in\n",
    "pove, ali so domine pravilno zložene. Za prvega od gornjih seznamov mora vrniti ```True``` in za\n",
    "drugega ```False```."
   ]
  },
  {
   "cell_type": "code",
   "execution_count": null,
   "id": "d744be3e",
   "metadata": {},
   "outputs": [],
   "source": []
  },
  {
   "cell_type": "markdown",
   "id": "d008cb93",
   "metadata": {},
   "source": [
    "**54. Dan v letu**</br></br>\n",
    "Napiši funkcijo dan_v_letu(dan, mesec), ki prejme datum v letu 2010 in vrne zaporedno\n",
    "številko dneva v letu. Tako je, na primer, 10. februar 41. dan v letu.</br></br>\n",
    "Leto 2010 seveda ni bilo prestopno.</br></br>\n",
    "*>>> dan_v_letu(26, 1)*</br>\n",
    "*26*</br>\n",
    "*>>> dan_v_letu(10, 2)*</br>\n",
    "*41*</br>\n",
    "*>>> dan_v_letu(31, 12)*</br>\n",
    "*365*"
   ]
  },
  {
   "cell_type": "code",
   "execution_count": null,
   "id": "39ab5d40",
   "metadata": {},
   "outputs": [],
   "source": []
  },
  {
   "cell_type": "markdown",
   "id": "e5690751",
   "metadata": {},
   "source": [
    "**55. Nepadajoči seznam**</br></br>\n",
    "Napiši funkcijo ```nepadajoc(s)```, ki za podani seznam pove, ali je nepadajoč, torej, ali je vsak\n",
    "element enak ali večji od svojega predhodnika."
   ]
  },
  {
   "cell_type": "code",
   "execution_count": null,
   "id": "e5950d03",
   "metadata": {},
   "outputs": [],
   "source": []
  },
  {
   "cell_type": "markdown",
   "id": "62f29952",
   "metadata": {},
   "source": [
    "**56. Mesta črke** </br></br>      \n",
    "Napiši funkcijo mesta_crke(beseda, crka), ki vrne seznam mest v besedi, na katerih nastopa\n",
    "podana črka.</br></br>\n",
    "*>>> mesta_crke(\"PONUDNIK\",\"N\")*</br>\n",
    "*[2, 5]*</br>\n",
    "*>>> mesta_crke(\"RABARBARA\", \"R\")*</br>\n",
    "*[0, 4, 7]*</br>\n",
    "*>>> mesta_crke(\"AMFITEATER\", \"O\")*</br>\n",
    "*[]*"
   ]
  },
  {
   "cell_type": "code",
   "execution_count": null,
   "id": "8ee89240",
   "metadata": {},
   "outputs": [],
   "source": []
  },
  {
   "cell_type": "markdown",
   "id": "1220277e",
   "metadata": {},
   "source": [
    "**57. Multiplikativni range**</br></br>\n",
    "Napiši funkcijo, ki vrne seznam, kjer je vsako naslednje število za podani faktor večje od\n",
    "prejšnjega. Npr., v seznamu [1,2,4,8,16] je vsako naslednje število dvakrat večje od\n",
    "prejšnjega. Argumenti funkcije naj bodo začetno število, faktor in dolžina seznama.</br></br>\n",
    "*>>> mrange(7, 4, 5)*</br>\n",
    "*[7, 28, 112, 448, 1792]*"
   ]
  },
  {
   "cell_type": "code",
   "execution_count": null,
   "id": "6844a9b0",
   "metadata": {},
   "outputs": [],
   "source": []
  },
  {
   "cell_type": "markdown",
   "id": "8d97e9eb",
   "metadata": {},
   "source": [
    "**58. Sumljive besede**</br></br>\n",
    "Napiši funkcijo, ki vrne seznam vseh sumljivih besed v danem nizu. Beseda je sumljiva, če\n",
    "vsebuje tako črko u kot črko a.</br></br>\n",
    "*>>> sumljive('Muha pa je rekla: \"Tale juha se je pa res prilegla, najlepsa huala,\" in odletela.')*</br>\n",
    "*['Muha', 'juha', 'huala,\"']*"
   ]
  },
  {
   "cell_type": "code",
   "execution_count": null,
   "id": "441edd24",
   "metadata": {},
   "outputs": [],
   "source": []
  },
  {
   "cell_type": "markdown",
   "id": "36bc05c6",
   "metadata": {},
   "source": [
    "**59. Kockarji**</br></br>\n",
    "N kockarjev eden za drugim meče kocko in mete beleži v seznam. Če bi prvi kockar vrgel 2,\n",
    "drugi 3, tretji 5, prvi 4, drugi 3, tretji 6, bi to zapisali kot *[2, 3, 5, 4, 3, 6]*.</br></br>\n",
    "Napišite funkcijo ```kockarji(s, n)```, ki prejme seznam in število kockarjev, kot rezultat pa vrne\n",
    "zaporedno številko kockarja, ki je vrgel največ šestic. (Prvi kockar naj ima zaporedno številko 1, ne 0.) Predpostaviti smete, da v igri sodeluje vsaj en igralec in, če potrebujete, tudi, da je\n",
    "dolžina seznama večkratnik ```n```.</br></br>\n",
    "*>>> kockarji([1, 2, 6, 1, 2, 6, 1, 6, 6, 1, 2, 1], 3)*</br>\n",
    "*3*</br>\n",
    "*>>> kockarji([1, 6, 1, 6, 2, 2], 2)*</br>\n",
    "*2*"
   ]
  },
  {
   "cell_type": "code",
   "execution_count": null,
   "id": "72b5494a",
   "metadata": {},
   "outputs": [],
   "source": []
  },
  {
   "cell_type": "markdown",
   "id": "1726b07b",
   "metadata": {},
   "source": [
    "**60. Križanka**</br></br>\n",
    "Napiši funkcijo ```krizanka(vzorec, besede)```, ki dobi kot argument napol izpolnjeno besedo\n",
    "vzorec, v kateri so manjkajoče črke zamenjane s pikami, in seznam besed ```besede```. Funkcija naj\n",
    "vrne seznam vseh besed, ki se ujamejo s podano besedo.</br></br>\n",
    "*>>> krizanka(\"r.k.\", [\"reka\", \"rokav\", \"robot\", \"roka\"])*</br>\n",
    "*['reka', 'roka']*</br></br>\n",
    "Namig: lažje bo, če najprej pripraviš funkcijo, ki dobi dve besedi in pove, ali druga ustreza prvi. To funkcijo nato kliči v funkciji, ki jo zahteva naloga."
   ]
  },
  {
   "cell_type": "code",
   "execution_count": null,
   "id": "15effe58",
   "metadata": {},
   "outputs": [],
   "source": []
  },
  {
   "cell_type": "markdown",
   "id": "868d4b08",
   "metadata": {},
   "source": [
    "**61. Sosedi**</br></br>\n",
    "Za neko krožno ulico (hiše so razporejene v krogu) imamo seznam, ki pove koliko ljudi živi v\n",
    "vsaki od hiš. Napiši funkcijo ```stevilo_sosedov(prebivalci)```, ki za vsako hišo pove, koliko ljudi\n",
    "živi v sosednjih dveh hišah. Za seznam *[1,2,0,5]* naj funkcija vrne *[7,1,7,1]*. Predpostaviti\n",
    "smeš, da so v vsaki krožni ulici vsaj tri hiše."
   ]
  },
  {
   "cell_type": "code",
   "execution_count": null,
   "id": "7c5283f2",
   "metadata": {},
   "outputs": [],
   "source": []
  },
  {
   "cell_type": "markdown",
   "id": "d56a1317",
   "metadata": {},
   "source": [
    "**62. Glajenje**</br></br>\n",
    "Napiši funkcijo, ki izračuna tekoče poprečje danega zaporedja. Kot argument naj prejme\n",
    "seznam števil, kot rezultat pa vrne seznam poprečij po štirih zaporednih elementov.</br></br>\n",
    "Tekoče poprečje seznama *[3, 5, 8, 0, 7, -3, 12, 0, -5, 5]* je *[4, 5, 3, 4, 4, 1, 3]*:\n",
    "poprečje elementov 3, 5, 8, 0 je 4, poprečje 5, 8, 0, 7 je 5, poprečje 8, 0, 7, -3 je 3 ..."
   ]
  },
  {
   "cell_type": "code",
   "execution_count": null,
   "id": "667d2e50",
   "metadata": {},
   "outputs": [],
   "source": []
  },
  {
   "cell_type": "markdown",
   "id": "ea64786a",
   "metadata": {},
   "source": [
    "**63. An ban pet podgan**</br></br>\n",
    "Napišite funkcijo, ki za dani seznam poišče zmagovalca v izštevanki \"An ban pet podgan\". V\n",
    "vsakem odštevanju izpade tisti, na katerega pokažemo ob besedi “ven”. Zmagovalec igre je\n",
    "tisti, ki na koncu edini ostane neizločen.</br></br>\n",
    "\n",
    "Za preverjanje: če imamo osebe *[\"Maja\", \"Janja\", \"Sabina\", \"Ina\", \"Jasna\"]* je\n",
    "zmagovalec Jasna. Če izštevamo osebe *[\"Maja\", \"Janja\", \"Sabina\"]*, zmaga Maja.</br></br>\n",
    "Za tiste, ki ste že malo pozabili; celotna izštevanka se glasi: \"an ban, pet podgan, štiri miši, v'uhme piši, vija, vaja, ven.\""
   ]
  },
  {
   "cell_type": "code",
   "execution_count": null,
   "id": "c323d283",
   "metadata": {},
   "outputs": [],
   "source": []
  },
  {
   "cell_type": "markdown",
   "id": "bfe1425c",
   "metadata": {},
   "source": [
    "**64. Največji skupni delitelj seznama**</br></br>\n",
    "Če bi rad odkril največji skupni delitelj štirih števil, recimo *a*, *b*, *c* in *d*, lahko to storiš tako, dapoiščeš največji skupni delitelj *a* in *b*; imenujmo ga *ab*. Nato poiščeš največji skupni delitelj *ab* in *c*; imenujmo ga *abc*. Nazadnje poiščeš največji skupni delitelj *abc* in *d*; to je največji skupni delitelj vseh štirih.</br></br>\n",
    "Napiši funkcijo ```skupni_delitelj(s)```, ki kot argument prejme seznam števil in kot rezultat vrne njihov največji skupni delitelj."
   ]
  },
  {
   "cell_type": "code",
   "execution_count": null,
   "id": "c92821e8",
   "metadata": {},
   "outputs": [],
   "source": []
  },
  {
   "cell_type": "markdown",
   "id": "fe2518a2",
   "metadata": {},
   "source": [
    "**65. Oškodovani otroci**</br></br>\n",
    "Mama deli bombone šestim otrokom, ki jih je oštevilčila s številkami od 0 do 5. Zaporedje\n",
    "dajanja bombonov je shranila v seznam. Tako, recimo, *[4, 0, 2, 3, 2, 0, 3, 4, 4, 4]*\n",
    "pomeni, da je najprej dala bombon četrtemu otroku, nato ničtemu, potem drugemu...</br></br>\n",
    "Napiši funkcijo, ki dobi takšen seznam otrok in vrne ```True```, če so dobili bombone vsi otroci, in ```False```, če je kateri ostal brez. V gornjem primeru mora vrniti ```False```, ker otrok 1 (pa tudi 5) ni\n",
    "dobil bombona."
   ]
  },
  {
   "cell_type": "code",
   "execution_count": null,
   "id": "448111f5",
   "metadata": {},
   "outputs": [],
   "source": []
  },
  {
   "cell_type": "markdown",
   "id": "91a19d84",
   "metadata": {},
   "source": [
    "**66. Lomljenje čokolade**</br></br>\n",
    "Imamo kvadratno čokolado iz n x n koščkov. Kako jo lomimo, pove niz, katerega prvi znak je\n",
    "stran, na kateri jo lomimo, preostali znaki so število odlomljenih stolpcev oz. vrstic:</br></br>\n",
    "• *\"<3\"* pomeni, da odlomimo tri stolpce z leve,</br>\n",
    "• *\">12\"* pomeni, da odlomimo 12 stolpcev z desne,</br>\n",
    "• *\"^1\"* pomeni, da odlomimo zgornjo vrstico,</br>\n",
    "• *\"v5\"* pomeni, da odlomimo spodnjih 5 vrstic.</br></br>\n",
    "Če poskušamo odlomiti več, kot je možno (imamo pet vrstic in uporabimo *\"v7\"*), pač\n",
    "odlomimo, kolikor gre (samo pet vrstic)</br></br>\n",
    "Napiši funkcijo ```cokolada(n, odlomi)```, ki prejme velikost čokolade (n) in seznam lomljenj\n",
    "(odlomi, na primer *[\"<3\", \">2\", \">1\", \"v12\", \"<7\"]*. Funkcija naj pove, koliko kvadratkov\n",
    "čokolade je še ostalo. Klic ```cokolada(10, [\"<3\", \"v5\"])``` vrne 35, saj je ostalo 7 stolpcev in 5\n",
    "vrstic."
   ]
  },
  {
   "cell_type": "code",
   "execution_count": null,
   "id": "4eb9e6e2",
   "metadata": {},
   "outputs": [],
   "source": []
  },
  {
   "cell_type": "markdown",
   "id": "95b641f1",
   "metadata": {},
   "source": [
    "**67. Razcep na praštevila**</br></br>\n",
    "Kot učijo že osnovnošolce, lahko vsako število razcepimo v produkt praštevil. Tako je *252*\n",
    "enako *2^2 3^2 7^1* in *1944* je *2^3 3^5*. Napiši funkcijo, ki kot argument prejme število in kot rezultat vrne seznam terk, ki predstavljajo osnovo in potenco. Za gornja primera mora izgledati takole:</br></br>\n",
    "*>>> razcep(252)*</br>\n",
    "*[(2, 2), (3, 2), (7, 1)]*</br>\n",
    "*>>> razcep(1944)*</br>\n",
    "*[(2, 3), (3, 5)]*</br></br>\n",
    "Da povadimo pisanje funkcij, naj bo rešitev sestavljena iz več funkcij.</br></br>\n",
    "**1.** Napiši funkcijo ```prastevilo(n)```, ki ugotovi, ali je dano število ```n``` praštevilo.</br></br>\n",
    "*>>> prastevilo(42)*</br>\n",
    "*False*</br>\n",
    "*>>> prastevilo(43)*</br>\n",
    "*True*</br></br>\n",
    "**2.** Napiši funkcijo ```prastevila(n)```, ki vrne vsa praštevila med (vključno!) ```2``` in ```n```. Funkcija naj\n",
    "deluje tako, da za vsako števila od ```2``` do ```n``` pokliče gornjo funkcijo ```prastevilo(n)``` in ga, če\n",
    "le-ta pravi, da gre za praštevilo, doda na seznam.</br></br>\n",
    "*>>> prastevila(100)*</br>\n",
    "*[2, 3, 5, 7, 11, 13, 17, 19, 23, 29, 31, 37, 41, 43, 47, 53, 59, 61, 67, 71, 73, 79, 83, 89, 97]*</br>\n",
    "*>>> prastevila(43)*</br>\n",
    "*[2, 3, 5, 7, 11, 13, 17, 19, 23, 29, 31, 37, 41, 43]*</br></br>\n",
    "**3.** Napiši funkcijo ```deljivost(n, i)```, ki pove, kolikokrat je ```n``` deljiv z ```i```. (Namig: dokler je ```n```\n",
    "deljiv z ```i```, ga deli z ```i``` in sproti štej, kolikokrat si ga delil.)</br></br>\n",
    "*>>> deljivost(1944, 2)*</br>\n",
    "*3*</br>\n",
    "*>>> deljivost(1944, 3)*</br>\n",
    "*5*</br></br>\n",
    "**4.** Napiši funkcijo ```razcep(n)```, ki naredi, kar zahteva naloga, pri čemer kliče funkciji\n",
    "```prastevila``` in ```deljivost```: za vsa praštevila med 2 in n ugotovi, kolikokrat delijo podano\n",
    "število in če ga delijo vsaj enkrat (torej, če ga delijo), to doda v seznam. (Namig: če želiš\n",
    "dodati v seznam ```t``` terko ```(1, 2)```, rečeš ```t.append((1, 2))``` in ne ```t.append(1, 2)```.)\n",
    "Rešitev ne bo preveč učinkovita, bo pa poučna, saj zahteva pravilno pisanje funkcij."
   ]
  },
  {
   "cell_type": "code",
   "execution_count": null,
   "id": "76e25690",
   "metadata": {},
   "outputs": [],
   "source": []
  },
  {
   "cell_type": "markdown",
   "id": "7d0c8af0",
   "metadata": {},
   "source": [
    "**68. Pari števil**</br></br>\n",
    "Napiši funkcijo ```pari()```, ki vrne seznam parov števil med ```1``` in ```1000```, za katera velja, da imata različno število mest, vendar je vsota njunih števk enaka. Vsak par naj se pojavi le enkrat; v seznamu naj bo torej, recimo, par ```(76, 526)``` ali ```(526, 76)```, ne pa oba.</br></br>\n",
    "Primer: prvih deset elementov seznama je lahko, recimo, takšnih: ```(76, 526), (88, 754), (8,\n",
    "134), (27, 153), (95, 617), (67, 922), (52, 7), (73, 541), (69, 465), (96, 726)```.\n",
    "</br></br>\n",
    "Par ```(76, 256)``` je na seznamu, ker ```7+6 = 5+2+6```. Pač pa na seznamu ni para ```(760, 526)```, saj\n",
    "imata števili enako število mest."
   ]
  },
  {
   "cell_type": "code",
   "execution_count": null,
   "id": "2c580364",
   "metadata": {},
   "outputs": [],
   "source": []
  },
  {
   "cell_type": "markdown",
   "id": "36d7203f",
   "metadata": {},
   "source": [
    "**69. Ploščina poligona**</br></br>\n",
    "Ploščino poligona, katerega oglišča so podana s koordinatami (x1, y1), (x2, y2), ... (xn, yn),\n",
    "izračunamo po formuli</br></br>\n",
    "![title](../images/ploscina-poligona-enacba.png)</br></br>\n",
    "Napiši funkcijo ploscina(o), ki kot argument prejme seznam oglišč poligona in kot rezultat\n",
    "vrne njegovo ploščino. Pazi na zadnji člen!</br></br>\n",
    "*>>> ploscina([(0, 0), (1, 0), (1, 1), (0, 1)])*</br>\n",
    "*1.0*</br>\n",
    "*>>> ploscina([(0, 0), (1, 0), (1, 1)])*</br>\n",
    "*0.5*</br>\n",
    "*>>> ploscina([(0, 0), (1, 0), (2, .5), (1, 1), (1, 2), (.5, 1), (0, 2)])*</br>\n",
    "*2.0*"
   ]
  },
  {
   "cell_type": "code",
   "execution_count": null,
   "id": "16c1c80f",
   "metadata": {},
   "outputs": [],
   "source": []
  },
  {
   "cell_type": "markdown",
   "id": "417a4230",
   "metadata": {},
   "source": [
    "**70. Sodost čebel**</br></br>\n",
    "Pri procesu izdelave medu iz nektarja je pomembno, da ločimo čebele, ki so obrale liho število\n",
    "cvetov od čebel, ki so obrale sodo število cvetov.</br></br>\n",
    "Podan je seznam, ki vsebuje terke ```(ime_cebele, stevilo_obranih_cvetov)```. Napišite\n",
    "funkcijo ```loci(cebele)```, ki prejme takšen seznam in vrne dva seznama. V prvem naj bodo\n",
    "imena čebel, ki so obrale sodo število cvetov, v drugem pa imena čebel, ki so obrale liho\n",
    "število cvetov. Za seznam ```[('Ana', 5), ('Berta', 7), ('Cilka', 2)]``` naj funkcija vrne\n",
    "seznama ```['Cilka']``` in ```['Ana', 'Berta']```. Čebele v obeh seznamih naj bodo urejene enako\n",
    "kot v prvotnem seznamu."
   ]
  },
  {
   "cell_type": "code",
   "execution_count": null,
   "id": "fe4b0df3",
   "metadata": {},
   "outputs": [],
   "source": []
  },
  {
   "cell_type": "markdown",
   "id": "966e04c4",
   "metadata": {},
   "source": [
    "**71. Sodi – lihi**</br></br>\n",
    "Napiši funkcijo ```sodi_lihi(sez)```, ki kot argument prejme seznam in vrne vrednost resnično, če\n",
    "se v seznamu izmenjujejo liha in soda števila, ter neresnično, če si kdaj zaporedoma sledita\n",
    "dve sodi oziroma dve lihi števili.</br></br>\n",
    "*>>> sodi_lihi([3, 4, 5, 6, 3, 2, 7, 12])*</br>\n",
    "*True*</br>\n",
    "*>>> sodi_lihi([3, 4, 5, 5, 6, 3, 2, 7, 12])*</br>\n",
    "*False*</br>\n",
    "*>>> sodi_lihi([3, 4])*</br>\n",
    "*True*</br>\n",
    "*>>> sodi_lihi([3, 3])*</br>\n",
    "*False*</br>\n",
    "*>>> sodi_lihi([3])*</br>\n",
    "*True*</br>\n",
    "*>>> sodi_lihi([])*</br>\n",
    "*True*"
   ]
  },
  {
   "cell_type": "code",
   "execution_count": null,
   "id": "5e524fcc",
   "metadata": {},
   "outputs": [],
   "source": []
  },
  {
   "cell_type": "markdown",
   "id": "372aba28",
   "metadata": {},
   "source": [
    "**72. Najprej lihi**</br></br>\n",
    "Napišite funkcijo najprej_lihi(s), ki kot argument prejme seznam števil s. Njihov vrstni red\n",
    "naj spremeni tako, da bodo v njem najprej liha, nato soda števila – vsaka zase v enakem\n",
    "vrstnem redu, kot so bila prej. Funkcija ne sme vračati ničesar.</br></br>\n",
    "*>>> s = [5, 8, 4, 17, 13, 10, 9]*</br>\n",
    "*>>> najprej_lihi(s)*</br>\n",
    "*>>> s*</br>\n",
    "*[5, 17, 13, 9, 8, 4, 10]*</br></br>\n",
    "5, 17, 13 in 9 so v enakem vrstnem redu kot prej; soda tudi."
   ]
  },
  {
   "cell_type": "code",
   "execution_count": null,
   "id": "0fd119db",
   "metadata": {},
   "outputs": [],
   "source": []
  },
  {
   "cell_type": "markdown",
   "id": "838e1855",
   "metadata": {},
   "source": [
    "**73. Sodo in liho in sodo in liho**</br></br>\n",
    "Napišite funkcijo ```soda_liha(s)```, ki kot argument prejme seznam števil s. Vrstni red števil naj spremeni tako, da se bodo v njem izmenjevala soda in liha števila, začenši s sodim. Oboja naj\n",
    "bodo v enakem vrstnem redu, kot so bila prej. Če je sodih več kot lihih ali obratno, naj\n",
    "odvečna števila odstrani.</br></br>\n",
    "*>>> s = [5, 8, 4, 2, 8, 17, 13, 10, 2, 4, 6, 8, 9]*</br>\n",
    "*>>> soda_liha(s)*</br>\n",
    "*>>> s*</br>\n",
    "*[8, 5, 4, 17, 2, 13, 8, 9]*</br></br>\n",
    "Po klicu funkcije so soda števila v enakem zaporedju kot prej, ```(8, 4, 2, 8)```, mednje pa so\n",
    "prepletena liha v enakem zaporedju kot prej ```(5, 17, 13, 9)```. Odvečna soda števila ```(10, 2, 4, 6, 8)```\n",
    "so izpuščena."
   ]
  },
  {
   "cell_type": "code",
   "execution_count": null,
   "id": "452fc052",
   "metadata": {},
   "outputs": [],
   "source": []
  },
  {
   "cell_type": "markdown",
   "id": "8bb36b79",
   "metadata": {},
   "source": [
    "**74. Plus - minus - plus**</br></br>\n",
    "Napiši funkcijo ```alterniraj(s)```, ki prejme seznam števil in ga spremeni tako, da za vsakim\n",
    "pozitivnim številom odstrani vsa števila do naslednjega negativnega števila, in za vsakim\n",
    "negativnim vsa števila do naslednjega pozitivnega. Funkcija naj spremeni podani seznam in ne\n",
    "vrne ničesar.</br></br>\n",
    "Z drugimi besedami, funkcija obdrži prvi element vsakega zaporedja pozitivnih ali negativnih\n",
    "števil.</br></br>\n",
    "Seznam ```[3, 4, -1, 1, -5, -2, -1, 7, -8]``` tako spremeni v ```[3, -1, 1, -5, 7, -8]```."
   ]
  },
  {
   "cell_type": "code",
   "execution_count": null,
   "id": "b3cde850",
   "metadata": {},
   "outputs": [],
   "source": []
  },
  {
   "cell_type": "markdown",
   "id": "b8dc243d",
   "metadata": {},
   "source": [
    "**75. Pecivo** </br></br>\n",
    "Tole je naloga, ki so jo na nekem tekmovanju reševali od četrtega razreda OŠ naprej.\n",
    "</br></br>\n",
    "\n",
    "![title](../images/bobri-pecejo.png)</br></br>\n",
    "Suzana in Aljaž sta odprla pekarno. Suzana peče pecivo v obliki črk ```A```, ```B``` in ```O```. Vedno speče vse tri oblike in jih obesi tako, da najprej natakne ```A```, nato ```B```, nato ```O```. Aljaž jih medtem prodaja (vendar ne proda nobene v tem času, ko jih Suzana natika).    Suzana jih peče hitreje, kot se prodajajo. Če je pekarna videti, kot kaže slika: najmanj koliko kosov peciva sta prodala?</br></br>\n",
    "Rešitev: devet kosov. </br></br>\n",
    "Kako dobimo takšno zaporedje? Napišemo zaporedje, ki vsebuje toliko Ajev, kolikor jih je na\n",
    "sliki:```ABOABOABOABOABOABO```. Nato prečrtamo, česar ni na sliki:\n",
    "```ABOABOABOABOABOABO```. Preštejemo prečrtane črke: devet jih je.\n",
    "</br></br>\n",
    "\n",
    "Napiši funkcijo ```pecivo(s)```, ki prejme niz s, na primer ```AAABAABOAABO``` in vrne najmanjše možno\n",
    "število prodanih prest (v gornjem primeru 9).\n",
    "Naloge raje ne rešuj natančno tako, kot predlaga gornja rešitev; z računalnikom gre\n",
    "preprosteje."
   ]
  },
  {
   "cell_type": "code",
   "execution_count": null,
   "id": "527b94b1",
   "metadata": {},
   "outputs": [],
   "source": []
  },
  {
   "cell_type": "markdown",
   "id": "19e3313a",
   "metadata": {},
   "source": [
    "**76. Nogavice brez para**</br></br>\n",
    "Ker smo moški, vemo, barvno slepi, obenem pa v družini z ženo in n otroki ni mogoče, da bi\n",
    "imel vsak same enake nogavice, se lahko znajdemo tako, da na vsako nogavico prišijemo\n",
    "številko. Enake nogavice imajo enako številko; ker imamo več enakih nogavic, ima lahko več\n",
    "nogavic enako številko.</br></br>\n",
    "Recimo, da iz pralnega stroja potegnemo nogavice s številkami ```[1, 2, 3, 2, 3, 1, 3, 1, 1,\n",
    "1, 1]```. Imamo torej tri pare nogavic 1, en par nogavic 2 in en par nogavic 3 in (eh, spet!) še eno\n",
    "3 brez para.</br></br>\n",
    "Napiši funkcijo ```nogavice(s)```, ki prejme seznam številk nogavic in vrne seznam vseh številk\n",
    "nogavic brez para. V gornjem primeru torej vrne ```[3]```. Vrstni red elementov v seznamu naj bo\n",
    "enak vrstnemu redu zadnjih pojavitev teh številk; za ```[1, 1, 4, 1, 3, 1]``` vrne ```[4, 3]``` in ne ```[3,\n",
    "4]```."
   ]
  },
  {
   "cell_type": "code",
   "execution_count": null,
   "id": "6b85ab92",
   "metadata": {},
   "outputs": [],
   "source": []
  },
  {
   "cell_type": "markdown",
   "id": "ca6196af",
   "metadata": {},
   "source": [
    "**77. Presedanje**</br></br>\n",
    "Neki dan so za okroglo mizo sedele Ana, Berta, Cilka, Dani in Ema (v tem vrstnem redu). Bile so\n",
    "nesrečne, zato so se drugi dan presedle v drug vrstni red: Cilka, Dani, Ema, Ana in Berta. Ni\n",
    "pomagalo saj so, če dobro razmislimo ... sedele enako, saj je miza okrogla in so se pravzaprav\n",
    "le zavrtele – vsaka je imela še vedno isto levo in desno sosedo, vir njihove nesrečnosti.</br></br>\n",
    "Napiši funkcijo ```enaka_razporeda(razpored1, razpored2)```, ki pove, ali sta dva razporeda enaka\n",
    "ali ne. Razporeda sta podana s seznamom imen. Če ti pride prav, smeš predpostaviti, da imajo\n",
    "vsi gostje različna imena (ali pa da seznam namesto imen vsebuje Enotne matične številke\n",
    "občank). Če ne razumeš, zakaj bi ti ta predpostavka olajšala življenje, se ne vznemirjaj.</br></br>\n",
    "*>>> r1 = [\"Ana\", \"Berta\", \"Cilka\", \"Dani\", \"Ema\"]*</br>\n",
    "*>>> enaka_razporeda(r1, [\"Cilka\", \"Dani\", \"Ema\", \"Ana\", \"Berta\"])*</br>\n",
    "*True*</br>\n",
    "*>>> enaka_razporeda(r1, [\"Berta\", \"Ana\", \"Cilka\", \"Dani\", \"Ema\"])*</br>\n",
    "*False*</br>\n",
    "*>>> enaka_razporeda(r1, [\"Ana\", \"Berta\", \"Cilka\"])*</br>\n",
    "*False*</br>\n",
    "*>>> enaka_razporeda(r1, [\"Greta\", \"Helga\"])*</br>\n",
    "*False*</br>\n",
    "*>>> enaka_razporeda(r1, [])*</br>\n",
    "*False*</br>\n",
    "*>>> enaka_razporeda([], [])*</br>\n",
    "*True*</br>"
   ]
  },
  {
   "cell_type": "code",
   "execution_count": null,
   "id": "6a7fd7da",
   "metadata": {},
   "outputs": [],
   "source": []
  }
 ],
 "metadata": {
  "language_info": {
   "name": "python"
  }
 },
 "nbformat": 4,
 "nbformat_minor": 5
}
