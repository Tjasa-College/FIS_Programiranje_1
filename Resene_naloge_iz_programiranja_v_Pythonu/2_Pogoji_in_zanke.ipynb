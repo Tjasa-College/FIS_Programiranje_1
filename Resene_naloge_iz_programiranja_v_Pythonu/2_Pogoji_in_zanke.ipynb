{
 "cells": [
  {
   "cell_type": "markdown",
   "id": "22e1dd11",
   "metadata": {},
   "source": [
    "**5. Vaja iz poštevanke**</br></br>\n",
    "Napiši program, ki uporabniku zastavi vprašanje iz poštevanke. Uporabnik vpiše odgovor in\n",
    "program odgovori »Pravilno.« ali »Napačno.«</br></br>\n",
    "*3 krat 10* </br>\n",
    "*Odgovor? 29* </br>\n",
    "*Napačno.* </br></br>\n",
    "Namig: »3 krat 10« smo izpisali s ```print```, »Odgovor?« pa z ```input```. »29« je vtipkal uporabnik.</br></br>\n",
    "Naključno število med 2 in 10 dobiš s klicem ```randint(2, 10)```. Da jo boš lahko uporabljal, na\n",
    "začetku programa napiši ```from random import *```. Tvoj program se bo torej najbrž začel nekako\n",
    "takole</br></br>\n",
    "```\n",
    "from random import *\n",
    "a = randint(2, 10)\n",
    "b = randint(2, 10)\n",
    "```"
   ]
  },
  {
   "cell_type": "code",
   "execution_count": 2,
   "id": "1ebde1bf",
   "metadata": {},
   "outputs": [
    {
     "name": "stdout",
     "output_type": "stream",
     "text": [
      "9 krat 5\n",
      "Napačno\n"
     ]
    }
   ],
   "source": [
    "from random import *\n",
    "\n",
    "prvo_stevilo = randint(1,10)\n",
    "drugo_stevilo = randint(1,10)\n",
    "\n",
    "print(f\"{prvo_stevilo} krat {drugo_stevilo}\")\n",
    "odgovor = int(input(\"Odgovor? \"))\n",
    "\n",
    "postevanka = prvo_stevilo*drugo_stevilo\n",
    "\n",
    "if odgovor == postevanka:\n",
    "    print(\"Pravilno\")\n",
    "else:\n",
    "    print(\"Napačno\")\n"
   ]
  },
  {
   "cell_type": "markdown",
   "id": "da507120",
   "metadata": {},
   "source": [
    "**6. Vsi po pet** </br></br>\n",
    "V trgovini \"Vsi po pet\" morajo stranke vedno kupiti natanko pet izdelkov. Za blagajne zato\n",
    "potrebujejo programsko opremo, ki uporabnika (blagajnika) vpraša po petih cenah; ko jih le-ta\n",
    "vnese, program izpiše vsoto.</br></br>\n",
    "*Cena izdelka:* **2** </br>\n",
    "*Cena izdelka:* **4.5** </br>\n",
    "*Cena izdelka:* **1** </br>\n",
    "*Cena izdelka:* **6** </br>\n",
    "*Cena izdelka:* **3** </br>\n",
    "*Vsota:* **16.5**"
   ]
  },
  {
   "cell_type": "code",
   "execution_count": 5,
   "id": "0302c6aa",
   "metadata": {},
   "outputs": [
    {
     "name": "stdout",
     "output_type": "stream",
     "text": [
      "Vsota: 16.5\n"
     ]
    }
   ],
   "source": [
    "i=0\n",
    "sum=0\n",
    "while i<5:\n",
    "    cena_izdelka = float(input(\"Cena izdelka: \"))\n",
    "    sum += cena_izdelka\n",
    "    i+=1\n",
    "print(f\"Vsota: {sum}\")\n"
   ]
  },
  {
   "cell_type": "markdown",
   "id": "36e75df5",
   "metadata": {},
   "source": [
    "**7. Konkurenca**</br></br>\n",
    "Konkurenca ne spi. Trgovina za vogalom se je odločila za posebno ponudbo: kupec lahko kupi\n",
    "toliko izdelkov, kolikor želi. Napiši program, ki blagajnika vpraša, koliko izdelkov je v košarici, nato vpraša po cenah teh izdelkov in na koncu izpiše vsoto.</br></br>\n",
    "*Število izdelkov:* **3**</br>\n",
    "*Cena izdelka:* **2**</br>\n",
    "*Cena izdelka:* **4.5**</br>\n",
    "*Cena izdelka:* **1.25**</br>\n",
    "*Vsota:* **7.75**"
   ]
  },
  {
   "cell_type": "code",
   "execution_count": 7,
   "id": "5d660398",
   "metadata": {},
   "outputs": [
    {
     "name": "stdout",
     "output_type": "stream",
     "text": [
      "Vsota: 7.75\n"
     ]
    }
   ],
   "source": [
    "stevilo_izdelkov = int(input(\"Prosim napišite število izdelkov v košarici: \"))\n",
    "i=0\n",
    "sum=0\n",
    "while i<stevilo_izdelkov:\n",
    "    cena_izdelka = float(input(\"Cena izdelka: \"))\n",
    "    sum += cena_izdelka\n",
    "    i+=1\n",
    "print(f\"Vsota: {sum}\")"
   ]
  },
  {
   "cell_type": "markdown",
   "id": "1e0c048d",
   "metadata": {},
   "source": [
    "**8. Top-shop**</br></br>\n",
    "Modro vodstvo tretje trgovine za drugim vogalom je analiziralo poslovanje druge trgovine in\n",
    "odkrilo, da ima dolge vrste na blagajnah, to pa zato, ker morajo blagajniki prešteti izdelke,\n",
    "preden lahko začnejo vnašati njihove cene. Zase je naročilo nov program, ki ne vpraša po\n",
    "številu izdelkov, temveč sprašuje po cenah toliko časa, dokler blagajnik ne vnese ničle.</br></br>\n",
    "\n",
    "*Cena izdelka:* **2**</br>\n",
    "*Cena izdelka:* **4**</br>\n",
    "*Cena izdelka:* **1**</br>\n",
    "*Cena izdelka:* **0**</br>\n",
    "*Vsota:* **7.0**"
   ]
  },
  {
   "cell_type": "code",
   "execution_count": 11,
   "id": "d16451d0",
   "metadata": {},
   "outputs": [
    {
     "name": "stdout",
     "output_type": "stream",
     "text": [
      "Vsota: 7.0\n"
     ]
    }
   ],
   "source": [
    "sum=0\n",
    "cena_izdelka= float(input(\"Cena izdelka: \"))\n",
    "\n",
    "while cena_izdelka !=0:\n",
    "    sum += cena_izdelka\n",
    "    cena_izdelka= float(input(\"Cena izdelka: \"))\n",
    "print(f\"Vsota: {sum}\")"
   ]
  },
  {
   "cell_type": "markdown",
   "id": "b6bb9a44",
   "metadata": {},
   "source": [
    "**9. Državna agencija za varstvo potrošnikov**</br></br>\n",
    "Zaradi poplave sumljivih trgovin za vogali se je Državna agencija za varstvo potrošnikov\n",
    "odločila nadzorovati poprečne cene izdelkov v košaricah strank. Popravi zadnji ali predzadnji\n",
    "program tako, da bo izpisal tudi poprečno ceno.</br></br>\n",
    "\n",
    "*Cena izdelka:* **2**</br>\n",
    "*Cena izdelka:* **4**</br>\n",
    "*Cena izdelka:* **1**</br>\n",
    "*Cena izdelka:* **0**</br>\n",
    "*Vsota:* **7**</br>\n",
    "*Poprečna cena:* **2.33333333333**</br></br>\n",
    "\n",
    "Ne vznemirjaj se zaradi grdega izpisa cene; državni uradniki so natančni in želijo vedeti vse do\n",
    "zadnje decimalke!"
   ]
  },
  {
   "cell_type": "code",
   "execution_count": null,
   "id": "ae58293e",
   "metadata": {},
   "outputs": [
    {
     "name": "stdout",
     "output_type": "stream",
     "text": [
      "Vsota: 7.0\n",
      "Povprečna cena: 1.75\n"
     ]
    }
   ],
   "source": [
    "#predzadnji\n",
    "stevilo_izdelkov = int(input(\"Prosim napišite število izdelkov v košarici: \"))\n",
    "i=0\n",
    "sum=0\n",
    "while i<stevilo_izdelkov:\n",
    "    cena_izdelka = float(input(\"Cena izdelka: \"))\n",
    "    sum += cena_izdelka\n",
    "    i+=1\n",
    "print(f\"Vsota: {sum}\")\n",
    "print(f\"Povprečna cena: {sum/i}\")"
   ]
  },
  {
   "cell_type": "code",
   "execution_count": 16,
   "id": "94bfda11",
   "metadata": {},
   "outputs": [
    {
     "name": "stdout",
     "output_type": "stream",
     "text": [
      "Vsota: 7.0\n",
      "Povprečna cena: 2.3333333333333335\n"
     ]
    }
   ],
   "source": [
    "sum=0\n",
    "cena_izdelka= float(input(\"Cena izdelka: \"))\n",
    "i=1\n",
    "while cena_izdelka !=0:\n",
    "    sum += cena_izdelka\n",
    "    cena_izdelka= float(input(\"Cena izdelka: \"))\n",
    "    i+=1\n",
    "print(f\"Vsota: {sum}\")\n",
    "print(f\"Povprečna cena: {sum/(i-1)}\")"
   ]
  },
  {
   "cell_type": "markdown",
   "id": "1514245d",
   "metadata": {},
   "source": [
    "**10. Collatzova domneva**</br></br>\n",
    "Vzemimo poljubno število in z njim počnimo tole: če je sodo, ga delimo z 2, če je liho, pa ga\n",
    "pomnožimo s 3 in prištejmo 1. To ponavljamo, dokler ne dobimo 1.</br></br>\n",
    "Za primer vzemimo 12. Ker je sodo, ga delimo z 2 in dobimo 6. 6 je sodo, torej ga delimo z 2 in\n",
    "dobimo 3. 3 je liho, torej ga množimo s 3 in prištejemo 1 – rezultat je 10. 10 je sodo, zato ga\n",
    "delimo z 2 in dobimo 5... Celotno zaporedje je 12, 6, 3, 10, 5, 16, 8, 4, 2, 1. Ko pridemo do 1, se ustavimo.</br></br>\n",
    "Napiši program, ki mu uporabnik vnese število, program pa izpiše zaporedje, ki se začne s tem\n",
    "številom.</br></br>\n",
    "Mimogrede: naloga se ukvarja z enim slavnih nerešenih matematičnih problemov. Na\n",
    "Wikipediji poglej stran \"Collatz conjecture\"."
   ]
  },
  {
   "cell_type": "code",
   "execution_count": 17,
   "id": "a36bbbf7",
   "metadata": {},
   "outputs": [
    {
     "name": "stdout",
     "output_type": "stream",
     "text": [
      "12\n",
      "6.0\n",
      "3.0\n",
      "10.0\n",
      "5.0\n",
      "16.0\n",
      "8.0\n",
      "4.0\n",
      "2.0\n",
      "1.0\n"
     ]
    }
   ],
   "source": [
    "vneseno_stevilo=int(input(\"Vnesi število: \"))\n",
    "print(vneseno_stevilo)\n",
    "while vneseno_stevilo != 1:\n",
    "    if vneseno_stevilo % 2 ==0:\n",
    "        vneseno_stevilo /=2\n",
    "    else:\n",
    "        vneseno_stevilo = vneseno_stevilo*3 +1\n",
    "    print(vneseno_stevilo)"
   ]
  },
  {
   "cell_type": "markdown",
   "id": "01ef337f",
   "metadata": {},
   "source": [
    "**11. Benjaminovi kovanci**</br></br>\n",
    "Nekdo (recimo mu Benjamin) igra igro na srečo, pri kateri meče kovanec. Če pade grb, izgubi,\n",
    "če pade cifra dobi en kovanec. Napiši program, ki odigra eno igro. Benjamin ima v začetku 5\n",
    "kovancev. Z igro konča, ko ima deset kovancev ali pa ostane brez njih. Program naj po vsakem\n",
    "koraku igre izpiše, kaj je padlo (G ali C) in koliko kovancev ima Benjamin.</br></br>\n",
    "Za metanje kovanca smeš uporabiti že pripravljeno funkcijo vrzi, ki ne sprejema nobenih\n",
    "argumentov in vrne G ali C. Postavi jo na vrh svojega programa.\n",
    "</br>\n",
    "\n",
    "```\n",
    "import random\n",
    "def vrzi():\n",
    "return random.choice(\"GC\")\n",
    "```\n",
    "\n",
    "</br>\n",
    "\n",
    "**Primer izpisa:**</br>\n",
    "*G 4*</br>\n",
    "*G 3*</br>\n",
    "*G 2*</br>\n",
    "*C 3*</br>\n",
    "*C 4*</br>\n",
    "*G 3*</br>\n",
    "*G 2*</br>\n",
    "*C 3*</br>\n",
    "*G 2*</br>\n",
    "*G 1*</br>\n",
    "*G 0*"
   ]
  },
  {
   "cell_type": "code",
   "execution_count": 19,
   "id": "af921ae8",
   "metadata": {},
   "outputs": [
    {
     "name": "stdout",
     "output_type": "stream",
     "text": [
      "G 4\n",
      "G 3\n",
      "C 4\n",
      "G 3\n",
      "G 2\n",
      "G 1\n",
      "C 2\n",
      "G 1\n",
      "C 2\n",
      "G 1\n",
      "G 0\n"
     ]
    }
   ],
   "source": [
    "import random\n",
    "\n",
    "def vrzi():\n",
    "    return random.choice(\"GC\")\n",
    "\n",
    "kovanci = 5\n",
    "\n",
    "while kovanci < 10 and kovanci > 0:\n",
    "    met = vrzi()\n",
    "    if met == \"C\":\n",
    "        kovanci += 1\n",
    "    else:\n",
    "        kovanci -= 1\n",
    "    print(met, kovanci)"
   ]
  },
  {
   "cell_type": "markdown",
   "id": "fb1e0c98",
   "metadata": {},
   "source": [
    "**12. Tekmovanje iz poštevanke** </br></br>\n",
    "Sestavite program za tekmovanje iz poštevanke, ki poteka takole. Dva tekmovalca si\n",
    "zastavljata račune tako, da eden vpiše dva faktorja, drugi mora povedati produkt. Nato se\n",
    "zamenjata. Tekmovalec dobi točko, če ugane pravilni zmnožek. Po vsakem krogu program\n",
    "izpiše trenutni rezultat. Igre je konec, ko eden od tekmovalcev vodi za več kot dve točki.\n",
    "Program mu mora primerno čestitati, drugemu pa povedati, kar mu gre. </br></br>\n",
    "*Tekmovalec 1, prvi faktor?* **4**</br>\n",
    "*Tekmovalec 1, drugi faktor?* **2**</br>\n",
    "*Tekmovalec 2, produkt?* **8** </br></br>\n",
    "*Tekmovalec 2, prvi faktor?* **8**</br>\n",
    "*Tekmovalec 2, drugi faktor?* **4**</br>\n",
    "*Tekmovalec 1, produkt?* **32** </br></br>\n",
    "*Trenutni rezultat: 1 : 1* </br></br>\n",
    "*Tekmovalec 1, prvi faktor?* **4**</br>\n",
    "*Tekmovalec 1, drugi faktor?* **5**</br>\n",
    "*Tekmovalec 2, produkt?* **21** </br></br>\n",
    "(in tako naprej, do) </br></br>\n",
    "*Tekmovalec 2, prvi faktor?* **3**</br>\n",
    "*Tekmovalec 2, drugi faktor?* **3**</br>\n",
    "*Tekmovalec 1, produkt?* **8** </br></br>\n",
    "*Trenutni rezultat: 2 : 4* </br></br>\n",
    "*Bravo drugi! Prvi, cvek!* </br></br>"
   ]
  },
  {
   "cell_type": "code",
   "execution_count": 21,
   "id": "5fec16dc",
   "metadata": {},
   "outputs": [
    {
     "name": "stdout",
     "output_type": "stream",
     "text": [
      "Trenutni rezultat: 1 : 1\n",
      "Trenutni rezultat: 2 : 2\n",
      "Trenutni rezultat: 4 : 2\n",
      "Bravo prvi! Drugi cvek!\n"
     ]
    }
   ],
   "source": [
    "tocke1=0\n",
    "tocke2=0\n",
    "\n",
    "while abs(tocke1-tocke2)<2:\n",
    "    prvi_faktor=int(input(\"Tekmovalec 1 prvi faktor: \"))\n",
    "    drugi_faktor = int(input(\"Tekmovalec 1 drugi faktor: \"))\n",
    "    produkt = int(input(\"Tekmovalec 2 produkt: \"))\n",
    "\n",
    "    if prvi_faktor*drugi_faktor==produkt:\n",
    "        tocke2 +=1\n",
    "    else:\n",
    "        tocke1 +=1\n",
    "\n",
    "    prvi_faktor=int(input(\"Tekmovalec 2 prvi faktor: \"))\n",
    "    drugi_faktor = int(input(\"Tekmovalec 2 drugi faktor: \"))\n",
    "    produkt = int(input(\"Tekmovalec 1 produkt: \"))\n",
    "\n",
    "    if prvi_faktor*drugi_faktor==produkt:\n",
    "        tocke1 +=1\n",
    "    else:\n",
    "        tocke2 +=1\n",
    "\n",
    "    print(f\"Trenutni rezultat: {tocke1} : {tocke2}\")\n",
    "    \n",
    "if tocke2>tocke1:\n",
    "    print(\"Bravo drugi! Prvi cvek!\")\n",
    "else:\n",
    "    print(\"Bravo prvi! Drugi cvek!\")"
   ]
  },
  {
   "cell_type": "markdown",
   "id": "a59a5e5c",
   "metadata": {},
   "source": [
    "**13. Števke**</br></br>\n",
    "Napiši program, ki prebere število in izpiše njegove števke v poljubnem vrstnem redu. Če\n",
    "uporabnik vpiše 127476, bi lahko program izpisal, recimo</br></br>\n",
    "6</br>\n",
    "7</br>\n",
    "4</br>\n",
    "7</br>\n",
    "2</br>\n",
    "1</br></br>\n",
    "Predpostaviti smeš, da je število pozitivno.</br></br>\n",
    "Namig: v resnici bo najlažje, če izpisuje v tem vrstnem redu. Zadnjo števko dobiš tako, da\n",
    "izračunaš ostanek po deljenju z 10. Po tem število deliš z 10. Vse skupaj ponavljaš, dokler ne\n",
    "dobiš 0."
   ]
  },
  {
   "cell_type": "code",
   "execution_count": 22,
   "id": "61b164a2",
   "metadata": {},
   "outputs": [
    {
     "name": "stdout",
     "output_type": "stream",
     "text": [
      "6\n",
      "7\n",
      "4\n",
      "7\n",
      "2\n",
      "1\n"
     ]
    }
   ],
   "source": [
    "vpisana_stevilka = int(input(\"Vpiši poljubno naravno število\"))\n",
    "\n",
    "while vpisana_stevilka !=0:\n",
    "    stevka = vpisana_stevilka % 10\n",
    "    vpisana_stevilka=vpisana_stevilka//10\n",
    "    print(stevka)"
   ]
  },
  {
   "cell_type": "markdown",
   "id": "2894fb1a",
   "metadata": {},
   "source": [
    "**14. Obrnjena števila**</br></br>\n",
    "Napiši program, ki obrne podano število. Če uporabnik vpiše 8732, naj računalnik odgovori\n",
    "2378. (Tole je sicer bolj vaja iz matematike kot iz programiranja.)</br></br>\n",
    "Če vadiš funkcije, napiši funkcijo ```obrni_stevilo(n)```, ki vrne obrnjeno število."
   ]
  },
  {
   "cell_type": "code",
   "execution_count": 25,
   "id": "ca6af285",
   "metadata": {},
   "outputs": [
    {
     "name": "stdout",
     "output_type": "stream",
     "text": [
      "543211\n"
     ]
    }
   ],
   "source": [
    "vpisana_stevilka = int(input(\"Vpiši poljubno naravno število\"))\n",
    "obrnjena_stevilka=0\n",
    "while vpisana_stevilka !=0:\n",
    "    obrnjena_stevilka = obrnjena_stevilka * 10 + vpisana_stevilka % 10\n",
    "    vpisana_stevilka=vpisana_stevilka//10\n",
    "\n",
    "print(obrnjena_stevilka)"
   ]
  },
  {
   "cell_type": "markdown",
   "id": "5e40790f",
   "metadata": {},
   "source": [
    "**15. Kalkulator**</br></br>\n",
    "Če vadiš funkcije, napiši funkcijo ```calc(v1, v2, oper)```, ki deluje kot preprost kalkulator.\n",
    "Sprejme naj dve števili (```v1``` in ```v2```) in operacijo (kot niz '*', '+' ali '-') ter vrne rezultat.\n",
    "Če jih še ne, nalogo preskoči. :)"
   ]
  },
  {
   "cell_type": "code",
   "execution_count": 30,
   "id": "e056ea93",
   "metadata": {},
   "outputs": [
    {
     "name": "stdout",
     "output_type": "stream",
     "text": [
      "This is not a valid operation\n"
     ]
    }
   ],
   "source": [
    "def calc(v1, v2, oper):\n",
    "    if oper == '+':\n",
    "        return v1 + v2\n",
    "    elif oper == '-':\n",
    "        return v1 - v2\n",
    "    elif oper == '/':\n",
    "        return v1/v2\n",
    "    elif oper == '*':\n",
    "        return v1 * v2\n",
    "    else:\n",
    "        return 'This is not a valid operation'\n",
    "    \n",
    "prva_stevilka= float(input(\"Vpiši prvo število: \"))\n",
    "druga_stevilka= float(input(\"Vpiši drugo število: \"))\n",
    "operator = input(\"Vliši operator: \")\n",
    "\n",
    "print(calc(prva_stevilka, druga_stevilka, operator))"
   ]
  }
 ],
 "metadata": {
  "kernelspec": {
   "display_name": "Python 3",
   "language": "python",
   "name": "python3"
  },
  "language_info": {
   "codemirror_mode": {
    "name": "ipython",
    "version": 3
   },
   "file_extension": ".py",
   "mimetype": "text/x-python",
   "name": "python",
   "nbconvert_exporter": "python",
   "pygments_lexer": "ipython3",
   "version": "3.12.4"
  }
 },
 "nbformat": 4,
 "nbformat_minor": 5
}
