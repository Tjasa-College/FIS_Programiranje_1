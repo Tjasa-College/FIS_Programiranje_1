{
 "cells": [
  {
   "cell_type": "markdown",
   "id": "e834f9ff",
   "metadata": {},
   "source": [
    "**167. Stopnice**</br></br>\n",
    "Stopnišča z neenakimi višinami stopnic lahko opišemo tako, da navedemo višine stopnic,\n",
    "merjene od tal (ne od prejšnje stopnice). Po stopnicah, opisanih s takšnim seznamom, pleza\n",
    "robot, ki lahko stopi največ 20 cm visoko. Napiši funkcijo `kako_visoko(stopnice)`, ki kot\n",
    "argument prejme višine stopnic, rezultat, ki ga vrne, pa pove, kako visoko bo robot priplezal.</br></br>\n",
    "*>>> kako_visoko([10, 20, 25, 45, 50, 71, 98, 110])*</br>\n",
    "*50*</br>\n",
    "*>>> kako_visoko([30, 40, 50])*</br>\n",
    "*0*</br>\n",
    "*>>> kako_visoko([10, 20, 30, 40, 45])*</br>\n",
    "*45*</br></br>\n",
    "V prvem primeru robot pripleza do višine 50, nato pa se ustavi, ker je naslednja stopnica\n",
    "21 cm višja od te, na kateri stoji. V drugem se ne more povzpeti niti na prvo stopnico. V\n",
    "zadnjem pripleza do vrha."
   ]
  },
  {
   "cell_type": "code",
   "execution_count": null,
   "id": "32a4fbfa",
   "metadata": {},
   "outputs": [],
   "source": []
  },
  {
   "cell_type": "markdown",
   "id": "9f61d396",
   "metadata": {},
   "source": [
    "**168. Drugi največji element**</br></br>\n",
    "Napiši program, ki vrne drugi največji element v seznamu. Če se največji element pojavi\n",
    "večkrat, njegove ponovitve ne štejejo za drugi največji element: če imamo seznam `[5, 1, 4, 8, 2, 3, 8]`, je drugi največji element `5`, ne `8`."
   ]
  },
  {
   "cell_type": "code",
   "execution_count": null,
   "id": "a4e4144d",
   "metadata": {},
   "outputs": [],
   "source": []
  },
  {
   "cell_type": "markdown",
   "id": "5adcbf94",
   "metadata": {},
   "source": [
    "**169. Collatz 2**</br></br>\n",
    "Spomni se naloge Collatzova domneva. Nekoliko težja naloga je napisati program, ki izpiše\n",
    "tisto število med 1 in 100000, ki vodi v najdaljše zaporedje, in dolžino tega zaporedja (vključno\n",
    "s prvim številom in enico). (Da boste vedeli, ali ste naračunali pravi rezultat: število, ki da\n",
    "najdaljše zaporedje, je deljivo le z dvema različnima prašteviloma - z enim od njiju kar petkrat,\n",
    "z drugim pa le enkrat."
   ]
  },
  {
   "cell_type": "code",
   "execution_count": null,
   "id": "b3388c28",
   "metadata": {},
   "outputs": [],
   "source": []
  },
  {
   "cell_type": "markdown",
   "id": "59cffce2",
   "metadata": {},
   "source": [
    "**170. Delnice**</br></br>\n",
    "Imamo seznam z gibanji vrednosti določene delnice v posameznih mesecih 2009. Seznam je\n",
    "lahko, na primer, takšen:</br></br>\n",
    "*delnica = [1, -2, -4, 1, 2, -1, 3, 4, -2, 1, -5, -5]*</br></br>\n",
    "Delnica na gornjem seznamu je pridobila eno točko januarja, februarja je izgubila dve, marca\n",
    "je izgubila štiri, aprila pridobila eno... Napišite funkcijo `posrednik(s)`, ki dobi seznam, kakršen\n",
    "je gornji in vrne par (terko), ki pove, kdaj je bilo delnico pametno kupiti in prodati, da bi z njo\n",
    "dosegli največji dobiček. Delnico bomo kupili in prodali samo enkrat.</br></br>\n",
    "\n",
    "*>>> delnica = [1, -2, -4, 1, 2, -1, 3, 4, -2, 1, -5, -5]*</br>\n",
    "*>>> kupim, prodam = posrednik(delnica)*</br>\n",
    "*>>> kupim*</br>\n",
    "*3*</br>\n",
    "*>>> prodam*</br>\n",
    "*8*</br></br>\n",
    "Delnico je smiselno kupiti v tretjem mesecu (če je januar \"ničti \") in prodati pred osmim. Vmes\n",
    "vrednost delnice sicer enkrat tudi nekoliko pade (-1), vendar nas to ne moti, saj po tem še\n",
    "pošteno zraste. Skupaj smo v tem času zaslužili 1 + 2 – 1 + 3 + 4 = 9 točk."
   ]
  },
  {
   "cell_type": "code",
   "execution_count": null,
   "id": "ab472c0a",
   "metadata": {},
   "outputs": [],
   "source": []
  },
  {
   "cell_type": "markdown",
   "id": "3614b752",
   "metadata": {},
   "source": [
    "**171. Spremembe smeri**</br></br>\n",
    "Napiši funkcijo `sprememb_smeri(s)`, ki kot argument prejme seznam z vrednostmi delnice ob\n",
    "koncu dnevnega trgovanja, kot rezultat pa vrne število sprememb gibanja. Če delnica nekaj dni\n",
    "narašča, nato pada, nato narašča, je smer spremenila dvakrat (iz naraščanja v padanje in iz\n",
    "padanje v naraščanje).</br></br>\n",
    "Pri, recimo, seznamu `[1, 2, 3, 0, -1]` vrne `1`, saj vrednost delnice najprej narašča, nato pada.\n",
    "Pri `[-1, -2, 0, 1, -10, -5, 8]` vrne `3` – pada, narašča, pada, narašča. Pri `[1, 2, 3, 4]` vrne\n",
    "`0`, saj vrednost ves čas narašča.</br></br>\n",
    "Predpostaviti smeš, da se nikoli ne zgodi, da bi imela delnica dva dni zapored isto vrednost."
   ]
  },
  {
   "cell_type": "code",
   "execution_count": null,
   "id": "c0f2bea7",
   "metadata": {},
   "outputs": [],
   "source": []
  },
  {
   "cell_type": "markdown",
   "id": "a2319897",
   "metadata": {},
   "source": [
    "**172. Sekajoči se krogi**</br></br>\n",
    "Napiši funkcijo `sekajo(krogi)`, ki dobi seznam krogov, podanih s terkami (x, y, r), kjer sta x in y\n",
    "koordinati središča kroga, r pa polmer. Funkcija naj vrne `True`, če se vsaj dva kroga sekata in\n",
    "`False`, če se ne. Ker gre za kroge (in ne krožnice), se dva kroga sekata tudi, če je eden od njiju v\n",
    "celoti znotraj drugega."
   ]
  },
  {
   "cell_type": "code",
   "execution_count": null,
   "id": "b3e41504",
   "metadata": {},
   "outputs": [],
   "source": []
  },
  {
   "cell_type": "markdown",
   "id": "00196d7c",
   "metadata": {},
   "source": [
    "**173. Največ n-krat**</br></br>\n",
    "Napiši funkcijo `najvec_n(s, n)`, ki kot argument prejme seznam s in največje dovoljeno število\n",
    "ponovitev elementov na seznamu, `n`. Funkcija naj vrne nov seznam, v katerem se vsak element\n",
    "pojavi največ `n`-krat, vse nadaljnje ponovitve pa se pobrišejo.</br></br>\n",
    "Če ti kaj pomaga, smeš predpostaviti, da seznami niso dolgi.</br></br>\n",
    "*>>> najvec_n([1, 2, 3, 1, 1, 2, 1, 2, 3, 3, 2, 4, 5, 3, 1], 3)*</br>\n",
    "*[1, 2, 3, 1, 1, 2, 2, 3, 3, 4, 5]*</br></br>\n",
    "Naloge se loti na dva načina: tako, da sestavljaš nov seznam, v katerega dodajaš elemente, in\n",
    "tako, da narediš kopijo seznama in iz nje brišeš prevečkratne ponovitve. Prvo je lažje, drugo\n",
    "poučnejše."
   ]
  },
  {
   "cell_type": "code",
   "execution_count": null,
   "id": "0cf6cf15",
   "metadata": {},
   "outputs": [],
   "source": []
  },
  {
   "cell_type": "markdown",
   "id": "5360f1d8",
   "metadata": {},
   "source": [
    "**174. Brez n-tih**</br></br>\n",
    "Napiši funkcijo brez_ntih(s, n), ki iz podanega seznama s pobriše vsak n‐ti element. Če\n",
    "pokličemo funkcijo z n=3, mora pobrisati elemente z indeksi 2, 5, 8, 11 in tako naprej.</br></br>\n",
    "*>>> cc = [1, 2, 3, 4, 5, 6, 7, 8, 9, 10]*</br>\n",
    "*>>> brez_ntih(cc, 3)*</br>\n",
    "*>>> cc*</br>\n",
    "*[1, 2, 4, 5, 7, 8, 10]*</br></br>\n",
    "**Pazi:** funkcija mora spreminjati podani seznam. Funkcija ne vrača nobenega rezultata!"
   ]
  },
  {
   "cell_type": "code",
   "execution_count": null,
   "id": "e5d6d52f",
   "metadata": {},
   "outputs": [],
   "source": []
  },
  {
   "cell_type": "markdown",
   "id": "4dec62df",
   "metadata": {},
   "source": [
    "**175. Vse črke**</br></br>\n",
    "Napiši funkcijo `vse_crke(beseda, crke)`, ki pove, ali množica `crke` vsebuje vse črke, ki se\n",
    "pojavijo v podani besedi. Pri tem sme množica vsebovati tudi črke, ki se v besedi ne pojavijo.</br></br>\n",
    "*>>> vse_crke(\"AMFITEATER\", set([\"A\", \"M\"]))*</br>\n",
    "*False*</br>\n",
    "*>>> vse_crke(\"AMFITEATER\", set([\"A\", \"M\", \"F\", \"I\", \"T\", \"E\"]))*</br>\n",
    "*False*</br>\n",
    "*>>> vse_crke(\"AMFITEATER\", set([\"A\", \"M\", \"F\", \"I\", \"T\", \"E\", \"R\"]))*</br>\n",
    "*True*</br>\n",
    "*>>> vse_crke(\"AMFITEATER\", set([\"A\", \"M\", \"F\", \"I\", \"T\", \"E\", \"R\", \"X\", \"O\", \"B\", \"L\"]))*</br>\n",
    "*True*"
   ]
  },
  {
   "cell_type": "code",
   "execution_count": null,
   "id": "96c586f7",
   "metadata": {},
   "outputs": [],
   "source": []
  },
  {
   "cell_type": "markdown",
   "id": "12f85724",
   "metadata": {},
   "source": [
    "**176. Skritopis**</br></br>\n",
    "Napiši funkcijo `skritopis(s)`, ki (kar predobro) skrije podano besedilo tako, da vsako besedo\n",
    "zamenja z njeno prvo črko. Vse ostale znake (presledke, ločila) pusti, kot so. Funkcija naj kot\n",
    "argument sprejme niz in kot rezultat vrne skriti niz.</br></br>\n",
    "*>>> skritopis(\"Napiši funkcijo skritopis(s), ki (kar predobro) skrije besedilo tako, da vsako besedo zamenja z njeno prvo črko.\")*</br>\n",
    "*'N f s(s), k (k p) s b t, d v b z z n p č.'*</br></br>\n",
    "Namig: četudi morda poznaš metodo `split`, je ne uporabi, saj ne naredi ničesar koristnega,\n",
    "razen če želiš najprej rešiti poenostavljeno nalogo, ki predpostavi, da v besedilu ni ločil, le\n",
    "besede in presledki med njimi."
   ]
  },
  {
   "cell_type": "code",
   "execution_count": null,
   "id": "2b18b951",
   "metadata": {},
   "outputs": [],
   "source": []
  },
  {
   "cell_type": "markdown",
   "id": "c7710b0b",
   "metadata": {},
   "source": [
    "**177. Igra z besedami**</br></br>\n",
    "Neki otroci se takole igrajo z besedami:</br></br>\n",
    "• Uredijo črke po abecedi. Tako iz HANA nastane AANH.</br>\n",
    "• Zamenjajo večkratne ponovitve črke s črko in številko, ki pove, kolikokrat se črka</br></br>\n",
    "ponovi. Iz AANH tako dobijo A2N1H1.</br></br>\n",
    "Njihov postopek torej predela besedo HANA v A2N1H1.\n",
    "Napišite funkcijo `skrij(beseda)`, ki takole predeluje besede. Kot argument dobi besedo (npr.\n",
    "\"HANA\") in kot rezultat vrne predelano besedo (`\"A2N1H1\"`).\n",
    "\n",
    "Pri tem ni potrebno, da funkcija izvaja natančno gornji postopek. Uberete lahko bližnjico,\n",
    "pomembno je le, da je rezultat enak. Prav lahko pride kaj (ne pa vse) od naslednjega:\n",
    "`defaultdict, Counter, sorted`."
   ]
  },
  {
   "cell_type": "code",
   "execution_count": null,
   "id": "a606053a",
   "metadata": {},
   "outputs": [],
   "source": []
  },
  {
   "cell_type": "markdown",
   "id": "f95da20c",
   "metadata": {},
   "source": [
    "**178. Srečanje čebel**</br></br>\n",
    "Ob neki potki so posejane rože. Količina nektarja v njih je opisana s seznamom. Obiranja se\n",
    "lotita dve čebeli: prva gre z leve proti desni, druga z desne proti levi. Čebela potrebuje eno\n",
    "sekundo, da se premakne na cvet in eno sekundo, da za obiranje vsake enote nektarja na\n",
    "cvetu. Napiši funkcijo `srecanje(vrt)`, ki pove, na katerem cvetu se bosta čebeli srečali. Za vrt\n",
    "`[1, 4, 1, 2, 8, 3]` mora vrniti 4.</br></br>\n",
    "Funkcija mora upoštevati, da se lahko čebeli srečata tudi med letom in ne samo na cvetu. Za\n",
    "seznam `[0, 0, 0, 0]`, naj vaš program vrne `1.5`.</br></br>\n",
    "Lahko se zgodi, da ob trenutku srečanja ostane kakšen cvet neobran. Čebeli se na vrtu `[6, 0]`\n",
    "srečata na prvem cvetu, na katerem je v tem trenutku še 5 enot nektarja.</br></br>\n",
    "**Nasvet:** najprej razmisli, koliko časa bosta potrebovali obe čebeli skupaj, nato za eno od čebel\n",
    "izračunajte, kje bo takrat."
   ]
  },
  {
   "cell_type": "code",
   "execution_count": null,
   "id": "5bcb5899",
   "metadata": {},
   "outputs": [],
   "source": []
  },
  {
   "cell_type": "markdown",
   "id": "1538a858",
   "metadata": {},
   "source": [
    "**179. Odvečni presledki**\n",
    "Med nami živijo tudi površneži, ki v besedilu puščajo odvečne presledke med besedami.\n",
    "Napiši funkcijo `prepresledki(s)`, ki prejme niz in izračuna delež presledkov, ki so brez potrebe\n",
    "\"podaljšani\". \"Podaljšan presledek\" je vsako zaporedje presledkov, ki vsebuje dva ali več\n",
    "presledkov; pri tem se četverni presledek šteje kot en podaljšani presledek.</br></br>\n",
    "*>>> prepresledki(\"Tule je samo en preveč.\")*</br>\n",
    "*0.25*</br>\n",
    "*>>> prepresledki(\"Tule ni nobenega preveč.\")*</br>\n",
    "*0.0*</br>\n",
    "*>>> prepresledki(\"Ta je res pretiran.\")*</br>\n",
    "*1.0*</br>\n",
    "*>>> prepresledki(\"Problem!\")*</br>\n",
    "*0.0*"
   ]
  },
  {
   "cell_type": "code",
   "execution_count": null,
   "id": "8ad694db",
   "metadata": {},
   "outputs": [],
   "source": []
  },
  {
   "cell_type": "markdown",
   "id": "2c702204",
   "metadata": {},
   "source": [
    "**180. Kričiš!**</br></br>\n",
    "Napiši funkcijo, ki kot argument prejme niz in vrne `True`, če ta vsebuje (vsaj) dve zaporedni\n",
    "veliki črki.</br></br>\n",
    "**Namig:** niz ima metodo `isalpha`, ki pove ali je niz sestavljen iz samih črk, in metodo `upper`, ki\n",
    "pove, ali so vse črke, ki se pojavijo v nizu, velike. Seveda ju ne uporabi na celotnem nizu, saj\n",
    "nas ne zanima, ali je celoten niz iz samih velikih črk, temveč ali vsebuje dve zaporedni veliki\n",
    "črki."
   ]
  },
  {
   "cell_type": "code",
   "execution_count": null,
   "id": "75caf3f1",
   "metadata": {},
   "outputs": [],
   "source": []
  },
  {
   "cell_type": "markdown",
   "id": "058cb953",
   "metadata": {},
   "source": [
    "**181. Napadalne kraljice**</br></br>\n",
    "\n",
    "Šahovska polja označimo s črkami a-h, ki predstavljajo koordinate stolpcev, in številkami 1-8, ki\n",
    "predstavljajo vrstice. Tako je polje b4 drugo polje v četrti vrsti. Na šahovnico postavimo\n",
    "določeno število kraljic. Razpored predstavimo s seznamom koordinat, ki so opisane z nizi,\n",
    "recimo [\"a4\", \"c7\", \"d2\"]`.</br></br>\n",
    "\n",
    "Šahovska kraljica se lahko premika po stolpcih, vrsticah in diagonalah. Kraljica, ki bi jo postavili\n",
    "na b4, bi s svojo požrešnostjo ogrožala vsa polja stolpca b, vrste 4, poleg tega pa še diagonali,\n",
    "torej polja a5, c3, d2, e1 in a3, c5, d6, e7 in f8.</br></br>\n",
    "\n",
    "Napiši naslednje funkcije:</br></br>\n",
    "\n",
    "• `stolpec_prost(stolpec, razpored)` vrne `True`, če v danem stolpcu ni nobene kraljice;</br>\n",
    "• `prosti_stolpci(razpored)` vrne seznam stolpcev, v katerih ni nobene kraljice;</br>\n",
    "• `prost_stolpec(razpored)` vrne prvi stolpec, v katerem ni nobene kraljice; če takšnega stolpca ni, vrne `None`;</br>\n",
    "• `napada(polje1, polje2)` vrne `True`, če se polji napadata in `False`, če se ne;\n",
    "dogovorimo se, da polje napada tudi samo sebe;</br>\n",
    "• `napadajo(polje, razpored)` vrne seznam kraljic, ki napadajo podano polje;</br>\n",
    "• `napadeno(polje, razpored)` vrne `True`, če je podano polje napadeno;</br>\n",
    "• `prosto_v_stolpcu(stolpec, razpored)` vrne seznam nenapadenih polj v stolpcu;</br>\n",
    "• `napadajoce_se(razpored)` vrne vse pare kraljic, ki se napadajo med sabo;</br>\n",
    "• `legalen(razpored)` vrne `True`, če razpored vsebuje osem kraljic, ki se ne napadajo\n",
    "med sabo."
   ]
  },
  {
   "cell_type": "code",
   "execution_count": null,
   "id": "5d81e838",
   "metadata": {},
   "outputs": [],
   "source": []
  },
  {
   "cell_type": "markdown",
   "id": "95bdf363",
   "metadata": {},
   "source": [
    "**182. Obljudeni stolpci**</br></br>\n",
    "Napiši funkcijo `po_stolpcih(s)`, ki prejme seznam šahovskih polj, na katerih stojijo figure in\n",
    "vrne seznam z osmimi števili, ki povedo, koliko figur stoji v posameznem stolpcu.</br></br>\n",
    "Poleg tega napiši funkcijo `naj_stolpec(s)`, ki pove, kateri je najbolj zasedeni stolpec. Če je\n",
    "več najbolj zasedenih stolpcev več, naj vrne prvega po abecedi.</br></br>\n",
    "**Pomoč:** funkcija `ord(c)` vrne kodo znaka (`ord(\"a\")` vrne `97`), funkcija `chr(i)` pa vrne znak z\n",
    "določeno kodo (`chr(97)` vrne `\"a\"`)."
   ]
  },
  {
   "cell_type": "code",
   "execution_count": null,
   "id": "d5272dd3",
   "metadata": {},
   "outputs": [],
   "source": []
  },
  {
   "cell_type": "markdown",
   "id": "d1a20c09",
   "metadata": {},
   "source": [
    "**183. Banka**</br></br>\n",
    "Banka ima transakcije strank shranjene kot seznam parov parov (ime osebe, znesek). Tako\n",
    "seznam `[(\"Ana\", 2), (\"Berta\", 8), (\"Ana\", 4), (\"Berta\", -3)]` pomeni, da je Ana vložila\n",
    "dva cekina, Berta 8, nato Ana 4, na koncu pa je Berta dvignila 3 cekine iz banke.</br></br>\n",
    "Napiši naslednje funkcije:</br></br>\n",
    "• `klienti(transakcije)` vrne seznam imen klientov; vsako ime naj se pojavi le enkrat.\n",
    "Vrstni red naj bo enak vrstnemu redu imen, ki se pojavljajo v transakcijah;</br>\n",
    "• `bilanca(transakcije, ime)` vrne, koliko denarja ima v banki oseba `me` po vseh\n",
    "transakcijah v seznamu transakcije (v začetku ni imela ničesar). Če se ime v seznamu\n",
    "transakcij ne pojavi, oseba nima denarja.</br>\n",
    "• `najbogatejši(transakcije)` vrne ime najbogatejšega klienta; predpostaviti smeš, da\n",
    "ima banka vsaj enega klienta, ki ima več kot 0 cekinov;</br>\n",
    "• `racunovodja(transakcije)` vrne seznam z imeni klientov in njihovim premoženjem.\n",
    "Da bo lažje, naj vrnjeni seznam ne vsebuje terk. Tako, recimo, klic\n",
    "`racunovodja([(\"Ana\", 2), (\"Berta\", 8), (\"Ana\", 4), (\"Berta\", -3)])` vrne\n",
    "`[[\"Ana\", 6], [\"Berta\", 5]]`."
   ]
  },
  {
   "cell_type": "code",
   "execution_count": null,
   "id": "0f56fa8e",
   "metadata": {},
   "outputs": [],
   "source": []
  },
  {
   "cell_type": "markdown",
   "id": "692d920e",
   "metadata": {},
   "source": [
    "**184. Srečni gostje**</br></br>\n",
    "Za okroglo mizo sedijo (okrogli?) gosti. Nekateri so srečni, drugi ne. Konkretno: srečni so moški,\n",
    "ki sedijo med dvema ženskama in ženske, ki sedijo med dvema moškima.</br></br>\n",
    "Razpored gostov podamo s seznamom njihovih številk EMŠO. Napiši funkcijo\n",
    "`stevilo_srecnezev(razpored)`, ki prejme takšen seznam in vrne število srečnih gostov.</br></br>\n",
    "Pazi: ker je miza okrogla, sedi prvi gost poleg zadnjega.</br></br>\n",
    "Če sedita moški in ženska sama za okroglo mizo, smemo predpostaviti, da sta srečna;\n",
    "navsezadnje ima v tem primeru ženska na vsaki strani enega (in istega) moškega in obratno.</br></br>\n",
    "Primer:</br></br>\n",
    "*>>> stevilo_srecnezev(['0903912505707', '0110913506472', '2009956506012', '1102946502619', '1902922506199', '2602930503913', '0204940508783', '1602960505003', '0207959502025', '0207962509545'])*</br>\n",
    "*4*</br>\n",
    "*>>> stevilo_srecnezev(['1012947507186', '0506929507291', '3107910505475', '1109984500497', '0510960506179', '0307978501042', '1607944505399', '1706954501918', '1305934508423', '1406967504211'])*</br>\n",
    "*7*</br>\n",
    "*>>> stevilo_srecnezev(['0503973503512', '3004964501773', '1005933505567', '2905936507573', '0712966507144'])*</br>\n",
    "*0*</br>\n",
    "*>>> stevilo_srecnezev(['0702948501362', '1505987508785'])*</br>\n",
    "*2*</br>\n",
    "*>>> stevilo_srecnezev(['2807955501835', '1604923501254', '0601925504908'])*</br>\n",
    "*0*</br>\n",
    "*>>> stevilo_srecnezev(['2807955501835'])*</br>\n",
    "*0*</br>\n",
    "*>>> stevilo_srecnezev([])*</br>\n",
    "*0*"
   ]
  },
  {
   "cell_type": "code",
   "execution_count": null,
   "id": "4f6861ed",
   "metadata": {},
   "outputs": [],
   "source": []
  },
  {
   "cell_type": "markdown",
   "id": "87f9922d",
   "metadata": {},
   "source": [
    "**185. Gostoljubni gostitelji**</br></br>\n",
    "Napiši funkcijo razporedi(gosti) za načrtovanje srečnih zabav. Funkcija dobi seznam gostov\n",
    "(spet kot seznam številk EMŠO) in mora vrniti seznam, ki je preurejen tako, da bodo gostje čim\n",
    "srečnejši. Pri tem se lahko zgodi, da je moških več kot žensk ali obratno, ali pa celo, da so na\n",
    "zabavi le moški ali le ženske.</br></br>\n",
    "Da ne bi predolgo ugibali očitnega: idealni razpored dobimo, če postavimo moške v eno\n",
    "kolono, ženske v drugo, potem izmenično jemljemo iz vsake po enega in na koncu posedemo\n",
    "nesrečne pripadnike tistega spola, ki ostane.</br></br>\n",
    "Primer (rešitve niso enolične – enako srečnost gostov je možno dobiti tudi z drugačnimi\n",
    "razporedi!)</br></br>\n",
    "*>>> razporedi(['0505913509174', '2202973506004', '0304943506069', '2702943501809', '2407980508463', '0209965503761', '2109913502875', '1802924506701', '0207970500808', '1501917509568'])*</br>\n",
    "*['2702943501809', '0505913509174', '0209965503761', '2202973506004', '2109913502875', '0304943506069', '0207970500808', '2407980508463', '1802924506701', '1501917509568']*</br>\n",
    "*>>> razporedi(['2806984508656', '0602925509884', '1102979507594', '1104915509537', '1502929506188', '1104923504226'])*</br>\n",
    "*['1104923504226', '2806984508656', '0602925509884', '1102979507594', '1104915509537', '1502929506188']*</br>\n",
    "*>>> razporedi(['2806984508656', '0602925509884', '1102979507594', '1104915509537'])*</br>\n",
    "*['2806984508656', '0602925509884', '1102979507594', '1104915509537']*</br>\n",
    "*>>> razporedi(['2806984508656'])*</br>\n",
    "*['2806984508656']*</br>\n",
    "*>>> razporedi([])*</br>\n",
    "*[]*"
   ]
  },
  {
   "cell_type": "code",
   "execution_count": null,
   "id": "635d08ba",
   "metadata": {},
   "outputs": [],
   "source": []
  },
  {
   "cell_type": "markdown",
   "id": "39a9163e",
   "metadata": {},
   "source": [
    "**186. Po starosti**</br></br>\n",
    "Napiši funkcijo po_starosti(s), ki dobi kot argument seznam s, ki vsebuje pare (ime osebe,\n",
    "EMŠO) in vrne nov seznam, ki vsebuje imena oseb, urejena po starosti, začenši z najstarejšimi.</br></br>\n",
    "EMŠO je sestavljena tako, da sta prvi števki rojstni dan v mesecu, drugi števki predstavljata\n",
    "mesec, naslednje tri pa leto brez tisočice. Prvih sedem števk EMŠO osebe, rojene 10. 5. 1983,\n",
    "bi bil 1005983. Prvih sedem števk EMŠO osebe, rojene 2. 3. 2001, pa bi bilo 0203001. Ali je\n",
    "oseba rojena leta 1xxx ali 2xxx, sklepamo po stotici.</br></br>\n",
    "*>>> osebe = [(\"Ana\", \"2401983505012\"), (\"Berta\", \"1509980505132\"), (\"Cilka\", \"0203001505333\"), (\"Dani\", \"1005983505333\")]*</br>\n",
    "*>>> po_starosti(osebe)*</br>\n",
    "*['Berta', 'Ana', 'Dani', 'Cilka']*"
   ]
  },
  {
   "cell_type": "code",
   "execution_count": null,
   "id": "4c1454fd",
   "metadata": {},
   "outputs": [],
   "source": []
  },
  {
   "cell_type": "markdown",
   "id": "62df3f1b",
   "metadata": {},
   "source": [
    "**187. Ujeme**</br></br>\n",
    "Napiši funkcijo ujeme(b1, b2), ki kot vhod prejme dve besedi in vrne novo besedo, ki vsebuje\n",
    "tiste črke, v katerih se besedi ujemata, črke na ostalih mestih pa so zamenjane s pikami. Če\n",
    "\n",
    "besedi nista enako dolgi, naj bo nova beseda toliko dolga, kolikor je dolga krajša izmed\n",
    "podanih besed.</br></br>\n",
    "*>>> ujeme(\"ROKA\", \"REKE\")*</br>\n",
    "*'R.K.'*</br>\n",
    "*>>> ujeme(\"ROKA\", \"ROKAV\")*</br>\n",
    "*'ROKA'*</br>\n",
    "*>>> ujeme(\"CELINKE\", \"POLOVINKE\")*</br>\n",
    "*'..L....'*"
   ]
  },
  {
   "cell_type": "code",
   "execution_count": null,
   "id": "d1a31567",
   "metadata": {},
   "outputs": [],
   "source": []
  },
  {
   "cell_type": "markdown",
   "id": "84913d22",
   "metadata": {},
   "source": [
    "**188. Najboljše prileganje podniza**</br></br>\n",
    "Napiši funkcijo naj_prileg(s, sub), ki v nizu s poišče mesto, ki se mu niz sub najbolj prilega.\n",
    "Funkcija naj vrne indeks v nizu s, število ujemajočih se črk in podniz znotraj s.</br></br>\n",
    "*>>> naj_prileg(\"Poet tvoj nov Slovencem venec vije\", \"vine\")*</br>\n",
    "*(24, 3, 'vene')*</br></br>\n",
    "Besede \"vine\" v nizu ni, pač pa se z njim najbolj ujeme \"vene\", ki se nahaja na 24 znaku, saj se\n",
    "ujemata v treh črkah. Zato je rezultat funkcije (24, 3, 'vene').</br></br>\n",
    "Kadar se enako dobro prilega več mest, naj funkcija vrne prvo izmed njih."
   ]
  },
  {
   "cell_type": "code",
   "execution_count": null,
   "id": "993f06e4",
   "metadata": {},
   "outputs": [],
   "source": []
  },
  {
   "cell_type": "markdown",
   "id": "f2acff76",
   "metadata": {},
   "source": [
    "**189. Deljenje nizov**</br></br>\n",
    "Nize v Pythonu lahko pomnožimo s številom: `\"bla\"*3` vrne `\"blablabla\"`. Napiši funkcijo\n",
    "`deli_niz(s, k)`, ki niz `s` \"deli\" s številom `k`. Torej: `deli_niz(s, k)` mora vrniti tak niz, da bi,\n",
    "če ga pomnožimo s `k`, spet dobili `s`. Če niz ni sestavljen iz `k` ponovitev nekega niza, naj funkcija\n",
    "vrne `None`.</br></br>\n",
    "*>>> deli_niz('toktoktoktok', 4)*</br>\n",
    "*tok*</br>\n",
    "*>>> deli_niz('tktktktk', 2)*</br>\n",
    "*tktk*</br>\n",
    "*>>> deli_niz('XXX', 3)*</br>\n",
    "*X*</br>\n",
    "*>>> print(deli_niz('toktoktoktok', 3))*</br>\n",
    "*None*</br>\n",
    "*>>> print(deli_niz('tiktoktak', 3))*</br>\n",
    "*None*"
   ]
  },
  {
   "cell_type": "code",
   "execution_count": null,
   "id": "01b52f58",
   "metadata": {},
   "outputs": [],
   "source": []
  },
  {
   "cell_type": "markdown",
   "id": "ea762cd6",
   "metadata": {},
   "source": [
    "**190. Bralca bratca**</br></br>\n",
    "Brata Peter in Pavel morata za domače branje prebrati vse knjige na knjižni polici.\n",
    "Nepridiprava sta se odločila, da jih bo vsak prebral približno pol (po številu strani), o drugi\n",
    "polovici pa se bo pustil poučiti od brata: Peter bo bral knjige z leve strani police, Pavel z desne.\n",
    "Sestavi funkcijo `razdeli_knjige(debeline)`, ki kot argument dobi seznam z debelinami knjig in\n",
    "vrne par (terko), ki pove, koliko knjig naj prebere eden in koliko drugi.</br></br>\n",
    "\n",
    "*>>> razdeli_knjige([500, 100, 100, 100, 900])*</br>\n",
    "*(4, 1)*</br>\n",
    "*>>> razdeli_knjige([500, 100, 100, 100, 900, 100])*</br>\n",
    "*(4, 2)*</br>\n",
    "*>>> razdeli_knjige([50, 86, 250, 13, 205, 85])*</br>\n",
    "*(3, 3)*</br>\n",
    "*>>> razdeli_knjige([50, 86, 150, 13, 205, 85])*</br>\n",
    "*(4, 2)*</br>\n",
    "*>>> razdeli_knjige([5, 5])*</br>\n",
    "*(1, 1)*</br>\n",
    "*>>> razdeli_knjige([5])*</br>\n",
    "*(0, 1)*</br>\n",
    "*>>> razdeli_knjige([])*</br>\n",
    "*(0, 0)*</br></br>\n",
    "\n",
    "Prvi primer razkriva namen vaje. Peter prebere štiri knjige, ki imajo skupaj 800 strani, Pavla pa\n",
    "doleti Dostojevski in ta odtehta vse štiri Petrove knjige. V drugem primeru dobi Pavel še eno\n",
    "knjigo; čeprav bi bilo pravičneje, če bi jo Peter (in bi imela vsak 900 strani), smo pač\n",
    "dogovorjeni, da eden bere z leve drugi z desne.</br></br>\n",
    "**Namig:** ne ukvarjaj se s Pavlom, temveč le s Petrom: koliko knjig mora prebrati, da jih bo\n",
    "približno pol? Pri \"srednji knjigi\" preveri, ali bomo bližje polovici, če jo prebere (in morda malo\n",
    "preseže polovico) ali jo pusti Pavlu (in prebere malo manj kot pol)."
   ]
  },
  {
   "cell_type": "code",
   "execution_count": null,
   "id": "7044519f",
   "metadata": {},
   "outputs": [],
   "source": []
  },
  {
   "cell_type": "markdown",
   "id": "ccf8da63",
   "metadata": {},
   "source": [
    "**191. Turnir Evenzero**</br></br>\n",
    "Turnirska pravila starodavne angleške igre Evenzero so naslednja:</br></br>\n",
    "• na turnirju se vedno pomeri 2n (torej 1, 2, 4, 8, 16...) tekmovalcev,</br>\n",
    "• v vsakem krogu se pomeri prvi tekmovalec z drugim, tretji s četrtim, peti s šestim in tako naprej. Zmagovalci izmed teh parov se uvrstijo v naslednji krog.</br></br>\n",
    "Igra je preprosta: tekmovalca preštejeta, kolikšna je vsota dolžin njunih imen. Če je soda,\n",
    "zmaga prvi tekmovalec, če liha, drugi. Napišite funkcijo, ki kot argument prejme seznam\n",
    "tekmovalcev in kot rezultat vrne ime zmagovalca.</br></br>\n",
    "*>>> turnir(['Alice', 'Bob', 'Tom', 'Judy'])*</br>\n",
    "*'Judy'*</br></br>\n",
    "V prvem krogu tekmujeta Alice in Bob (zmaga prvi, torej Alice, ker je vsota dolžin njunih imen,\n",
    "osem, soda) in Tom in Judy (zmaga drugi, Judy, ker je dolžina imen liha). V drugem krogu\n",
    "tekmujeta Alice in Judy; zmaga drugi, Judy, saj je dolžina liha."
   ]
  },
  {
   "cell_type": "code",
   "execution_count": null,
   "id": "bf096669",
   "metadata": {},
   "outputs": [],
   "source": []
  },
  {
   "cell_type": "markdown",
   "id": "54e3d62c",
   "metadata": {},
   "source": [
    "**192. Najdaljše nepadajoče zaporedje**</br></br>\n",
    "Napiši funkcijo, ki v seznamu poišče najdaljše nepadajoče zaporedje in vrne njegovo dolžino.</br></br>\n",
    "Nekaj primerov:</br></br>\n",
    "[1, 2, 3, 2, 3, 4, 5]\n",
    "</br></br>\n",
    "V seznamu `l` sta skriti dve nepadajoči zaporedji, [1, 2, 3] in [2, 3 , 4, 5], torej je odgovor\n",
    "4.</br></br>\n",
    "[1, 2, 6, 8, 10, 1, 1, 1, 1, 1, 1, 0]</br></br>\n",
    "Seznam `l` tokrat razpade na nepadajoča zaporedja [1, 2, 6, 8, 10], [1, 1, 1, 1, 1, 1] in [0].</br></br>\n",
    "Odgovor je 6.</br></br>\n",
    "[1, 4, 6, 2, 3, 4, 7, 1, 4, 5, 8, 2, 4, 1, 4, 5, 5, 6, 8, 7, 3, 5, 5, 3, 5, 7, 1,\n",
    "2, 2, 5, 7, 9, 9, 9, 1, 2]</br></br>\n",
    "Odgovor je 8."
   ]
  },
  {
   "cell_type": "code",
   "execution_count": null,
   "id": "7234f9cb",
   "metadata": {},
   "outputs": [],
   "source": []
  },
  {
   "cell_type": "markdown",
   "id": "784a842b",
   "metadata": {},
   "source": [
    "**193. Seznam vsot seznamov**</br></br>\n",
    "Podan je seznam seznamov. Napiši naslednji funkciji.</br></br>\n",
    "Prva, `vsota_seznamov`, naj za vsak podseznam izračunaj njegovo vsoto in zloži vsote v nov\n",
    "seznam. Tako naj za, na primer, seznam `[[2, 4, 1], [3, 1], [], [8, 2], [1, 1, 1, 1]]`\n",
    "naračuna `[7, 4, 0, 10, 4]`, saj je `2 + 4 + 1 = 7, 3 + 1 = 4` in tako naprej.</br></br>\n",
    "Druga, `najvecja_vsota`, naj poišče in vrne seznam z največjo vsoto elementov. Tako za gornji\n",
    "seznam vrne `[8, 2]`."
   ]
  },
  {
   "cell_type": "code",
   "execution_count": null,
   "id": "ed056885",
   "metadata": {},
   "outputs": [],
   "source": []
  },
  {
   "cell_type": "markdown",
   "id": "c2edd815",
   "metadata": {},
   "source": [
    "**194. Veliko, a ne več kot**</br></br>\n",
    "Napiši funkcijo `naj_pod(s, n)`, ki kot argument dobi seznam `s`, ki vsebuje pozitivna števila, in\n",
    "vrne podseznam z največjo vsoto, ki je še manjša ali enaka `n`. Če je seznamov z enako največjo\n",
    "vsoto več, naj vrne prvega med njimi.</br></br>\n",
    "*>>> naj_pod([2, 1, 5, 6, 11, 2, 3, 6], 16)*</br>\n",
    "*[11, 2, 3]*</br>\n",
    "*>>> naj_pod([2, 1, 5, 6, 11, 2, 3, 6], 3)*</br>\n",
    "*[2, 1]*</br>\n",
    "*>>> naj_pod([2, 1, 5, 6, 11, 2, 3, 6], 28)*</br>\n",
    "*[1, 5, 6, 11, 2, 3]*</br></br>\n",
    "**Namig:** z zanko pojdi prek vseh možnih začetkov podseznamov in znotraj tega prek vseh\n",
    "možnih koncev (med tem začetkom in koncem). Za vsak takšen podseznam preveri, ali ima\n",
    "vsoto, ki je večja od največje doslej, a manjša ali enaka `n`, in si, če je tako, zapomni vsoto,\n",
    "začetek in konec."
   ]
  },
  {
   "cell_type": "code",
   "execution_count": null,
   "id": "07327ea0",
   "metadata": {},
   "outputs": [],
   "source": []
  },
  {
   "cell_type": "markdown",
   "id": "137630e7",
   "metadata": {},
   "source": [
    "**195. Nepadajoči podseznami**</br></br>\n",
    "Napiši funkcijo, ki kot argument prejme seznam in kot rezultat vrne seznam sestavljen iz\n",
    "nepadajočih podseznamov. Tako mora za seznam `[2, 5, 7, 8, 4, 6, 9, 14, 7, 8, 3, 2, 5, 6]` vrniti seznam seznamov `[[2, 5, 7, 8], [4, 6, 9, 14], [7, 8], [3], [2, 5, 6]]`."
   ]
  },
  {
   "cell_type": "code",
   "execution_count": null,
   "id": "a7d95a40",
   "metadata": {},
   "outputs": [],
   "source": []
  },
  {
   "cell_type": "markdown",
   "id": "bf0da2a2",
   "metadata": {},
   "source": [
    "**196. Sodi vs. lihi**</br></br>\n",
    "Napiši funkcijo `sodi_vs_lihi(s)`, ki kot argument dobi seznam števil. Funkcija naj ugotovi, ali\n",
    "je v seznamu več sodih ali lihih števil in vrne seznam tistih, ki jih je več. Če je obojih enako, naj\n",
    "vrne vsa soda števila.</br></br>\n",
    "*>>> sodi_vs_lihi([1, 2, 7, 14, 33, 140, 5])*</br>\n",
    "*[1, 7, 33, 5]*</br>\n",
    "*>>> sodi_vs_lihi([1, 2, 7, 4])*</br>\n",
    "*[2, 4]*</br>\n",
    "*>>> sodi_vs_lihi([])*</br>\n",
    "*[]*"
   ]
  },
  {
   "cell_type": "code",
   "execution_count": null,
   "id": "54dc2aab",
   "metadata": {},
   "outputs": [],
   "source": []
  },
  {
   "cell_type": "markdown",
   "id": "1df18339",
   "metadata": {},
   "source": [
    "**197. Gnezdeni oklepaji**</br></br>\n",
    "Imamo izraz, ki je zapisan kot niz, sestavljen samo iz oklepajev in zaklepajev. Napišite funkcijo,\n",
    "ki ugotovi regularnost takega izraza, torej, če se vsi oklepaji ustrezno zaprejo z zaklepaji.</br></br>\n",
    "Tile izrazi so pravilni `\"()\", \"(())\", \"(()()())()\"`, tile pa ne: `\"((\", \")(\", \"(()()))\", \"(()))(\"`.</br></br>\n",
    "Zdaj pa napiši \"zaresno\" funkcijo, ki preveri oklepaje v nizih, ki vsebujejo cele račune. Pri tem\n",
    "naj opazuje samo oklepaje; kar je med njimi, sme biti popolnoma napačno. Primeri pravilnih\n",
    "izrazov so torej \"1+1\", \"2*(3+(-6))\" in tudi \"((2+3)*(4+)-abc/4&&&!'#$!3)\", saj opazujemo le\n",
    "oklepaje."
   ]
  },
  {
   "cell_type": "code",
   "execution_count": null,
   "id": "fe5a1fbf",
   "metadata": {},
   "outputs": [],
   "source": []
  },
  {
   "cell_type": "markdown",
   "id": "183e1f17",
   "metadata": {},
   "source": [
    "**198. Črkovni oklepaji**</br></br>\n",
    "Rešimo podobno nalogo kot so bili Gnezdeni oklepaji, a vzemimo namesto oklepajev črke:\n",
    "velike črke naj predstavljajo \"oklepaje\", male črke pripadajoče \"zaklepaje\". Tokrat moramo\n",
    "poleg tega, koliko oklepajev in zaklepajev imamo, paziti tudi na to, za katero črko gre: veliki A\n",
    "\"zapremo\" le z malim a, ne pa tudi z malim b ali velikim A. Na primer, niz \"ABba\" je pravilen, a\n",
    "\"ABab\" pa ne, ker bi se moral B zapreti pred A. Pravilni oklepaji so tudi, \"Aa\", \"AaBb\",\n",
    "\"AaBbACBbDdcDda\", primeri nepravilnih pa \"ABC\", \"aB\", \"AA\", \"aA\", \"ABCabc\". (Kdor pozna\n",
    "zapis HTML, se je morda spomnil na oznake v njem. Oznake v pravilnem HTMLju se tudi\n",
    "pravilno zaključujejo.)</br></br>\n",
    "Napiši funkcijo, ki prejme takle niz in pove, ali je pravilen ali ne.</br></br>\n",
    "Rešitev je kratka, vendar lahka ali težka, odvisno od tega, ali vemo, kaj je sklad. Kdor ne ve, naj\n",
    "jo raje pusti. Kdor ve, pa bo za sklad uporabil kar seznam. Pythonovi seznami imajo metodo\n",
    "`pop`, za `push` pa nam služi `append`."
   ]
  },
  {
   "cell_type": "code",
   "execution_count": null,
   "id": "d92114e0",
   "metadata": {},
   "outputs": [],
   "source": []
  },
  {
   "cell_type": "markdown",
   "id": "222918ae",
   "metadata": {},
   "source": [
    "**199. Brez oklepajev** </br></br>\n",
    "Napiši funkcijo, ki prejme niz in vrne nov niz, v katerem je pobrisano vse besedilo, ki se nahaja\n",
    "v oklepajih (skupaj z oklepaji). Če dobi kot argument niz `\"Tole ima (nekaj besedila (v oklepaju).\"` naj vrne `\"Tole ima besedila .\"` Predpostaviti smeš, da vsakemu oklepaju sledi\n",
    "zaklepaj in da ni zaklepajev brez oklepajev.\n",
    "\n",
    "Znaš napisati tudi funkcijo, ki dovoljuje tudi gnezdene oklepaje (kot jih imamo (recimo tule) v\n",
    "tem stavku)? Za ta stavek mora funkcija vrniti `\"Znaš napisati tudi funkcijo, ki dovoljuje tudi gnezdene oklepaje ?\"`"
   ]
  },
  {
   "cell_type": "code",
   "execution_count": null,
   "id": "88e9ebf9",
   "metadata": {},
   "outputs": [],
   "source": []
  },
  {
   "cell_type": "markdown",
   "id": "da09b714",
   "metadata": {},
   "source": [
    "**200. Vsota kvadratov palindromnih števil**</br></br>\n",
    "Število je palindrom, če se naprej bere enako kot nazaj; primer takšnega števila je 737. Napišite program, ki izpiše vsoto kvadratov vseh palindromnih števil, ki so manjša od 1000."
   ]
  },
  {
   "cell_type": "code",
   "execution_count": null,
   "id": "10b98cba",
   "metadata": {},
   "outputs": [],
   "source": []
  },
  {
   "cell_type": "markdown",
   "id": "2b558c62",
   "metadata": {},
   "source": [
    "**201. Skupinjenje**</br></br>\n",
    "Napiši funkcijo `group(s)`, ki v podanem seznamu s združi zaporedne enake elemente v\n",
    "podsezname.</br></br>\n",
    "*>>> group([1, 1, 3, 3, 2, 2, 2, 2, 1, 1, 2, 2, 2])*</br>\n",
    "*[[1, 1], [3, 3], [2, 2, 2, 2], [1, 1], [2, 2, 2]]*</br>\n",
    "*>>> group([1, 2, 3, 4, 5])*</br>\n",
    "*[[1], [2], [3], [4], [5]]*"
   ]
  },
  {
   "cell_type": "code",
   "execution_count": null,
   "id": "0c7c2fb9",
   "metadata": {},
   "outputs": [],
   "source": []
  },
  {
   "cell_type": "markdown",
   "id": "93bb45fd",
   "metadata": {},
   "source": [
    "**202. Trdnjava**</br></br>\n",
    "Figuro prestavljamo po neskončni šahovnici. Premik opišemo z nizom, dolgim dva znaka; prvi\n",
    "je črka U, D, L ali R, ki predstavlja smer (up, down, left in right) in drugi je številka med 0 in 9, ki\n",
    "pove, za koliko polj prestavimo figuro v podani smeri. Začetna pozicija je (0, 0) - uporabljali\n",
    "bomo kar takšno notacijo, ne \"šahovske\".</br></br>\n",
    "Napiši funkcijo `trdnjava(s)`, ki kot argument dobi seznam potez in vrne `True`, če se trdnjava\n",
    "kadarkoli med premikanjem (ne nujno na koncu!) ponovno znajde na izhodiščnem polju (0, 0)\n",
    "in `False,` če se ne.</br></br>\n",
    "*>>> trdnjava(['U5', 'D5'])*</br>\n",
    "*True*</br>\n",
    "*>>> trdnjava(['U5', 'D6']) # trdnjava gre PREK polja (0, 0), a ne nanj!*</br>\n",
    "*False*</br>\n",
    "*>>> trdnjava(['R5', 'L5', 'R3'])*</br>\n",
    "*True*</br>\n",
    "*>>> trdnjava(['R5', 'U4', 'L3'])*</br>\n",
    "*False*</br>\n",
    "*>>> trdnjava(['L3', 'U2', 'D2', 'R1', 'R1'])*</br>\n",
    "*False*</br>\n",
    "*>>> trdnjava(['U0'])*</br>\n",
    "*True*</br>\n",
    "*>>> trdnjava(['U0', 'U1'])*</br>\n",
    "*True*"
   ]
  },
  {
   "cell_type": "code",
   "execution_count": null,
   "id": "67e7c014",
   "metadata": {},
   "outputs": [],
   "source": []
  },
  {
   "cell_type": "markdown",
   "id": "82281515",
   "metadata": {},
   "source": [
    "**203. Vsote peterk**</br></br>\n",
    "Podan je seznam nenegativnih števil in naloga je poiskati največjo vsoto petih zaporednih\n",
    "števil v tem seznamu. V seznamu [9, 1, 2, 3, 8, 9, 0, 4, 3, 7] se nam najbolj splača sešteti števila\n",
    "3, 8, 9, 0 in 4 ali pa 8, 9, 0, 4 in 3. Odgovor je torej 24.\n",
    "</br></br>\n",
    "Tisti, ki se vam to zdi prelahko, lahko program preskusite na seznamu s sto tisoč elementi in z\n",
    "njim iščite največjo vsoto deset tisoč zaporednih števil."
   ]
  },
  {
   "cell_type": "code",
   "execution_count": null,
   "id": "2cca46da",
   "metadata": {},
   "outputs": [],
   "source": []
  },
  {
   "cell_type": "markdown",
   "id": "ecd2213b",
   "metadata": {},
   "source": [
    "**204. Legalni konj**</br></br>\n",
    "Napiši funkcijo, ki kot argument prejme koordinate konja na šahovnici (npr. B2) in vrne\n",
    "seznam vseh polj, na katera lahko konj skoči. Konj skače v obliki črke L: za dve polji navzgor ali\n",
    "navzdol in eno levo ali desno, ali pa za eno polje navzgor ali navzdol in za dve levo ali desno.\n",
    "Seveda ne sme skočiti ven iz šahovnice."
   ]
  },
  {
   "cell_type": "code",
   "execution_count": null,
   "id": "4fa3a77a",
   "metadata": {},
   "outputs": [],
   "source": []
  },
  {
   "cell_type": "markdown",
   "id": "a5f5ae3a",
   "metadata": {},
   "source": [
    "**205. Skoki**</br></br>\n",
    "Napiši funkcijo `skoki(s)`, ki prepotuje podani seznam števil s.\n",
    "Recimo, da dobi kot argument seznam `[3, 4, 0, 4, 2, 3]`.\n",
    "Funkcija vedno začne na ničtem polju. Ta v našem primeru vsebuje 3,\n",
    "zato skoči na tretje polje. Na tretjem polju je `4`, torej skoči na četrto\n",
    "polje. Vsebina četrtega polja je `2`, zato skoči na drugo polje. To vsebuje `0`: spet smo na začetku,\n",
    "zato končamo.</br></br>\n",
    "Funkcija naj kot rezultat vrne število skokov do vrnitve na polje 0; v gornjem primeru je to `4`.</br></br>\n",
    "Poleg tega naj funkcija pazi še na dve možnosti:\n",
    "• Če se slučajno zgodi, da kako polje, na katerega pride, vsebuje preveliko število, naj se funkcija ustavi in vrne `-1`. Če so v seznamu prevelike številke, vendar je pot ne pripelje nanje, ni nič narobe. </br>\n",
    "• Če se funkcija zacikla – najpreprostejši primer je seznam `[1, 1]`, kjer s prvega polja stalno skače na prvo polje – naj vrne `-2`.</br></br>\n",
    "**Namig:** če se vrnemo na začetno polje, za to potrebujemo največ toliko skokov, kolikor je dolg\n",
    "seznam.\n",
    "</br></br>\n",
    "Predpostaviti smeš, da seznam ni prazen in vsebuje samo cela pozitivna števila.</br></br>\n",
    "\n",
    "*>>> skoki([3, 4, 0, 4, 2, 3])*</br>\n",
    "*4*</br>\n",
    "*>>> skoki([1, 1]) # stalno ponavlja polje 1*</br>\n",
    "*-2*</br>\n",
    "*>>> skoki([1, 2, 3, 4, 5, 3]) # ponavlja 4, 5, 3, 4, 5, 3, 4, 5, 3 ...*</br>\n",
    "*-2*</br>\n",
    "*>>> skoki([1, 2, 3, 8]) # pride do 8 in \"skoci ven\"*</br>\n",
    "*-1*</br>\n",
    "*>>> skoki([0])*</br>\n",
    "*1*"
   ]
  },
  {
   "cell_type": "code",
   "execution_count": null,
   "id": "5205cca0",
   "metadata": {},
   "outputs": [],
   "source": []
  },
  {
   "cell_type": "markdown",
   "id": "16176476",
   "metadata": {},
   "source": [
    "**206. Bobri plešejo**</br></br>\n",
    "Bobri plešejo nekakšno kolo. Postavijo se na polja v krogu. Iz vsakega polja je narejena puščica v neko drugo polje, ki pove, kam mora v naslednjem koraku bober, ki stoji na tam polju. V vsako polje pelje le ena puščica.</br></br>\n",
    "\n",
    "Posamezen ples bomo opisali s seznamom. Gornjim štirim ustrezajo</br></br>\n",
    "*ples1 = [3, 2, 5, 0, 4, 1]*</br>\n",
    "*ples2 = [1, 2, 3, 4, 5, 0]*</br>\n",
    "*ples3 = [3, 2, 6, 0, 5, 4, 7, 1, 8]*</br>\n",
    "*ples4 = [3, 2, 6, 0, 5, 8, 7, 1, 4]*</br></br>\n",
    "\n",
    "`ples1`, recimo, pravi, da gre bober iz ničtega polja na tretje, iz prvega na drugo, iz drugega na peto, iz tretjega na ničto in tako naprej.</br></br>\n",
    "\n",
    "Napišite `do_doma(ples, polje)`, ki kot argument prejme `ples` in številko polja. Vrniti mora število korakov, po katerem je plesalec, ki začne na podanem polju, spet na svojem polju. Tako mora, recimo `do_doma(ples1, 0)` vrniti 2 (plesalec gre najprej na polje 3 in potem nazaj na 0), `do_doma(ples1, 2)` pa vrne 3."
   ]
  },
  {
   "cell_type": "code",
   "execution_count": null,
   "id": "b9b40eed",
   "metadata": {},
   "outputs": [],
   "source": []
  },
  {
   "cell_type": "markdown",
   "id": "3259fbee",
   "metadata": {},
   "source": [
    "**207. Bobri vsi domov**</br></br>\n",
    "Napiši funkcijo `vsi_doma(ples)`, ki kot argument prejme ples v enakem zapisu kot v prejšnji nalogi, vrne pa število korakov, po katerem so vsi plesalci spet na svojih mestih."
   ]
  },
  {
   "cell_type": "code",
   "execution_count": null,
   "id": "7b576cee",
   "metadata": {},
   "outputs": [],
   "source": []
  },
  {
   "cell_type": "markdown",
   "id": "2739d52b",
   "metadata": {},
   "source": [
    "**208. Najbogatejši cvet**</br></br>\n",
    "Rože v neki deželi, s katero se bomo ukvarjali v naslednjih nekaj nalogah, so posajene v pravokotno mrežo. Čebelam je pomembno, koliko nektarja je v posameznem cvetu. Ker so vešče programiranja, shranijo količino nektarja v seznamu seznamov, kot je tale.</br></br>\n",
    "\n",
    "*[[1,3,3,8,5,4,2,1,5,6],*</br>\n",
    "*[2,4,3,3,6,8,1,3,5,6],*</br>\n",
    "*[4,5,6,4,7,4,3,6,4,7],*</br>\n",
    "*[2,8,7,0,0,7,4,7,8,0],*</br>\n",
    "*[2,3,4,7,0,8,7,6,3,8],*</br>\n",
    "*[3,7,9,0,8,5,3,2,3,4],*</br>\n",
    "*[1,5,7,7,6,4,2,3,5,6],*</br>\n",
    "*[0,6,3,3,6,8,0,6,7,7],*</br>\n",
    "*[0,1,3,2,8,0,0,0,0,0],*</br>\n",
    "*[3,1,0,3,6,7,0,5,3,1],*</br>\n",
    "*[1,3,5,7,0,8,6,5,3,1],*</br>\n",
    "*[3,6,3,1,3,5,8,7,5,1],*</br>\n",
    "*[4,3,6,0,0,8,4,7,5,3],*</br>\n",
    "*[3,5,6,8,6,3,1,3,5,2]]*</br></br>\n",
    "\n",
    "Vrtovi so lahko različnih velikosti - nekateri imajo tudi le po eno vrsto ali en stolpec rož, pa tudi količina nektarja v rožah je lahko poljubno pozitivno število. Lahko se zgodi celo, da ima vrt en sam cvet.</br></br>\n",
    "Koordinatni sistem, ki ga uporabljajo čebele, je takšen, da je točka (0, 0) v zgornjem levem (ne spodnjem levem!) vogalu. Ko gre čebela navzdol, koordinata y narašča: če čebela odleti, recimo, za eno vrstico nižje, se koordinata y poveča za 1.</br></br>\n",
    "Napiši funkcijo `naj_koordinate(vrt)`, ki vrne koordinato \"najbogatejšega\" cveta. V gornjem primeru mora funkcija vrniti `(2, 5)` (kot terko dveh int-ov), saj je tam cvet z 9 mg nektarja. Če sta na vrtu dva cveta z največjo količino nektarja, naj vrne tistega, ki je višje. Če sta dva na isti višini, naj vrne tistega, ki je bolj levo."
   ]
  },
  {
   "cell_type": "code",
   "execution_count": null,
   "id": "47e56ad8",
   "metadata": {},
   "outputs": [],
   "source": []
  },
  {
   "cell_type": "markdown",
   "id": "c110846d",
   "metadata": {},
   "source": [
    "**209. Pravilna pot** </br></br>\n",
    "Čebele opisujejo pot z zaporedjem znakov `\"L\"`, `\"R\"`, `\"U\"` in `\"D\"` (kot left, right, up in down; angleške črke uporabljamo, ker se \"desno\" in \"dol\" v slovenščini začneta z isto črko). Pri tem D pomeni, da se koordinata y poveča za 1 (čebela gre eno vrstico nižje). </br></br>\n",
    "Obiranje cvetov se vedno začne pri cvetu (0, 0). </br></br>\n",
    "Napiši funkcijo `pravilna_pot(pot, vrt)`, ki prejme niz, ki opisuje `pot` (npr. `\"RRDDRLL\"`) in vrt. Kot rezultat naj vrne `True`, če je pot pravilna in `False`, če ni. Pot ni pravilna, če čebela na njej kdaj zapusti vrt. Primeri nepravilnih poti za gornji vrt so, recimo `\"DDRRRRRRRRRRRRRRRRRRRRRRR\"` (čebelo odnese nekam na levo) in `\"U\"` (čebelo takoj odpihne navzgor)."
   ]
  },
  {
   "cell_type": "code",
   "execution_count": null,
   "id": "4ec987f6",
   "metadata": {},
   "outputs": [],
   "source": []
  },
  {
   "cell_type": "markdown",
   "id": "032ce02c",
   "metadata": {},
   "source": [
    "**210. Dobiček na poti**</br></br>\n",
    "Napiši funkcijo `dobicek_na_poti(pot, vrt)`, ki pove, koliko nektarja bo čebela nabrala, če leta od cveta do cveta, kot ji veleva pot. Predpostaviti smeš, da je pot nikoli ne bo vodila na cvet, ki ga je že obrala.</br></br>\n",
    "Pot je tudi gotovo pravilna, tako da vsebuje le znake L, R, D in U ter nikoli ne vodi izven vrta.</br></br>\n",
    "Če na gornjem travniku preleti pot `\"RDDL\"` bo nabrala 17 mg nektarja (pri izračunu je potrebno upoštevati tako prvi kot zadnji cvet)."
   ]
  },
  {
   "cell_type": "code",
   "execution_count": null,
   "id": "386fea0a",
   "metadata": {},
   "outputs": [],
   "source": []
  },
  {
   "cell_type": "markdown",
   "id": "da43a687",
   "metadata": {},
   "source": [
    "**211. Enkratna pot**</br></br>\n",
    "Napiši `funkcijo brez_ponovitve(pot)`, ki vrne True, če čebela, ki leti po podani poti, nikoli ne obišče dvakrat (ali večkrat) istega cveta."
   ]
  },
  {
   "cell_type": "code",
   "execution_count": null,
   "id": "f07d50de",
   "metadata": {},
   "outputs": [],
   "source": []
  },
  {
   "cell_type": "markdown",
   "id": "274fdd2b",
   "metadata": {},
   "source": [
    "**212. Neobrani cvetovi**</br></br>\n",
    "Količina nektarja v cvetovih enodimenzionalnega vrta (recimo potke) je opisana s seznamom števil, na primer `[5, 1, 3, 2, 5, 7, 3, 12, 2]`. Po vrtu (proti vsem pričakovanjem) leta čebela; vsakič, ko pride na cvet, pobere ves nektar v njem. Pot čebele je opisana s seznamom\n",
    "\n",
    "pozitivnih in negativnih števil: `4` pomeni pomik za štiri polja desno, `-7` pomeni pomik za sedem polj levo. Čebela začne na polju `0` in se pomika, kot zahteva seznam. Pomikanje se ustavi ko</br></br>\n",
    "• je konec poti (pridemo do konca seznama korakov) ali pa</br>\n",
    "• čebela pride na cvet brez medu (ker ga je že obrala ali pa je bil prazen že na začetku).</br></br>\n",
    "Napiši funkcijo `ostanki(vrt, pot)`, ki simulira pot čebele in vrne količino nektarja, ki **ostane v vrtu**, ko se čebela ustavi. Predpostavi smeš, da pot ne vsebuje skokov prek meja vrta.</br></br>\n",
    "Funkcija ne sme spremeniti nobenega od podanih seznamov. (Namig: skopiraj seznam.)"
   ]
  },
  {
   "cell_type": "code",
   "execution_count": null,
   "id": "aa487536",
   "metadata": {},
   "outputs": [],
   "source": []
  },
  {
   "cell_type": "markdown",
   "id": "6c2c75d5",
   "metadata": {},
   "source": [
    "**213. Žabji skoki** </br></br>\n",
    "Napiši funkcijo `zaba(skoki)`, ki kot argument prejme seznam parov smeri skokov in njihovih dolžin, kot rezultat pa vrne množico točk, ki jih je obiskala žaba, če je v začetku stala na koordinatah `(0, 0)`. Tako mora, na primer, klic zaba`([(\"S\", 5), (\"Z\", 2), (\"V\", 6), (\"S\", 3)])` vrniti množico `{(0, 0), (0, 5), (2, 5), (-4, 5), (-4, 8)}`. </br></br>\n",
    "Nato napiši funkcijo `zaba_znotraj(skoki, max_x, max_y)`, ki dobi množico skokov in vrne `True`, če je bila žaba ves čas znotraj pravokotnika med izhodiščem `(0, 0)` in `(max_x, max_y)`. Sicer naj vrne `False`. </br></br>\n",
    "Napiši tudi funkcijo `naj_razdalja(skoki)`, ki vrne razdaljo do najbolj oddaljene točke (torej, najbolj oddaljene od izhodišča)."
   ]
  },
  {
   "cell_type": "code",
   "execution_count": null,
   "id": "2c8b083d",
   "metadata": {},
   "outputs": [],
   "source": []
  },
  {
   "cell_type": "markdown",
   "id": "fe5fb03f",
   "metadata": {},
   "source": [
    "**214. Lov na muhe**</br></br>\n",
    "Za žabo iz prejšnje naloge napiši funkcijo `muhe(koordinate, skoki)`, ki dobi množico s koordinatami muh (npr. `{(1, 0), (0, 0), (5, 0), (10, 10)}`) in seznam skokov. Na vsaki koordinati je največ ena muha. Žaba ima zelo kratek jezik in poje muho takrat (in natanko takrat), ko skoči nanjo. Funkcija naj vrne število pojedenih muh.</br></br>\n",
    "Napiši tudi funkcijo `pojedene(koordinate, skoki)`, ki vrne koordinate pojedenih muh in `prezivele(koordinate, skoki)`, ki vrne koordinate preživelih."
   ]
  },
  {
   "cell_type": "code",
   "execution_count": null,
   "id": "f1cf8343",
   "metadata": {},
   "outputs": [],
   "source": []
  },
  {
   "cell_type": "markdown",
   "id": "c51c4992",
   "metadata": {},
   "source": [
    "**215. Žabja restavracija**</br></br>\n",
    "Napiši funkcijo `zberi(narocila)`, ki dobi slovar naročil v restavraciji: ključi so imena strank, vrednosti so jedi, ki so jih stranke naročile. Funkcija naj prešteje, koliko katere jedi potrebujemo in to vrne v slovarju, katerega ključi so jedi in vrednosti količina teh jedi.</br></br>\n",
    "Tako mora klic zberi `({\"Rega\": {\"mušji kraki\", \"pajek\"}, \"Kvakica\": {\"mušji kraki\"}, \"Dolgokrak\": {\"komarjev biftek\"}}` vrniti `{\"mušji kraki\": 2, \"pajek\": 1, \"komarjev biftek\": 1}`."
   ]
  },
  {
   "cell_type": "code",
   "execution_count": null,
   "id": "65d822cc",
   "metadata": {},
   "outputs": [],
   "source": []
  },
  {
   "cell_type": "markdown",
   "id": "fb2d3699",
   "metadata": {},
   "source": [
    "**216. Poštar iz Hamiltona**</br></br>\n",
    "Nek duhovit poštar raznaša pošto izključno v neki zelo zelo dolgi ulici. Pri tem ne hodi od hiše do hiše po vrsti: odločil se je, da ne bo nikoli naredil poti med dvema hišama, ki si ne delita vsaj ene skupne števke. Od hiše številka 75 lahko gre k hiši 78 (zaradi sedmice), 52 (zaradi petice), 107 (zaradi sedmice), ne pa k 43 ali 88, ki s 75 nimata nobene skupne števke. Seveda\n",
    "gre vsak dan le k hišam, za katere ima kako pošto.</br></br>\n",
    "Zaradi te čudne navade mora vsak dan dobro splanirati svojo pot, da bo raznesel vso pošto – pa še tako se mu kak dan zgodi, da ne more raznositi vse pošte, saj ni poti, ki bi ustrezala pravilom.</br></br>\n",
    "Napiši funkcijo `postar(naslovi)`, ki kot argument dobi seznam številk, h katerim mora prinesti pošto, kot rezultat pa vrne `True`, če bo lahko raznosil vso pošto in `False`, če ne.</br></br>\n",
    "**Nasvet:** mogoče ti bo lažje, če najprej napišeš funkcijo `preveri_zaporedje(zaporedje)`, ki dobi neko zaporedje številk in pove, ali je to pravilna pot v tem smislu, da si vsak zaporeden par številk deli vsaj eno števko. Potem napišete zahtevano funkcijo tako, da le-ta kliče `preveri_zaporedje(zaporedje)`.</br></br>\n",
    "**Še en nasvet:** toplo priporočam, da pred reševanjem preveriš, kaj izpiše program </br></br>\n",
    "*from itertools import permutations* </br>\n",
    "*for x in permutations([\"Ana\", \"Berta\", \"Cilka\", \"Dani\"]):*</br>\n",
    "*print(x)*"
   ]
  },
  {
   "cell_type": "code",
   "execution_count": null,
   "id": "5f5828c2",
   "metadata": {},
   "outputs": [],
   "source": []
  },
  {
   "cell_type": "markdown",
   "id": "ab62c9e5",
   "metadata": {},
   "source": [
    "**217. Graf hamiltonskega poštarja**</br></br>\n",
    "Napiši funkcijo `pari_his(stevilke)`, ki dobi seznam hišnih številk in vrne množico vse parov hiš, ki imajo vsaj eno skupno števko. Tako mora, recimo, `pari_his([12, 23, 26, 56])` vrniti `{(12, 23), (12, 26), (23, 12), (23, 26), (26, 12), (26, 23), (26, 56), (56, 26)}`. (Če v resnici vrne `{(26, 23), (12, 26), (23, 26), (23, 12), (12, 23), (26, 12), (26, 56), (56, 26)}`, se ne vznemirjaj, saj je to v resnici eno in isto. Vrstni red elementov množice\n",
    "ni pomemben.)</br></br>\n",
    "Nato napiši funkcijo `graf_his(pari)`, ki prejme seznam parov in vrne graf, zapisan kot slovar, katerega ključi so točke (številke), vrednosti pa množice točk, v katere je mogoče priti iz njih. Če jo pokličemo s pari `graf_stevilk({(12, 23), (12, 26), (23, 12), (23, 26), (26, 12), (26, 23), (26, 56), (56, 26)})`, mora vrniti `{26 : {23, 12, 56}, 23: {26, 12}, 12: {23, 26}, 56: {26}}`."
   ]
  },
  {
   "cell_type": "code",
   "execution_count": null,
   "id": "31dfb0b4",
   "metadata": {},
   "outputs": [],
   "source": []
  },
  {
   "cell_type": "markdown",
   "id": "792291fc",
   "metadata": {},
   "source": [
    "**218. Pretakanje**</br></br>\n",
    "Imejmo posodi A in B, ki držita 5 in 8 litrov. Poleg tega imamo ogromno posodo P, ki drži 1000 litrov. Posodi A in B sta v začetku prazni, v P pa je napol polna mleka. Med posodami bomo pretakali mleko tako, da bomo vedno napolnili posodo, v katero točimo, ali pa izpraznili posodo, iz katere točimo. Pretakanje A->B torej pomeni, da točimo mleko iz A v B toliko časa, da je B polna do roba ali pa da je A prazna.</br></br>\n",
    "Pretakanje mleka med posodami opišemo s seznamom nizov. Tako `[\"P->A\", \"A->B\", \"P->A\", \"A->B\"]` pomeni, da najprej napolnimo posodo A iz posode P, nato pretočimo A v B (ker je B večja, bo šla vanjo vsa vsebina posode A), nato spet napolnimo A in spet točimo A v B. Ker je v B že pet litrov, ki smo jih natočili prej, bodo šli vanjo le še trije litri mleka iz posode A in v A bosta na koncu ostala dva litra.</br></br>\n",
    "Napiši funkcijo `pretakanje(s)`, ki prejme seznam, podoben gornjemu in kot rezultat vrne količino mleka v prvi in v drugi posodi.</br></br>\n",
    "Predpostaviš smeš, da nikoli ne točimo iz iste posode v isto (na primer A -> A)."
   ]
  },
  {
   "cell_type": "code",
   "execution_count": null,
   "id": "ea4649fe",
   "metadata": {},
   "outputs": [],
   "source": []
  },
  {
   "cell_type": "markdown",
   "id": "96e52a47",
   "metadata": {},
   "source": [
    "**219. Slovar anagramov**</br></br>\n",
    "Napiši funkcijo slovar_anagramov(besede), ki dobi seznam besed in vrne slovar. Njegove vrednosti naj bodo množice besed, ki so sestavljene iz istih črk (tako kot besede {\"ravan\", \"ravna\", \"vrana\"}). Pripadajoči ključi naj bodo besede, sestavljene iz teh črk, a urejene po abecedi. V gornjem primeru bi bil ključ enak \"aanrv\".</br></br>\n",
    "*>>> slovar_anagramov([\"torba\", \"sloneti\", \"tesnilo\", \"botra\", \"obrat\"])*</br>\n",
    "*{\"abort\": {\"torba\", \"obrat\", \"botra\"},*</br>\n",
    "*\"eilnost\": {\"sloneti\", \"tesnilo\"}}*</br></br>\n",
    "Poleg tega napišite funkcijo anagrami(beseda, s), ki kot argument prejme besedo in slovar, kakršnega vrača zgornja funkcija. Vrniti mora množico anagramov te besede.</br></br>\n",
    "*>>> poisci_anagrame(\"obrat\", {\"abort\": {\"torba\", \"obrat\", \"botra\"},*</br>\n",
    "*\"eilnost\": {\"sloneti\", \"tesnilo\"}})*</br>\n",
    "*{\"torba\", \"obrat\", \"botra\"}*</br></br>\n",
    "**Namig:** \"\".join(sorted(x)) dela čudeže."
   ]
  },
  {
   "cell_type": "code",
   "execution_count": null,
   "id": "167715fa",
   "metadata": {},
   "outputs": [],
   "source": []
  },
  {
   "cell_type": "markdown",
   "id": "52173ab0",
   "metadata": {},
   "source": [
    "**220. Človek ne jezi se**</br></br>\n",
    "V poenostavljeni igri Človek ne jezi se ima vsak igralec eno figuro. Vsi začnejo na polju 0. Ko je\n",
    "igralec na vrsti, vrže kocko in premakne figuro za toliko polj, kolikor pokaže kocka. *Če pri tem pride na polje, na katerem že stoji kateri drugi igralec, gre oni, drugi igralec na polje 0.*</br></br>\n",
    "Napiši funkcijo `clovek_ne_jezi_se(igralcev, meti)`, ki kot argument dobi število igralcev in\n",
    "zaporedje metov, kot rezultat pa vrne številke polj, na katerih se po teh metih nahajajo igralci."
   ]
  },
  {
   "cell_type": "code",
   "execution_count": null,
   "id": "bb55b676",
   "metadata": {},
   "outputs": [],
   "source": []
  },
  {
   "cell_type": "markdown",
   "id": "8208f9c9",
   "metadata": {},
   "source": [
    "**221. Največ dvakrat**</br></br>\n",
    "Napiši funkcijo `najvec_dve(s)`, ki v podanem seznamu pusti do dve (ne nujno zaporedni) pojavitvi vsakega elementa in pobriše vse nadaljnje. Funkcija mora vrniti None; spreminja naj podani seznam.</br></br>\n",
    "Seznam ne vsebuje nujno števil, predpostaviti pa smete, da so njegovi elementi nespremenljivi (*immutable*).</br></br>\n",
    "Če imamo `s = [4, 1, 2, 4, 1, 3, 3, 1, 2, 5, 4, 3, 7, 4]`, mora biti po klicu\n",
    "`najvec_dve(s)` seznam s enak `[4, 1, 2, 4, 1, 3, 3, 5, 7]`. Briše namreč takole: `[4, 1, 2, 4, 1, 3, 3, 1, 2, 5, 4, 3, 7, 4]`."
   ]
  },
  {
   "cell_type": "code",
   "execution_count": null,
   "id": "2c95bfce",
   "metadata": {},
   "outputs": [],
   "source": []
  },
  {
   "cell_type": "markdown",
   "id": "3a16fd8a",
   "metadata": {},
   "source": [
    "**222. Seštej zaporedne**</br></br>\n",
    "Napiši funkcijo `sestej_zaporedne(s)`, ki prejme seznam števil in vrne nov seznam, v katerem so vse zaporedne pojavitve istega števila zamenjane z vsoto. Tako mora, na primer, klic\n",
    "`sestej_zaporedne([1, 4, 4, 4, 0, 4, 3, 3, 1])` vrniti `[1, 12, 0, 4, 6, 1]` – tri štirice se seštejejo v 12 in dve trojki se seštejeta v 6. Ostalo ostane, kot je."
   ]
  },
  {
   "cell_type": "code",
   "execution_count": null,
   "id": "72a895cd",
   "metadata": {},
   "outputs": [],
   "source": []
  },
  {
   "cell_type": "markdown",
   "id": "11028122",
   "metadata": {},
   "source": [
    "**223. Intervali**</br></br>\n",
    "Napiši funkcijo `intervali(s)`, ki prejme seznam števil in vrne seznam parov, ki predstavljajo\n",
    "začetke in konce intervalov naraščajočih zaporednih števil v tem seznamu. Tako mora klic\n",
    "`intervali([4, 5, 6, 7, 15, 21, 22, 23])` vrniti seznam `[(4, 7), (15, 15), (21, 23)]`.</br></br>\n",
    "Napiši še funkcijo `razpisi(ints)`, ki dela ravno obratno – prejme, recimo `[(4, 7), (15, 15), (21, 23)]` in vrne `[4, 5, 6, 7, 15, 21, 22, 23]`."
   ]
  },
  {
   "cell_type": "code",
   "execution_count": null,
   "id": "6d6184c0",
   "metadata": {},
   "outputs": [],
   "source": []
  },
  {
   "cell_type": "markdown",
   "id": "04a86274",
   "metadata": {},
   "source": [
    "**224. Dolžine ladij**</br></br>\n",
    "Recimo, da položaj pri igri Potapljanje ladjic predstavimo s seznamom nizov, kot, recimo</br></br>\n",
    "*[\".......XXX....X\",*</br>\n",
    "*\"X..XX.......X..\",*</br>\n",
    "*\"X......XXXXX...\",*</br>\n",
    "*\"X..XX..........\"]*</br></br>\n",
    "Napiši funkcijo `dolzina(plosca, x, y)`, ki prejme takšno ploščo in pove, kako dolga je ladja, ki se začne na koordinatah `x`, `y` in gre potem na desno ali navzdol.</br></br>\n",
    "Poleg tega napiši funkcijo `najdaljsa_ladja(plosca)`, ki vrne dolžino najdaljše ladje na plošči; v gornjem primeru je to 5."
   ]
  },
  {
   "cell_type": "code",
   "execution_count": null,
   "id": "d298e79b",
   "metadata": {},
   "outputs": [],
   "source": []
  }
 ],
 "metadata": {
  "language_info": {
   "name": "python"
  }
 },
 "nbformat": 4,
 "nbformat_minor": 5
}
