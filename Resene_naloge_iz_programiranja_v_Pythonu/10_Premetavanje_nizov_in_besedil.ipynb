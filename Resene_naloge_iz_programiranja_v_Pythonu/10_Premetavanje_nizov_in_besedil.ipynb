{
 "cells": [
  {
   "cell_type": "markdown",
   "id": "ec856d22",
   "metadata": {},
   "source": [
    "**225. Sekunde** </br></br>\n",
    "Ljudje čas radi zapisujemo v obliki, kot je, na primer, 8:12:34, kar bi, recimo, pomenilo 12\n",
    "minut in 34 sekund čez osem ali pa 17:4:45, kar je štiri minute in 45 sekund čez peto popoldan.\n",
    "Računalniki čas raje merijo v sekundah – za potrebe te naloge, ga bomo merili v sekundah od\n",
    "polnoči. Napiši funkcije:</br></br>\n",
    "1. `cas_v_sekunde(s)`, ki prejme čas v »človeški« obliki in kot rezultat vrne čas od polnoči.\n",
    "Upoštevajte, da sme človek napisati bodisi `10:05:20` bodisi `10:5:20` – funkcija naj zna\n",
    "brati oboje.</br></br>\n",
    "2. `sekunde_v_cas(s)`, ki prejme čas v sekundah od polnoči in vrne niz v človeški obliki.\n",
    "Funkcija naj rezultat vrne v obliki `10:05:20`, ne `10:5:20`.</br></br>\n",
    "3. `razlika_casov(s1, s2)`, ki prejme dva časa v človeški obliki in vrne razliko med njima,\n",
    "spet zapisano v človeški obliki. Predpostaviti smeš, da je `s2` večji od `s1`.</br></br>\n",
    "Pri reševanju naloge je prepovedano uporabljati Pythonove module.</br></br>\n",
    "*>>> cas_v_sekunde(\"10:00:00\")*</br>\n",
    "*36000*</br>\n",
    "*>>> cas_v_sekunde(\"0:0:0\")*</br>\n",
    "*0*</br>\n",
    "*>>> cas_v_sekunde(\"10:05:12\")*</br>\n",
    "*36312*</br>\n",
    "*>>> sekunde_v_cas(36312)*</br>\n",
    "*'10:05:12'*</br>\n",
    "*>>> sekunde_v_cas(0)*</br>\n",
    "*'00:00:00'*</br>\n",
    "*>>> razlika_casov(\"10:00:00\", \"10:11:5\")*</br>\n",
    "*'00:11:05'*</br>\n",
    "*>>> razlika_casov(\"10:00:00\", \"12:11:5\")*</br>\n",
    "*'02:11:05'*</br>\n",
    "*>>> razlika_casov(\"10:11:30\", \"12:05:35\")*</br>\n",
    "*'01:54:05'*"
   ]
  },
  {
   "cell_type": "code",
   "execution_count": null,
   "id": "b39623d0",
   "metadata": {},
   "outputs": [],
   "source": []
  },
  {
   "cell_type": "markdown",
   "id": "cdb210a7",
   "metadata": {},
   "source": [
    "**226. Naslednji avtobus**</br></br>\n",
    "Napiši funkcijo `naslednji_avtobus(prihodi)`, ki dobi seznam prihodov avtobusov in vrne \"številko\" (npr. `\"1\"` ali `\"6b\"`) avtobusa, ki bo prišel prvi. Če je za več avtobusov napovedan isti čas do prihoda, naj vrne tistega z nižjo številko (a pazite: avtobus 2 ima nižjo številko od avtobusa 11, prav tako ima avtobus 6b nižjo številko od 11). Prihodi avtobusov so podani kot slovar, katerega ključi so \"številke\" avtobusov (`\"1\"`, `\"6b\"`...), vrednosti pa seznami napovedanih časov do prihoda. Časi niso nujno urejeni po velikosti.</br></br>\n",
    "\n",
    "*>>> naslednji_avtobus({\"1\": [5, 7], \"3\": [3, 11], \"6b\": [7]})*</br>\n",
    "*\"3\"*</br>\n",
    "*>>> naslednji_avtobus({\"1\": [5, 7], \"2\": [11, 3, 18], \"11\": [3, 7]})*</br>\n",
    "*\"2\"*</br>\n",
    "*>>> naslednji_avtobus({\"1\": [5, 7], \"2\": [11, 3, 18], \"6b\": [3, 7]})*</br>\n",
    "*\"2\"*"
   ]
  },
  {
   "cell_type": "code",
   "execution_count": null,
   "id": "383d220c",
   "metadata": {},
   "outputs": [],
   "source": []
  },
  {
   "cell_type": "markdown",
   "id": "2d782735",
   "metadata": {},
   "source": [
    "**227. Eboran**</br></br>\n",
    "Napiši funkcijo eboran(stavek), ki prejme stavek (zapisan kot besede, med katerimi so presledki, brez ločil) in vrne nov stavek, v katerem so vse besede obrnjene.</br></br>\n",
    "*>>> eboran(\"vse je narobe tudi tale stavek\")*</br>\n",
    "*esv ej eboran idut elat kevats*</br></br>\n",
    "Pazi, \"kevats elat idut eboran ej esv\" ni pravilna rešitev naloge, vrstni red obrnjenih besed mora ostati enak.</br></br>\n",
    "Kaj pa ločila? Znate napisati funkcijo, ki bi obrnila le besede, ločila in presledka pa pustila pri miru?</br></br>\n",
    "*>>> eboran2('zapel je: \"vse je narobe, tudi tale stavek.\"')*</br>\n",
    "*lepaz ej: \"esv ej eboran, idut elat kevats.\"*"
   ]
  },
  {
   "cell_type": "code",
   "execution_count": null,
   "id": "26d299a9",
   "metadata": {},
   "outputs": [],
   "source": []
  },
  {
   "cell_type": "markdown",
   "id": "31431ecf",
   "metadata": {},
   "source": [
    "**228. Cenzura**</br></br>\n",
    "Napiši funkcijo `cenzura(besedilo, prepovedane)`, ki prejme besedilo in seznam prepovedanih besed. Vrniti mora nov niz, v katerem so vse prepovedane besede zamenjane s toliko X-i, koliko črk imajo. V množici prepovedanih besed so vse besede napisane z malimi črkami, vendar so prepovedane tudi, če so napisane z velikimi.</br></br>\n",
    "Predpostaviti smeš, da v besedilu ni nobenih ločil, le besede in presledki. Če znaš, pa napiši funkcijo, ki dela tudi z ločili in pusti stavek takšen, kot je, le prepovedane besede zamenja.</br></br>\n",
    "*>>> prepovedane = {\"zadnjica\", \"tepec\", \"pujs\", \"kreten\"}*</br>\n",
    "*>>> cenzura(\"Pepe je ena navadna zadnjica in pujs in še kaj hujšega\",*</br>\n",
    "*prepovedane)*</br>\n",
    "*'Pepe je ena navadna XXXXXXXX in XXXX in še kaj hujšega'*</br>\n",
    "*>>> cenzura(\"Pepe je ena velika Zadnjica in PUJS in še kaj hujšega\",*</br>\n",
    "*prepovedane)*</br>\n",
    "*'Pepe je ena velika XXXXXXXX in XXXX in še kaj hujšega'*</br>\n",
    "*>>> cenzura(\"Pepe je okreten\", prepovedane)*</br>\n",
    "*'Pepe je okreten'*"
   ]
  },
  {
   "cell_type": "code",
   "execution_count": null,
   "id": "1085164e",
   "metadata": {},
   "outputs": [],
   "source": []
  },
  {
   "cell_type": "markdown",
   "id": "36a25907",
   "metadata": {},
   "source": [
    "**229. Črkovalnik**</br></br>\n",
    "Napiši funkcijo crka(c, a), ki kot argument prejme dva niza dolžine 1. Prvi niz predstavlja črko in drugi \"akcijo\". Funkcija naj vrne naslednje:</br></br>\n",
    "• če je akcija enaka \"U\", vrne veliko črko c: crka(\"t\", \"U\") vrne \"T\";</br>\n",
    "• če je akcija števka med \"0\" in \"9\", vrne toliko ponovitev črke c: crka(\"t\", \"3\")\n",
    "vrne \"ttt\";</br>\n",
    "• če je akcija enaka \"x\", vrne prazen niz: crka(\"t\", \"x\") vrne prazen niz;</br>\n",
    "• če je akcija enaka \".\", vrne nespremenjeno črko c: crka(\"t\", \".\") vrne \"t\".</br></br>\n",
    "Poleg tega napiši funkcijo kodiraj(beseda, koda), ki prejme besedo in akcije za posamezne črke, ter vrne novo besedo, v kateri je vsaka črka predelana tako, kot zahteva ustrezna črka iz akcije. Predpostaviti smeš, da sta niza beseda in koda enako dolga.</br></br>\n",
    "*>>> kodiraj(\"beseda\", \".U5.x.\")*</br>\n",
    "*bEsssssea*"
   ]
  },
  {
   "cell_type": "code",
   "execution_count": null,
   "id": "1b8ccd2a",
   "metadata": {},
   "outputs": [],
   "source": []
  },
  {
   "cell_type": "markdown",
   "id": "5aa24a24",
   "metadata": {},
   "source": [
    "**230. Hosts**</br></br>\n",
    "V Unixu (vključno z Linuxom in Mac OS X) se v imeniku `/etc` nahaja datoteka `hosts`. Na MS Windows jo najdemo v `c:/Windows/System32/drivers/etc`. Videti je lahko, recimo, takole</br></br>\n",
    "\n",
    "*# localhost name resolution is handled within DNS itself.*</br>\n",
    "*# 127.0.0.1 localhost*</br>\n",
    "*# ::1 localhost*</br>\n",
    "*193.2.72.47 google.com # bolj zadane!*</br>\n",
    "*193.2.72.47 www.google.com # bolj zadane!*</br>\n",
    "*193.2.72.35 bing.com*</br>\n",
    "*193.2.72.35 www.bing.com*</br></br>\n",
    "\n",
    "Pravila za branje so takšna:</br>\n",
    "1. če je v vrstici kakšen #, odbijemo vse od njega do konca;</br>\n",
    "2. pobrišemo ves beli prostor (presledki, tabulatorji...) na začetku in koncu;</br>\n",
    "3. če ne ostane nič več, vrstico ignoriramo;</br>\n",
    "4. sicer pa ostaneta v vrstici dve stvari: IP in ime nekega strežnika.</br></br>\n",
    "Sestavite funkcijo `beri_hosts()`, ki prebere tako oblikovano datoteko hosts (nahaja naj se kar v trenutnem direktoriju) in vrne slovar, katerega ključi so imena, vrednosti pa IPji."
   ]
  },
  {
   "cell_type": "code",
   "execution_count": null,
   "id": "37ab76ff",
   "metadata": {},
   "outputs": [],
   "source": []
  },
  {
   "cell_type": "markdown",
   "id": "b475baec",
   "metadata": {},
   "source": [
    "**231. Uporabniške skupine**</br></br>\n",
    "Unix zapisuje skupine uporabnikov v datoteko `/etc/group`. Vsaka vrstica opisuje eno skupino uporabnikov. V njej so štirje podatki, ločeni z dvopičji: ime skupine, geslo, številski id in seznam uporabnikov v skupini. Uporabniška imena so ločena z vejicami. Del datoteke je lahko, recimo, takšen.</br></br>\n",
    "\n",
    "*ana:x:500:ana*</br>\n",
    "*berta:x:501:berta*</br>\n",
    "*cilka:x:502:cilka*</br>\n",
    "*dani:x:503:dani*</br>\n",
    "*ordinary:x:504:ana,berta,cilka,dani*</br>\n",
    "*taccess:x:505:berta,cilka*</br>\n",
    "*wusers:x:506:ana,cilka*</br></br>\n",
    "\n",
    "V njej vrstica</br>\n",
    "*taccess:x:505:berta,cilka*</br></br>\n",
    "\n",
    "pravi, da sta v skupini taccess uporabnici berta in cilka. Geslo in številka sta za to nalogo nepomembna.</br></br>\n",
    "\n",
    "Napiši funkcijo beri_skupine(ime_dat), ki kot argument prejme ime datoteke groups in kot rezultat vrne slovar, katerega ključi so uporabniki, vrednosti pa skupine, v katerih je ta uporabnik (torej obratno od tega, kar je v groups, kjer za skupino izvemo, katere uporabnike vsebuje).</br></br>\n",
    "\n",
    "*>>> users = beri_skupine(\"group\")*</br>\n",
    "*>>> users[\"ana\"]*</br>\n",
    "*['ana', 'ordinary', 'wusers']*</br>\n",
    "*>>> users[\"cilka\"]*</br>\n",
    "*['cilka', 'ordinary', 'taccess', 'wusers']*</br>\n",
    "*>>> users[\"dani\"]*</br>\n",
    "*['dani', 'ordinary']*"
   ]
  },
  {
   "cell_type": "code",
   "execution_count": null,
   "id": "b80b0801",
   "metadata": {},
   "outputs": [],
   "source": []
  },
  {
   "cell_type": "markdown",
   "id": "2e11b13f",
   "metadata": {},
   "source": [
    "**232. Skrito sporočilo**</br></br>\n",
    "Napiši program, ki bo dešifriral sovražnikova sporočila. Iz zanesljivih virov si izvedel, da sovražnik uporablja nadvse preprosto šifro. Vse, kar moraš storiti, je izpisati vse znake, ki se pojavijo na začetku kakšne povedi. Drugače rečeno, izpisati moraš prvi znak niza in vse znake, ki sledijo nizu '. ' (in, pazi, nekatere povedi se začnejo s presledkom).</br></br>\n",
    "V kaj se dešifrira naslednje sporočilo?</br></br>\n",
    "*Nic ne bo. Ana bo ostala doma. Prisla je njena mama. Aleksa tudi*</br>\n",
    "*ne bo. Dejan je zbolel. Groza. Ostali smo samo se jaz, ti in*</br>\n",
    "*Miha. Bolje, da izlet prestavimo. Pa tako sem se ga veselil. 6 dni*</br>\n",
    "*sem cakal na to, da se odpravimo v hribe. Hja, pa drugic...*"
   ]
  },
  {
   "cell_type": "code",
   "execution_count": null,
   "id": "53a3fc2a",
   "metadata": {},
   "outputs": [],
   "source": []
  },
  {
   "cell_type": "markdown",
   "id": "2cc2ab0e",
   "metadata": {},
   "source": [
    "**233. Iskanje URLjev**</br></br>\n",
    "URL je niz, ki se (za potrebe te naloge) začne s `http://` ali `https://` in nadaljuje vse do prvega presledka, tabulatorja ali znaka za novo vrsto. Vsebuje lahko torej tudi poljubne znake, kot so oklepaji, pike, plusi in minusi ... karkoli razen belega prostora. Napiši funkcijo `najdi_URLje(s)`, ki kot argument prejme niz in kot rezultat vrne seznam URLjev v njem.</br></br>\n",
    "\n",
    "*>>> s = \"\"\"O regularnih izrazih lahko preberes v Pythonovi -*</br>\n",
    "*http://www.python.org - dokumentaciji, konkretno tule -*</br>\n",
    "*http://docs.python.org/library/re.html - ampak ne med izpitom. Zapiski o*</br>\n",
    "*regularnih izrazih so na http://ucilnica.fri.uni-*</br>\n",
    "*lj.si/mod/resource/view.php?id=5482 (deluje pa tudi*</br>\n",
    "*https://ucilnica.fri.uni-lj.si/mod/resource/view.php?id=5482).\"\"\"*</br>\n",
    "*>>>*</br>\n",
    "*>>> najdi_URLje(s)*</br>\n",
    "*['http://www.python.org', 'http://docs.python.org/library/re.html',*</br>\n",
    "*'http://ucilnica.fri.uni-lj.si/mod/resource/view.php?id=5482',*</br>\n",
    "*'https://ucilnica.fri.uni-lj.si/mod/resource/view.php?id=5482).']*</br></br>\n",
    "\n",
    "Naj te ne vznemirja, da bodo nekateri URLji (zadnji iz primera, recimo) nekoliko napačni, ker se jih bo na koncu držalo še kaj, kar ne sodi zraven."
   ]
  },
  {
   "cell_type": "code",
   "execution_count": null,
   "id": "91c1da76",
   "metadata": {},
   "outputs": [],
   "source": []
  },
  {
   "cell_type": "markdown",
   "id": "0e2aba84",
   "metadata": {},
   "source": [
    "**234. Deli URLja**</br></br>\n",
    "Lotimo se nekoliko splošnejših URLjev: sestavljeni so iz imena protokola, naslova strežnika in poti na strežniku. Ime protokola je beseda sestavljena iz črk in števk, ki ji sledi dvopičje (http:, https:, ftp: ali kaj podobnega). Imenu protokola sledita dve poševnici. V naslovu strežnika ni poševnic, v poti pa so lahko. Pot se, če ni prazna, začne s poševnico. Celoten URL je torej tak: protokol://strežnik/pot ali protokol://strežnik/ ali protokol://strežnik.</br></br>\n",
    "\n",
    "Napiši funkcijo, ki prejme URL in kot rezultat vrne ime protokola, naslov strežnika in pot. Predpostaviš lahko, da URLju sledi beli prostor.</br></br>\n",
    "\n",
    "*>>> razbijURL(\"http://ucilnica.fri.uni-lj.si/p1\")*</br>\n",
    "*('http', 'ucilnica.fri.uni-lj.si', 'p1')*</br>\n",
    "*>>> razbijURL(\"http://ucilnica.fri.uni-lj.si/p1/view.php&id=13\")*</br>\n",
    "*('http', 'ucilnica.fri.uni-lj.si', 'p1/view.php&id=13')*</br>\n",
    "*>>> razbijURL(\"http://ucilnica.fri.uni-lj.si/\")*</br>\n",
    "*('http', 'ucilnica.fri.uni-lj.si', '')*</br>\n",
    "*>>> razbijURL(\"http://ucilnica.fri.uni-lj.si\")*</br>\n",
    "*('http', 'ucilnica.fri.uni-lj.si', '')*"
   ]
  },
  {
   "cell_type": "code",
   "execution_count": null,
   "id": "a7e39d4b",
   "metadata": {},
   "outputs": [],
   "source": []
  },
  {
   "cell_type": "markdown",
   "id": "6c69ab84",
   "metadata": {},
   "source": [
    "**235. Trgovinski računi**</br></br>\n",
    "\n",
    "Trgovina izdaja račune takšne oblike:</br></br>\n",
    "\n",
    "*Trgovina z mešanim blagom Stane*</br>\n",
    "*Pot k Stanetu 18*</br>\n",
    "*4321 Lem*</br>\n",
    "*Sepuljke 15.12*</br>\n",
    "*Sepuljke (bio) 22.00*</br>\n",
    "*posebni popust*</br>\n",
    "*Knjiga 13.50*</br>\n",
    "------------------------</br>\n",
    "*skupaj 50.62*</br>\n",
    "*Hvala za nakup!*</br>\n",
    "*Se priporočamo.*</br></br>\n",
    "\n",
    "Med imenom izdelka (oz. besedo \"skupaj\") in ceno (oz. skupno vsoto) je tabulator (\\t). Tabulatorjev na drugih mestih v dokumentu ni. Pred vsoto vedno piše \"skupaj\". Vsota sledi seznamu kupljenih izdelkov in cen. Besedilo pred seznamom izdelkov in cen ter za njim je lahko poljubno in poljubno dolgo. Prav tako se lahko znotraj seznama izdelkov pojavljajo dodatne vrstice s poljubnim besedilom, kot je na primer gornji \"posebni popust\".\n",
    "</br></br>\n",
    "Sestavite funkcijo `preveri_racun(ime_dat)`, ki kot argument prejme ime datoteke s trgovinskim računom. Funkcija prebere račun in vrne vrednost `True`, če je vsota na računu pravilna in `False`, če ni pravilna ali pa račun ne vsebuje besede \"skupaj\" in vsote.</br></br>\n",
    "\n",
    "Za gornji račun funkcija vrne `True`, saj je 15.12 + 22.00 + 13.50 res enako 50.62."
   ]
  },
  {
   "cell_type": "code",
   "execution_count": null,
   "id": "628ed067",
   "metadata": {},
   "outputs": [],
   "source": []
  },
  {
   "cell_type": "markdown",
   "id": "4ad97e14",
   "metadata": {},
   "source": [
    "**236. Izračun računa**</br></br>\n",
    "Datoteka s cenami vsebuje kode izdelkov, ki se prodajajo v trgovini, in njihove cene na enoto (kos, kilogram, liter, tona, kubik, kontejner, vlačilec s priklopnikom...). Vsaka vrstica se nanaša na en izdelek. Videti je lahko, recimo, takole:</br></br>\n",
    "\n",
    "*2848802640 10.27*</br>\n",
    "*5187117715 13.93*</br>\n",
    "*2877291451 19.55*</br>\n",
    "*5132905819 13.44*</br>\n",
    "*2880387257 12.06*</br>\n",
    "*2850174450 0.75*</br>\n",
    "*5135732020 2.33*</br>\n",
    "*2886988508 6.28*</br></br>\n",
    "\n",
    "V drugi datoteki je seznam reči, ki jih je kupila določena oseba; v vsaki vrstici je koda izdelka in količina. Videti je lahko, na primer, takole:</br></br>\n",
    "\n",
    "*2880387257 3*</br>\n",
    "*2886988508 1.5*</br></br>\n",
    "\n",
    "Napiši funkcijo racunaj(cene, nakupi), ki kot argument prejme imeni gornjih datotek in kot rezultat vrne skupno ceno vsega nakupljenega. V gornjem primeru mora funkcija vrniti 45.6 saj je 3×12.06 + 1.5×6.28 = 45.6."
   ]
  },
  {
   "cell_type": "code",
   "execution_count": null,
   "id": "31450d83",
   "metadata": {},
   "outputs": [],
   "source": []
  },
  {
   "cell_type": "markdown",
   "id": "768dd6bf",
   "metadata": {},
   "source": [
    "**237. Numerologija**</br></br>\n",
    "Numerologi računajo takole. Naj bo vrednost znaka A enaka 1, vrednost znaka B naj bo 2, vrednost C 3, vrednost D 4 in tako lepo naprej po angleški abecedi. Vzemimo neko besedo, denimo \"Benjamin\". Vrednosti črk te besede so 2, 5, 14, 10, 1, 13, 9 in 14. Če jih seštejemo, dobimo 68. Nato seštejemo 6 in 8: dobimo 14. Nato seštejemo 1 in 4 ter dobimo 5. Ker smo tako prišli do enomestnega števila, se ustavimo: vrednost imena BENJAMIN je 5. Za vajo poračunajmo še Berto: vrednosti črk so 2, 5, 18, 20, 1. Vsota je 46. 4+6=10. 1+0=1. Tu se ustavimo, vrednost imena Berta je 1.</br></br>\n",
    "\n",
    "Od te številke je domnevno odvisno prav vse v vašem življenju, vključno s tem, ali boste uspešno opravili izpit iz programiranja ali ne. Zato se zdi, da bi bilo koristno, če bi napisali funkcijo `numerologija(ime)`, ki kot argument dobi ime (same črke, brez presledkov ali drugih znakov) in vrne njegovo vrednost. Male in velike črke imajo iste vrednosti.</br></br>\n",
    "\n",
    "*>>> numerologija(\"Berta\")*</br>\n",
    "*1*</br>\n",
    "*>>> numerologija(\"Benjamin\")*</br>\n",
    "*5*</br>\n",
    "*>>> numerologija(\"Berta\") == numerologija(\"Benjamin\")*</br>\n",
    "*False*</br></br>\n",
    "\n",
    "**Namig:** če funkciji `ord` podamo znak, vrne kodo ASCII tega znaka. Kode ASCII velikih črk so za 64 večje od vrednosti črk, kakršne potrebujemo pri tej nalogi: `ord(\"A\")` je 65, `ord(\"B\")` je 66 in tako naprej."
   ]
  },
  {
   "cell_type": "code",
   "execution_count": null,
   "id": "eb4afb4b",
   "metadata": {},
   "outputs": [],
   "source": []
  },
  {
   "cell_type": "markdown",
   "id": "3f6438e9",
   "metadata": {},
   "source": [
    "**238. Grep**</br></br>\n",
    "Napiši funkcijo `grep`, ki kot argument dobi opis imena datoteke (npr. `*.txt` ali `*.*` ali `c:\\d\\fakulteta\\mmm*.py`) in podniz, kot rezultat pa vrne seznam datotek, ki vsebujejo ta podniz. Tako bi `grep(\"c:\\\\d\\\\risanje\\\\*.py\", \"zelva\")` vrnil imena vseh datotek v direktoriju `c:\\d\\risanje` in s končnico `*.py`, ki vsebujejo besedo `zelva`</br></br>\n",
    "\n",
    "*>>> grep(\"c:\\\\d\\\\risanje\\\\.py\", \"zelva\")*</br>\n",
    "*['c:\\\\d\\\\risanje\\\\koch.py', 'c:\\\\d\\\\risanje\\\\neobjektno.py',*</br>\n",
    "*'c:\\\\d\\\\risanje\\\\objektno.py', 'c:\\\\d\\\\risanje\\\\tavajoci.py',*</br>\n",
    "*'c:\\\\d\\\\risanje\\\\tavajoci2.py', 'c:\\\\d\\\\risanje\\\\tavajoci3.py',*</br>\n",
    "*'c:\\\\d\\\\risanje\\\\tavajoci4.py']*</br></br>\n",
    "\n",
    "Pomagaš si lahko s funkcijo `glob`, ki jo najdeš v modulu `glob`. Kot argument ji podaš ime datoteke (z zvezdicami) in vrne seznam vseh datotek, ki ustrezajo vzorcu.</br></br>\n",
    "\n",
    "*>>> glob.glob(\"c:\\\\d\\\\risanje\\\\.py\")*</br>\n",
    "*['c:\\\\d\\\\risanje\\\\besede.py', 'c:\\\\d\\\\risanje\\\\crte.py',*</br>\n",
    "*'c:\\\\d\\\\risanje\\\\koch.py', 'c:\\\\d\\\\risanje\\\\sierpinski.py']*"
   ]
  },
  {
   "cell_type": "code",
   "execution_count": null,
   "id": "87ac9504",
   "metadata": {},
   "outputs": [],
   "source": []
  },
  {
   "cell_type": "markdown",
   "id": "7af5fd8b",
   "metadata": {},
   "source": [
    "**239. Preimenovanje datotek**</br></br>\n",
    "\n",
    "Sestavite program, ki popravi imena datotek v trenutnem direktoriju v skladu z naslednjimi pravili.</br></br>\n",
    "\n",
    "1. Spreminjamo samo datoteke s končnicami .avi, .mpg, .mkv, .rm in .mp4.</br>\n",
    "2. Vse pike v imenu je potrebno spremeniti v presledke. Izjema je pika pred končnico. Tako se mora \"generals.at.war-the.battle.at.kursk.avi\" spremeniti v \"generals at war - the battle at kursk.avi\"</br>\n",
    "3. Prva beseda mora biti vedno napisana z veliko začetnico (\"Generals at war - the battle at kursk.avi\")</br>\n",
    "4. Če se v besedilu pojavi pomišljaj, mora biti beseda za njim napisana z veliko začetnico (\"Generals at war - The battle at kursk.avi\"). Pomišljaj je znak \"-\", pred in za katerim je presledek. Tule ni pomišljaja: \"newton-leibniz\".</br>\n",
    "5. Z veliko začetnico morajo biti napisane tudi vse ostale besede, razen končnice in besed a, an, the, above, against, along, alongside, amid, amidst, around, as, aside, astride, at, athwart, atop, before, behind, below, beneath, beside, besides, between, beyond, but, by, down, during, for, from, in, inside, into, of, on, onto, out, outside, over, per, plus, than, through, throughout, till, to, toward, towards, under, underneath, until, upon, versus, via, with, within, without. Zaradi enostavnosti predpostavljamo, da je beseda od ostalega besedila ločena s presledki. To pomeni, da v naslovu \"More on Newton- leibniz Discussion.avi\" besede leibniz ne obravnavamo kot besedo (ker pred njo ni presledka).</br>\n",
    "6. Končnica mora biti napisana z malimi tiskanimi črkami.</br>\n",
    "7. Zaporedne presledke smemo zamenjati z enim samim presledkom.</br></br>\n",
    "\n",
    "\n",
    "<p style=\"text-align:center\">\n",
    "<strong>original popravljeno ime</strong></br>\n",
    "by.the.lake.mpg By the Lake.mpg</br>\n",
    "generals.at.war.-.the.battle.at.kursk.avi Generals at War - The Battle at Kursk.avi</br>\n",
    "Hubble, 15 Years Of Discovery.avi Hubble, 15 Years of Discovery.avi</br>\n",
    "Inside the Forbidden City - 1 - secrets.AVI Inside the Forbidden City - 1 - Secrets.avi</br>\n",
    "Killer.toads.avi Killer Toads.avi</br>\n",
    "Ne.Preimenuj.Me!.txt Ne.Preimenuj.Me!.txt</br>\n",
    "README README\n",
    "</p>\n",
    "\n",
    "\n",
    "\n",
    "\n",
    "\n",
    "\n"
   ]
  },
  {
   "cell_type": "code",
   "execution_count": null,
   "id": "cf18329c",
   "metadata": {},
   "outputs": [],
   "source": []
  },
  {
   "cell_type": "markdown",
   "id": "3478c40f",
   "metadata": {},
   "source": [
    "**240. Vse datoteke s končnico .py**</br></br>\n",
    "Napišite funkcijo, ki prejme ime direktorija in vrne seznam vseh datotek v tem direktoriju, ki imajo končnico `.py`.</br></br>\n",
    "\n",
    "To je bilo seveda le za ogrevanje (kdo pa ne ve za `os.listdir` ali celo `glob`?!). Zdaj pa še zares: seznam naj vsebuje tudi vse datoteke v poddirektorijih; v seznamu naj bodo imena poddirektorijev in datotek, npr. `\"prog1/risanje/snezinke.py\"`.</br></br>\n",
    "\n",
    "**Opomba:** naloga je vaja iz rekurzije. Kdor je ne zna in se je nima namena (takoj) učiti, niti se ji ne zna izogniti (kar je še težje), naj se je ne loti."
   ]
  },
  {
   "cell_type": "code",
   "execution_count": null,
   "id": "43a81511",
   "metadata": {},
   "outputs": [],
   "source": []
  },
  {
   "cell_type": "markdown",
   "id": "71a33e46",
   "metadata": {},
   "source": [
    "**241. Uredi CSV**</br></br>\n",
    "Napiši funkcijo, ki kot argument prejme ime datoteke v formatu CSV (comma separated alues). Napisati mora novo datoteko, katere ime je enako staremu, le da je k imenu pripeto `\"_sorted\"`; v novi datoteki morajo biti polja v vsaki vrstici urejena po abecednem vrstnem redu.</br></br>\n",
    "\n",
    "Program naj datoteko `foo.csv` z vsebino</br></br>\n",
    "\n",
    "*jabolko,banana*</br>\n",
    "*kamela,pingvin,veverica,meerkat*</br>\n",
    "*glenda,tux,daemon*</br></br>\n",
    "\n",
    "spremeni v datoteko `foo_sorted.csv` z vsebino:</br></br>\n",
    "\n",
    "*banana,jabolko*</br>\n",
    "*kamela,meerkat,pingvin,veverica*</br>\n",
    "*daemon,glenda,tux*"
   ]
  },
  {
   "cell_type": "code",
   "execution_count": null,
   "id": "033bbd6a",
   "metadata": {},
   "outputs": [],
   "source": []
  },
  {
   "cell_type": "markdown",
   "id": "67d4e108",
   "metadata": {},
   "source": [
    "**242. Zaporedni samoglasniki in soglasniki**</br></br>\n",
    "V slovenščini ni veliko besed, ki bi imele po dva zaporedna samoglasnika (a preudarno, govoriti o njihovem neobstoju bi bilo preuranjeno!), prav tako so redke takšne, ki imajo zapored po štiri ali več soglasnikov (književna zvrst gor ali dol). Napiši funkcijo zaporedne(s), ki v podanem nizu s poišče vse takšne besede in jih vrne v seznamu."
   ]
  },
  {
   "cell_type": "code",
   "execution_count": null,
   "id": "bb8539f4",
   "metadata": {},
   "outputs": [],
   "source": []
  },
  {
   "cell_type": "markdown",
   "id": "78ed657c",
   "metadata": {},
   "source": [
    "**243. Migracije**</br></br>\n",
    "Napiši funkcijo migracije(ime_datoteke), ki prejme ime datoteke, ki vsebuje vrstice oblike</br></br>\n",
    "\n",
    "*8: Maribor -> Ljubljana*</br>\n",
    "*3: Maribor -> Nova Gorica*</br>\n",
    "*10: Ljubljana -> Maribor*</br>\n",
    "*5: Koper -> Nova Gorica*</br>\n",
    "*3: Novo mesto -> Nova Gorica*</br></br>\n",
    "\n",
    "Vsaka vrstica pove, koliko ljudi se je preselilo odkod kam. Funkcija naj vrne par imen krajev: kraj, iz katerega je odšlo največ ljudi in kraj, v katerega se je preselilo največ ljudi. V gornjem primeru funkcija vrne (`\"Maribor\"`, `\"Nova Gorica\"`)."
   ]
  },
  {
   "cell_type": "code",
   "execution_count": null,
   "id": "c5391279",
   "metadata": {},
   "outputs": [],
   "source": []
  },
  {
   "cell_type": "markdown",
   "id": "6475ceb9",
   "metadata": {},
   "source": [
    "**244. Selitve**</br></br>\n",
    "Napiši funkcijo `selitve(zacetek, datoteka_selitev, kraj)`, ki prejme začetno razdelitev oseb, ime datoteke s selitvami in ime nekega kraja. Vrniti mora množico imen oseb, ki po podanih selitvah živijo v podanem kraju.</br></br>\n",
    "\n",
    "Začetna razdelitev oseb po krajih je lahko, recimo, `[(\"Ljubljana\", \"Jana\"), (\"Šentvid\", \"Vid\"), (\"Mala Polana\", \"Ana\"), (\"Maribor\", \"Bor\"), (\"Kamnik\", \"Nik\"), (\"Ozeljan\", \"Jan\"), (\"Županje Njive\", \"Ive\"), (\"Koroška Bela\", \"Ela\"))]`. Vedno le po ena oseba v vsakem mestu.</br></br>\n",
    "\n",
    "Argument datoteka_selitev pove ime datoteke z vsebino, ki je lahko, recimo, taka</br></br>\n",
    "\n",
    "*Najprej grejo iz \"Mala Polana\" v \"Šentvid\".*</br>\n",
    "*Iz \"Kamnik\" pa tudi v \"Šentvid\".*</br>\n",
    "*Pa še iz \"Koroška Bela\" odidejo v \"Ozeljan\".*</br>\n",
    "*Potem pa iz \"Šentvid\" v \"Maribor\" (kwa?!).*</br></br>\n",
    "\n",
    "Vsaka vrstica torej vsebuje dve imeni krajev, zapisani v dvojnih narekovajih. V vrstici ni drugih dvojnih narekovajev. Vedno se preselijo vsi prebivalci podanega kraja.</br></br>\n",
    "\n",
    "Če je gornje začetno stanje shranjeno v seznamu zacetek, one štiri vrstice pa v datoteki `selitve.txt`, mora klic `selitve(zacetek, \"selitve.txt\", \"Maribor\") `vrniti `{\"Ana\", \"Vid\", Nik\", \"Bor\"}`, klic `selitve(zacetek, \"selitve.txt\", \"Šentvid\")` pa vrne prazno množico (saj so šli Šentvidčani v Maribor)."
   ]
  },
  {
   "cell_type": "code",
   "execution_count": null,
   "id": "d434a48a",
   "metadata": {},
   "outputs": [],
   "source": []
  },
  {
   "cell_type": "markdown",
   "id": "6f3ea9fd",
   "metadata": {},
   "source": [
    "**245. Navodila**\n",
    "Napiši funkcijo `navodila(zaporedje)`, ki prejme zaporedje, kot je, na primer `\"7D3221LL\"` in vrne seznam `[7, \"D\", 3221, \"L\", \"L\"]`. Vsako število spremeni v število (lahko tudi večmestno), črke L in D, ki se poleg tega pojavljajo v nizu, pa vključi kot posamične črke."
   ]
  },
  {
   "cell_type": "code",
   "execution_count": null,
   "id": "b4880eb5",
   "metadata": {},
   "outputs": [],
   "source": []
  },
  {
   "cell_type": "markdown",
   "id": "16e8a411",
   "metadata": {},
   "source": [
    "**246. Poet tvoj nov Slovencem venec vije**</br></br>\n",
    "\n",
    "Predpostavimo, da se dve besedi rimata, če se ujemata v zadnjem zlogu. Napiši funkcijo, ki prejme kitico pesmi v obliki večvrstičnega niza: vsaka vrstica pesmi je ena vrstica niza. Besede so ločene s presledki, v besedilu so tudi vejice in druga ločila. Funkcija naj vrne niz, ki pove, kakšne oblike je rima. To določimo tako, da</br></br>\n",
    "\n",
    "• vrstici, ki se ne rima z nobeno predhodno vrstico, priredimo novo črko; črke jemljemo po abecedi</br>\n",
    "• vrstici, ki se rima s predhodno, priredimo enako črko kot tej vrstici. </br></br>\n",
    "\n",
    "Spodaj je nekaj primerov.</br></br>\n",
    "\n",
    "*Po-ét tvoj nòv Slo-ven-cem vê-nec vi-je,*</br>\n",
    "*'z pet-nájst so-ne-tov tí ta-kó ga splé-ta,*</br>\n",
    "*de »Mà-gi-strá-le«, pe-sem tri-krat pé-ta,*</br>\n",
    "*vseh dru-gih sku-paj vé-že hà-rmo-ní-je.*</br>\n",
    "Rima: ABBA </br></br>\n",
    "\n",
    "*Ti sì živ-ljê-nja moj-'ga mà-gi-strá-le,*</br>\n",
    "*gla-síl se 'z njê-ga, kò ne bó več mê-ne,*</br>\n",
    "*ran mô-jih bò spo-min in tvô-je hva-le.*</br>\n",
    "Rima: ABA </br></br>\n",
    "\n",
    "*To ni pe-sem,*</br>\n",
    "*so le ne-ke pi-sa-ri-je,*</br>\n",
    "*kar brez ri-me,*</br>\n",
    "*(če se kam ne skri-je).*</br>\n",
    "Rima: ABCB"
   ]
  },
  {
   "cell_type": "code",
   "execution_count": null,
   "id": "f40ab348",
   "metadata": {},
   "outputs": [],
   "source": []
  }
 ],
 "metadata": {
  "language_info": {
   "name": "python"
  }
 },
 "nbformat": 4,
 "nbformat_minor": 5
}
