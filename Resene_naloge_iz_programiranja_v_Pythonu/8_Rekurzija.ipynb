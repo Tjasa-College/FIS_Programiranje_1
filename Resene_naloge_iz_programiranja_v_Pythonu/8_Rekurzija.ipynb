{
 "cells": [
  {
   "cell_type": "markdown",
   "id": "ed4d4ba9",
   "metadata": {},
   "source": [
    "Prve naloge iz rekurzije bodo na temo celjskih grofov: predpostavljale bodo, da je njihova\n",
    "rodbina shranjena v globalni spremenljivki `rodovnik`. Rodovnik je shranjen kot slovar, katerega\n",
    "ključi so imena, vrednosti pa seznami imen potomcev. Ti so prazni, če je dotična oseba brez\n",
    "potomcev. (Rodovnik je podoben resničnemu, a poenostavljen za potrebe naloge.)</br></br>\n",
    "```\n",
    "rodovnik = {'Ulrik I.': ['Viljem'], 'Margareta': [],\n",
    "'Herman I.': ['Herman II.', 'Hans'], 'Elizabeta II.': [],\n",
    "'Viljem': ['Ana Poljska'], 'Elizabeta I.': [], 'Ana Poljska': [],\n",
    "'Herman III.': ['Margareta'], 'Ana Ortenburška': [],\n",
    "'Barbara': [], 'Herman IV.': [], 'Katarina': [], 'Friderik III.': [],\n",
    "'Herman II.': ['Ludvik', 'Friderik II.', 'Herman III.',\n",
    "'Elizabeta I.', 'Barbara'],\n",
    "'Ulrik II.': ['Herman IV.', 'Jurij', 'Elizabeta II.'],\n",
    "'Hans': [], 'Ludvik': [], 'Jurij': [],\n",
    "'Friderik I.': ['Ulrik I.', 'Katarina', 'Herman I.',\n",
    "'Ana Ortenburška'],\n",
    "'Friderik II.': ['Friderik III.', 'Ulrik II.'] }\n",
    "```\n",
    "</br></br>\n",
    "Kadar naloge govorijo o potomstvu neke osebe, mislijo na njegove otroke, vnuke, pravnuke in\n",
    "tako naprej, kolikor daleč gre. Kadar govorijo o rodbini, imajo v mislih potomstvo in še to\n",
    "osebo samo."
   ]
  },
  {
   "cell_type": "markdown",
   "id": "7ad6fab0",
   "metadata": {},
   "source": [
    "**122. Preštej vnuke**</br></br>\n",
    "Napiši funkcijo `prestej_vnuke(oseba)`, ki vrne število vnukov podane osebe."
   ]
  },
  {
   "cell_type": "code",
   "execution_count": null,
   "id": "7e489767",
   "metadata": {},
   "outputs": [],
   "source": []
  },
  {
   "cell_type": "markdown",
   "id": "17d1ae64",
   "metadata": {},
   "source": [
    "**123. Poišči rojaka**</br></br>\n",
    "Napiši funkcijo `poisci_rojaka(oseba, ime)`, ki pove, ali je komu iz rodbine osebe oseba ime\n",
    "ime."
   ]
  },
  {
   "cell_type": "code",
   "execution_count": null,
   "id": "f97e80e7",
   "metadata": {},
   "outputs": [],
   "source": []
  },
  {
   "cell_type": "markdown",
   "id": "06b59160",
   "metadata": {},
   "source": [
    "**124. Poišči potomca**</br></br>\n",
    "Napiši funkcijo `poisci_potomca(oseba, ime)`, ki pove, ali je kateremu od potomcev osebe\n",
    "oseba ime ime."
   ]
  },
  {
   "cell_type": "code",
   "execution_count": null,
   "id": "d31940f2",
   "metadata": {},
   "outputs": [],
   "source": []
  },
  {
   "cell_type": "markdown",
   "id": "7545acd5",
   "metadata": {},
   "source": [
    "**125. Preštej rodbino**</br></br>\n",
    "Nekdo povabi na kosilo vso svojo rodbino – sebe, svoje sinove, vnuke, pravnuke in tako naprej.\n",
    "Koliko krožnikov za juho potrebuje? Pomagaj mu poiskati odgovor tako, da napišeš funkcijo\n",
    "`prestej_rodbino(oseba)`."
   ]
  },
  {
   "cell_type": "code",
   "execution_count": null,
   "id": "ba58f457",
   "metadata": {},
   "outputs": [],
   "source": []
  },
  {
   "cell_type": "markdown",
   "id": "8a7f4667",
   "metadata": {},
   "source": [
    "**126. Preštej potomce**</br></br>\n",
    "Zdaj pa stori isto, vendar štej le potomce, brez osebe; funkciji bo ime `prestej_potomce`."
   ]
  },
  {
   "cell_type": "code",
   "execution_count": null,
   "id": "fd328e3f",
   "metadata": {},
   "outputs": [],
   "source": []
  },
  {
   "cell_type": "markdown",
   "id": "8bbec077",
   "metadata": {},
   "source": [
    "**127. Najdaljše ime v rodbini**</br></br>\n",
    "Napiši funkcijo `najdaljse_ime(oseba)`, ki vrne najdaljše ime, ki se pojavi v rodbini določene\n",
    "osebe."
   ]
  },
  {
   "cell_type": "code",
   "execution_count": null,
   "id": "b1295b85",
   "metadata": {},
   "outputs": [],
   "source": []
  },
  {
   "cell_type": "markdown",
   "id": "734c1e1f",
   "metadata": {},
   "source": [
    "**128. Globina rodbine**</br></br>\n",
    "Napiši funkcijo `globina(oseba)`, ki vrne globino rodbine določene osebe. Če oseba nima otrok,\n",
    "je globina 1. Če ima kakega otroka, vendar nihče od njih nima otrok, je globina 2 ... in tako\n",
    "naprej."
   ]
  },
  {
   "cell_type": "code",
   "execution_count": null,
   "id": "059e9dd6",
   "metadata": {},
   "outputs": [],
   "source": []
  },
  {
   "cell_type": "markdown",
   "id": "ea63d57d",
   "metadata": {},
   "source": [
    "**130. Koliko žensk**</br></br>\n",
    "Napiši funkcijo `zensk_v_rodbini(oseba)`, ki vrne število žensk v rodbini osebe oseba.\n",
    "Prepodstavi, da je oseba ženska, če se njeno ime (to je, prvi del, pred raznimi številkami in\n",
    "krajevnimi nadimki) konča s črko \"a\"."
   ]
  },
  {
   "cell_type": "code",
   "execution_count": null,
   "id": "d28d4311",
   "metadata": {},
   "outputs": [],
   "source": []
  },
  {
   "cell_type": "markdown",
   "id": "60d8cc91",
   "metadata": {},
   "source": [
    "**131. Naštej rodbino**</br></br>\n",
    "Napiši funkcijo `vsa_rodbina(oseba)`, ki vrne množico (kot set) z vso rodbino podane osebe."
   ]
  },
  {
   "cell_type": "code",
   "execution_count": null,
   "id": "ee51bdf5",
   "metadata": {},
   "outputs": [],
   "source": []
  },
  {
   "cell_type": "markdown",
   "id": "95643c66",
   "metadata": {},
   "source": [
    "**132. Naštej potomce**</br></br>\n",
    "Napiši funkcijo `vse_potomstvo(oseba)`, ki vrne množico (kot set) potomcev podane osebe."
   ]
  },
  {
   "cell_type": "code",
   "execution_count": null,
   "id": "fdce9089",
   "metadata": {},
   "outputs": [],
   "source": []
  },
  {
   "cell_type": "markdown",
   "id": "5539fe93",
   "metadata": {},
   "source": [
    "**133. Največ otrok**</br></br>\n",
    "Napiši funkcijo `najvec_otrok(oseba)`, ki pove, kolikšno je največje število otrok pri kateremkoli\n",
    "članu rodbine določene osebe."
   ]
  },
  {
   "cell_type": "code",
   "execution_count": null,
   "id": "8f1046ee",
   "metadata": {},
   "outputs": [],
   "source": []
  },
  {
   "cell_type": "markdown",
   "id": "48cc15d7",
   "metadata": {},
   "source": [
    "**134. Največ vnukov**</br></br>\n",
    "Napiši funkcijo `najvec_vnukov(oseba)`, ki pove, koliko vnukov ima oseba z največ vnuki.\n",
    "Nasvet: mogoče vam bo lažje, če najprej napišete funkcijo vnukov(oseba), ki pove, koliko\n",
    "vnukov ima oseba."
   ]
  },
  {
   "cell_type": "code",
   "execution_count": null,
   "id": "ab1de397",
   "metadata": {},
   "outputs": [],
   "source": []
  },
  {
   "cell_type": "markdown",
   "id": "53f48af7",
   "metadata": {},
   "source": [
    "**135. Največ sester**</br></br>\n",
    "Napiši funkcijo `najvec_sester(oseba)`, ki pove, koliko sester ima oseba z največ sestrami.\n",
    "Predpostavili bomo, da je ime žensko, če se konča s črko \"a\".</br></br>\n",
    "Pazi: v družini z otroki Ana, Berta, Jože sta dve hčeri in nekdo (Jože) ima dve sestri. V družini z\n",
    "otrokoma Ano in Berto sta prav tako dve hčeri, vendar ima vsako od njiju le eno sestro.</br></br>\n",
    "**Nasvet:** mogoče bo lažje, če najprej napišeš funkcijo `sester_pod(ime, rodovnik)`, ki pove,\n",
    "koliko sester ima tisti otrok osebe ime, ki ima največ sester."
   ]
  },
  {
   "cell_type": "code",
   "execution_count": null,
   "id": "053dea52",
   "metadata": {},
   "outputs": [],
   "source": []
  },
  {
   "cell_type": "markdown",
   "id": "227343d8",
   "metadata": {},
   "source": [
    "**136. Najplodovitejši**</br></br>\n",
    "Spremeni funkcijo tako, da ne bo povedala, koliko je največje število otrok v kaki družini,\n",
    "temveč kdo je njihov cenjeni oče. Funkciji naj bo ime `najvec_otrok_kdo(oseba)`. Poskusi jo\n",
    "napisati tako, da bo vsaka oseba še vedno \"zastavljala vprašanja\" samo svojim otrokom; nihče\n",
    "ne sme spraševati po številu otrok, ki jih ima neka druga oseba."
   ]
  },
  {
   "cell_type": "code",
   "execution_count": null,
   "id": "47f3bc0b",
   "metadata": {},
   "outputs": [],
   "source": []
  },
  {
   "cell_type": "markdown",
   "id": "d8735892",
   "metadata": {},
   "source": [
    "**137. Brez potomca**</br></br>\n",
    "Napiši funkcijo `brez_potomca(oseba)`, ki vrne poljubno osebo iz rodbine podane osebe, ki nima\n",
    "nobenega otroka.</br></br>\n",
    "Razmisli o rekurzivni in nerekurzivni obliki funkcije."
   ]
  },
  {
   "cell_type": "code",
   "execution_count": null,
   "id": "dbb5ce0c",
   "metadata": {},
   "outputs": [],
   "source": []
  },
  {
   "cell_type": "markdown",
   "id": "b92a86b4",
   "metadata": {},
   "source": [
    "**138. Vsi brez potomca**</br></br>\n",
    "Dopolni funkcijo brez_potomca iz prejšnje naloge. Imenujmo jo `brez_potomcev(oseba)`, vrniti\n",
    "pa mora množico imen vseh oseb iz rodbine podane osebe, ki nimajo potomcev.</br></br>\n",
    "**Namig:** Če dotična oseba nima otrok, vrne množico z lastnim imenom. Sicer kliče otroke in\n",
    "vrne unijo množic, ki jo dobi od otrok."
   ]
  },
  {
   "cell_type": "code",
   "execution_count": null,
   "id": "92af6b5a",
   "metadata": {},
   "outputs": [],
   "source": []
  },
  {
   "cell_type": "markdown",
   "id": "c45d400a",
   "metadata": {},
   "source": [
    "**139. Kako daleč**</br></br>\n",
    "Napiši funkcijo `globina_do(oseba, ime)`, ki pove, kako globoko v rodbini osebe oseba je oseba\n",
    "z imenom `ime`. Če, recimo, vprašamo Friderika I., kako daleč ima do Hansa, mora odgovoriti 2,\n",
    "saj je Hans njegov vnuk. Če ga vprašamo, kako daleč ima do Friderika I., mora odgovoriti 0 (saj\n",
    "je to on sam). Če ga vprašamo, kako daleč ima do Franclja III., naj odgovori -1, s čimer bo\n",
    "povedal, da v njegovi rodbini vendar ni nobenih Francljev."
   ]
  },
  {
   "cell_type": "code",
   "execution_count": null,
   "id": "a173c84f",
   "metadata": {},
   "outputs": [],
   "source": []
  },
  {
   "cell_type": "markdown",
   "id": "5cffc33e",
   "metadata": {},
   "source": [
    "**140. Pot do**</br></br>\n",
    "Reši podobno nalogo, kot je prejšnja, le da naj funkcija - poimenujmo jo `pot_do(oseba, ime)` –\n",
    "ne vrne razdalje do določene osebe, temveč pot do nje. Če Friderika II. vprašamo, kakšna je\n",
    "njegova pot do Hansa, mora odgovoriti `[\"Friderik I.\", \"Herman I.\", \"Hans\"]`. Če ga\n",
    "\n",
    "vprašamo po poti do Friderika I. (torej njega samega), bo rekel samo `[\"Friderik I.\"]`. Če ga\n",
    "vprašamo po poti do Franclja, naj vrne `None`, ker ni nikjer nobenih Francljev."
   ]
  },
  {
   "cell_type": "code",
   "execution_count": null,
   "id": "8c4845b6",
   "metadata": {},
   "outputs": [],
   "source": []
  },
  {
   "cell_type": "markdown",
   "id": "b5b1ef55",
   "metadata": {},
   "source": [
    "**141. Zaporedja soimenjakov**</br></br>\n",
    "Tale naloga je pa malo hujši izziv: napiši funkcijo `najdaljse_zaporedje(oseba)`, ki vrne\n",
    "najdaljše zaporedje enakih imen v rodbini `osebe` oseba. Klic `najdaljse_zaporedje(\"Friderik\n",
    "I.\")` mora vrniti `(3, \"Herman\")`, kar pomeni, da so v rodbini trije zaporedni Hermani (eden od\n",
    "sinov Hermana I. je Herman II. in eden od njegovih sinov je Herman III.). Pri tem ne glej številk,\n",
    "le imena (dovoljeno bi bilo tudi zaporedje Herman Strašni, Herman Strašnejši, Herman\n",
    "Najstrašnejši). Klic `najdaljse_zaporedje(\"Friderik II.\")` vrne `(2, \"Friderik\")`. Klic\n",
    "`najdaljse_zaporedje(\"Hans\")` vrne `(1, \"Hans\")`."
   ]
  },
  {
   "cell_type": "code",
   "execution_count": null,
   "id": "7818abe7",
   "metadata": {},
   "outputs": [],
   "source": []
  },
  {
   "cell_type": "markdown",
   "id": "42616030",
   "metadata": {},
   "source": [
    "**142. Fakulteta**</br></br>\n",
    "Fakulteto, n!, navadno računamo kot produkt n števil; 5! = 1*2*3*4*5. Lahko pa bi jo definirali\n",
    "tudi takole: n! = n (n – 1)! Če jo lahko tako definiramo - pa jo tako še sprogramirajmo!</br></br>\n",
    "Da se stvar izteče se moramo dogovoriti še, da je 0! enako 1."
   ]
  },
  {
   "cell_type": "code",
   "execution_count": null,
   "id": "1f779d14",
   "metadata": {},
   "outputs": [],
   "source": []
  },
  {
   "cell_type": "markdown",
   "id": "bf805d69",
   "metadata": {},
   "source": [
    "**143. Fibonacijeva števila**</br></br>\n",
    "Napiši rekurzivno funkcijo ``fibonaci(n)``, ki izračuna n-to Fibonacijevo število Fn. Fibonacijeva\n",
    "števila so definirana s Fn = Fn-1 + Fn-2, pri čemer je F0 = F1 = 1. Manj matematično: n-to\n",
    "Fibonacijevo število je vsota prejšnjih dveh, ničto in prvo pa sta 1."
   ]
  },
  {
   "cell_type": "code",
   "execution_count": null,
   "id": "b9e30c03",
   "metadata": {},
   "outputs": [],
   "source": []
  },
  {
   "cell_type": "markdown",
   "id": "af171485",
   "metadata": {},
   "source": [
    "**144. Vsota seznama**</br></br>\n",
    "Napiši rekurzivno funkcijo `vsota(s)`, ki izračuna vsoto elementov seznama s, ki vsebuje sama\n",
    "števila. Vsota elementov praznega seznama je 0. Vsota nepraznega seznama je enaka vsoti\n",
    "prvega elementa in vsoti preostalega seznama (`s[1:]`)."
   ]
  },
  {
   "cell_type": "code",
   "execution_count": null,
   "id": "fb72e162",
   "metadata": {},
   "outputs": [],
   "source": []
  },
  {
   "cell_type": "markdown",
   "id": "b75b420a",
   "metadata": {},
   "source": [
    "**145. Iskanje elementa**</br></br>\n",
    "Napiši rekurzivno funkcijo `vsebuje(s, x)`, ki pove, ali seznam s vsebuje element `x`. Seznam\n",
    "vsebuje element `x`, če `s` ni prazen in je bodisi prvi element `s` enak `x` bodisi ostanek seznama\n",
    "vsebuje `x`."
   ]
  },
  {
   "cell_type": "code",
   "execution_count": null,
   "id": "95767e8f",
   "metadata": {},
   "outputs": [],
   "source": []
  },
  {
   "cell_type": "markdown",
   "id": "c13b9c86",
   "metadata": {},
   "source": [
    "**146. Enaka seznama**</br></br>\n",
    "Napiši rekurzivno funkcijo `enaka(s, t)`, ki pove (s `True` ali `False`) ali sta dva seznama enaka ali\n",
    "ne. Dva seznama sta enaka, če sta oba prazna ali pa sta oba neprazna in imata enaka prva\n",
    "elementa in sta enaka tudi ostanka seznama (vse razen prvega elementa)."
   ]
  },
  {
   "cell_type": "code",
   "execution_count": null,
   "id": "96934f9d",
   "metadata": {},
   "outputs": [],
   "source": []
  },
  {
   "cell_type": "markdown",
   "id": "f6aa31b6",
   "metadata": {},
   "source": [
    "**147. Palindrom**</br></br>\n",
    "Napiši rekurzivno funkcijo `palindrom(s)`, ki preveri, ali je podani niz s palindrom.</br></br>\n",
    "Niz je palindrom, če se naprej bere enako kot nazaj. Povedano rekurzivno: niz je palindrom, če\n",
    "je krajši od dveh znakov ali pa je prvi znak enak zadnjemu in je niz med drugim in predzadnjim\n",
    "znakom palindrom."
   ]
  },
  {
   "cell_type": "code",
   "execution_count": null,
   "id": "a0931d52",
   "metadata": {},
   "outputs": [],
   "source": []
  },
  {
   "cell_type": "markdown",
   "id": "d4cfa56c",
   "metadata": {},
   "source": [
    "**148. Preverjanje Fibonacija**</br></br>\n",
    "Zaporedje je Fibonacijevo, če je vsak člen enak vsoti prejšnjih dveh.</br></br>\n",
    "Seznam vsebuje Fibonacijevo zaporedje, če ima manj kot tri elemente ALI pa je zadnji element\n",
    "vsota predzadnjih dveh in je tudi seznam brez zadnjega elementa Fibonacijev.</br></br>\n",
    "Napiši *rekurzivno* funkcijo `je_fibo(s)`, ki preveri, ali podani seznam vsebuje Fibonacijevo\n",
    "zaporedje."
   ]
  },
  {
   "cell_type": "code",
   "execution_count": null,
   "id": "4f760071",
   "metadata": {},
   "outputs": [],
   "source": []
  },
  {
   "cell_type": "markdown",
   "id": "1dbee17a",
   "metadata": {},
   "source": [
    "**149. Naraščajoči seznam**</br></br>\n",
    "Seznam je naraščajoč, če je prvi element manjši od drugega in če je naraščajoč tudi seznam od\n",
    "drugega elementa naprej. Poleg tega so seveda naraščajoči vsi seznami z manj kot dvema\n",
    "elementoma.</br></br>\n",
    "Napišite rekurzivno funkcijo `narascajoci(s)`, ki vrne `True`, če je podani seznam naraščajoč, in\n",
    "`False`, če ni."
   ]
  },
  {
   "cell_type": "code",
   "execution_count": null,
   "id": "62dbc491",
   "metadata": {},
   "outputs": [],
   "source": []
  },
  {
   "cell_type": "markdown",
   "id": "b9c37204",
   "metadata": {},
   "source": [
    "**150. Vsota gnezdenega seznama**</br></br>\n",
    "Napiši funkcijo `vsota2(s)`, ki sešteje elemente gnezdenega seznama (seznama, ki vsebuje tudi\n",
    "podsezname in ti svoje podsezname...). Pomagaj si s funkcijo `isinstance(x, tip)`, ki pove, ali\n",
    "je podani x tipa `tip`.</br></br>\n",
    "**Namig:** vsota elementov seznama je enaka vsoti vsot podseznamov + vsota elementov, ki niso\n",
    "podseznami. Se pravi, pojdi čez elemente seznama (npr. `for e in xs`). Če vidiš, da gre za\n",
    "seznam (`isinstance(e, list`), ga vprašaj, kakšna je njegova vsota (vključno z morebitnimi\n",
    "podseznami v njem); to prištej k skupni vsoti, ki jo računaš. Če pa ne gre za seznam, je to\n",
    "številka in jo preprosto prišteješ."
   ]
  },
  {
   "cell_type": "code",
   "execution_count": null,
   "id": "59fe689d",
   "metadata": {},
   "outputs": [],
   "source": []
  },
  {
   "cell_type": "markdown",
   "id": "f659b647",
   "metadata": {},
   "source": [
    "**151. Obrni**</br></br>\n",
    "Napiši funkcijo `obrni(s)`, ki prejme niz in vrne isto besedilo zapisano z desne proti levi. Tako\n",
    "mora, recimo, `obrni(\"janez demšar\")` vrniti `\"rašmed zenaj\"`.</br></br>\n",
    "Obrnjen niz dobimo tako, da k obrnjenemu nizu brez prve črke prištejemo prvo črko. Torej, če\n",
    "hočeš obrniti \"demšar\", moraš obrniti \"emšar\" in k temu prišteti \"d\".</br></br>\n",
    "Funkcija mora biti rekurzivna. Rešitev `def obrni(s): return s[::-1]` ni pravilna."
   ]
  },
  {
   "cell_type": "code",
   "execution_count": null,
   "id": "02fafe2a",
   "metadata": {},
   "outputs": [],
   "source": []
  },
  {
   "cell_type": "markdown",
   "id": "9b91b6b2",
   "metadata": {},
   "source": [
    "**152. Zrcalo**</br></br>\n",
    "Napiši funkcijo `zrcalo(s)`, ki dobi niz in vrne niz, ki vsebuje začetni niz, znak | in potem še\n",
    "enkrat začetni niz, vendar prezrcaljen. Tako naj `zrcalo(\"janez\")` vrne `\"janez|zenaj\"`.</br></br>\n",
    "Nasvet: Najboljše, da najprej poskrbiš za prazen niz. Sicer pa je rešitev skoraj enaka kot rešitev\n",
    "ogrevalne naloga, le da prva črka ni samo na koncu, temveč tudi na začetku."
   ]
  },
  {
   "cell_type": "code",
   "execution_count": null,
   "id": "456a3f0f",
   "metadata": {},
   "outputs": [],
   "source": []
  },
  {
   "cell_type": "markdown",
   "id": "a152b30b",
   "metadata": {},
   "source": [
    "**153. Sodo – lihi – rekurzivno**</br></br>\n",
    "Sodo-lihi seznami so seznami, v katerih se izmenjujejo soda in liha števila; začeti se morajo s\n",
    "sodim številom. Liho-sodi seznami so zelo podobna reč, le da se morajo začeti z lihim številom.</br></br>\n",
    "Nekoliko rekurzivno povedano: seznam je sodo-lih, če se začne s sodim številom, ostanek pa je\n",
    "liho-sodi seznam. In obratno. Prazni seznami so sodo-lihi in liho-sodi.</br></br>\n",
    "Napiši rekurzivno funkcijo `sodi_lihi(s)`, ki vrne `True`, če je seznam sodo-lih in False, če ni.</br></br>\n",
    "**Nasvet:** napiši tudi `lihi_sodi(s)`, saj ti bo v pomoč."
   ]
  },
  {
   "cell_type": "code",
   "execution_count": null,
   "id": "d1c54a18",
   "metadata": {},
   "outputs": [],
   "source": []
  },
  {
   "cell_type": "markdown",
   "id": "0f282a62",
   "metadata": {},
   "source": [
    "**154. Kam?**</br></br>\n",
    "Pod Meglenim gorovjem je, kot nekateri vedo že\n",
    "dolgo, nekateri pa so morali čakati na film, cel\n",
    "labirint votlin. Bilbu bi bilo veliko lažje, če bi imel\n",
    "zemljevid. Mi ga imamo.\n",
    "Zemljevid lahko shranimo tudi v obliki slovarja, v\n",
    "katerem so ključi številke sob, vrednosti pa sobe, v\n",
    "katere pridemo po levi in po desni poti. Kadar\n",
    "kakšne poti ni, je ustrezni element enak None.</br></br>\n",
    "\n",
    "![title](../images/154.png)</br></br>\n",
    "\n",
    "*zemljevid = {0: [6, 3], 6: [5, 81], 3: [8, 24], 5: [2, 18], 81: [None, None],\n",
    "8: [42, None], 24: [63, 13], 2: [7, 27], 18: [None, 35], 42: [None, 66],\n",
    "63: [61, None], 13: [4, 12], 7: [None, None], 27: [None, None], 35: [None, None],\n",
    "66: [None, None], 61: [None, None], 4: [None, None], 12: [None, None]}*</br></br>\n",
    "Napiši funkcijo `prehodi_pot(zemljevid, soba, pot)`, ki kot argument prejme zemljevid (npr.\n",
    "zgornji slovar), začetno sobo (ta bo vedno 0, a to naj te ne moti) in pot, podano kot zaporedje\n",
    "znakov L in D (levo in desno). Kot rezultat mora vrniti sobo, v katero pelje podana pot.</br></br>\n",
    "*>>> prehodi_pot(zemljevid, 0, \"LLD\")*</br>\n",
    "*18*</br>\n",
    "*>>> prehodi_pot(zemljevid, 0, \"DDDD\")*</br>\n",
    "*12*</br>\n",
    "*>>> prehodi_pot(zemljevid, 0, \"L\")*</br>\n",
    "*6*</br>\n",
    "*>>> prehodi_pot(zemljevid, 0, \"\")*</br>\n",
    "*0*\n",
    "</br></br>\n",
    "Predpostaviti smeš, da je pot pravilna in se nikoli ne odpravi v hodnik, ki ga ni."
   ]
  },
  {
   "cell_type": "code",
   "execution_count": null,
   "id": "afb0e45d",
   "metadata": {},
   "outputs": [],
   "source": []
  },
  {
   "cell_type": "markdown",
   "id": "1b1d9509",
   "metadata": {},
   "source": [
    "**155. Razdalja do cilja**</br></br>\n",
    "Nadaljujmo z meglenim gorovjem. Prstan se seveda vedno nahaja v sobi številka 42. Napiši\n",
    "funkcijo `globina_prstana(zemljevid, soba)`, ki prejme zemljevid in številko začetne sobe, kot\n",
    "rezultat pa vrne globino te sobe - torej dolžino poti do nje.</br></br>\n",
    "Na gornjem zemljevidu je globina sobe 42 enaka 3. Funkcija mora seveda delovati tudi na\n",
    "poljudnih drugih zemljevidih."
   ]
  },
  {
   "cell_type": "code",
   "execution_count": null,
   "id": "532a12e7",
   "metadata": {},
   "outputs": [],
   "source": []
  },
  {
   "cell_type": "markdown",
   "id": "eeb4357e",
   "metadata": {},
   "source": [
    "**156. Pot do cilja**</br></br>\n",
    "Napiši funkcijo `pot_do_prstana(zemljevid, soba)`, ki vrne pot do sobe številka 42. V gornjem\n",
    "primeru mora vrniti niz `\"DLL\"`."
   ]
  },
  {
   "cell_type": "code",
   "execution_count": null,
   "id": "0b3a0cdc",
   "metadata": {},
   "outputs": [],
   "source": []
  },
  {
   "cell_type": "markdown",
   "id": "b3f9d1ce",
   "metadata": {},
   "source": [
    "**157. Naprej nazaj**</br></br>\n",
    "Žaba skače en korak daleč v eno od štirih smeri neba. Njeno pot opišemo z nizom, kot je\n",
    "`\"SSVJVZSZJJ\"`.</br></br>\n",
    "Če pozorno pogledaš prav tale niz, vidiš, da je šla žaba najprej po poti SSVJV, nato pa po isti\n",
    "poti nazaj: ZSZJJ. Napiši **rekurzivno** funkcijo `naprej_nazaj(s)`, ki vrne `True`, če niz opisuje pot, ki\n",
    "gre nekam in po tem po isti poti nazaj in False, če pot nima te lastnosti.</br></br>\n",
    "**V pomoč:** pot je takšna, če je dolga nič **ali** pa je zadnji element ravno obrat prvega (recimo prvi\n",
    "S in zadnji J ali prvi J in zadnji Z ali prvi V in zadnji Z ali prvi Z in zadnji V) **in** je takšen tudi niz\n",
    "med drugo in predzadnjo črko.</br></br>\n",
    "Lahko si pomagaš tudi s slovarjem `obratno = {\"S\": \"J\", \"J\": \"S\", \"V\": \"Z\", \"Z\": \"V\"}`.\n",
    "Ni pa treba."
   ]
  },
  {
   "cell_type": "code",
   "execution_count": null,
   "id": "d5ffc1d2",
   "metadata": {},
   "outputs": [],
   "source": []
  },
  {
   "cell_type": "markdown",
   "id": "09502d2a",
   "metadata": {},
   "source": [
    "**158. Aritmetično zaporedje**</br></br>\n",
    "Aritmetično zaporedje je zaporedje, v katerem je razlika med zaporednimi členi enaka, na\n",
    "primer 3, 7, 11, 15, 19, 23 ali 5, 3, 1, -1, -3, -5.</br></br>\n",
    "Z drugimi besedami, zaporedje je aritmetično, če je razlika med prvima dvema členoma enaka\n",
    "razliki med drugim in tretjim, poleg tega pa je aritmetično tudi zaporedje od drugega člena\n",
    "naprej. Vsako zaporedje, ki ima manj kot tri člene je, očitno, aritmetično.</br></br>\n",
    "Napiši rekurzivno funkcijo `aritmeticno(s)`, ki prejme zaporedje števil in vrne `True`, če je\n",
    "aritmetično in `False`, če ni."
   ]
  },
  {
   "cell_type": "code",
   "execution_count": null,
   "id": "a0b728c9",
   "metadata": {},
   "outputs": [],
   "source": []
  },
  {
   "cell_type": "markdown",
   "id": "02489690",
   "metadata": {},
   "source": [
    "**159. Binarno**</br></br>\n",
    "Napiši **rekurzivno** funkcijo `binarno(n)`, ki kot argument prejme število n in kot rezultat vrne niz\n",
    "s tem številom v dvojiškem zapisu.\n",
    "</br></br>\n",
    "\n",
    "*>>> binarno(42)*</br>\n",
    "*'101010'*</br></br>\n",
    "\n",
    "**Namig:** desno števko dobiš tako, da izračunaš ostanek po deljenju z 2. Pred njo pa moraš\n",
    "postaviti niz, ki ga dobiš, če v dvojiški zapis spremeniš število n, ki ga celoštevilsko deliš z 2."
   ]
  },
  {
   "cell_type": "code",
   "execution_count": null,
   "id": "0561bcfa",
   "metadata": {},
   "outputs": [],
   "source": []
  },
  {
   "cell_type": "markdown",
   "id": "1e27695c",
   "metadata": {},
   "source": [
    "**160. Decimalno**</br></br>\n",
    "Napiši **rekurzivno** funkcijo `decimalno(s)`, ki kot argument prejme niz s, ki predstavlja število v\n",
    "dvojiškem zapisu, kot rezultat pa naj vrne to število. Klic `decimalno('101010')` vrne `42`.</br></br>\n",
    "**Namig:** k zadnji števki prištej dvakratnik števila, ki ga dobiš, če vse razen zadnje števke\n",
    "pretvoriš iz dvojiškega zapisa v število."
   ]
  },
  {
   "cell_type": "code",
   "execution_count": null,
   "id": "68d81cf5",
   "metadata": {},
   "outputs": [],
   "source": []
  },
  {
   "cell_type": "markdown",
   "id": "02def5ea",
   "metadata": {},
   "source": [
    "**161. Zadnje liho**</br></br>\n",
    "Napiši **rekurzivno** funkcijo `zadnje_liho(s)`, ki vrne zadnje liho število v podanem seznamu ali\n",
    "`None`, če v njem ni lihih števil."
   ]
  },
  {
   "cell_type": "code",
   "execution_count": null,
   "id": "ccdb2656",
   "metadata": {},
   "outputs": [],
   "source": []
  },
  {
   "cell_type": "markdown",
   "id": "821b1c72",
   "metadata": {},
   "source": [
    "**162. Indeksi**</br></br>\n",
    "Napiši **rekurzivno** funkcijo `indeksi_rec(s, e)`, ki prejme seznam in vrednost ter vrne seznam\n",
    "indeksov, na katerih se pojavi ta vrednost. Klic `indeksi_rec([6, 2, 4, 6, 6, 3], 6)` vrne `[0,\n",
    "3, 4]`."
   ]
  },
  {
   "cell_type": "code",
   "execution_count": null,
   "id": "1c62bee0",
   "metadata": {},
   "outputs": [],
   "source": []
  },
  {
   "cell_type": "markdown",
   "id": "6eb74707",
   "metadata": {},
   "source": [
    "**163. Brez jecljanja**</br></br>\n",
    "Napiši rekurzivno funkcijo `brez_jecljanja_rec(s)`, ki prejme seznam s in vrne nov seznam, ki\n",
    "ne vsebuje zaporednih ponovitev istega elementa. Klic `brez_jecljanja([1, 6, 3, 3, 1, 1, 1, 1, 2, 3, 5, 5, 1])` naj vrne `[1, 6, 3, 1, 2, 3, 5, 1]`."
   ]
  },
  {
   "cell_type": "code",
   "execution_count": null,
   "id": "3fa598b3",
   "metadata": {},
   "outputs": [],
   "source": []
  },
  {
   "cell_type": "markdown",
   "id": "bf4db8c2",
   "metadata": {},
   "source": [
    "**164. Rekurzivni Collatz**</br></br>\n",
    "Kako je videti Collatzovo zaporedje, smo že nekajkrat videli. Vzamemo poljubno število in z\n",
    "njim počnimo tole: če je sodo, ga delimo z 2, če je liho, pa ga pomnožimo s 3 in prištejmo 1. To\n",
    "ponavljamo, dokler ne dobimo 1.</br></br>\n",
    "Napiši **rekurzivno** funkcijo `collatz(n)`, ki pove, kako dolgo je Collatzovo zaporedje, ki se začne\n",
    "s številom n. Tako mora `collatz(42)` vrniti `9`, saj ima zaporedje, ki se začne z 42 devet členov:\n",
    "42, 21, 64, 32, 16, 8, 4, 2, 1."
   ]
  },
  {
   "cell_type": "code",
   "execution_count": null,
   "id": "50db648a",
   "metadata": {},
   "outputs": [],
   "source": []
  },
  {
   "cell_type": "markdown",
   "id": "1e1dea28",
   "metadata": {},
   "source": [
    "**165. Sprazni**</br></br>\n",
    "Napiši **rekurzivno** funkcijo `sprazni(s)`, ki prejme seznam, katerega elementi so None in\n",
    "seznami, katerih elementi so None in seznami in tako naprej. Funkcija naj vrne prav tak seznam,\n",
    "\n",
    "a brez Noneov. Če pokličemo `sprazni([None, None, [None], [None, None, []], None])`,\n",
    "dobimo `[[], [[]]].`</br></br>\n",
    "**Pomoč:** funkcija sestavlja seznam. Če vidi `None`, ga preskoči. Če vidi seznam, ga doda v\n",
    "nastajajoči seznam ... a spraznjenega."
   ]
  },
  {
   "cell_type": "code",
   "execution_count": null,
   "id": "7282a4fe",
   "metadata": {},
   "outputs": [],
   "source": []
  },
  {
   "cell_type": "markdown",
   "id": "dd2cbfcb",
   "metadata": {},
   "source": [
    "**166. Rekurzivni štumfi, zokni, kalcete, kucjte**</br></br>\n",
    "Ker smo moški, vemo, barvno slepi, obenem pa v družini z ženo in n otroki ni mogoče, da bi\n",
    "imel vsak same enake nogavice, se lahko znajdemo tako, da na vsako nogavico prišijemo\n",
    "številko. Enake nogavice imajo enako številko; ker imamo več enakih nogavic, ima lahko več\n",
    "nogavic enako številko.</br></br>\n",
    "Recimo, da iz pralnega stroja potegnemo nogavice s številkami `[1, 2, 3, 2, 3, 1, 3, 1, 1,\n",
    "1, 1]`. Imamo torej tri pare nogavic 1, en par nogavic 2 in en par nogavic 3 in (eh, spet!) še eno\n",
    "3 brez para.</br></br>\n",
    "Napiši rekurzivno funkcijo `brez_para(nogavica, nogavice)`, ki prejme številko nogavice in\n",
    "podoben seznam kot prva naloga. Vrniti mora `True`, če je nogavica brez para, in `False`, če ni.</br></br>\n",
    "Klic `brez_para(39, [41, 39, 39, 41, 41, 39, 39])` vrne `False` in klic `brez_para(41, [41, 39, 39, 41, 41, 39, 39])` vrne `True`, saj imamo eno 41 brez para."
   ]
  },
  {
   "cell_type": "code",
   "execution_count": null,
   "id": "5bfff571",
   "metadata": {},
   "outputs": [],
   "source": []
  }
 ],
 "metadata": {
  "language_info": {
   "name": "python"
  }
 },
 "nbformat": 4,
 "nbformat_minor": 5
}
